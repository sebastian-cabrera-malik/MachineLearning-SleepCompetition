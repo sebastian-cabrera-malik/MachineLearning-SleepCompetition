{
 "cells": [
  {
   "cell_type": "code",
   "execution_count": 1,
   "id": "a6924bf4",
   "metadata": {
    "_cell_guid": "b1076dfc-b9ad-4769-8c92-a6c4dae69d19",
    "_uuid": "8f2839f25d086af736a60e9eeb907d3b93b6e0e5",
    "execution": {
     "iopub.execute_input": "2023-11-21T04:06:04.406083Z",
     "iopub.status.busy": "2023-11-21T04:06:04.405468Z",
     "iopub.status.idle": "2023-11-21T04:06:19.913210Z",
     "shell.execute_reply": "2023-11-21T04:06:19.911493Z"
    },
    "papermill": {
     "duration": 15.528036,
     "end_time": "2023-11-21T04:06:19.916301",
     "exception": false,
     "start_time": "2023-11-21T04:06:04.388265",
     "status": "completed"
    },
    "tags": []
   },
   "outputs": [
    {
     "name": "stdout",
     "output_type": "stream",
     "text": [
      "Name: torchvision\r\n",
      "Version: 0.15.1+cpu\r\n",
      "Summary: image and video datasets and models for torch deep learning\r\n",
      "Home-page: https://github.com/pytorch/vision\r\n",
      "Author: PyTorch Core Team\r\n",
      "Author-email: soumith@pytorch.org\r\n",
      "License: BSD\r\n",
      "Location: /opt/conda/lib/python3.10/site-packages\r\n",
      "Requires: numpy, pillow, requests, torch\r\n",
      "Required-by: easyocr, fastai, timm\r\n"
     ]
    }
   ],
   "source": [
    "!pip show torchvision"
   ]
  },
  {
   "cell_type": "code",
   "execution_count": 2,
   "id": "988508c9",
   "metadata": {
    "execution": {
     "iopub.execute_input": "2023-11-21T04:06:19.950367Z",
     "iopub.status.busy": "2023-11-21T04:06:19.949937Z",
     "iopub.status.idle": "2023-11-21T04:06:25.649545Z",
     "shell.execute_reply": "2023-11-21T04:06:25.648030Z"
    },
    "papermill": {
     "duration": 5.72083,
     "end_time": "2023-11-21T04:06:25.652991",
     "exception": false,
     "start_time": "2023-11-21T04:06:19.932161",
     "status": "completed"
    },
    "tags": []
   },
   "outputs": [
    {
     "name": "stderr",
     "output_type": "stream",
     "text": [
      "/opt/conda/lib/python3.10/site-packages/torchvision/datapoints/__init__.py:12: UserWarning: The torchvision.datapoints and torchvision.transforms.v2 namespaces are still Beta. While we do not expect major breaking changes, some APIs may still change according to user feedback. Please submit any feedback you may have in this issue: https://github.com/pytorch/vision/issues/6753, and you can also check out https://github.com/pytorch/vision/issues/7319 to learn more about the APIs that we suspect might involve future changes. You can silence this warning by calling torchvision.disable_beta_transforms_warning().\n",
      "  warnings.warn(_BETA_TRANSFORMS_WARNING)\n",
      "/opt/conda/lib/python3.10/site-packages/torchvision/transforms/v2/__init__.py:54: UserWarning: The torchvision.datapoints and torchvision.transforms.v2 namespaces are still Beta. While we do not expect major breaking changes, some APIs may still change according to user feedback. Please submit any feedback you may have in this issue: https://github.com/pytorch/vision/issues/6753, and you can also check out https://github.com/pytorch/vision/issues/7319 to learn more about the APIs that we suspect might involve future changes. You can silence this warning by calling torchvision.disable_beta_transforms_warning().\n",
      "  warnings.warn(_BETA_TRANSFORMS_WARNING)\n"
     ]
    }
   ],
   "source": [
    "import os\n",
    "from pathlib import Path\n",
    "import numpy as np\n",
    "import pandas as pd\n",
    "from datetime import datetime, timezone, timedelta\n",
    "import matplotlib.pyplot as plt\n",
    "import matplotlib\n",
    "matplotlib.use(\"Agg\")\n",
    "import torch\n",
    "import torchvision\n",
    "from torchvision.io import read_image\n",
    "from torchvision.transforms import v2 as T\n",
    "from torchvision.models.detection.faster_rcnn import FastRCNNPredictor"
   ]
  },
  {
   "cell_type": "code",
   "execution_count": 3,
   "id": "0dc321cb",
   "metadata": {
    "execution": {
     "iopub.execute_input": "2023-11-21T04:06:25.685007Z",
     "iopub.status.busy": "2023-11-21T04:06:25.684339Z",
     "iopub.status.idle": "2023-11-21T04:06:25.693728Z",
     "shell.execute_reply": "2023-11-21T04:06:25.692638Z"
    },
    "papermill": {
     "duration": 0.027923,
     "end_time": "2023-11-21T04:06:25.696300",
     "exception": false,
     "start_time": "2023-11-21T04:06:25.668377",
     "status": "completed"
    },
    "tags": []
   },
   "outputs": [],
   "source": [
    "import numpy as np\n",
    "import pandas as pd\n",
    "import pandas.api.types\n",
    "from typing import Dict, List, Tuple\n",
    "\n",
    "tolerances = {\n",
    "    'onset': [12, 36, 60, 90, 120, 150, 180, 240, 300, 360], \n",
    "    'wakeup': [12, 36, 60, 90, 120, 150, 180, 240, 300, 360]\n",
    "}\n",
    "\n",
    "column_names = {\n",
    "    'series_id_column_name': 'series_id',\n",
    "    'time_column_name': 'step',\n",
    "    'event_column_name': 'event',\n",
    "    'score_column_name': 'score',\n",
    "}"
   ]
  },
  {
   "cell_type": "code",
   "execution_count": 4,
   "id": "a8cdee6a",
   "metadata": {
    "execution": {
     "iopub.execute_input": "2023-11-21T04:06:25.729102Z",
     "iopub.status.busy": "2023-11-21T04:06:25.728650Z",
     "iopub.status.idle": "2023-11-21T04:06:25.784874Z",
     "shell.execute_reply": "2023-11-21T04:06:25.783536Z"
    },
    "jupyter": {
     "source_hidden": true
    },
    "papermill": {
     "duration": 0.076765,
     "end_time": "2023-11-21T04:06:25.787817",
     "exception": false,
     "start_time": "2023-11-21T04:06:25.711052",
     "status": "completed"
    },
    "tags": []
   },
   "outputs": [],
   "source": [
    "def score(\n",
    "        solution: pd.DataFrame,\n",
    "        submission: pd.DataFrame,\n",
    "        tolerances: Dict[str, List[float]],\n",
    "        series_id_column_name: str,\n",
    "        time_column_name: str,\n",
    "        event_column_name: str,\n",
    "        score_column_name: str,\n",
    "        use_scoring_intervals: bool = False,\n",
    ") -> float:\n",
    "    \"\"\"Event Detection Average Precision, an AUCPR metric for event detection in\n",
    "    time series and video.\n",
    "\n",
    "    This metric is similar to IOU-threshold average precision metrics commonly\n",
    "    used in object detection. For events occuring in time series, we replace the\n",
    "    IOU threshold with a time tolerance.\n",
    "\n",
    "    Submissions are evaluated on the average precision of detected events,\n",
    "    averaged over timestamp error tolerance thresholds, averaged over event\n",
    "    classes.\n",
    "\n",
    "    Detections are matched to ground-truth events within error tolerances, with\n",
    "    ambiguities resolved in order of decreasing confidence.\n",
    "\n",
    "    Detailed Description\n",
    "    --------------------\n",
    "    Evaluation proceeds in four steps:\n",
    "\n",
    "    1. Selection - (optional) Predictions not within a series' scoring\n",
    "    intervals are dropped.\n",
    "    2. Assignment - Predicted events are matched with ground-truth events.\n",
    "    3. Scoring - Each group of predictions is scored against its corresponding\n",
    "    group of ground-truth events via Average Precision.\n",
    "    4. Reduction - The multiple AP scores are averaged to produce a single\n",
    "    overall score.\n",
    "\n",
    "    Selection\n",
    "\n",
    "    With each series there may be a defined set of scoring intervals giving the\n",
    "    intervals of time over which zero or more ground-truth events might be\n",
    "    annotated in that series. A prediction will be evaluated only if it falls\n",
    "    within a scoring interval. These scoring intervals can be chosen to improve\n",
    "    the fairness of evaluation by, for instance, ignoring edge-cases or\n",
    "    ambiguous events.\n",
    "\n",
    "    It is recommended that, if used, scoring intervals be provided for training\n",
    "    data but not test data.\n",
    "\n",
    "    Assignment\n",
    "\n",
    "    For each set of predictions and ground-truths within the same `event x\n",
    "    tolerance x series_id` group, we match each ground-truth to the\n",
    "    highest-confidence unmatched prediction occurring within the allowed\n",
    "    tolerance.\n",
    "\n",
    "    Some ground-truths may not be matched to a prediction and some predictions\n",
    "    may not be matched to a ground-truth. They will still be accounted for in\n",
    "    the scoring, however.\n",
    "\n",
    "    Scoring\n",
    "\n",
    "    Collecting the events within each `series_id`, we compute an Average\n",
    "    Precision score for each `event x tolerance` group. The average precision\n",
    "    score is the area under the (step-wise) precision-recall curve generated by\n",
    "    decreasing confidence score thresholds over the predictions. In this\n",
    "    calculation, matched predictions over the threshold are scored as TP and\n",
    "    unmatched predictions as FP. Unmatched ground-truths are scored as FN.\n",
    "\n",
    "    Reduction\n",
    "\n",
    "    The final score is the average of the above AP scores, first averaged over\n",
    "    tolerance, then over event.\n",
    "\n",
    "    Parameters\n",
    "    ----------\n",
    "    solution : pd.DataFrame, with columns:\n",
    "\n",
    "        `series_id_column_name` identifier for each time series\n",
    "\n",
    "        `time_column_name` the time of occurence for each event as a numeric type\n",
    "\n",
    "        `event_column_name` class label for each event\n",
    "\n",
    "        The solution contains the time of occurence of one or more types of\n",
    "        event within one or more time series. The metric expects the solution to\n",
    "        contain the same event types as those given in `tolerances`.\n",
    "\n",
    "        When `use_scoring_intervals == True`, you may include `start` and `end`\n",
    "        events to delimit intervals within which detections will be scored.\n",
    "        Detected events (from the user submission) outside of these events will\n",
    "        be ignored.\n",
    "\n",
    "    submission : pd.DataFrame, with columns as above and in addition:\n",
    "\n",
    "        `score_column_name` the predicted confidence score for the detected event\n",
    "\n",
    "    tolerances : Dict[str, List[float]]\n",
    "\n",
    "        Maps each event class to a list of timestamp tolerances used\n",
    "        for matching detections to ground-truth events.\n",
    "\n",
    "    use_scoring_intervals: bool, default False\n",
    "\n",
    "        Whether to ignore predicted events outside intervals delimited\n",
    "        by `'start'` and `'end'` events in the solution. When `False`,\n",
    "        the solution should not include `'start'` and `'end'` events.\n",
    "        See the examples for illustration.\n",
    "\n",
    "    Returns\n",
    "    -------\n",
    "    event_detection_ap : float\n",
    "        The mean average precision of the detected events.\n",
    "\n",
    "    Examples\n",
    "    --------\n",
    "    Detecting `'pass'` events in football:\n",
    "    >>> column_names = {\n",
    "    ...     'series_id_column_name': 'video_id',\n",
    "    ...     'time_column_name': 'time',\n",
    "    ...     'event_column_name': 'event',\n",
    "    ...     'score_column_name': 'score',\n",
    "    ... }\n",
    "    >>> tolerances = {'pass': [1.0]}\n",
    "    >>> solution = pd.DataFrame({\n",
    "    ...     'video_id': ['a', 'a'],\n",
    "    ...     'event': ['pass', 'pass'],\n",
    "    ...     'time': [0, 15],\n",
    "    ... })\n",
    "    >>> submission = pd.DataFrame({\n",
    "    ...     'video_id': ['a', 'a', 'a'],\n",
    "    ...     'event': ['pass', 'pass', 'pass'],\n",
    "    ...     'score': [1.0, 0.5, 1.0],\n",
    "    ...     'time': [0, 10, 14.5],\n",
    "    ... })\n",
    "    >>> score(solution, submission, tolerances, **column_names)\n",
    "    1.0\n",
    "\n",
    "    Increasing the confidence score of the false detection above the true\n",
    "    detections decreases the AP.\n",
    "    >>> submission.loc[1, 'score'] = 1.5\n",
    "    >>> score(solution, submission, tolerances, **column_names)\n",
    "    0.6666666666666666...\n",
    "\n",
    "    Likewise, decreasing the confidence score of a true detection below the\n",
    "    false detection also decreases the AP.\n",
    "    >>> submission.loc[1, 'score'] = 0.5  # reset\n",
    "    >>> submission.loc[0, 'score'] = 0.0\n",
    "    >>> score(solution, submission, tolerances, **column_names)\n",
    "    0.8333333333333333...\n",
    "\n",
    "    We average AP scores over tolerances. Previously, the detection at 14.5\n",
    "    would match, but adding smaller tolerances gives AP scores where it does\n",
    "    not match. This results in both a FN, since the ground-truth wasn't\n",
    "    detected, and a FP, since the detected event matches no ground-truth.\n",
    "    >>> tolerances = {'pass': [0.1, 0.2, 1.0]}\n",
    "    >>> score(solution, submission, tolerances, **column_names)\n",
    "    0.3888888888888888...\n",
    "\n",
    "    We also average over time series and over event classes.\n",
    "    >>> tolerances = {'pass': [0.5, 1.0], 'challenge': [0.25, 0.50]}\n",
    "    >>> solution = pd.DataFrame({\n",
    "    ...     'video_id': ['a', 'a', 'b'],\n",
    "    ...     'event': ['pass', 'challenge', 'pass'],\n",
    "    ...     'time': [0, 15, 0],  # restart time for new time series b\n",
    "    ... })\n",
    "    >>> submission = pd.DataFrame({\n",
    "    ...     'video_id': ['a', 'a', 'b'],\n",
    "    ...     'event': ['pass', 'challenge', 'pass'],\n",
    "    ...     'score': [1.0, 0.5, 1.0],\n",
    "    ...     'time': [0, 15, 0],\n",
    "    ... })\n",
    "    >>> score(solution, submission, tolerances, **column_names)\n",
    "    1.0\n",
    "\n",
    "    By adding scoring intervals to the solution, we may choose to ignore\n",
    "    detections outside of those intervals.\n",
    "    >>> tolerances = {'pass': [1.0]}\n",
    "    >>> solution = pd.DataFrame({\n",
    "    ...     'video_id': ['a', 'a', 'a', 'a'],\n",
    "    ...     'event': ['start', 'pass', 'pass', 'end'],\n",
    "    ...     'time': [0, 10, 20, 30],\n",
    "    ... })\n",
    "    >>> submission = pd.DataFrame({\n",
    "    ...     'video_id': ['a', 'a', 'a'],\n",
    "    ...     'event': ['pass', 'pass', 'pass'],\n",
    "    ...     'score': [1.0, 1.0, 1.0],\n",
    "    ...     'time': [10, 20, 40],\n",
    "    ... })\n",
    "    >>> score(solution, submission, tolerances, **column_names, use_scoring_intervals=True)\n",
    "    1.0\n",
    "\n",
    "    \"\"\"\n",
    "    # Validate metric parameters\n",
    "    assert len(tolerances) > 0, \"Events must have defined tolerances.\"\n",
    "    assert set(tolerances.keys()) == set(solution[event_column_name]).difference({'start', 'end'}),        (f\"Solution column {event_column_name} must contain the same events \"\n",
    "         \"as defined in tolerances.\")\n",
    "    assert pd.api.types.is_numeric_dtype(solution[time_column_name]),        f\"Solution column {time_column_name} must be of numeric type.\"\n",
    "\n",
    "    # Validate submission format\n",
    "    for column_name in [\n",
    "        series_id_column_name,\n",
    "        time_column_name,\n",
    "        event_column_name,\n",
    "        score_column_name,\n",
    "    ]:\n",
    "        if column_name not in submission.columns:\n",
    "            raise ParticipantVisibleError(f\"Submission must have column '{target_name}'.\")\n",
    "\n",
    "    if not pd.api.types.is_numeric_dtype(submission[time_column_name]):\n",
    "        raise ParticipantVisibleError(\n",
    "            f\"Submission column '{time_column_name}' must be of numeric type.\"\n",
    "        )\n",
    "    if not pd.api.types.is_numeric_dtype(submission[score_column_name]):\n",
    "        raise ParticipantVisibleError(\n",
    "            f\"Submission column '{score_column_name}' must be of numeric type.\"\n",
    "        )\n",
    "\n",
    "    # Set these globally to avoid passing around a bunch of arguments\n",
    "    globals()['series_id_column_name'] = series_id_column_name\n",
    "    globals()['time_column_name'] = time_column_name\n",
    "    globals()['event_column_name'] = event_column_name\n",
    "    globals()['score_column_name'] = score_column_name\n",
    "    globals()['use_scoring_intervals'] = use_scoring_intervals\n",
    "\n",
    "    return event_detection_ap(solution, submission, tolerances)\n",
    "\n",
    "\n",
    "def filter_detections(\n",
    "        detections: pd.DataFrame, intervals: pd.DataFrame\n",
    ") -> pd.DataFrame:\n",
    "    \"\"\"Drop detections not inside a scoring interval.\"\"\"\n",
    "    detection_time = detections.loc[:, time_column_name].sort_values().to_numpy()\n",
    "    intervals = intervals.to_numpy()\n",
    "    is_scored = np.full_like(detection_time, False, dtype=bool)\n",
    "\n",
    "    i, j = 0, 0\n",
    "    while i < len(detection_time) and j < len(intervals):\n",
    "        time = detection_time[i]\n",
    "        int_ = intervals[j]\n",
    "\n",
    "        # If the detection is prior in time to the interval, go to the next detection.\n",
    "        if time < int_.left:\n",
    "            i += 1\n",
    "        # If the detection is inside the interval, keep it and go to the next detection.\n",
    "        elif time in int_:\n",
    "            is_scored[i] = True\n",
    "            i += 1\n",
    "        # If the detection is later in time, go to the next interval.\n",
    "        else:\n",
    "            j += 1\n",
    "\n",
    "    return detections.loc[is_scored].reset_index(drop=True)\n",
    "\n",
    "\n",
    "def match_detections(\n",
    "        tolerance: float, ground_truths: pd.DataFrame, detections: pd.DataFrame\n",
    ") -> pd.DataFrame:\n",
    "    \"\"\"Match detections to ground truth events. Arguments are taken from a common event x tolerance x series_id evaluation group.\"\"\"\n",
    "    detections_sorted = detections.sort_values(score_column_name, ascending=False).dropna()\n",
    "    is_matched = np.full_like(detections_sorted[event_column_name], False, dtype=bool)\n",
    "    gts_matched = set()\n",
    "    for i, det in enumerate(detections_sorted.itertuples(index=False)):\n",
    "        best_error = tolerance\n",
    "        best_gt = None\n",
    "\n",
    "        for gt in ground_truths.itertuples(index=False):\n",
    "            error = abs(getattr(det, time_column_name) - getattr(gt, time_column_name))\n",
    "            if error < best_error and gt not in gts_matched:\n",
    "                best_gt = gt\n",
    "                best_error = error\n",
    "\n",
    "        if best_gt is not None:\n",
    "            is_matched[i] = True\n",
    "            gts_matched.add(best_gt)\n",
    "\n",
    "    detections_sorted['matched'] = is_matched\n",
    "\n",
    "    return detections_sorted\n",
    "\n",
    "\n",
    "def precision_recall_curve(\n",
    "        matches: np.ndarray, scores: np.ndarray, p: int\n",
    ") -> Tuple[np.ndarray, np.ndarray, np.ndarray]:\n",
    "    if len(matches) == 0:\n",
    "        return [1], [0], []\n",
    "\n",
    "    # Sort matches by decreasing confidence\n",
    "    idxs = np.argsort(scores, kind='stable')[::-1]\n",
    "    scores = scores[idxs]\n",
    "    matches = matches[idxs]\n",
    "\n",
    "    distinct_value_indices = np.where(np.diff(scores))[0]\n",
    "    threshold_idxs = np.r_[distinct_value_indices, matches.size - 1]\n",
    "    thresholds = scores[threshold_idxs]\n",
    "\n",
    "    # Matches become TPs and non-matches FPs as confidence threshold decreases\n",
    "    tps = np.cumsum(matches)[threshold_idxs]\n",
    "    fps = np.cumsum(~matches)[threshold_idxs]\n",
    "\n",
    "    precision = tps / (tps + fps)\n",
    "    precision[np.isnan(precision)] = 0\n",
    "    recall = tps / p  # total number of ground truths might be different than total number of matches\n",
    "\n",
    "    # Stop when full recall attained and reverse the outputs so recall is non-increasing.\n",
    "    last_ind = tps.searchsorted(tps[-1])\n",
    "    sl = slice(last_ind, None, -1)\n",
    "\n",
    "    # Final precision is 1 and final recall is 0\n",
    "    return np.r_[precision[sl], 1], np.r_[recall[sl], 0], thresholds[sl]\n",
    "\n",
    "\n",
    "def average_precision_score(matches: np.ndarray, scores: np.ndarray, p: int) -> float:\n",
    "    precision, recall, _ = precision_recall_curve(matches, scores, p)\n",
    "    # Compute step integral\n",
    "    return -np.sum(np.diff(recall) * np.array(precision)[:-1])\n",
    "\n",
    "\n",
    "def event_detection_ap(\n",
    "        solution: pd.DataFrame,\n",
    "        submission: pd.DataFrame,\n",
    "        tolerances: Dict[str, List[float]],\n",
    ") -> float:\n",
    "\n",
    "    # Ensure solution and submission are sorted properly\n",
    "    solution = solution.sort_values([series_id_column_name, time_column_name])\n",
    "    submission = submission.sort_values([series_id_column_name, time_column_name])\n",
    "\n",
    "    # Extract scoring intervals.\n",
    "    if use_scoring_intervals:\n",
    "        intervals = (\n",
    "            solution\n",
    "            .query(\"event in ['start', 'end']\")\n",
    "            .assign(interval=lambda x: x.groupby([series_id_column_name, event_column_name]).cumcount())\n",
    "            .pivot(\n",
    "                index='interval',\n",
    "                columns=[series_id_column_name, event_column_name],\n",
    "                values=time_column_name,\n",
    "            )\n",
    "            .stack(series_id_column_name)\n",
    "            .swaplevel()\n",
    "            .sort_index()\n",
    "            .loc[:, ['start', 'end']]\n",
    "            .apply(lambda x: pd.Interval(*x, closed='both'), axis=1)\n",
    "        )\n",
    "\n",
    "    # Extract ground-truth events.\n",
    "    ground_truths = (\n",
    "        solution\n",
    "        .query(\"event not in ['start', 'end']\")\n",
    "        .reset_index(drop=True)\n",
    "    )\n",
    "\n",
    "    # Map each event class to its prevalence (needed for recall calculation)\n",
    "    class_counts = ground_truths.value_counts(event_column_name).to_dict()\n",
    "\n",
    "    # Create table for detections with a column indicating a match to a ground-truth event\n",
    "    detections = submission.assign(matched = False)\n",
    "\n",
    "    # Remove detections outside of scoring intervals\n",
    "    if use_scoring_intervals:\n",
    "        detections_filtered = []\n",
    "        for (det_group, dets), (int_group, ints) in zip(\n",
    "            detections.groupby(series_id_column_name), intervals.groupby(series_id_column_name)\n",
    "        ):\n",
    "            assert det_group == int_group\n",
    "            detections_filtered.append(filter_detections(dets, ints))\n",
    "        detections_filtered = pd.concat(detections_filtered, ignore_index=True)\n",
    "    else:\n",
    "        detections_filtered = detections\n",
    "\n",
    "    # Create table of event-class x tolerance x series_id values\n",
    "    aggregation_keys = pd.DataFrame(\n",
    "        [(ev, tol, vid)\n",
    "         for ev in tolerances.keys()\n",
    "         for tol in tolerances[ev]\n",
    "         for vid in ground_truths[series_id_column_name].unique()],\n",
    "        columns=[event_column_name, 'tolerance', series_id_column_name],\n",
    "    )\n",
    "\n",
    "    # Create match evaluation groups: event-class x tolerance x series_id\n",
    "    detections_grouped = (\n",
    "        aggregation_keys\n",
    "        .merge(detections_filtered, on=[event_column_name, series_id_column_name], how='left')\n",
    "        .groupby([event_column_name, 'tolerance', series_id_column_name])\n",
    "    )\n",
    "    ground_truths_grouped = (\n",
    "        aggregation_keys\n",
    "        .merge(ground_truths, on=[event_column_name, series_id_column_name], how='left')\n",
    "        .groupby([event_column_name, 'tolerance', series_id_column_name])\n",
    "    )\n",
    "    # Match detections to ground truth events by evaluation group\n",
    "    detections_matched = []\n",
    "    for key in aggregation_keys.itertuples(index=False):\n",
    "        dets = detections_grouped.get_group(key)\n",
    "        gts = ground_truths_grouped.get_group(key)\n",
    "        detections_matched.append(\n",
    "            match_detections(dets['tolerance'].iloc[0], gts, dets)\n",
    "        )\n",
    "    detections_matched = pd.concat(detections_matched)\n",
    "\n",
    "    # Compute AP per event x tolerance group\n",
    "    event_classes = ground_truths[event_column_name].unique()\n",
    "    ap_table = (\n",
    "        detections_matched\n",
    "        .query(\"event in @event_classes\")\n",
    "        .groupby([event_column_name, 'tolerance']).apply(\n",
    "            lambda group: average_precision_score(\n",
    "                group['matched'].to_numpy(),\n",
    "                group[score_column_name].to_numpy(),\n",
    "                class_counts[group[event_column_name].iat[0]],\n",
    "            )\n",
    "        )\n",
    "    )\n",
    "    # Average over tolerances, then over event classes\n",
    "    mean_ap = ap_table.groupby(event_column_name).mean().sum() / len(event_classes)\n",
    "\n",
    "    return mean_ap"
   ]
  },
  {
   "cell_type": "markdown",
   "id": "c426851e",
   "metadata": {
    "papermill": {
     "duration": 0.014532,
     "end_time": "2023-11-21T04:06:25.817049",
     "exception": false,
     "start_time": "2023-11-21T04:06:25.802517",
     "status": "completed"
    },
    "tags": []
   },
   "source": [
    "# Object detection data prep"
   ]
  },
  {
   "cell_type": "code",
   "execution_count": 5,
   "id": "d664bc0c",
   "metadata": {
    "execution": {
     "iopub.execute_input": "2023-11-21T04:06:25.850448Z",
     "iopub.status.busy": "2023-11-21T04:06:25.850034Z",
     "iopub.status.idle": "2023-11-21T04:06:41.019239Z",
     "shell.execute_reply": "2023-11-21T04:06:41.017249Z"
    },
    "papermill": {
     "duration": 15.189714,
     "end_time": "2023-11-21T04:06:41.022711",
     "exception": false,
     "start_time": "2023-11-21T04:06:25.832997",
     "status": "completed"
    },
    "tags": []
   },
   "outputs": [
    {
     "name": "stdout",
     "output_type": "stream",
     "text": [
      "269\n"
     ]
    }
   ],
   "source": [
    "file = '/kaggle/input/gamma-train-series-updated-11-11-2023/train_series_10112023.parquet'\n",
    "\n",
    "DEV = False\n",
    "\n",
    "series_id  = pd.read_parquet(file, columns=['series_id'])\n",
    "series_id = series_id.series_id.unique()\n",
    "\n",
    "print(len(series_id))\n",
    "\n",
    "if DEV:\n",
    "    series_id = series_id[::10]"
   ]
  },
  {
   "cell_type": "code",
   "execution_count": 6,
   "id": "c75c9aaa",
   "metadata": {
    "execution": {
     "iopub.execute_input": "2023-11-21T04:06:41.055012Z",
     "iopub.status.busy": "2023-11-21T04:06:41.054574Z",
     "iopub.status.idle": "2023-11-21T04:06:42.680796Z",
     "shell.execute_reply": "2023-11-21T04:06:42.679801Z"
    },
    "papermill": {
     "duration": 1.645825,
     "end_time": "2023-11-21T04:06:42.684208",
     "exception": false,
     "start_time": "2023-11-21T04:06:41.038383",
     "status": "completed"
    },
    "tags": []
   },
   "outputs": [],
   "source": [
    "from sklearn.model_selection import train_test_split"
   ]
  },
  {
   "cell_type": "code",
   "execution_count": 7,
   "id": "97c1584e",
   "metadata": {
    "execution": {
     "iopub.execute_input": "2023-11-21T04:06:42.716010Z",
     "iopub.status.busy": "2023-11-21T04:06:42.715600Z",
     "iopub.status.idle": "2023-11-21T04:06:42.724382Z",
     "shell.execute_reply": "2023-11-21T04:06:42.723163Z"
    },
    "papermill": {
     "duration": 0.027012,
     "end_time": "2023-11-21T04:06:42.726709",
     "exception": false,
     "start_time": "2023-11-21T04:06:42.699697",
     "status": "completed"
    },
    "tags": []
   },
   "outputs": [],
   "source": [
    "series_id_train, series_id_test = train_test_split(series_id, \n",
    "                                   random_state=1234,  \n",
    "                                   test_size=0.25,  \n",
    "                                   shuffle=True)\n",
    "\n",
    "series_id_val, series_id_test = train_test_split(series_id_test, \n",
    "                                   random_state=1234,  \n",
    "                                   test_size=0.50,  \n",
    "                                   shuffle=True)"
   ]
  },
  {
   "cell_type": "code",
   "execution_count": 8,
   "id": "c1081e34",
   "metadata": {
    "execution": {
     "iopub.execute_input": "2023-11-21T04:06:42.758086Z",
     "iopub.status.busy": "2023-11-21T04:06:42.757241Z",
     "iopub.status.idle": "2023-11-21T04:06:42.763012Z",
     "shell.execute_reply": "2023-11-21T04:06:42.761883Z"
    },
    "papermill": {
     "duration": 0.023831,
     "end_time": "2023-11-21T04:06:42.765233",
     "exception": false,
     "start_time": "2023-11-21T04:06:42.741402",
     "status": "completed"
    },
    "tags": []
   },
   "outputs": [],
   "source": [
    "working_folder = Path(\"/kaggle/working/\")\n",
    "images_folder = working_folder/\"images\"\n",
    "images_folder.mkdir()"
   ]
  },
  {
   "cell_type": "code",
   "execution_count": 9,
   "id": "37c6c34e",
   "metadata": {
    "execution": {
     "iopub.execute_input": "2023-11-21T04:06:42.795878Z",
     "iopub.status.busy": "2023-11-21T04:06:42.795431Z",
     "iopub.status.idle": "2023-11-21T04:06:43.921040Z",
     "shell.execute_reply": "2023-11-21T04:06:43.919096Z"
    },
    "papermill": {
     "duration": 1.144517,
     "end_time": "2023-11-21T04:06:43.924294",
     "exception": false,
     "start_time": "2023-11-21T04:06:42.779777",
     "status": "completed"
    },
    "tags": []
   },
   "outputs": [
    {
     "name": "stdout",
     "output_type": "stream",
     "text": [
      "sample_submission.csv  train_events.csv\r\n",
      "test_series.parquet    train_series.parquet\r\n"
     ]
    }
   ],
   "source": [
    "data_folder = Path(\"/kaggle/input/child-mind-institute-detect-sleep-states\")\n",
    "!ls {data_folder}"
   ]
  },
  {
   "cell_type": "code",
   "execution_count": 10,
   "id": "c1ee6dc4",
   "metadata": {
    "execution": {
     "iopub.execute_input": "2023-11-21T04:06:43.956424Z",
     "iopub.status.busy": "2023-11-21T04:06:43.955892Z",
     "iopub.status.idle": "2023-11-21T04:06:43.962177Z",
     "shell.execute_reply": "2023-11-21T04:06:43.960883Z"
    },
    "papermill": {
     "duration": 0.025476,
     "end_time": "2023-11-21T04:06:43.964804",
     "exception": false,
     "start_time": "2023-11-21T04:06:43.939328",
     "status": "completed"
    },
    "tags": []
   },
   "outputs": [],
   "source": [
    "#test_series = pd.read_parquet(data_folder/\"test_series.parquet\")\n",
    "#test_series"
   ]
  },
  {
   "cell_type": "code",
   "execution_count": 11,
   "id": "47de2a46",
   "metadata": {
    "execution": {
     "iopub.execute_input": "2023-11-21T04:06:43.997893Z",
     "iopub.status.busy": "2023-11-21T04:06:43.997157Z",
     "iopub.status.idle": "2023-11-21T04:06:44.002997Z",
     "shell.execute_reply": "2023-11-21T04:06:44.001543Z"
    },
    "papermill": {
     "duration": 0.025945,
     "end_time": "2023-11-21T04:06:44.005857",
     "exception": false,
     "start_time": "2023-11-21T04:06:43.979912",
     "status": "completed"
    },
    "tags": []
   },
   "outputs": [],
   "source": [
    "#test_series['large_enmo'] = test_series['enmo'] > 0.1506"
   ]
  },
  {
   "cell_type": "code",
   "execution_count": 12,
   "id": "7e0941e3",
   "metadata": {
    "execution": {
     "iopub.execute_input": "2023-11-21T04:06:44.038849Z",
     "iopub.status.busy": "2023-11-21T04:06:44.038436Z",
     "iopub.status.idle": "2023-11-21T04:06:44.047724Z",
     "shell.execute_reply": "2023-11-21T04:06:44.046496Z"
    },
    "papermill": {
     "duration": 0.028397,
     "end_time": "2023-11-21T04:06:44.050272",
     "exception": false,
     "start_time": "2023-11-21T04:06:44.021875",
     "status": "completed"
    },
    "tags": []
   },
   "outputs": [
    {
     "data": {
      "text/plain": [
       "34"
      ]
     },
     "execution_count": 12,
     "metadata": {},
     "output_type": "execute_result"
    }
   ],
   "source": [
    "#series_ids = test_series['series_id'].unique()\n",
    "series_ids = series_id_val#[0:5]\n",
    "len(series_ids)"
   ]
  },
  {
   "cell_type": "code",
   "execution_count": 13,
   "id": "e7bde265",
   "metadata": {
    "execution": {
     "iopub.execute_input": "2023-11-21T04:06:44.084444Z",
     "iopub.status.busy": "2023-11-21T04:06:44.083967Z",
     "iopub.status.idle": "2023-11-21T04:06:44.095851Z",
     "shell.execute_reply": "2023-11-21T04:06:44.094492Z"
    },
    "papermill": {
     "duration": 0.033431,
     "end_time": "2023-11-21T04:06:44.098630",
     "exception": false,
     "start_time": "2023-11-21T04:06:44.065199",
     "status": "completed"
    },
    "tags": []
   },
   "outputs": [],
   "source": [
    "def feat_eng(df):\n",
    "    \n",
    "    df['series_id'] = df['series_id'].astype('category')\n",
    "    df['timestamp_2'] = pd.to_datetime(df['timestamp']).apply(lambda t: t.tz_localize(None))\n",
    "    df['hour'] = df[\"timestamp_2\"].dt.hour\n",
    "    \n",
    "    df.sort_values(['timestamp_2'], inplace=True)\n",
    "    df.set_index('timestamp_2', inplace=True)\n",
    "\n",
    "    df[\"anglez\"] = df[\"anglez\"].astype(np.float32)\n",
    "    df[\"anglezdiffabs\"] = df[\"anglez\"].diff().abs().astype(np.float32)\n",
    "    \n",
    "    for col in ['anglezdiffabs']:\n",
    "        \n",
    "        # periods in seconds        \n",
    "        periods = [60] \n",
    "        \n",
    "        for n in periods:\n",
    "            \n",
    "            rol_args = {'window':f'{n+5}s', 'min_periods':10, 'center':True}\n",
    "            \n",
    "            for agg in ['median']:\n",
    "                df[f'{col}_{agg}_{n}'] = df[col].rolling(**rol_args).agg(agg).astype(np.float32).values\n",
    "                gc.collect()\n",
    "            \n",
    "            gc.collect()\n",
    "    \n",
    "    df.reset_index(inplace=True)\n",
    "    df.dropna(inplace=True)\n",
    "\n",
    "    return df"
   ]
  },
  {
   "cell_type": "code",
   "execution_count": 14,
   "id": "83135220",
   "metadata": {
    "execution": {
     "iopub.execute_input": "2023-11-21T04:06:44.130036Z",
     "iopub.status.busy": "2023-11-21T04:06:44.129601Z",
     "iopub.status.idle": "2023-11-21T04:06:44.136311Z",
     "shell.execute_reply": "2023-11-21T04:06:44.135028Z"
    },
    "papermill": {
     "duration": 0.025489,
     "end_time": "2023-11-21T04:06:44.139033",
     "exception": false,
     "start_time": "2023-11-21T04:06:44.113544",
     "status": "completed"
    },
    "tags": []
   },
   "outputs": [],
   "source": [
    "def feat_eng_by_id(idx):\n",
    "    \n",
    "    from warnings import simplefilter \n",
    "    simplefilter(action=\"ignore\", category=pd.errors.PerformanceWarning)\n",
    "    \n",
    "    df  = pd.read_parquet('/kaggle/input/child-mind-institute-detect-sleep-states/train_series.parquet',\n",
    "                          filters=[('series_id','=',idx)])\n",
    "    df = feat_eng(df)\n",
    "    \n",
    "    return df"
   ]
  },
  {
   "cell_type": "code",
   "execution_count": 15,
   "id": "34fc7516",
   "metadata": {
    "execution": {
     "iopub.execute_input": "2023-11-21T04:06:44.171275Z",
     "iopub.status.busy": "2023-11-21T04:06:44.170821Z",
     "iopub.status.idle": "2023-11-21T04:06:44.293713Z",
     "shell.execute_reply": "2023-11-21T04:06:44.292469Z"
    },
    "papermill": {
     "duration": 0.1424,
     "end_time": "2023-11-21T04:06:44.296808",
     "exception": false,
     "start_time": "2023-11-21T04:06:44.154408",
     "status": "completed"
    },
    "tags": []
   },
   "outputs": [],
   "source": [
    "from tqdm.auto import tqdm \n",
    "from joblib import Parallel, delayed\n",
    "from time import sleep, time\n",
    "from multiprocessing import cpu_count\n",
    "import gc"
   ]
  },
  {
   "cell_type": "code",
   "execution_count": 16,
   "id": "2c27f4a3",
   "metadata": {
    "execution": {
     "iopub.execute_input": "2023-11-21T04:06:44.328764Z",
     "iopub.status.busy": "2023-11-21T04:06:44.328327Z",
     "iopub.status.idle": "2023-11-21T04:50:32.991766Z",
     "shell.execute_reply": "2023-11-21T04:50:32.990553Z"
    },
    "papermill": {
     "duration": 2628.693822,
     "end_time": "2023-11-21T04:50:33.005523",
     "exception": false,
     "start_time": "2023-11-21T04:06:44.311701",
     "status": "completed"
    },
    "tags": []
   },
   "outputs": [
    {
     "name": "stdout",
     "output_type": "stream",
     "text": [
      "Number of jobs:  4\n"
     ]
    },
    {
     "data": {
      "application/vnd.jupyter.widget-view+json": {
       "model_id": "92c311b6e4ed4a298490a9728aee026e",
       "version_major": 2,
       "version_minor": 0
      },
      "text/plain": [
       "  0%|          | 0/34 [00:00<?, ?it/s]"
      ]
     },
     "metadata": {},
     "output_type": "display_data"
    },
    {
     "name": "stdout",
     "output_type": "stream",
     "text": [
      "CPU times: user 55min 8s, sys: 3min 27s, total: 58min 36s\n",
      "Wall time: 43min 48s\n"
     ]
    }
   ],
   "source": [
    "%%time\n",
    "\n",
    "import joblib\n",
    "\n",
    "print(\"Number of jobs: \",int(cpu_count()))\n",
    "\n",
    "#train_df = []\n",
    "\n",
    "window_properties = []\n",
    "\n",
    "for idx in tqdm(series_ids): \n",
    "\n",
    "    test_series = feat_eng_by_id(idx)\n",
    "    test_series['large_enmo'] = test_series['enmo'] > 0.1509000062942505\n",
    "    test_series['anglezdiffabs_median_60_norm'] = (test_series['anglezdiffabs_median_60']-np.min(test_series['anglezdiffabs_median_60']))/ (max(test_series['anglezdiffabs_median_60'])-min(test_series['anglezdiffabs_median_60']))\n",
    "    \n",
    "    series = test_series.reset_index(drop=True)\n",
    "    series['color'] = [\"blue\" if large_enmo else \"green\" for large_enmo in series['large_enmo']]\n",
    "    series['timestamp'] = pd.to_datetime(series['timestamp'])\n",
    "    series['timestamp_utc'] = series['timestamp'].map(lambda timestamp: timestamp.astimezone(timezone.utc))\n",
    "    series['anglez_radians'] = (np.pi / 180) * series['anglez']\n",
    "    series['cos_anglez'] = np.cos(series['anglez_radians'])\n",
    "    series['enmo'] = np.clip(series['enmo'], 0, 1)\n",
    "    min_date_utc = series['timestamp_utc'].dt.date.min()\n",
    "    max_date_utc = series['timestamp_utc'].dt.date.max()\n",
    "    series_24_hour_windows = {}\n",
    "    upper_bound = datetime(year=min_date_utc.year, month=min_date_utc.month, day=min_date_utc.day, hour=20, minute=30, tzinfo=timezone.utc)\n",
    "    lower_bound = upper_bound + timedelta(hours=-24) # 8:30pm UTC on the previous day.\n",
    "    while lower_bound < series['timestamp_utc'].max():\n",
    "        window_df = series.loc[(series['timestamp_utc'] >= lower_bound) & (series['timestamp_utc'] < upper_bound)].reset_index(drop=True)\n",
    "        if len(window_df) > 0:\n",
    "            series_24_hour_windows[upper_bound.isoformat()[:-6]] = window_df\n",
    "        upper_bound += timedelta(hours=24)\n",
    "        lower_bound += timedelta(hours=24)\n",
    "    \n",
    "    windows = list(series_24_hour_windows.keys())\n",
    "    num_steps_cumulative = 0\n",
    "    for window_idx, window in enumerate(windows):        \n",
    "        fig = plt.figure(figsize=(14.4, 4))  # (width, height) in inches\n",
    "        #plt.plot(series_24_hour_windows[window]['timestamp_utc'], series_24_hour_windows[window]['cos_anglez'], color=\"red\")\n",
    "        plt.plot(series_24_hour_windows[window]['timestamp_utc'],\n",
    "                 series_24_hour_windows[window]['anglezdiffabs_median_60_norm'],\n",
    "                 color=\"red\")\n",
    "        plt.scatter(\n",
    "            series_24_hour_windows[window]['timestamp_utc'], \n",
    "            series_24_hour_windows[window]['enmo'], \n",
    "            color=series_24_hour_windows[window]['color'], \n",
    "            s=1\n",
    "        )\n",
    "        ax = plt.gca()\n",
    "        ax.spines['top'].set_visible(False)\n",
    "        ax.spines['right'].set_visible(False)\n",
    "        ax.spines['bottom'].set_visible(False)\n",
    "        ax.spines['left'].set_visible(False)\n",
    "        ax.set_xticks([])\n",
    "        ax.set_yticks([])\n",
    "        plt.margins(0, 0)\n",
    "        plt.subplots_adjust(left=0, right=1, top=1, bottom=0)\n",
    "        plt.savefig(images_folder/f\"{idx}_{window}.jpg\", bbox_inches=\"tight\", pad_inches=0)\n",
    "        plt.clf()\n",
    "        plt.cla()\n",
    "        plt.close()\n",
    "\n",
    "        min_ts_window = series_24_hour_windows[window]['timestamp_utc'].min()\n",
    "        max_ts_window = series_24_hour_windows[window]['timestamp_utc'].max()\n",
    "        num_steps_window = (max_ts_window - min_ts_window).total_seconds() / 5 + 1\n",
    "        num_steps_cumulative += num_steps_window\n",
    "        window_properties.append({\n",
    "            'series_id': idx, \n",
    "            'image_name': f\"{idx}_{window}.jpg\", \n",
    "            'idx_in_series': window_idx, \n",
    "            'num_steps_window': num_steps_window, \n",
    "            'num_steps_cumulative': num_steps_cumulative\n",
    "        })\n",
    "\n",
    "    #test = feat_eng_by_id(idx)\n",
    "\n",
    "    #train_df.append(test)\n",
    "    \n",
    "#train = pd.concat(train_df, ignore_index=True).reset_index(names='new_row_id')\n",
    "\n",
    "#len(train)"
   ]
  },
  {
   "cell_type": "code",
   "execution_count": 17,
   "id": "595ddbe2",
   "metadata": {
    "execution": {
     "iopub.execute_input": "2023-11-21T04:50:33.039876Z",
     "iopub.status.busy": "2023-11-21T04:50:33.039402Z",
     "iopub.status.idle": "2023-11-21T04:50:33.067449Z",
     "shell.execute_reply": "2023-11-21T04:50:33.066546Z"
    },
    "papermill": {
     "duration": 0.04801,
     "end_time": "2023-11-21T04:50:33.069637",
     "exception": false,
     "start_time": "2023-11-21T04:50:33.021627",
     "status": "completed"
    },
    "tags": []
   },
   "outputs": [
    {
     "data": {
      "text/html": [
       "<div>\n",
       "<style scoped>\n",
       "    .dataframe tbody tr th:only-of-type {\n",
       "        vertical-align: middle;\n",
       "    }\n",
       "\n",
       "    .dataframe tbody tr th {\n",
       "        vertical-align: top;\n",
       "    }\n",
       "\n",
       "    .dataframe thead th {\n",
       "        text-align: right;\n",
       "    }\n",
       "</style>\n",
       "<table border=\"1\" class=\"dataframe\">\n",
       "  <thead>\n",
       "    <tr style=\"text-align: right;\">\n",
       "      <th></th>\n",
       "      <th>series_id</th>\n",
       "      <th>image_name</th>\n",
       "      <th>idx_in_series</th>\n",
       "      <th>num_steps_window</th>\n",
       "      <th>num_steps_cumulative</th>\n",
       "    </tr>\n",
       "  </thead>\n",
       "  <tbody>\n",
       "    <tr>\n",
       "      <th>0</th>\n",
       "      <td>b737f8c78ec5</td>\n",
       "      <td>b737f8c78ec5_2018-03-03T20:30:00.jpg</td>\n",
       "      <td>0</td>\n",
       "      <td>15836.0</td>\n",
       "      <td>15836.0</td>\n",
       "    </tr>\n",
       "    <tr>\n",
       "      <th>1</th>\n",
       "      <td>b737f8c78ec5</td>\n",
       "      <td>b737f8c78ec5_2018-03-04T20:30:00.jpg</td>\n",
       "      <td>1</td>\n",
       "      <td>17280.0</td>\n",
       "      <td>33116.0</td>\n",
       "    </tr>\n",
       "    <tr>\n",
       "      <th>2</th>\n",
       "      <td>b737f8c78ec5</td>\n",
       "      <td>b737f8c78ec5_2018-03-05T20:30:00.jpg</td>\n",
       "      <td>2</td>\n",
       "      <td>17280.0</td>\n",
       "      <td>50396.0</td>\n",
       "    </tr>\n",
       "    <tr>\n",
       "      <th>3</th>\n",
       "      <td>b737f8c78ec5</td>\n",
       "      <td>b737f8c78ec5_2018-03-06T20:30:00.jpg</td>\n",
       "      <td>3</td>\n",
       "      <td>17280.0</td>\n",
       "      <td>67676.0</td>\n",
       "    </tr>\n",
       "    <tr>\n",
       "      <th>4</th>\n",
       "      <td>b737f8c78ec5</td>\n",
       "      <td>b737f8c78ec5_2018-03-07T20:30:00.jpg</td>\n",
       "      <td>4</td>\n",
       "      <td>17280.0</td>\n",
       "      <td>84956.0</td>\n",
       "    </tr>\n",
       "    <tr>\n",
       "      <th>...</th>\n",
       "      <td>...</td>\n",
       "      <td>...</td>\n",
       "      <td>...</td>\n",
       "      <td>...</td>\n",
       "      <td>...</td>\n",
       "    </tr>\n",
       "    <tr>\n",
       "      <th>982</th>\n",
       "      <td>eef041dd50aa</td>\n",
       "      <td>eef041dd50aa_2019-01-03T20:30:00.jpg</td>\n",
       "      <td>23</td>\n",
       "      <td>17280.0</td>\n",
       "      <td>399956.0</td>\n",
       "    </tr>\n",
       "    <tr>\n",
       "      <th>983</th>\n",
       "      <td>eef041dd50aa</td>\n",
       "      <td>eef041dd50aa_2019-01-04T20:30:00.jpg</td>\n",
       "      <td>24</td>\n",
       "      <td>17280.0</td>\n",
       "      <td>417236.0</td>\n",
       "    </tr>\n",
       "    <tr>\n",
       "      <th>984</th>\n",
       "      <td>eef041dd50aa</td>\n",
       "      <td>eef041dd50aa_2019-01-05T20:30:00.jpg</td>\n",
       "      <td>25</td>\n",
       "      <td>17280.0</td>\n",
       "      <td>434516.0</td>\n",
       "    </tr>\n",
       "    <tr>\n",
       "      <th>985</th>\n",
       "      <td>eef041dd50aa</td>\n",
       "      <td>eef041dd50aa_2019-01-06T20:30:00.jpg</td>\n",
       "      <td>26</td>\n",
       "      <td>17280.0</td>\n",
       "      <td>451796.0</td>\n",
       "    </tr>\n",
       "    <tr>\n",
       "      <th>986</th>\n",
       "      <td>eef041dd50aa</td>\n",
       "      <td>eef041dd50aa_2019-01-07T20:30:00.jpg</td>\n",
       "      <td>27</td>\n",
       "      <td>15297.0</td>\n",
       "      <td>467093.0</td>\n",
       "    </tr>\n",
       "  </tbody>\n",
       "</table>\n",
       "<p>987 rows × 5 columns</p>\n",
       "</div>"
      ],
      "text/plain": [
       "        series_id                            image_name  idx_in_series  \\\n",
       "0    b737f8c78ec5  b737f8c78ec5_2018-03-03T20:30:00.jpg              0   \n",
       "1    b737f8c78ec5  b737f8c78ec5_2018-03-04T20:30:00.jpg              1   \n",
       "2    b737f8c78ec5  b737f8c78ec5_2018-03-05T20:30:00.jpg              2   \n",
       "3    b737f8c78ec5  b737f8c78ec5_2018-03-06T20:30:00.jpg              3   \n",
       "4    b737f8c78ec5  b737f8c78ec5_2018-03-07T20:30:00.jpg              4   \n",
       "..            ...                                   ...            ...   \n",
       "982  eef041dd50aa  eef041dd50aa_2019-01-03T20:30:00.jpg             23   \n",
       "983  eef041dd50aa  eef041dd50aa_2019-01-04T20:30:00.jpg             24   \n",
       "984  eef041dd50aa  eef041dd50aa_2019-01-05T20:30:00.jpg             25   \n",
       "985  eef041dd50aa  eef041dd50aa_2019-01-06T20:30:00.jpg             26   \n",
       "986  eef041dd50aa  eef041dd50aa_2019-01-07T20:30:00.jpg             27   \n",
       "\n",
       "     num_steps_window  num_steps_cumulative  \n",
       "0             15836.0               15836.0  \n",
       "1             17280.0               33116.0  \n",
       "2             17280.0               50396.0  \n",
       "3             17280.0               67676.0  \n",
       "4             17280.0               84956.0  \n",
       "..                ...                   ...  \n",
       "982           17280.0              399956.0  \n",
       "983           17280.0              417236.0  \n",
       "984           17280.0              434516.0  \n",
       "985           17280.0              451796.0  \n",
       "986           15297.0              467093.0  \n",
       "\n",
       "[987 rows x 5 columns]"
      ]
     },
     "execution_count": 17,
     "metadata": {},
     "output_type": "execute_result"
    }
   ],
   "source": [
    "window_properties_df = pd.DataFrame(window_properties)\n",
    "window_properties_df"
   ]
  },
  {
   "cell_type": "markdown",
   "id": "f84cbcf6",
   "metadata": {
    "papermill": {
     "duration": 0.015152,
     "end_time": "2023-11-21T04:50:33.100485",
     "exception": false,
     "start_time": "2023-11-21T04:50:33.085333",
     "status": "completed"
    },
    "tags": []
   },
   "source": [
    "# Transforms"
   ]
  },
  {
   "cell_type": "code",
   "execution_count": 18,
   "id": "4f523bae",
   "metadata": {
    "execution": {
     "iopub.execute_input": "2023-11-21T04:50:33.134060Z",
     "iopub.status.busy": "2023-11-21T04:50:33.132845Z",
     "iopub.status.idle": "2023-11-21T04:50:33.139571Z",
     "shell.execute_reply": "2023-11-21T04:50:33.138520Z"
    },
    "papermill": {
     "duration": 0.026239,
     "end_time": "2023-11-21T04:50:33.142206",
     "exception": false,
     "start_time": "2023-11-21T04:50:33.115967",
     "status": "completed"
    },
    "tags": []
   },
   "outputs": [],
   "source": [
    "def get_transforms():\n",
    "    transforms = []\n",
    "    transforms.append(T.ConvertDtype(torch.float))\n",
    "    transforms.append(T.Normalize([0.485, 0.456, 0.406], [0.229, 0.224, 0.225]))\n",
    "    return T.Compose(transforms)"
   ]
  },
  {
   "cell_type": "code",
   "execution_count": 19,
   "id": "237dde67",
   "metadata": {
    "execution": {
     "iopub.execute_input": "2023-11-21T04:50:33.175440Z",
     "iopub.status.busy": "2023-11-21T04:50:33.174669Z",
     "iopub.status.idle": "2023-11-21T04:50:33.179801Z",
     "shell.execute_reply": "2023-11-21T04:50:33.178772Z"
    },
    "papermill": {
     "duration": 0.024606,
     "end_time": "2023-11-21T04:50:33.182462",
     "exception": false,
     "start_time": "2023-11-21T04:50:33.157856",
     "status": "completed"
    },
    "tags": []
   },
   "outputs": [],
   "source": [
    "eval_transforms = get_transforms()"
   ]
  },
  {
   "cell_type": "markdown",
   "id": "29b10202",
   "metadata": {
    "papermill": {
     "duration": 0.015746,
     "end_time": "2023-11-21T04:50:33.213855",
     "exception": false,
     "start_time": "2023-11-21T04:50:33.198109",
     "status": "completed"
    },
    "tags": []
   },
   "source": [
    "# Instantiating the model"
   ]
  },
  {
   "cell_type": "code",
   "execution_count": 20,
   "id": "af9ecbc0",
   "metadata": {
    "execution": {
     "iopub.execute_input": "2023-11-21T04:50:33.247637Z",
     "iopub.status.busy": "2023-11-21T04:50:33.247159Z",
     "iopub.status.idle": "2023-11-21T04:50:33.255097Z",
     "shell.execute_reply": "2023-11-21T04:50:33.253684Z"
    },
    "papermill": {
     "duration": 0.027496,
     "end_time": "2023-11-21T04:50:33.257616",
     "exception": false,
     "start_time": "2023-11-21T04:50:33.230120",
     "status": "completed"
    },
    "tags": []
   },
   "outputs": [
    {
     "data": {
      "text/plain": [
       "device(type='cpu')"
      ]
     },
     "execution_count": 20,
     "metadata": {},
     "output_type": "execute_result"
    }
   ],
   "source": [
    "device = torch.device(\"cuda\") if torch.cuda.is_available() else torch.device(\"cpu\")\n",
    "device"
   ]
  },
  {
   "cell_type": "code",
   "execution_count": 21,
   "id": "1fc222df",
   "metadata": {
    "execution": {
     "iopub.execute_input": "2023-11-21T04:50:33.290863Z",
     "iopub.status.busy": "2023-11-21T04:50:33.290427Z",
     "iopub.status.idle": "2023-11-21T04:50:34.091406Z",
     "shell.execute_reply": "2023-11-21T04:50:34.090159Z"
    },
    "papermill": {
     "duration": 0.820722,
     "end_time": "2023-11-21T04:50:34.094212",
     "exception": false,
     "start_time": "2023-11-21T04:50:33.273490",
     "status": "completed"
    },
    "tags": []
   },
   "outputs": [],
   "source": [
    "model = torchvision.models.detection.fasterrcnn_resnet50_fpn(weights=None, weights_backbone=None, max_size=1440)\n",
    "# Replace the classifier with a new one, that has num_classes which is user-defined:\n",
    "num_classes = 3 # 2 classes ('onset' & 'wakeup') + the 'background' class\n",
    "# Get the number of input features for the box classifier:\n",
    "in_features = model.roi_heads.box_predictor.cls_score.in_features\n",
    "# Replace the pre-trained box predictor head with a new one:\n",
    "model.roi_heads.box_predictor = FastRCNNPredictor(in_features, num_classes)"
   ]
  },
  {
   "cell_type": "code",
   "execution_count": 22,
   "id": "5db92208",
   "metadata": {
    "execution": {
     "iopub.execute_input": "2023-11-21T04:50:34.127665Z",
     "iopub.status.busy": "2023-11-21T04:50:34.127181Z",
     "iopub.status.idle": "2023-11-21T04:50:35.726245Z",
     "shell.execute_reply": "2023-11-21T04:50:35.724665Z"
    },
    "papermill": {
     "duration": 1.618905,
     "end_time": "2023-11-21T04:50:35.728917",
     "exception": false,
     "start_time": "2023-11-21T04:50:34.110012",
     "status": "completed"
    },
    "tags": []
   },
   "outputs": [
    {
     "data": {
      "text/plain": [
       "<All keys matched successfully>"
      ]
     },
     "execution_count": 22,
     "metadata": {},
     "output_type": "execute_result"
    }
   ],
   "source": [
    "weights = torch.load(\"/kaggle/input/seb-train-cnn-models-image-detection/seb_model_v1__4.pth\", map_location=device)\n",
    "model.load_state_dict(weights)"
   ]
  },
  {
   "cell_type": "code",
   "execution_count": 23,
   "id": "ed6c7ec7",
   "metadata": {
    "execution": {
     "iopub.execute_input": "2023-11-21T04:50:35.765467Z",
     "iopub.status.busy": "2023-11-21T04:50:35.764990Z",
     "iopub.status.idle": "2023-11-21T04:50:35.776939Z",
     "shell.execute_reply": "2023-11-21T04:50:35.775712Z"
    },
    "papermill": {
     "duration": 0.033324,
     "end_time": "2023-11-21T04:50:35.779562",
     "exception": false,
     "start_time": "2023-11-21T04:50:35.746238",
     "status": "completed"
    },
    "tags": []
   },
   "outputs": [],
   "source": [
    "model.to(device);"
   ]
  },
  {
   "cell_type": "markdown",
   "id": "631f09d6",
   "metadata": {
    "papermill": {
     "duration": 0.016064,
     "end_time": "2023-11-21T04:50:35.811639",
     "exception": false,
     "start_time": "2023-11-21T04:50:35.795575",
     "status": "completed"
    },
    "tags": []
   },
   "source": [
    "# Inference"
   ]
  },
  {
   "cell_type": "code",
   "execution_count": 24,
   "id": "de381a2a",
   "metadata": {
    "execution": {
     "iopub.execute_input": "2023-11-21T04:50:35.845708Z",
     "iopub.status.busy": "2023-11-21T04:50:35.845238Z",
     "iopub.status.idle": "2023-11-21T04:50:35.852717Z",
     "shell.execute_reply": "2023-11-21T04:50:35.851437Z"
    },
    "papermill": {
     "duration": 0.027886,
     "end_time": "2023-11-21T04:50:35.855401",
     "exception": false,
     "start_time": "2023-11-21T04:50:35.827515",
     "status": "completed"
    },
    "tags": []
   },
   "outputs": [],
   "source": [
    "model.eval()\n",
    "thresh = 0.0 # Tune this.\n",
    "reverse_label_mapping = {1: \"onset\", 2: \"wakeup\"}"
   ]
  },
  {
   "cell_type": "code",
   "execution_count": 25,
   "id": "8f368185",
   "metadata": {
    "execution": {
     "iopub.execute_input": "2023-11-21T04:50:35.892736Z",
     "iopub.status.busy": "2023-11-21T04:50:35.891774Z",
     "iopub.status.idle": "2023-11-21T04:50:35.913014Z",
     "shell.execute_reply": "2023-11-21T04:50:35.911887Z"
    },
    "papermill": {
     "duration": 0.043931,
     "end_time": "2023-11-21T04:50:35.916059",
     "exception": false,
     "start_time": "2023-11-21T04:50:35.872128",
     "status": "completed"
    },
    "tags": []
   },
   "outputs": [],
   "source": [
    "def get_submission_df():\n",
    "    all_test_preds = []\n",
    "    for i, series_id in enumerate(series_ids): # i is the index of the series.\n",
    "        series_rows = window_properties_df.loc[window_properties_df['series_id'] == series_id].reset_index(drop=True)\n",
    "        for j in range(len(series_rows)): # j is the index of the image (within the series).\n",
    "            image_name = series_rows['image_name'][j]\n",
    "            image_path = os.path.join(images_folder, image_name)\n",
    "            image = read_image(image_path)\n",
    "            with torch.no_grad():\n",
    "                x = eval_transforms(image)\n",
    "                x = x.to(device)\n",
    "                predictions = model([x])\n",
    "            pred = predictions[0]\n",
    "            \n",
    "            # Postprocessing: remove 'narrow' boxes as these are false positives.\n",
    "            pred_widths = pred['boxes'][:, 2] - pred['boxes'][:, 0]\n",
    "            pred['boxes'] = pred['boxes'][pred_widths > 10]\n",
    "            pred['labels'] = pred['labels'][pred_widths > 10]\n",
    "            pred['scores'] = pred['scores'][pred_widths > 10]\n",
    "            \n",
    "            pred['boxes'] = pred['boxes'][pred['scores'] > thresh]\n",
    "            pred['labels'] = pred['labels'][pred['scores'] > thresh]\n",
    "            pred['scores'] = pred['scores'][pred['scores'] > thresh]\n",
    "            \n",
    "            if len(pred['labels']) == 0:\n",
    "                continue\n",
    "            else:\n",
    "                pred_x = (pred['boxes'][:, 0] + pred['boxes'][:, 2]) / 2\n",
    "                pred_labels = [reverse_label_mapping[l.item()] for l in pred['labels']]\n",
    "                num_steps_window = series_rows['num_steps_window'][j]\n",
    "                if j == 0:\n",
    "                    prev_num_steps_cumulative = 0\n",
    "                else:\n",
    "                    prev_num_steps_cumulative = series_rows['num_steps_cumulative'][j - 1]            \n",
    "                for k in range(len(pred_labels)): # k is the index of the bounding box (within the image).\n",
    "                    event = {}\n",
    "                    step_in_window = (pred_x[k] / 1440) * num_steps_window # All images have width 1,440px.\n",
    "                    step_in_series = int(prev_num_steps_cumulative + step_in_window)\n",
    "                    event['series_id'] = series_id\n",
    "                    event['step'] = step_in_series\n",
    "                    event['event'] = pred_labels[k]\n",
    "                    event['score'] = pred['scores'][k].item()\n",
    "                    all_test_preds.append(event)          \n",
    "    if len(all_test_preds) > 0:\n",
    "        submission_df = pd.DataFrame(all_test_preds)\n",
    "        submission_df = submission_df.sort_values(by=['series_id', 'step']).reset_index(drop=True)\n",
    "        submission_df['row_id'] = np.arange(len(submission_df))\n",
    "        submission_df = submission_df[['row_id', 'series_id', 'step', 'event', 'score']]\n",
    "    else:\n",
    "        submission_df = pd.DataFrame({'row_id': [], 'series_id': [], 'step': [], 'event': [], 'score': []})\n",
    "    return submission_df"
   ]
  },
  {
   "cell_type": "code",
   "execution_count": 26,
   "id": "33e1d0c9",
   "metadata": {
    "execution": {
     "iopub.execute_input": "2023-11-21T04:50:35.950588Z",
     "iopub.status.busy": "2023-11-21T04:50:35.950086Z",
     "iopub.status.idle": "2023-11-21T05:38:33.439819Z",
     "shell.execute_reply": "2023-11-21T05:38:33.438468Z"
    },
    "papermill": {
     "duration": 2877.531422,
     "end_time": "2023-11-21T05:38:33.464031",
     "exception": false,
     "start_time": "2023-11-21T04:50:35.932609",
     "status": "completed"
    },
    "tags": []
   },
   "outputs": [
    {
     "data": {
      "text/html": [
       "<div>\n",
       "<style scoped>\n",
       "    .dataframe tbody tr th:only-of-type {\n",
       "        vertical-align: middle;\n",
       "    }\n",
       "\n",
       "    .dataframe tbody tr th {\n",
       "        vertical-align: top;\n",
       "    }\n",
       "\n",
       "    .dataframe thead th {\n",
       "        text-align: right;\n",
       "    }\n",
       "</style>\n",
       "<table border=\"1\" class=\"dataframe\">\n",
       "  <thead>\n",
       "    <tr style=\"text-align: right;\">\n",
       "      <th></th>\n",
       "      <th>row_id</th>\n",
       "      <th>series_id</th>\n",
       "      <th>step</th>\n",
       "      <th>event</th>\n",
       "      <th>score</th>\n",
       "    </tr>\n",
       "  </thead>\n",
       "  <tbody>\n",
       "    <tr>\n",
       "      <th>0</th>\n",
       "      <td>0</td>\n",
       "      <td>062dbd4c95e6</td>\n",
       "      <td>7840</td>\n",
       "      <td>onset</td>\n",
       "      <td>0.941166</td>\n",
       "    </tr>\n",
       "    <tr>\n",
       "      <th>1</th>\n",
       "      <td>1</td>\n",
       "      <td>062dbd4c95e6</td>\n",
       "      <td>14283</td>\n",
       "      <td>wakeup</td>\n",
       "      <td>0.080451</td>\n",
       "    </tr>\n",
       "    <tr>\n",
       "      <th>2</th>\n",
       "      <td>2</td>\n",
       "      <td>062dbd4c95e6</td>\n",
       "      <td>14452</td>\n",
       "      <td>wakeup</td>\n",
       "      <td>0.965852</td>\n",
       "    </tr>\n",
       "    <tr>\n",
       "      <th>3</th>\n",
       "      <td>3</td>\n",
       "      <td>062dbd4c95e6</td>\n",
       "      <td>14550</td>\n",
       "      <td>wakeup</td>\n",
       "      <td>0.095775</td>\n",
       "    </tr>\n",
       "    <tr>\n",
       "      <th>4</th>\n",
       "      <td>4</td>\n",
       "      <td>062dbd4c95e6</td>\n",
       "      <td>14646</td>\n",
       "      <td>wakeup</td>\n",
       "      <td>0.488864</td>\n",
       "    </tr>\n",
       "    <tr>\n",
       "      <th>...</th>\n",
       "      <td>...</td>\n",
       "      <td>...</td>\n",
       "      <td>...</td>\n",
       "      <td>...</td>\n",
       "      <td>...</td>\n",
       "    </tr>\n",
       "    <tr>\n",
       "      <th>4366</th>\n",
       "      <td>4366</td>\n",
       "      <td>fcca183903b7</td>\n",
       "      <td>601412</td>\n",
       "      <td>wakeup</td>\n",
       "      <td>0.053166</td>\n",
       "    </tr>\n",
       "    <tr>\n",
       "      <th>4367</th>\n",
       "      <td>4367</td>\n",
       "      <td>fcca183903b7</td>\n",
       "      <td>602138</td>\n",
       "      <td>wakeup</td>\n",
       "      <td>0.983011</td>\n",
       "    </tr>\n",
       "    <tr>\n",
       "      <th>4368</th>\n",
       "      <td>4368</td>\n",
       "      <td>fcca183903b7</td>\n",
       "      <td>602418</td>\n",
       "      <td>wakeup</td>\n",
       "      <td>0.060061</td>\n",
       "    </tr>\n",
       "    <tr>\n",
       "      <th>4369</th>\n",
       "      <td>4369</td>\n",
       "      <td>fcca183903b7</td>\n",
       "      <td>619397</td>\n",
       "      <td>onset</td>\n",
       "      <td>0.929265</td>\n",
       "    </tr>\n",
       "    <tr>\n",
       "      <th>4370</th>\n",
       "      <td>4370</td>\n",
       "      <td>fcca183903b7</td>\n",
       "      <td>620440</td>\n",
       "      <td>wakeup</td>\n",
       "      <td>0.115597</td>\n",
       "    </tr>\n",
       "  </tbody>\n",
       "</table>\n",
       "<p>4371 rows × 5 columns</p>\n",
       "</div>"
      ],
      "text/plain": [
       "      row_id     series_id    step   event     score\n",
       "0          0  062dbd4c95e6    7840   onset  0.941166\n",
       "1          1  062dbd4c95e6   14283  wakeup  0.080451\n",
       "2          2  062dbd4c95e6   14452  wakeup  0.965852\n",
       "3          3  062dbd4c95e6   14550  wakeup  0.095775\n",
       "4          4  062dbd4c95e6   14646  wakeup  0.488864\n",
       "...      ...           ...     ...     ...       ...\n",
       "4366    4366  fcca183903b7  601412  wakeup  0.053166\n",
       "4367    4367  fcca183903b7  602138  wakeup  0.983011\n",
       "4368    4368  fcca183903b7  602418  wakeup  0.060061\n",
       "4369    4369  fcca183903b7  619397   onset  0.929265\n",
       "4370    4370  fcca183903b7  620440  wakeup  0.115597\n",
       "\n",
       "[4371 rows x 5 columns]"
      ]
     },
     "execution_count": 26,
     "metadata": {},
     "output_type": "execute_result"
    }
   ],
   "source": [
    "submission_df = get_submission_df()\n",
    "submission_df"
   ]
  },
  {
   "cell_type": "code",
   "execution_count": 27,
   "id": "627012ed",
   "metadata": {
    "execution": {
     "iopub.execute_input": "2023-11-21T05:38:33.499705Z",
     "iopub.status.busy": "2023-11-21T05:38:33.498362Z",
     "iopub.status.idle": "2023-11-21T05:38:33.506475Z",
     "shell.execute_reply": "2023-11-21T05:38:33.505293Z"
    },
    "papermill": {
     "duration": 0.028756,
     "end_time": "2023-11-21T05:38:33.509277",
     "exception": false,
     "start_time": "2023-11-21T05:38:33.480521",
     "status": "completed"
    },
    "tags": []
   },
   "outputs": [],
   "source": [
    "events_submission=submission_df\n",
    "events_submission=events_submission[(events_submission['score']>0.7)]"
   ]
  },
  {
   "cell_type": "code",
   "execution_count": 28,
   "id": "c9ed6248",
   "metadata": {
    "execution": {
     "iopub.execute_input": "2023-11-21T05:38:33.545385Z",
     "iopub.status.busy": "2023-11-21T05:38:33.544969Z",
     "iopub.status.idle": "2023-11-21T05:38:33.960572Z",
     "shell.execute_reply": "2023-11-21T05:38:33.959381Z"
    },
    "papermill": {
     "duration": 0.436033,
     "end_time": "2023-11-21T05:38:33.963133",
     "exception": false,
     "start_time": "2023-11-21T05:38:33.527100",
     "status": "completed"
    },
    "tags": []
   },
   "outputs": [
    {
     "name": "stdout",
     "output_type": "stream",
     "text": [
      "CPU times: user 120 ms, sys: 47.1 ms, total: 168 ms\n",
      "Wall time: 403 ms\n"
     ]
    }
   ],
   "source": [
    "%%time\n",
    "import polars as pl\n",
    "train_events = (pl.scan_csv('/kaggle/input/child-mind-institute-detect-sleep-states/train_events.csv')\n",
    "                .with_columns(\n",
    "                    (\n",
    "                        (pl.col(\"timestamp\").str.strptime(pl.Datetime, \"%Y-%m-%dT%H:%M:%S%Z\")),\n",
    "                        (pl.col(\"timestamp\").str.strptime(pl.Datetime, \"%Y-%m-%dT%H:%M:%S%Z\").dt.year().alias(\"year\")),\n",
    "                        (pl.col(\"timestamp\").str.strptime(pl.Datetime, \"%Y-%m-%dT%H:%M:%S%Z\").dt.month().alias(\"month\")),\n",
    "                        (pl.col(\"timestamp\").str.strptime(pl.Datetime, \"%Y-%m-%dT%H:%M:%S%Z\").dt.day().alias(\"day\")),\n",
    "                        (pl.col(\"timestamp\").str.strptime(pl.Datetime, \"%Y-%m-%dT%H:%M:%S%Z\").dt.hour().alias(\"hour\")),\n",
    "                    )\n",
    "                )\n",
    "                .collect()\n",
    "                .to_pandas()\n",
    "               )"
   ]
  },
  {
   "cell_type": "code",
   "execution_count": 29,
   "id": "ce8154ed",
   "metadata": {
    "execution": {
     "iopub.execute_input": "2023-11-21T05:38:33.998710Z",
     "iopub.status.busy": "2023-11-21T05:38:33.997577Z",
     "iopub.status.idle": "2023-11-21T05:38:46.902540Z",
     "shell.execute_reply": "2023-11-21T05:38:46.901289Z"
    },
    "papermill": {
     "duration": 12.925636,
     "end_time": "2023-11-21T05:38:46.905272",
     "exception": false,
     "start_time": "2023-11-21T05:38:33.979636",
     "status": "completed"
    },
    "tags": []
   },
   "outputs": [
    {
     "name": "stdout",
     "output_type": "stream",
     "text": [
      "Model score: 0.6701466609652249\n"
     ]
    }
   ],
   "source": [
    "val_solution = train_events[train_events['series_id'].isin(series_ids)][['series_id', 'event', 'step']]\n",
    "#val_solution = train_events[train_events['series_id'].isin(series_id_test2)][['series_id', 'event', 'step']]\n",
    "val_solution = val_solution[val_solution['step'].notna()]\n",
    "val_solution = val_solution.reset_index(drop=True)\n",
    "val_solution = val_solution.reset_index().rename(columns={'index': 'row_id'})\n",
    "\n",
    "#xgb_submission=xgb_submission[(xgb_submission['score']>0.1)]\n",
    "\n",
    "#for the weird case\n",
    "#print(f\"Model score: {score(val_solution, events_submission[(events_submission['row_id']<26)],tolerances, **column_names)}\")\n",
    "print(f\"Model score: {score(val_solution, events_submission,tolerances, **column_names)}\")"
   ]
  },
  {
   "cell_type": "code",
   "execution_count": 30,
   "id": "f5fbda47",
   "metadata": {
    "execution": {
     "iopub.execute_input": "2023-11-21T05:38:46.940027Z",
     "iopub.status.busy": "2023-11-21T05:38:46.939562Z",
     "iopub.status.idle": "2023-11-21T05:38:46.955989Z",
     "shell.execute_reply": "2023-11-21T05:38:46.954865Z"
    },
    "papermill": {
     "duration": 0.036698,
     "end_time": "2023-11-21T05:38:46.958502",
     "exception": false,
     "start_time": "2023-11-21T05:38:46.921804",
     "status": "completed"
    },
    "tags": []
   },
   "outputs": [
    {
     "data": {
      "text/html": [
       "<div>\n",
       "<style scoped>\n",
       "    .dataframe tbody tr th:only-of-type {\n",
       "        vertical-align: middle;\n",
       "    }\n",
       "\n",
       "    .dataframe tbody tr th {\n",
       "        vertical-align: top;\n",
       "    }\n",
       "\n",
       "    .dataframe thead th {\n",
       "        text-align: right;\n",
       "    }\n",
       "</style>\n",
       "<table border=\"1\" class=\"dataframe\">\n",
       "  <thead>\n",
       "    <tr style=\"text-align: right;\">\n",
       "      <th></th>\n",
       "      <th>row_id</th>\n",
       "      <th>series_id</th>\n",
       "      <th>event</th>\n",
       "      <th>step</th>\n",
       "    </tr>\n",
       "  </thead>\n",
       "  <tbody>\n",
       "    <tr>\n",
       "      <th>0</th>\n",
       "      <td>0</td>\n",
       "      <td>062dbd4c95e6</td>\n",
       "      <td>onset</td>\n",
       "      <td>7872.0</td>\n",
       "    </tr>\n",
       "    <tr>\n",
       "      <th>1</th>\n",
       "      <td>1</td>\n",
       "      <td>062dbd4c95e6</td>\n",
       "      <td>wakeup</td>\n",
       "      <td>14484.0</td>\n",
       "    </tr>\n",
       "    <tr>\n",
       "      <th>2</th>\n",
       "      <td>2</td>\n",
       "      <td>062dbd4c95e6</td>\n",
       "      <td>onset</td>\n",
       "      <td>60720.0</td>\n",
       "    </tr>\n",
       "    <tr>\n",
       "      <th>3</th>\n",
       "      <td>3</td>\n",
       "      <td>062dbd4c95e6</td>\n",
       "      <td>wakeup</td>\n",
       "      <td>68400.0</td>\n",
       "    </tr>\n",
       "    <tr>\n",
       "      <th>4</th>\n",
       "      <td>4</td>\n",
       "      <td>062dbd4c95e6</td>\n",
       "      <td>onset</td>\n",
       "      <td>77304.0</td>\n",
       "    </tr>\n",
       "    <tr>\n",
       "      <th>...</th>\n",
       "      <td>...</td>\n",
       "      <td>...</td>\n",
       "      <td>...</td>\n",
       "      <td>...</td>\n",
       "    </tr>\n",
       "    <tr>\n",
       "      <th>1354</th>\n",
       "      <td>1354</td>\n",
       "      <td>fcca183903b7</td>\n",
       "      <td>wakeup</td>\n",
       "      <td>565824.0</td>\n",
       "    </tr>\n",
       "    <tr>\n",
       "      <th>1355</th>\n",
       "      <td>1355</td>\n",
       "      <td>fcca183903b7</td>\n",
       "      <td>onset</td>\n",
       "      <td>577344.0</td>\n",
       "    </tr>\n",
       "    <tr>\n",
       "      <th>1356</th>\n",
       "      <td>1356</td>\n",
       "      <td>fcca183903b7</td>\n",
       "      <td>wakeup</td>\n",
       "      <td>584052.0</td>\n",
       "    </tr>\n",
       "    <tr>\n",
       "      <th>1357</th>\n",
       "      <td>1357</td>\n",
       "      <td>fcca183903b7</td>\n",
       "      <td>onset</td>\n",
       "      <td>595344.0</td>\n",
       "    </tr>\n",
       "    <tr>\n",
       "      <th>1358</th>\n",
       "      <td>1358</td>\n",
       "      <td>fcca183903b7</td>\n",
       "      <td>wakeup</td>\n",
       "      <td>602136.0</td>\n",
       "    </tr>\n",
       "  </tbody>\n",
       "</table>\n",
       "<p>1359 rows × 4 columns</p>\n",
       "</div>"
      ],
      "text/plain": [
       "      row_id     series_id   event      step\n",
       "0          0  062dbd4c95e6   onset    7872.0\n",
       "1          1  062dbd4c95e6  wakeup   14484.0\n",
       "2          2  062dbd4c95e6   onset   60720.0\n",
       "3          3  062dbd4c95e6  wakeup   68400.0\n",
       "4          4  062dbd4c95e6   onset   77304.0\n",
       "...      ...           ...     ...       ...\n",
       "1354    1354  fcca183903b7  wakeup  565824.0\n",
       "1355    1355  fcca183903b7   onset  577344.0\n",
       "1356    1356  fcca183903b7  wakeup  584052.0\n",
       "1357    1357  fcca183903b7   onset  595344.0\n",
       "1358    1358  fcca183903b7  wakeup  602136.0\n",
       "\n",
       "[1359 rows x 4 columns]"
      ]
     },
     "execution_count": 30,
     "metadata": {},
     "output_type": "execute_result"
    }
   ],
   "source": [
    "val_solution"
   ]
  },
  {
   "cell_type": "code",
   "execution_count": 31,
   "id": "11763416",
   "metadata": {
    "execution": {
     "iopub.execute_input": "2023-11-21T05:38:46.995032Z",
     "iopub.status.busy": "2023-11-21T05:38:46.993890Z",
     "iopub.status.idle": "2023-11-21T05:38:47.011520Z",
     "shell.execute_reply": "2023-11-21T05:38:47.010431Z"
    },
    "papermill": {
     "duration": 0.038161,
     "end_time": "2023-11-21T05:38:47.014053",
     "exception": false,
     "start_time": "2023-11-21T05:38:46.975892",
     "status": "completed"
    },
    "tags": []
   },
   "outputs": [
    {
     "data": {
      "text/html": [
       "<div>\n",
       "<style scoped>\n",
       "    .dataframe tbody tr th:only-of-type {\n",
       "        vertical-align: middle;\n",
       "    }\n",
       "\n",
       "    .dataframe tbody tr th {\n",
       "        vertical-align: top;\n",
       "    }\n",
       "\n",
       "    .dataframe thead th {\n",
       "        text-align: right;\n",
       "    }\n",
       "</style>\n",
       "<table border=\"1\" class=\"dataframe\">\n",
       "  <thead>\n",
       "    <tr style=\"text-align: right;\">\n",
       "      <th></th>\n",
       "      <th>row_id</th>\n",
       "      <th>series_id</th>\n",
       "      <th>step</th>\n",
       "      <th>event</th>\n",
       "      <th>score</th>\n",
       "    </tr>\n",
       "  </thead>\n",
       "  <tbody>\n",
       "    <tr>\n",
       "      <th>0</th>\n",
       "      <td>0</td>\n",
       "      <td>062dbd4c95e6</td>\n",
       "      <td>7840</td>\n",
       "      <td>onset</td>\n",
       "      <td>0.941166</td>\n",
       "    </tr>\n",
       "    <tr>\n",
       "      <th>2</th>\n",
       "      <td>2</td>\n",
       "      <td>062dbd4c95e6</td>\n",
       "      <td>14452</td>\n",
       "      <td>wakeup</td>\n",
       "      <td>0.965852</td>\n",
       "    </tr>\n",
       "    <tr>\n",
       "      <th>7</th>\n",
       "      <td>7</td>\n",
       "      <td>062dbd4c95e6</td>\n",
       "      <td>60569</td>\n",
       "      <td>onset</td>\n",
       "      <td>0.976574</td>\n",
       "    </tr>\n",
       "    <tr>\n",
       "      <th>11</th>\n",
       "      <td>11</td>\n",
       "      <td>062dbd4c95e6</td>\n",
       "      <td>66822</td>\n",
       "      <td>wakeup</td>\n",
       "      <td>0.966833</td>\n",
       "    </tr>\n",
       "    <tr>\n",
       "      <th>13</th>\n",
       "      <td>13</td>\n",
       "      <td>062dbd4c95e6</td>\n",
       "      <td>68472</td>\n",
       "      <td>wakeup</td>\n",
       "      <td>0.789991</td>\n",
       "    </tr>\n",
       "    <tr>\n",
       "      <th>...</th>\n",
       "      <td>...</td>\n",
       "      <td>...</td>\n",
       "      <td>...</td>\n",
       "      <td>...</td>\n",
       "      <td>...</td>\n",
       "    </tr>\n",
       "    <tr>\n",
       "      <th>4354</th>\n",
       "      <td>4354</td>\n",
       "      <td>fcca183903b7</td>\n",
       "      <td>577343</td>\n",
       "      <td>onset</td>\n",
       "      <td>0.987767</td>\n",
       "    </tr>\n",
       "    <tr>\n",
       "      <th>4360</th>\n",
       "      <td>4360</td>\n",
       "      <td>fcca183903b7</td>\n",
       "      <td>584029</td>\n",
       "      <td>wakeup</td>\n",
       "      <td>0.984445</td>\n",
       "    </tr>\n",
       "    <tr>\n",
       "      <th>4362</th>\n",
       "      <td>4362</td>\n",
       "      <td>fcca183903b7</td>\n",
       "      <td>595403</td>\n",
       "      <td>onset</td>\n",
       "      <td>0.972804</td>\n",
       "    </tr>\n",
       "    <tr>\n",
       "      <th>4367</th>\n",
       "      <td>4367</td>\n",
       "      <td>fcca183903b7</td>\n",
       "      <td>602138</td>\n",
       "      <td>wakeup</td>\n",
       "      <td>0.983011</td>\n",
       "    </tr>\n",
       "    <tr>\n",
       "      <th>4369</th>\n",
       "      <td>4369</td>\n",
       "      <td>fcca183903b7</td>\n",
       "      <td>619397</td>\n",
       "      <td>onset</td>\n",
       "      <td>0.929265</td>\n",
       "    </tr>\n",
       "  </tbody>\n",
       "</table>\n",
       "<p>1602 rows × 5 columns</p>\n",
       "</div>"
      ],
      "text/plain": [
       "      row_id     series_id    step   event     score\n",
       "0          0  062dbd4c95e6    7840   onset  0.941166\n",
       "2          2  062dbd4c95e6   14452  wakeup  0.965852\n",
       "7          7  062dbd4c95e6   60569   onset  0.976574\n",
       "11        11  062dbd4c95e6   66822  wakeup  0.966833\n",
       "13        13  062dbd4c95e6   68472  wakeup  0.789991\n",
       "...      ...           ...     ...     ...       ...\n",
       "4354    4354  fcca183903b7  577343   onset  0.987767\n",
       "4360    4360  fcca183903b7  584029  wakeup  0.984445\n",
       "4362    4362  fcca183903b7  595403   onset  0.972804\n",
       "4367    4367  fcca183903b7  602138  wakeup  0.983011\n",
       "4369    4369  fcca183903b7  619397   onset  0.929265\n",
       "\n",
       "[1602 rows x 5 columns]"
      ]
     },
     "execution_count": 31,
     "metadata": {},
     "output_type": "execute_result"
    }
   ],
   "source": [
    "events_submission"
   ]
  },
  {
   "cell_type": "code",
   "execution_count": 32,
   "id": "5c04de64",
   "metadata": {
    "execution": {
     "iopub.execute_input": "2023-11-21T05:38:47.050351Z",
     "iopub.status.busy": "2023-11-21T05:38:47.049952Z",
     "iopub.status.idle": "2023-11-21T05:38:47.057767Z",
     "shell.execute_reply": "2023-11-21T05:38:47.056700Z"
    },
    "papermill": {
     "duration": 0.028688,
     "end_time": "2023-11-21T05:38:47.060134",
     "exception": false,
     "start_time": "2023-11-21T05:38:47.031446",
     "status": "completed"
    },
    "tags": []
   },
   "outputs": [
    {
     "data": {
      "text/plain": [
       "array(['b737f8c78ec5', 'bdfce9ce62b9', '5f40907ec171', '5acc9d63b5fd',\n",
       "       'b7188813d58a', '1762ab70ec76', 'fcca183903b7', '5f94bb3e1bed',\n",
       "       'c75b4b207bea', '99b829cbad2d', '4a31811f3558', '3d53bfea61d6',\n",
       "       'f0482490923c', '7df249527c63', 'ece2561f07e9', 'a9a2f7fac455',\n",
       "       '8a22387617c3', '062dbd4c95e6', '612aa8ba44e2', 'b84960841a75',\n",
       "       '60d31b0bec3b', '25e2b3dd9c3b', '08db4255286f', '3aceb17ef7bd',\n",
       "       '8a306e0890c0', '35826366dfc7', '2f7504d0f426', '44d8c02b369e',\n",
       "       'bfa54bd26187', 'd9e887091a5c', 'c289c8a823e0', '44a41bba1ee7',\n",
       "       'ea0770830757', 'eef041dd50aa'], dtype=object)"
      ]
     },
     "execution_count": 32,
     "metadata": {},
     "output_type": "execute_result"
    }
   ],
   "source": [
    "series_ids"
   ]
  },
  {
   "cell_type": "code",
   "execution_count": 33,
   "id": "4bd19f52",
   "metadata": {
    "execution": {
     "iopub.execute_input": "2023-11-21T05:38:47.097134Z",
     "iopub.status.busy": "2023-11-21T05:38:47.096700Z",
     "iopub.status.idle": "2023-11-21T05:39:00.661154Z",
     "shell.execute_reply": "2023-11-21T05:39:00.659932Z"
    },
    "papermill": {
     "duration": 13.5863,
     "end_time": "2023-11-21T05:39:00.663678",
     "exception": false,
     "start_time": "2023-11-21T05:38:47.077378",
     "status": "completed"
    },
    "tags": []
   },
   "outputs": [
    {
     "data": {
      "text/html": [
       "<div>\n",
       "<style scoped>\n",
       "    .dataframe tbody tr th:only-of-type {\n",
       "        vertical-align: middle;\n",
       "    }\n",
       "\n",
       "    .dataframe tbody tr th {\n",
       "        vertical-align: top;\n",
       "    }\n",
       "\n",
       "    .dataframe thead th {\n",
       "        text-align: right;\n",
       "    }\n",
       "</style>\n",
       "<table border=\"1\" class=\"dataframe\">\n",
       "  <thead>\n",
       "    <tr style=\"text-align: right;\">\n",
       "      <th></th>\n",
       "      <th>Series_Id</th>\n",
       "      <th>Score</th>\n",
       "    </tr>\n",
       "  </thead>\n",
       "  <tbody>\n",
       "    <tr>\n",
       "      <th>0</th>\n",
       "      <td>b737f8c78ec5</td>\n",
       "      <td>0.765363</td>\n",
       "    </tr>\n",
       "    <tr>\n",
       "      <th>1</th>\n",
       "      <td>bdfce9ce62b9</td>\n",
       "      <td>0.738664</td>\n",
       "    </tr>\n",
       "    <tr>\n",
       "      <th>2</th>\n",
       "      <td>5f40907ec171</td>\n",
       "      <td>0.696493</td>\n",
       "    </tr>\n",
       "    <tr>\n",
       "      <th>3</th>\n",
       "      <td>5acc9d63b5fd</td>\n",
       "      <td>0.795093</td>\n",
       "    </tr>\n",
       "    <tr>\n",
       "      <th>4</th>\n",
       "      <td>b7188813d58a</td>\n",
       "      <td>0.730164</td>\n",
       "    </tr>\n",
       "    <tr>\n",
       "      <th>5</th>\n",
       "      <td>1762ab70ec76</td>\n",
       "      <td>0.591001</td>\n",
       "    </tr>\n",
       "    <tr>\n",
       "      <th>6</th>\n",
       "      <td>fcca183903b7</td>\n",
       "      <td>0.748236</td>\n",
       "    </tr>\n",
       "    <tr>\n",
       "      <th>7</th>\n",
       "      <td>5f94bb3e1bed</td>\n",
       "      <td>0.753612</td>\n",
       "    </tr>\n",
       "    <tr>\n",
       "      <th>8</th>\n",
       "      <td>c75b4b207bea</td>\n",
       "      <td>0.778200</td>\n",
       "    </tr>\n",
       "    <tr>\n",
       "      <th>9</th>\n",
       "      <td>99b829cbad2d</td>\n",
       "      <td>0.632857</td>\n",
       "    </tr>\n",
       "    <tr>\n",
       "      <th>10</th>\n",
       "      <td>4a31811f3558</td>\n",
       "      <td>0.713265</td>\n",
       "    </tr>\n",
       "    <tr>\n",
       "      <th>11</th>\n",
       "      <td>3d53bfea61d6</td>\n",
       "      <td>0.675540</td>\n",
       "    </tr>\n",
       "    <tr>\n",
       "      <th>12</th>\n",
       "      <td>f0482490923c</td>\n",
       "      <td>0.823586</td>\n",
       "    </tr>\n",
       "    <tr>\n",
       "      <th>13</th>\n",
       "      <td>7df249527c63</td>\n",
       "      <td>0.785569</td>\n",
       "    </tr>\n",
       "    <tr>\n",
       "      <th>14</th>\n",
       "      <td>ece2561f07e9</td>\n",
       "      <td>0.666183</td>\n",
       "    </tr>\n",
       "    <tr>\n",
       "      <th>15</th>\n",
       "      <td>a9a2f7fac455</td>\n",
       "      <td>0.598997</td>\n",
       "    </tr>\n",
       "    <tr>\n",
       "      <th>16</th>\n",
       "      <td>8a22387617c3</td>\n",
       "      <td>0.720569</td>\n",
       "    </tr>\n",
       "    <tr>\n",
       "      <th>17</th>\n",
       "      <td>062dbd4c95e6</td>\n",
       "      <td>0.498661</td>\n",
       "    </tr>\n",
       "    <tr>\n",
       "      <th>18</th>\n",
       "      <td>612aa8ba44e2</td>\n",
       "      <td>0.661965</td>\n",
       "    </tr>\n",
       "    <tr>\n",
       "      <th>19</th>\n",
       "      <td>b84960841a75</td>\n",
       "      <td>0.621020</td>\n",
       "    </tr>\n",
       "    <tr>\n",
       "      <th>20</th>\n",
       "      <td>60d31b0bec3b</td>\n",
       "      <td>0.009135</td>\n",
       "    </tr>\n",
       "    <tr>\n",
       "      <th>21</th>\n",
       "      <td>25e2b3dd9c3b</td>\n",
       "      <td>0.819967</td>\n",
       "    </tr>\n",
       "    <tr>\n",
       "      <th>22</th>\n",
       "      <td>08db4255286f</td>\n",
       "      <td>0.715559</td>\n",
       "    </tr>\n",
       "    <tr>\n",
       "      <th>23</th>\n",
       "      <td>3aceb17ef7bd</td>\n",
       "      <td>0.713968</td>\n",
       "    </tr>\n",
       "    <tr>\n",
       "      <th>24</th>\n",
       "      <td>8a306e0890c0</td>\n",
       "      <td>0.771650</td>\n",
       "    </tr>\n",
       "    <tr>\n",
       "      <th>25</th>\n",
       "      <td>35826366dfc7</td>\n",
       "      <td>0.591225</td>\n",
       "    </tr>\n",
       "    <tr>\n",
       "      <th>26</th>\n",
       "      <td>2f7504d0f426</td>\n",
       "      <td>0.750778</td>\n",
       "    </tr>\n",
       "    <tr>\n",
       "      <th>27</th>\n",
       "      <td>44d8c02b369e</td>\n",
       "      <td>0.826587</td>\n",
       "    </tr>\n",
       "    <tr>\n",
       "      <th>28</th>\n",
       "      <td>bfa54bd26187</td>\n",
       "      <td>0.674549</td>\n",
       "    </tr>\n",
       "    <tr>\n",
       "      <th>29</th>\n",
       "      <td>d9e887091a5c</td>\n",
       "      <td>0.759620</td>\n",
       "    </tr>\n",
       "    <tr>\n",
       "      <th>30</th>\n",
       "      <td>c289c8a823e0</td>\n",
       "      <td>0.709411</td>\n",
       "    </tr>\n",
       "    <tr>\n",
       "      <th>31</th>\n",
       "      <td>44a41bba1ee7</td>\n",
       "      <td>0.308314</td>\n",
       "    </tr>\n",
       "    <tr>\n",
       "      <th>32</th>\n",
       "      <td>ea0770830757</td>\n",
       "      <td>0.708747</td>\n",
       "    </tr>\n",
       "    <tr>\n",
       "      <th>33</th>\n",
       "      <td>eef041dd50aa</td>\n",
       "      <td>0.716124</td>\n",
       "    </tr>\n",
       "  </tbody>\n",
       "</table>\n",
       "</div>"
      ],
      "text/plain": [
       "       Series_Id     Score\n",
       "0   b737f8c78ec5  0.765363\n",
       "1   bdfce9ce62b9  0.738664\n",
       "2   5f40907ec171  0.696493\n",
       "3   5acc9d63b5fd  0.795093\n",
       "4   b7188813d58a  0.730164\n",
       "5   1762ab70ec76  0.591001\n",
       "6   fcca183903b7  0.748236\n",
       "7   5f94bb3e1bed  0.753612\n",
       "8   c75b4b207bea  0.778200\n",
       "9   99b829cbad2d  0.632857\n",
       "10  4a31811f3558  0.713265\n",
       "11  3d53bfea61d6  0.675540\n",
       "12  f0482490923c  0.823586\n",
       "13  7df249527c63  0.785569\n",
       "14  ece2561f07e9  0.666183\n",
       "15  a9a2f7fac455  0.598997\n",
       "16  8a22387617c3  0.720569\n",
       "17  062dbd4c95e6  0.498661\n",
       "18  612aa8ba44e2  0.661965\n",
       "19  b84960841a75  0.621020\n",
       "20  60d31b0bec3b  0.009135\n",
       "21  25e2b3dd9c3b  0.819967\n",
       "22  08db4255286f  0.715559\n",
       "23  3aceb17ef7bd  0.713968\n",
       "24  8a306e0890c0  0.771650\n",
       "25  35826366dfc7  0.591225\n",
       "26  2f7504d0f426  0.750778\n",
       "27  44d8c02b369e  0.826587\n",
       "28  bfa54bd26187  0.674549\n",
       "29  d9e887091a5c  0.759620\n",
       "30  c289c8a823e0  0.709411\n",
       "31  44a41bba1ee7  0.308314\n",
       "32  ea0770830757  0.708747\n",
       "33  eef041dd50aa  0.716124"
      ]
     },
     "execution_count": 33,
     "metadata": {},
     "output_type": "execute_result"
    }
   ],
   "source": [
    "scores_series = []\n",
    "for i in series_ids:\n",
    "    #print(f\"Model score - {i} : {score(val_solution[(val_solution['series_id']==i)],events_submission[(events_submission['series_id']==i)],tolerances, **column_names)}\")\n",
    "    scores_series.append(score(val_solution[(val_solution['series_id']==i)],\n",
    "                               events_submission[(events_submission['series_id']==i)],tolerances, **column_names))\n",
    "df1=pd.DataFrame(scores_series)\n",
    "df1.rename(columns={ df1.columns[0]: \"Score\"}, inplace = True)\n",
    "df2=pd.DataFrame(series_ids)\n",
    "df2.rename(columns={ df2.columns[0]: \"Series_Id\" }, inplace = True)\n",
    "df_scores = pd.concat([df2, df1], axis=1)\n",
    "df_scores"
   ]
  },
  {
   "cell_type": "code",
   "execution_count": 34,
   "id": "eb42623b",
   "metadata": {
    "execution": {
     "iopub.execute_input": "2023-11-21T05:39:00.701882Z",
     "iopub.status.busy": "2023-11-21T05:39:00.701459Z",
     "iopub.status.idle": "2023-11-21T05:39:00.712854Z",
     "shell.execute_reply": "2023-11-21T05:39:00.711765Z"
    },
    "papermill": {
     "duration": 0.033144,
     "end_time": "2023-11-21T05:39:00.715202",
     "exception": false,
     "start_time": "2023-11-21T05:39:00.682058",
     "status": "completed"
    },
    "tags": []
   },
   "outputs": [],
   "source": [
    "df_scores.to_csv('valid_scores_cnn_scm_v4.csv', index=False)"
   ]
  },
  {
   "cell_type": "code",
   "execution_count": 35,
   "id": "650b122e",
   "metadata": {
    "execution": {
     "iopub.execute_input": "2023-11-21T05:39:00.752699Z",
     "iopub.status.busy": "2023-11-21T05:39:00.752244Z",
     "iopub.status.idle": "2023-11-21T05:39:01.973613Z",
     "shell.execute_reply": "2023-11-21T05:39:01.971913Z"
    },
    "papermill": {
     "duration": 1.243159,
     "end_time": "2023-11-21T05:39:01.976515",
     "exception": false,
     "start_time": "2023-11-21T05:39:00.733356",
     "status": "completed"
    },
    "tags": []
   },
   "outputs": [],
   "source": [
    "!rm -rf /kaggle/working/images"
   ]
  },
  {
   "cell_type": "code",
   "execution_count": 36,
   "id": "ac6a03f1",
   "metadata": {
    "execution": {
     "iopub.execute_input": "2023-11-21T05:39:02.014678Z",
     "iopub.status.busy": "2023-11-21T05:39:02.014194Z",
     "iopub.status.idle": "2023-11-21T05:39:02.050935Z",
     "shell.execute_reply": "2023-11-21T05:39:02.049948Z"
    },
    "papermill": {
     "duration": 0.059022,
     "end_time": "2023-11-21T05:39:02.053569",
     "exception": false,
     "start_time": "2023-11-21T05:39:01.994547",
     "status": "completed"
    },
    "tags": []
   },
   "outputs": [],
   "source": [
    "submission_df.to_csv(\"submission.csv\", index=False)"
   ]
  },
  {
   "cell_type": "code",
   "execution_count": null,
   "id": "83b0e77b",
   "metadata": {
    "papermill": {
     "duration": 0.017015,
     "end_time": "2023-11-21T05:39:02.088136",
     "exception": false,
     "start_time": "2023-11-21T05:39:02.071121",
     "status": "completed"
    },
    "tags": []
   },
   "outputs": [],
   "source": []
  },
  {
   "cell_type": "code",
   "execution_count": null,
   "id": "f4e2e7cb",
   "metadata": {
    "papermill": {
     "duration": 0.016861,
     "end_time": "2023-11-21T05:39:02.122233",
     "exception": false,
     "start_time": "2023-11-21T05:39:02.105372",
     "status": "completed"
    },
    "tags": []
   },
   "outputs": [],
   "source": []
  },
  {
   "cell_type": "code",
   "execution_count": null,
   "id": "b1f8b14d",
   "metadata": {
    "papermill": {
     "duration": 0.017535,
     "end_time": "2023-11-21T05:39:02.157014",
     "exception": false,
     "start_time": "2023-11-21T05:39:02.139479",
     "status": "completed"
    },
    "tags": []
   },
   "outputs": [],
   "source": []
  }
 ],
 "metadata": {
  "kaggle": {
   "accelerator": "none",
   "dataSources": [
    {
     "databundleVersionId": 6589269,
     "sourceId": 53666,
     "sourceType": "competition"
    },
    {
     "datasetId": 3988968,
     "sourceId": 6945671,
     "sourceType": "datasetVersion"
    },
    {
     "datasetId": 4032466,
     "sourceId": 7013430,
     "sourceType": "datasetVersion"
    },
    {
     "datasetId": 4033222,
     "sourceId": 7015171,
     "sourceType": "datasetVersion"
    }
   ],
   "dockerImageVersionId": 30587,
   "isGpuEnabled": false,
   "isInternetEnabled": true,
   "language": "python",
   "sourceType": "notebook"
  },
  "kernelspec": {
   "display_name": "Python 3",
   "language": "python",
   "name": "python3"
  },
  "language_info": {
   "codemirror_mode": {
    "name": "ipython",
    "version": 3
   },
   "file_extension": ".py",
   "mimetype": "text/x-python",
   "name": "python",
   "nbconvert_exporter": "python",
   "pygments_lexer": "ipython3",
   "version": "3.10.12"
  },
  "papermill": {
   "default_parameters": {},
   "duration": 5584.653875,
   "end_time": "2023-11-21T05:39:03.820910",
   "environment_variables": {},
   "exception": null,
   "input_path": "__notebook__.ipynb",
   "output_path": "__notebook__.ipynb",
   "parameters": {},
   "start_time": "2023-11-21T04:05:59.167035",
   "version": "2.4.0"
  },
  "widgets": {
   "application/vnd.jupyter.widget-state+json": {
    "state": {
     "2039926de3a84bea8766efc2b4707ac0": {
      "model_module": "@jupyter-widgets/controls",
      "model_module_version": "1.5.0",
      "model_name": "HTMLModel",
      "state": {
       "_dom_classes": [],
       "_model_module": "@jupyter-widgets/controls",
       "_model_module_version": "1.5.0",
       "_model_name": "HTMLModel",
       "_view_count": null,
       "_view_module": "@jupyter-widgets/controls",
       "_view_module_version": "1.5.0",
       "_view_name": "HTMLView",
       "description": "",
       "description_tooltip": null,
       "layout": "IPY_MODEL_9a659a2170fb4de8b36b71fceb2d6ddd",
       "placeholder": "​",
       "style": "IPY_MODEL_77bc528e6f7a4d99a82ae30fe1d564c7",
       "value": "100%"
      }
     },
     "3cf46b7d908741cbae391873295d706d": {
      "model_module": "@jupyter-widgets/controls",
      "model_module_version": "1.5.0",
      "model_name": "DescriptionStyleModel",
      "state": {
       "_model_module": "@jupyter-widgets/controls",
       "_model_module_version": "1.5.0",
       "_model_name": "DescriptionStyleModel",
       "_view_count": null,
       "_view_module": "@jupyter-widgets/base",
       "_view_module_version": "1.2.0",
       "_view_name": "StyleView",
       "description_width": ""
      }
     },
     "4f994df078f64b6499985ea7a403cc9c": {
      "model_module": "@jupyter-widgets/controls",
      "model_module_version": "1.5.0",
      "model_name": "ProgressStyleModel",
      "state": {
       "_model_module": "@jupyter-widgets/controls",
       "_model_module_version": "1.5.0",
       "_model_name": "ProgressStyleModel",
       "_view_count": null,
       "_view_module": "@jupyter-widgets/base",
       "_view_module_version": "1.2.0",
       "_view_name": "StyleView",
       "bar_color": null,
       "description_width": ""
      }
     },
     "549cf72a100c4538bbae1551049d880e": {
      "model_module": "@jupyter-widgets/base",
      "model_module_version": "1.2.0",
      "model_name": "LayoutModel",
      "state": {
       "_model_module": "@jupyter-widgets/base",
       "_model_module_version": "1.2.0",
       "_model_name": "LayoutModel",
       "_view_count": null,
       "_view_module": "@jupyter-widgets/base",
       "_view_module_version": "1.2.0",
       "_view_name": "LayoutView",
       "align_content": null,
       "align_items": null,
       "align_self": null,
       "border": null,
       "bottom": null,
       "display": null,
       "flex": null,
       "flex_flow": null,
       "grid_area": null,
       "grid_auto_columns": null,
       "grid_auto_flow": null,
       "grid_auto_rows": null,
       "grid_column": null,
       "grid_gap": null,
       "grid_row": null,
       "grid_template_areas": null,
       "grid_template_columns": null,
       "grid_template_rows": null,
       "height": null,
       "justify_content": null,
       "justify_items": null,
       "left": null,
       "margin": null,
       "max_height": null,
       "max_width": null,
       "min_height": null,
       "min_width": null,
       "object_fit": null,
       "object_position": null,
       "order": null,
       "overflow": null,
       "overflow_x": null,
       "overflow_y": null,
       "padding": null,
       "right": null,
       "top": null,
       "visibility": null,
       "width": null
      }
     },
     "55aed4ad634746628e6fbe7abd2f0876": {
      "model_module": "@jupyter-widgets/base",
      "model_module_version": "1.2.0",
      "model_name": "LayoutModel",
      "state": {
       "_model_module": "@jupyter-widgets/base",
       "_model_module_version": "1.2.0",
       "_model_name": "LayoutModel",
       "_view_count": null,
       "_view_module": "@jupyter-widgets/base",
       "_view_module_version": "1.2.0",
       "_view_name": "LayoutView",
       "align_content": null,
       "align_items": null,
       "align_self": null,
       "border": null,
       "bottom": null,
       "display": null,
       "flex": null,
       "flex_flow": null,
       "grid_area": null,
       "grid_auto_columns": null,
       "grid_auto_flow": null,
       "grid_auto_rows": null,
       "grid_column": null,
       "grid_gap": null,
       "grid_row": null,
       "grid_template_areas": null,
       "grid_template_columns": null,
       "grid_template_rows": null,
       "height": null,
       "justify_content": null,
       "justify_items": null,
       "left": null,
       "margin": null,
       "max_height": null,
       "max_width": null,
       "min_height": null,
       "min_width": null,
       "object_fit": null,
       "object_position": null,
       "order": null,
       "overflow": null,
       "overflow_x": null,
       "overflow_y": null,
       "padding": null,
       "right": null,
       "top": null,
       "visibility": null,
       "width": null
      }
     },
     "6372859f52814de4afc3ed95b2090ecf": {
      "model_module": "@jupyter-widgets/controls",
      "model_module_version": "1.5.0",
      "model_name": "FloatProgressModel",
      "state": {
       "_dom_classes": [],
       "_model_module": "@jupyter-widgets/controls",
       "_model_module_version": "1.5.0",
       "_model_name": "FloatProgressModel",
       "_view_count": null,
       "_view_module": "@jupyter-widgets/controls",
       "_view_module_version": "1.5.0",
       "_view_name": "ProgressView",
       "bar_style": "success",
       "description": "",
       "description_tooltip": null,
       "layout": "IPY_MODEL_d54b9fc7dd104248b3672d791c4224ab",
       "max": 34.0,
       "min": 0.0,
       "orientation": "horizontal",
       "style": "IPY_MODEL_4f994df078f64b6499985ea7a403cc9c",
       "value": 34.0
      }
     },
     "77bc528e6f7a4d99a82ae30fe1d564c7": {
      "model_module": "@jupyter-widgets/controls",
      "model_module_version": "1.5.0",
      "model_name": "DescriptionStyleModel",
      "state": {
       "_model_module": "@jupyter-widgets/controls",
       "_model_module_version": "1.5.0",
       "_model_name": "DescriptionStyleModel",
       "_view_count": null,
       "_view_module": "@jupyter-widgets/base",
       "_view_module_version": "1.2.0",
       "_view_name": "StyleView",
       "description_width": ""
      }
     },
     "92c311b6e4ed4a298490a9728aee026e": {
      "model_module": "@jupyter-widgets/controls",
      "model_module_version": "1.5.0",
      "model_name": "HBoxModel",
      "state": {
       "_dom_classes": [],
       "_model_module": "@jupyter-widgets/controls",
       "_model_module_version": "1.5.0",
       "_model_name": "HBoxModel",
       "_view_count": null,
       "_view_module": "@jupyter-widgets/controls",
       "_view_module_version": "1.5.0",
       "_view_name": "HBoxView",
       "box_style": "",
       "children": [
        "IPY_MODEL_2039926de3a84bea8766efc2b4707ac0",
        "IPY_MODEL_6372859f52814de4afc3ed95b2090ecf",
        "IPY_MODEL_a856ba804c6b41c3890d14731dd47094"
       ],
       "layout": "IPY_MODEL_55aed4ad634746628e6fbe7abd2f0876"
      }
     },
     "9a659a2170fb4de8b36b71fceb2d6ddd": {
      "model_module": "@jupyter-widgets/base",
      "model_module_version": "1.2.0",
      "model_name": "LayoutModel",
      "state": {
       "_model_module": "@jupyter-widgets/base",
       "_model_module_version": "1.2.0",
       "_model_name": "LayoutModel",
       "_view_count": null,
       "_view_module": "@jupyter-widgets/base",
       "_view_module_version": "1.2.0",
       "_view_name": "LayoutView",
       "align_content": null,
       "align_items": null,
       "align_self": null,
       "border": null,
       "bottom": null,
       "display": null,
       "flex": null,
       "flex_flow": null,
       "grid_area": null,
       "grid_auto_columns": null,
       "grid_auto_flow": null,
       "grid_auto_rows": null,
       "grid_column": null,
       "grid_gap": null,
       "grid_row": null,
       "grid_template_areas": null,
       "grid_template_columns": null,
       "grid_template_rows": null,
       "height": null,
       "justify_content": null,
       "justify_items": null,
       "left": null,
       "margin": null,
       "max_height": null,
       "max_width": null,
       "min_height": null,
       "min_width": null,
       "object_fit": null,
       "object_position": null,
       "order": null,
       "overflow": null,
       "overflow_x": null,
       "overflow_y": null,
       "padding": null,
       "right": null,
       "top": null,
       "visibility": null,
       "width": null
      }
     },
     "a856ba804c6b41c3890d14731dd47094": {
      "model_module": "@jupyter-widgets/controls",
      "model_module_version": "1.5.0",
      "model_name": "HTMLModel",
      "state": {
       "_dom_classes": [],
       "_model_module": "@jupyter-widgets/controls",
       "_model_module_version": "1.5.0",
       "_model_name": "HTMLModel",
       "_view_count": null,
       "_view_module": "@jupyter-widgets/controls",
       "_view_module_version": "1.5.0",
       "_view_name": "HTMLView",
       "description": "",
       "description_tooltip": null,
       "layout": "IPY_MODEL_549cf72a100c4538bbae1551049d880e",
       "placeholder": "​",
       "style": "IPY_MODEL_3cf46b7d908741cbae391873295d706d",
       "value": " 34/34 [43:48&lt;00:00, 72.40s/it]"
      }
     },
     "d54b9fc7dd104248b3672d791c4224ab": {
      "model_module": "@jupyter-widgets/base",
      "model_module_version": "1.2.0",
      "model_name": "LayoutModel",
      "state": {
       "_model_module": "@jupyter-widgets/base",
       "_model_module_version": "1.2.0",
       "_model_name": "LayoutModel",
       "_view_count": null,
       "_view_module": "@jupyter-widgets/base",
       "_view_module_version": "1.2.0",
       "_view_name": "LayoutView",
       "align_content": null,
       "align_items": null,
       "align_self": null,
       "border": null,
       "bottom": null,
       "display": null,
       "flex": null,
       "flex_flow": null,
       "grid_area": null,
       "grid_auto_columns": null,
       "grid_auto_flow": null,
       "grid_auto_rows": null,
       "grid_column": null,
       "grid_gap": null,
       "grid_row": null,
       "grid_template_areas": null,
       "grid_template_columns": null,
       "grid_template_rows": null,
       "height": null,
       "justify_content": null,
       "justify_items": null,
       "left": null,
       "margin": null,
       "max_height": null,
       "max_width": null,
       "min_height": null,
       "min_width": null,
       "object_fit": null,
       "object_position": null,
       "order": null,
       "overflow": null,
       "overflow_x": null,
       "overflow_y": null,
       "padding": null,
       "right": null,
       "top": null,
       "visibility": null,
       "width": null
      }
     }
    },
    "version_major": 2,
    "version_minor": 0
   }
  }
 },
 "nbformat": 4,
 "nbformat_minor": 5
}
