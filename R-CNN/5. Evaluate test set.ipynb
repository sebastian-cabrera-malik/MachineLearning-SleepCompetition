{
 "cells": [
  {
   "cell_type": "code",
   "execution_count": 1,
   "id": "9cf6c982",
   "metadata": {
    "_cell_guid": "b1076dfc-b9ad-4769-8c92-a6c4dae69d19",
    "_uuid": "8f2839f25d086af736a60e9eeb907d3b93b6e0e5",
    "execution": {
     "iopub.execute_input": "2023-11-21T04:04:16.320667Z",
     "iopub.status.busy": "2023-11-21T04:04:16.319732Z",
     "iopub.status.idle": "2023-11-21T04:04:30.481618Z",
     "shell.execute_reply": "2023-11-21T04:04:30.480197Z"
    },
    "papermill": {
     "duration": 14.181065,
     "end_time": "2023-11-21T04:04:30.484513",
     "exception": false,
     "start_time": "2023-11-21T04:04:16.303448",
     "status": "completed"
    },
    "tags": []
   },
   "outputs": [
    {
     "name": "stdout",
     "output_type": "stream",
     "text": [
      "Name: torchvision\r\n",
      "Version: 0.15.1+cpu\r\n",
      "Summary: image and video datasets and models for torch deep learning\r\n",
      "Home-page: https://github.com/pytorch/vision\r\n",
      "Author: PyTorch Core Team\r\n",
      "Author-email: soumith@pytorch.org\r\n",
      "License: BSD\r\n",
      "Location: /opt/conda/lib/python3.10/site-packages\r\n",
      "Requires: numpy, pillow, requests, torch\r\n",
      "Required-by: easyocr, fastai, timm\r\n"
     ]
    }
   ],
   "source": [
    "!pip show torchvision"
   ]
  },
  {
   "cell_type": "code",
   "execution_count": 2,
   "id": "30d5d479",
   "metadata": {
    "execution": {
     "iopub.execute_input": "2023-11-21T04:04:30.515535Z",
     "iopub.status.busy": "2023-11-21T04:04:30.514970Z",
     "iopub.status.idle": "2023-11-21T04:04:35.340601Z",
     "shell.execute_reply": "2023-11-21T04:04:35.339410Z"
    },
    "papermill": {
     "duration": 4.844664,
     "end_time": "2023-11-21T04:04:35.343454",
     "exception": false,
     "start_time": "2023-11-21T04:04:30.498790",
     "status": "completed"
    },
    "tags": []
   },
   "outputs": [
    {
     "name": "stderr",
     "output_type": "stream",
     "text": [
      "/opt/conda/lib/python3.10/site-packages/torchvision/datapoints/__init__.py:12: UserWarning: The torchvision.datapoints and torchvision.transforms.v2 namespaces are still Beta. While we do not expect major breaking changes, some APIs may still change according to user feedback. Please submit any feedback you may have in this issue: https://github.com/pytorch/vision/issues/6753, and you can also check out https://github.com/pytorch/vision/issues/7319 to learn more about the APIs that we suspect might involve future changes. You can silence this warning by calling torchvision.disable_beta_transforms_warning().\n",
      "  warnings.warn(_BETA_TRANSFORMS_WARNING)\n",
      "/opt/conda/lib/python3.10/site-packages/torchvision/transforms/v2/__init__.py:54: UserWarning: The torchvision.datapoints and torchvision.transforms.v2 namespaces are still Beta. While we do not expect major breaking changes, some APIs may still change according to user feedback. Please submit any feedback you may have in this issue: https://github.com/pytorch/vision/issues/6753, and you can also check out https://github.com/pytorch/vision/issues/7319 to learn more about the APIs that we suspect might involve future changes. You can silence this warning by calling torchvision.disable_beta_transforms_warning().\n",
      "  warnings.warn(_BETA_TRANSFORMS_WARNING)\n"
     ]
    }
   ],
   "source": [
    "import os\n",
    "from pathlib import Path\n",
    "import numpy as np\n",
    "import pandas as pd\n",
    "from datetime import datetime, timezone, timedelta\n",
    "import matplotlib.pyplot as plt\n",
    "import matplotlib\n",
    "matplotlib.use(\"Agg\")\n",
    "import torch\n",
    "import torchvision\n",
    "from torchvision.io import read_image\n",
    "from torchvision.transforms import v2 as T\n",
    "from torchvision.models.detection.faster_rcnn import FastRCNNPredictor"
   ]
  },
  {
   "cell_type": "code",
   "execution_count": 3,
   "id": "4ed6eb19",
   "metadata": {
    "execution": {
     "iopub.execute_input": "2023-11-21T04:04:35.375047Z",
     "iopub.status.busy": "2023-11-21T04:04:35.374441Z",
     "iopub.status.idle": "2023-11-21T04:04:35.381759Z",
     "shell.execute_reply": "2023-11-21T04:04:35.380645Z"
    },
    "papermill": {
     "duration": 0.025846,
     "end_time": "2023-11-21T04:04:35.383943",
     "exception": false,
     "start_time": "2023-11-21T04:04:35.358097",
     "status": "completed"
    },
    "tags": []
   },
   "outputs": [],
   "source": [
    "import numpy as np\n",
    "import pandas as pd\n",
    "import pandas.api.types\n",
    "from typing import Dict, List, Tuple\n",
    "\n",
    "tolerances = {\n",
    "    'onset': [12, 36, 60, 90, 120, 150, 180, 240, 300, 360], \n",
    "    'wakeup': [12, 36, 60, 90, 120, 150, 180, 240, 300, 360]\n",
    "}\n",
    "\n",
    "column_names = {\n",
    "    'series_id_column_name': 'series_id',\n",
    "    'time_column_name': 'step',\n",
    "    'event_column_name': 'event',\n",
    "    'score_column_name': 'score',\n",
    "}"
   ]
  },
  {
   "cell_type": "code",
   "execution_count": 4,
   "id": "b417c6fe",
   "metadata": {
    "execution": {
     "iopub.execute_input": "2023-11-21T04:04:35.415061Z",
     "iopub.status.busy": "2023-11-21T04:04:35.414449Z",
     "iopub.status.idle": "2023-11-21T04:04:35.464979Z",
     "shell.execute_reply": "2023-11-21T04:04:35.464080Z"
    },
    "papermill": {
     "duration": 0.069553,
     "end_time": "2023-11-21T04:04:35.467667",
     "exception": false,
     "start_time": "2023-11-21T04:04:35.398114",
     "status": "completed"
    },
    "tags": []
   },
   "outputs": [],
   "source": [
    "def score(\n",
    "        solution: pd.DataFrame,\n",
    "        submission: pd.DataFrame,\n",
    "        tolerances: Dict[str, List[float]],\n",
    "        series_id_column_name: str,\n",
    "        time_column_name: str,\n",
    "        event_column_name: str,\n",
    "        score_column_name: str,\n",
    "        use_scoring_intervals: bool = False,\n",
    ") -> float:\n",
    "    \"\"\"Event Detection Average Precision, an AUCPR metric for event detection in\n",
    "    time series and video.\n",
    "\n",
    "    This metric is similar to IOU-threshold average precision metrics commonly\n",
    "    used in object detection. For events occuring in time series, we replace the\n",
    "    IOU threshold with a time tolerance.\n",
    "\n",
    "    Submissions are evaluated on the average precision of detected events,\n",
    "    averaged over timestamp error tolerance thresholds, averaged over event\n",
    "    classes.\n",
    "\n",
    "    Detections are matched to ground-truth events within error tolerances, with\n",
    "    ambiguities resolved in order of decreasing confidence.\n",
    "\n",
    "    Detailed Description\n",
    "    --------------------\n",
    "    Evaluation proceeds in four steps:\n",
    "\n",
    "    1. Selection - (optional) Predictions not within a series' scoring\n",
    "    intervals are dropped.\n",
    "    2. Assignment - Predicted events are matched with ground-truth events.\n",
    "    3. Scoring - Each group of predictions is scored against its corresponding\n",
    "    group of ground-truth events via Average Precision.\n",
    "    4. Reduction - The multiple AP scores are averaged to produce a single\n",
    "    overall score.\n",
    "\n",
    "    Selection\n",
    "\n",
    "    With each series there may be a defined set of scoring intervals giving the\n",
    "    intervals of time over which zero or more ground-truth events might be\n",
    "    annotated in that series. A prediction will be evaluated only if it falls\n",
    "    within a scoring interval. These scoring intervals can be chosen to improve\n",
    "    the fairness of evaluation by, for instance, ignoring edge-cases or\n",
    "    ambiguous events.\n",
    "\n",
    "    It is recommended that, if used, scoring intervals be provided for training\n",
    "    data but not test data.\n",
    "\n",
    "    Assignment\n",
    "\n",
    "    For each set of predictions and ground-truths within the same `event x\n",
    "    tolerance x series_id` group, we match each ground-truth to the\n",
    "    highest-confidence unmatched prediction occurring within the allowed\n",
    "    tolerance.\n",
    "\n",
    "    Some ground-truths may not be matched to a prediction and some predictions\n",
    "    may not be matched to a ground-truth. They will still be accounted for in\n",
    "    the scoring, however.\n",
    "\n",
    "    Scoring\n",
    "\n",
    "    Collecting the events within each `series_id`, we compute an Average\n",
    "    Precision score for each `event x tolerance` group. The average precision\n",
    "    score is the area under the (step-wise) precision-recall curve generated by\n",
    "    decreasing confidence score thresholds over the predictions. In this\n",
    "    calculation, matched predictions over the threshold are scored as TP and\n",
    "    unmatched predictions as FP. Unmatched ground-truths are scored as FN.\n",
    "\n",
    "    Reduction\n",
    "\n",
    "    The final score is the average of the above AP scores, first averaged over\n",
    "    tolerance, then over event.\n",
    "\n",
    "    Parameters\n",
    "    ----------\n",
    "    solution : pd.DataFrame, with columns:\n",
    "\n",
    "        `series_id_column_name` identifier for each time series\n",
    "\n",
    "        `time_column_name` the time of occurence for each event as a numeric type\n",
    "\n",
    "        `event_column_name` class label for each event\n",
    "\n",
    "        The solution contains the time of occurence of one or more types of\n",
    "        event within one or more time series. The metric expects the solution to\n",
    "        contain the same event types as those given in `tolerances`.\n",
    "\n",
    "        When `use_scoring_intervals == True`, you may include `start` and `end`\n",
    "        events to delimit intervals within which detections will be scored.\n",
    "        Detected events (from the user submission) outside of these events will\n",
    "        be ignored.\n",
    "\n",
    "    submission : pd.DataFrame, with columns as above and in addition:\n",
    "\n",
    "        `score_column_name` the predicted confidence score for the detected event\n",
    "\n",
    "    tolerances : Dict[str, List[float]]\n",
    "\n",
    "        Maps each event class to a list of timestamp tolerances used\n",
    "        for matching detections to ground-truth events.\n",
    "\n",
    "    use_scoring_intervals: bool, default False\n",
    "\n",
    "        Whether to ignore predicted events outside intervals delimited\n",
    "        by `'start'` and `'end'` events in the solution. When `False`,\n",
    "        the solution should not include `'start'` and `'end'` events.\n",
    "        See the examples for illustration.\n",
    "\n",
    "    Returns\n",
    "    -------\n",
    "    event_detection_ap : float\n",
    "        The mean average precision of the detected events.\n",
    "\n",
    "    Examples\n",
    "    --------\n",
    "    Detecting `'pass'` events in football:\n",
    "    >>> column_names = {\n",
    "    ...     'series_id_column_name': 'video_id',\n",
    "    ...     'time_column_name': 'time',\n",
    "    ...     'event_column_name': 'event',\n",
    "    ...     'score_column_name': 'score',\n",
    "    ... }\n",
    "    >>> tolerances = {'pass': [1.0]}\n",
    "    >>> solution = pd.DataFrame({\n",
    "    ...     'video_id': ['a', 'a'],\n",
    "    ...     'event': ['pass', 'pass'],\n",
    "    ...     'time': [0, 15],\n",
    "    ... })\n",
    "    >>> submission = pd.DataFrame({\n",
    "    ...     'video_id': ['a', 'a', 'a'],\n",
    "    ...     'event': ['pass', 'pass', 'pass'],\n",
    "    ...     'score': [1.0, 0.5, 1.0],\n",
    "    ...     'time': [0, 10, 14.5],\n",
    "    ... })\n",
    "    >>> score(solution, submission, tolerances, **column_names)\n",
    "    1.0\n",
    "\n",
    "    Increasing the confidence score of the false detection above the true\n",
    "    detections decreases the AP.\n",
    "    >>> submission.loc[1, 'score'] = 1.5\n",
    "    >>> score(solution, submission, tolerances, **column_names)\n",
    "    0.6666666666666666...\n",
    "\n",
    "    Likewise, decreasing the confidence score of a true detection below the\n",
    "    false detection also decreases the AP.\n",
    "    >>> submission.loc[1, 'score'] = 0.5  # reset\n",
    "    >>> submission.loc[0, 'score'] = 0.0\n",
    "    >>> score(solution, submission, tolerances, **column_names)\n",
    "    0.8333333333333333...\n",
    "\n",
    "    We average AP scores over tolerances. Previously, the detection at 14.5\n",
    "    would match, but adding smaller tolerances gives AP scores where it does\n",
    "    not match. This results in both a FN, since the ground-truth wasn't\n",
    "    detected, and a FP, since the detected event matches no ground-truth.\n",
    "    >>> tolerances = {'pass': [0.1, 0.2, 1.0]}\n",
    "    >>> score(solution, submission, tolerances, **column_names)\n",
    "    0.3888888888888888...\n",
    "\n",
    "    We also average over time series and over event classes.\n",
    "    >>> tolerances = {'pass': [0.5, 1.0], 'challenge': [0.25, 0.50]}\n",
    "    >>> solution = pd.DataFrame({\n",
    "    ...     'video_id': ['a', 'a', 'b'],\n",
    "    ...     'event': ['pass', 'challenge', 'pass'],\n",
    "    ...     'time': [0, 15, 0],  # restart time for new time series b\n",
    "    ... })\n",
    "    >>> submission = pd.DataFrame({\n",
    "    ...     'video_id': ['a', 'a', 'b'],\n",
    "    ...     'event': ['pass', 'challenge', 'pass'],\n",
    "    ...     'score': [1.0, 0.5, 1.0],\n",
    "    ...     'time': [0, 15, 0],\n",
    "    ... })\n",
    "    >>> score(solution, submission, tolerances, **column_names)\n",
    "    1.0\n",
    "\n",
    "    By adding scoring intervals to the solution, we may choose to ignore\n",
    "    detections outside of those intervals.\n",
    "    >>> tolerances = {'pass': [1.0]}\n",
    "    >>> solution = pd.DataFrame({\n",
    "    ...     'video_id': ['a', 'a', 'a', 'a'],\n",
    "    ...     'event': ['start', 'pass', 'pass', 'end'],\n",
    "    ...     'time': [0, 10, 20, 30],\n",
    "    ... })\n",
    "    >>> submission = pd.DataFrame({\n",
    "    ...     'video_id': ['a', 'a', 'a'],\n",
    "    ...     'event': ['pass', 'pass', 'pass'],\n",
    "    ...     'score': [1.0, 1.0, 1.0],\n",
    "    ...     'time': [10, 20, 40],\n",
    "    ... })\n",
    "    >>> score(solution, submission, tolerances, **column_names, use_scoring_intervals=True)\n",
    "    1.0\n",
    "\n",
    "    \"\"\"\n",
    "    # Validate metric parameters\n",
    "    assert len(tolerances) > 0, \"Events must have defined tolerances.\"\n",
    "    assert set(tolerances.keys()) == set(solution[event_column_name]).difference({'start', 'end'}),        (f\"Solution column {event_column_name} must contain the same events \"\n",
    "         \"as defined in tolerances.\")\n",
    "    assert pd.api.types.is_numeric_dtype(solution[time_column_name]),        f\"Solution column {time_column_name} must be of numeric type.\"\n",
    "\n",
    "    # Validate submission format\n",
    "    for column_name in [\n",
    "        series_id_column_name,\n",
    "        time_column_name,\n",
    "        event_column_name,\n",
    "        score_column_name,\n",
    "    ]:\n",
    "        if column_name not in submission.columns:\n",
    "            raise ParticipantVisibleError(f\"Submission must have column '{target_name}'.\")\n",
    "\n",
    "    if not pd.api.types.is_numeric_dtype(submission[time_column_name]):\n",
    "        raise ParticipantVisibleError(\n",
    "            f\"Submission column '{time_column_name}' must be of numeric type.\"\n",
    "        )\n",
    "    if not pd.api.types.is_numeric_dtype(submission[score_column_name]):\n",
    "        raise ParticipantVisibleError(\n",
    "            f\"Submission column '{score_column_name}' must be of numeric type.\"\n",
    "        )\n",
    "\n",
    "    # Set these globally to avoid passing around a bunch of arguments\n",
    "    globals()['series_id_column_name'] = series_id_column_name\n",
    "    globals()['time_column_name'] = time_column_name\n",
    "    globals()['event_column_name'] = event_column_name\n",
    "    globals()['score_column_name'] = score_column_name\n",
    "    globals()['use_scoring_intervals'] = use_scoring_intervals\n",
    "\n",
    "    return event_detection_ap(solution, submission, tolerances)\n",
    "\n",
    "\n",
    "def filter_detections(\n",
    "        detections: pd.DataFrame, intervals: pd.DataFrame\n",
    ") -> pd.DataFrame:\n",
    "    \"\"\"Drop detections not inside a scoring interval.\"\"\"\n",
    "    detection_time = detections.loc[:, time_column_name].sort_values().to_numpy()\n",
    "    intervals = intervals.to_numpy()\n",
    "    is_scored = np.full_like(detection_time, False, dtype=bool)\n",
    "\n",
    "    i, j = 0, 0\n",
    "    while i < len(detection_time) and j < len(intervals):\n",
    "        time = detection_time[i]\n",
    "        int_ = intervals[j]\n",
    "\n",
    "        # If the detection is prior in time to the interval, go to the next detection.\n",
    "        if time < int_.left:\n",
    "            i += 1\n",
    "        # If the detection is inside the interval, keep it and go to the next detection.\n",
    "        elif time in int_:\n",
    "            is_scored[i] = True\n",
    "            i += 1\n",
    "        # If the detection is later in time, go to the next interval.\n",
    "        else:\n",
    "            j += 1\n",
    "\n",
    "    return detections.loc[is_scored].reset_index(drop=True)\n",
    "\n",
    "\n",
    "def match_detections(\n",
    "        tolerance: float, ground_truths: pd.DataFrame, detections: pd.DataFrame\n",
    ") -> pd.DataFrame:\n",
    "    \"\"\"Match detections to ground truth events. Arguments are taken from a common event x tolerance x series_id evaluation group.\"\"\"\n",
    "    detections_sorted = detections.sort_values(score_column_name, ascending=False).dropna()\n",
    "    is_matched = np.full_like(detections_sorted[event_column_name], False, dtype=bool)\n",
    "    gts_matched = set()\n",
    "    for i, det in enumerate(detections_sorted.itertuples(index=False)):\n",
    "        best_error = tolerance\n",
    "        best_gt = None\n",
    "\n",
    "        for gt in ground_truths.itertuples(index=False):\n",
    "            error = abs(getattr(det, time_column_name) - getattr(gt, time_column_name))\n",
    "            if error < best_error and gt not in gts_matched:\n",
    "                best_gt = gt\n",
    "                best_error = error\n",
    "\n",
    "        if best_gt is not None:\n",
    "            is_matched[i] = True\n",
    "            gts_matched.add(best_gt)\n",
    "\n",
    "    detections_sorted['matched'] = is_matched\n",
    "\n",
    "    return detections_sorted\n",
    "\n",
    "\n",
    "def precision_recall_curve(\n",
    "        matches: np.ndarray, scores: np.ndarray, p: int\n",
    ") -> Tuple[np.ndarray, np.ndarray, np.ndarray]:\n",
    "    if len(matches) == 0:\n",
    "        return [1], [0], []\n",
    "\n",
    "    # Sort matches by decreasing confidence\n",
    "    idxs = np.argsort(scores, kind='stable')[::-1]\n",
    "    scores = scores[idxs]\n",
    "    matches = matches[idxs]\n",
    "\n",
    "    distinct_value_indices = np.where(np.diff(scores))[0]\n",
    "    threshold_idxs = np.r_[distinct_value_indices, matches.size - 1]\n",
    "    thresholds = scores[threshold_idxs]\n",
    "\n",
    "    # Matches become TPs and non-matches FPs as confidence threshold decreases\n",
    "    tps = np.cumsum(matches)[threshold_idxs]\n",
    "    fps = np.cumsum(~matches)[threshold_idxs]\n",
    "\n",
    "    precision = tps / (tps + fps)\n",
    "    precision[np.isnan(precision)] = 0\n",
    "    recall = tps / p  # total number of ground truths might be different than total number of matches\n",
    "\n",
    "    # Stop when full recall attained and reverse the outputs so recall is non-increasing.\n",
    "    last_ind = tps.searchsorted(tps[-1])\n",
    "    sl = slice(last_ind, None, -1)\n",
    "\n",
    "    # Final precision is 1 and final recall is 0\n",
    "    return np.r_[precision[sl], 1], np.r_[recall[sl], 0], thresholds[sl]\n",
    "\n",
    "\n",
    "def average_precision_score(matches: np.ndarray, scores: np.ndarray, p: int) -> float:\n",
    "    precision, recall, _ = precision_recall_curve(matches, scores, p)\n",
    "    # Compute step integral\n",
    "    return -np.sum(np.diff(recall) * np.array(precision)[:-1])\n",
    "\n",
    "\n",
    "def event_detection_ap(\n",
    "        solution: pd.DataFrame,\n",
    "        submission: pd.DataFrame,\n",
    "        tolerances: Dict[str, List[float]],\n",
    ") -> float:\n",
    "\n",
    "    # Ensure solution and submission are sorted properly\n",
    "    solution = solution.sort_values([series_id_column_name, time_column_name])\n",
    "    submission = submission.sort_values([series_id_column_name, time_column_name])\n",
    "\n",
    "    # Extract scoring intervals.\n",
    "    if use_scoring_intervals:\n",
    "        intervals = (\n",
    "            solution\n",
    "            .query(\"event in ['start', 'end']\")\n",
    "            .assign(interval=lambda x: x.groupby([series_id_column_name, event_column_name]).cumcount())\n",
    "            .pivot(\n",
    "                index='interval',\n",
    "                columns=[series_id_column_name, event_column_name],\n",
    "                values=time_column_name,\n",
    "            )\n",
    "            .stack(series_id_column_name)\n",
    "            .swaplevel()\n",
    "            .sort_index()\n",
    "            .loc[:, ['start', 'end']]\n",
    "            .apply(lambda x: pd.Interval(*x, closed='both'), axis=1)\n",
    "        )\n",
    "\n",
    "    # Extract ground-truth events.\n",
    "    ground_truths = (\n",
    "        solution\n",
    "        .query(\"event not in ['start', 'end']\")\n",
    "        .reset_index(drop=True)\n",
    "    )\n",
    "\n",
    "    # Map each event class to its prevalence (needed for recall calculation)\n",
    "    class_counts = ground_truths.value_counts(event_column_name).to_dict()\n",
    "\n",
    "    # Create table for detections with a column indicating a match to a ground-truth event\n",
    "    detections = submission.assign(matched = False)\n",
    "\n",
    "    # Remove detections outside of scoring intervals\n",
    "    if use_scoring_intervals:\n",
    "        detections_filtered = []\n",
    "        for (det_group, dets), (int_group, ints) in zip(\n",
    "            detections.groupby(series_id_column_name), intervals.groupby(series_id_column_name)\n",
    "        ):\n",
    "            assert det_group == int_group\n",
    "            detections_filtered.append(filter_detections(dets, ints))\n",
    "        detections_filtered = pd.concat(detections_filtered, ignore_index=True)\n",
    "    else:\n",
    "        detections_filtered = detections\n",
    "\n",
    "    # Create table of event-class x tolerance x series_id values\n",
    "    aggregation_keys = pd.DataFrame(\n",
    "        [(ev, tol, vid)\n",
    "         for ev in tolerances.keys()\n",
    "         for tol in tolerances[ev]\n",
    "         for vid in ground_truths[series_id_column_name].unique()],\n",
    "        columns=[event_column_name, 'tolerance', series_id_column_name],\n",
    "    )\n",
    "\n",
    "    # Create match evaluation groups: event-class x tolerance x series_id\n",
    "    detections_grouped = (\n",
    "        aggregation_keys\n",
    "        .merge(detections_filtered, on=[event_column_name, series_id_column_name], how='left')\n",
    "        .groupby([event_column_name, 'tolerance', series_id_column_name])\n",
    "    )\n",
    "    ground_truths_grouped = (\n",
    "        aggregation_keys\n",
    "        .merge(ground_truths, on=[event_column_name, series_id_column_name], how='left')\n",
    "        .groupby([event_column_name, 'tolerance', series_id_column_name])\n",
    "    )\n",
    "    # Match detections to ground truth events by evaluation group\n",
    "    detections_matched = []\n",
    "    for key in aggregation_keys.itertuples(index=False):\n",
    "        dets = detections_grouped.get_group(key)\n",
    "        gts = ground_truths_grouped.get_group(key)\n",
    "        detections_matched.append(\n",
    "            match_detections(dets['tolerance'].iloc[0], gts, dets)\n",
    "        )\n",
    "    detections_matched = pd.concat(detections_matched)\n",
    "\n",
    "    # Compute AP per event x tolerance group\n",
    "    event_classes = ground_truths[event_column_name].unique()\n",
    "    ap_table = (\n",
    "        detections_matched\n",
    "        .query(\"event in @event_classes\")\n",
    "        .groupby([event_column_name, 'tolerance']).apply(\n",
    "            lambda group: average_precision_score(\n",
    "                group['matched'].to_numpy(),\n",
    "                group[score_column_name].to_numpy(),\n",
    "                class_counts[group[event_column_name].iat[0]],\n",
    "            )\n",
    "        )\n",
    "    )\n",
    "    # Average over tolerances, then over event classes\n",
    "    mean_ap = ap_table.groupby(event_column_name).mean().sum() / len(event_classes)\n",
    "\n",
    "    return mean_ap"
   ]
  },
  {
   "cell_type": "markdown",
   "id": "8494b5d8",
   "metadata": {
    "papermill": {
     "duration": 0.014164,
     "end_time": "2023-11-21T04:04:35.496473",
     "exception": false,
     "start_time": "2023-11-21T04:04:35.482309",
     "status": "completed"
    },
    "tags": []
   },
   "source": [
    "# Object detection data prep"
   ]
  },
  {
   "cell_type": "code",
   "execution_count": 5,
   "id": "f380d056",
   "metadata": {
    "execution": {
     "iopub.execute_input": "2023-11-21T04:04:35.528846Z",
     "iopub.status.busy": "2023-11-21T04:04:35.527814Z",
     "iopub.status.idle": "2023-11-21T04:04:50.597755Z",
     "shell.execute_reply": "2023-11-21T04:04:50.596430Z"
    },
    "papermill": {
     "duration": 15.08888,
     "end_time": "2023-11-21T04:04:50.600354",
     "exception": false,
     "start_time": "2023-11-21T04:04:35.511474",
     "status": "completed"
    },
    "tags": []
   },
   "outputs": [
    {
     "name": "stdout",
     "output_type": "stream",
     "text": [
      "269\n"
     ]
    }
   ],
   "source": [
    "file = '/kaggle/input/gamma-train-series-updated-11-11-2023/train_series_10112023.parquet'\n",
    "\n",
    "DEV = False\n",
    "\n",
    "series_id  = pd.read_parquet(file, columns=['series_id'])\n",
    "series_id = series_id.series_id.unique()\n",
    "\n",
    "print(len(series_id))\n",
    "\n",
    "if DEV:\n",
    "    series_id = series_id[::10]"
   ]
  },
  {
   "cell_type": "code",
   "execution_count": 6,
   "id": "1d6dbcf5",
   "metadata": {
    "execution": {
     "iopub.execute_input": "2023-11-21T04:04:50.630800Z",
     "iopub.status.busy": "2023-11-21T04:04:50.630366Z",
     "iopub.status.idle": "2023-11-21T04:04:52.254887Z",
     "shell.execute_reply": "2023-11-21T04:04:52.253740Z"
    },
    "papermill": {
     "duration": 1.642982,
     "end_time": "2023-11-21T04:04:52.257728",
     "exception": false,
     "start_time": "2023-11-21T04:04:50.614746",
     "status": "completed"
    },
    "tags": []
   },
   "outputs": [],
   "source": [
    "from sklearn.model_selection import train_test_split"
   ]
  },
  {
   "cell_type": "code",
   "execution_count": 7,
   "id": "3bfe0021",
   "metadata": {
    "execution": {
     "iopub.execute_input": "2023-11-21T04:04:52.288034Z",
     "iopub.status.busy": "2023-11-21T04:04:52.287648Z",
     "iopub.status.idle": "2023-11-21T04:04:52.295440Z",
     "shell.execute_reply": "2023-11-21T04:04:52.294452Z"
    },
    "papermill": {
     "duration": 0.025786,
     "end_time": "2023-11-21T04:04:52.297800",
     "exception": false,
     "start_time": "2023-11-21T04:04:52.272014",
     "status": "completed"
    },
    "tags": []
   },
   "outputs": [],
   "source": [
    "series_id_train, series_id_test = train_test_split(series_id, \n",
    "                                   random_state=1234,  \n",
    "                                   test_size=0.25,  \n",
    "                                   shuffle=True)\n",
    "\n",
    "series_id_val, series_id_test = train_test_split(series_id_test, \n",
    "                                   random_state=1234,  \n",
    "                                   test_size=0.50,  \n",
    "                                   shuffle=True)"
   ]
  },
  {
   "cell_type": "code",
   "execution_count": 8,
   "id": "9d7ef999",
   "metadata": {
    "execution": {
     "iopub.execute_input": "2023-11-21T04:04:52.328535Z",
     "iopub.status.busy": "2023-11-21T04:04:52.328117Z",
     "iopub.status.idle": "2023-11-21T04:04:52.332849Z",
     "shell.execute_reply": "2023-11-21T04:04:52.332041Z"
    },
    "papermill": {
     "duration": 0.022669,
     "end_time": "2023-11-21T04:04:52.335076",
     "exception": false,
     "start_time": "2023-11-21T04:04:52.312407",
     "status": "completed"
    },
    "tags": []
   },
   "outputs": [],
   "source": [
    "working_folder = Path(\"/kaggle/working/\")\n",
    "images_folder = working_folder/\"images\"\n",
    "images_folder.mkdir()"
   ]
  },
  {
   "cell_type": "code",
   "execution_count": 9,
   "id": "ffe916c7",
   "metadata": {
    "execution": {
     "iopub.execute_input": "2023-11-21T04:04:52.365746Z",
     "iopub.status.busy": "2023-11-21T04:04:52.364957Z",
     "iopub.status.idle": "2023-11-21T04:04:53.478671Z",
     "shell.execute_reply": "2023-11-21T04:04:53.477306Z"
    },
    "papermill": {
     "duration": 1.132333,
     "end_time": "2023-11-21T04:04:53.481823",
     "exception": false,
     "start_time": "2023-11-21T04:04:52.349490",
     "status": "completed"
    },
    "tags": []
   },
   "outputs": [
    {
     "name": "stdout",
     "output_type": "stream",
     "text": [
      "sample_submission.csv  train_events.csv\r\n",
      "test_series.parquet    train_series.parquet\r\n"
     ]
    }
   ],
   "source": [
    "data_folder = Path(\"/kaggle/input/child-mind-institute-detect-sleep-states\")\n",
    "!ls {data_folder}"
   ]
  },
  {
   "cell_type": "code",
   "execution_count": 10,
   "id": "cf00fe51",
   "metadata": {
    "execution": {
     "iopub.execute_input": "2023-11-21T04:04:53.513726Z",
     "iopub.status.busy": "2023-11-21T04:04:53.513229Z",
     "iopub.status.idle": "2023-11-21T04:04:53.518581Z",
     "shell.execute_reply": "2023-11-21T04:04:53.517164Z"
    },
    "papermill": {
     "duration": 0.024486,
     "end_time": "2023-11-21T04:04:53.521130",
     "exception": false,
     "start_time": "2023-11-21T04:04:53.496644",
     "status": "completed"
    },
    "tags": []
   },
   "outputs": [],
   "source": [
    "#test_series = pd.read_parquet(data_folder/\"test_series.parquet\")\n",
    "#test_series"
   ]
  },
  {
   "cell_type": "code",
   "execution_count": 11,
   "id": "885435ad",
   "metadata": {
    "execution": {
     "iopub.execute_input": "2023-11-21T04:04:53.552100Z",
     "iopub.status.busy": "2023-11-21T04:04:53.551701Z",
     "iopub.status.idle": "2023-11-21T04:04:53.556425Z",
     "shell.execute_reply": "2023-11-21T04:04:53.555057Z"
    },
    "papermill": {
     "duration": 0.023417,
     "end_time": "2023-11-21T04:04:53.558958",
     "exception": false,
     "start_time": "2023-11-21T04:04:53.535541",
     "status": "completed"
    },
    "tags": []
   },
   "outputs": [],
   "source": [
    "#test_series['large_enmo'] = test_series['enmo'] > 0.1506"
   ]
  },
  {
   "cell_type": "code",
   "execution_count": 12,
   "id": "9de58e24",
   "metadata": {
    "execution": {
     "iopub.execute_input": "2023-11-21T04:04:53.589831Z",
     "iopub.status.busy": "2023-11-21T04:04:53.589322Z",
     "iopub.status.idle": "2023-11-21T04:04:53.597852Z",
     "shell.execute_reply": "2023-11-21T04:04:53.596931Z"
    },
    "papermill": {
     "duration": 0.026644,
     "end_time": "2023-11-21T04:04:53.599925",
     "exception": false,
     "start_time": "2023-11-21T04:04:53.573281",
     "status": "completed"
    },
    "tags": []
   },
   "outputs": [
    {
     "data": {
      "text/plain": [
       "34"
      ]
     },
     "execution_count": 12,
     "metadata": {},
     "output_type": "execute_result"
    }
   ],
   "source": [
    "#series_ids = test_series['series_id'].unique()\n",
    "series_ids = series_id_test#[0:5]\n",
    "len(series_ids)"
   ]
  },
  {
   "cell_type": "code",
   "execution_count": 13,
   "id": "e1e55f8f",
   "metadata": {
    "execution": {
     "iopub.execute_input": "2023-11-21T04:04:53.631113Z",
     "iopub.status.busy": "2023-11-21T04:04:53.629847Z",
     "iopub.status.idle": "2023-11-21T04:04:53.641592Z",
     "shell.execute_reply": "2023-11-21T04:04:53.640616Z"
    },
    "papermill": {
     "duration": 0.029736,
     "end_time": "2023-11-21T04:04:53.643974",
     "exception": false,
     "start_time": "2023-11-21T04:04:53.614238",
     "status": "completed"
    },
    "tags": []
   },
   "outputs": [],
   "source": [
    "def feat_eng(df):\n",
    "    \n",
    "    df['series_id'] = df['series_id'].astype('category')\n",
    "    df['timestamp_2'] = pd.to_datetime(df['timestamp']).apply(lambda t: t.tz_localize(None))\n",
    "    df['hour'] = df[\"timestamp_2\"].dt.hour\n",
    "    \n",
    "    df.sort_values(['timestamp_2'], inplace=True)\n",
    "    df.set_index('timestamp_2', inplace=True)\n",
    "\n",
    "    df[\"anglez\"] = df[\"anglez\"].astype(np.float32)\n",
    "    df[\"anglezdiffabs\"] = df[\"anglez\"].diff().abs().astype(np.float32)\n",
    "    \n",
    "    for col in ['anglezdiffabs']:\n",
    "        \n",
    "        # periods in seconds        \n",
    "        periods = [60] \n",
    "        \n",
    "        for n in periods:\n",
    "            \n",
    "            rol_args = {'window':f'{n+5}s', 'min_periods':10, 'center':True}\n",
    "            \n",
    "            for agg in ['median']:\n",
    "                df[f'{col}_{agg}_{n}'] = df[col].rolling(**rol_args).agg(agg).astype(np.float32).values\n",
    "                gc.collect()\n",
    "            \n",
    "            gc.collect()\n",
    "    \n",
    "    df.reset_index(inplace=True)\n",
    "    df.dropna(inplace=True)\n",
    "\n",
    "    return df"
   ]
  },
  {
   "cell_type": "code",
   "execution_count": 14,
   "id": "7119cb00",
   "metadata": {
    "execution": {
     "iopub.execute_input": "2023-11-21T04:04:53.675423Z",
     "iopub.status.busy": "2023-11-21T04:04:53.674576Z",
     "iopub.status.idle": "2023-11-21T04:04:53.680607Z",
     "shell.execute_reply": "2023-11-21T04:04:53.679634Z"
    },
    "papermill": {
     "duration": 0.024617,
     "end_time": "2023-11-21T04:04:53.683220",
     "exception": false,
     "start_time": "2023-11-21T04:04:53.658603",
     "status": "completed"
    },
    "tags": []
   },
   "outputs": [],
   "source": [
    "def feat_eng_by_id(idx):\n",
    "    \n",
    "    from warnings import simplefilter \n",
    "    simplefilter(action=\"ignore\", category=pd.errors.PerformanceWarning)\n",
    "    \n",
    "    df  = pd.read_parquet('/kaggle/input/child-mind-institute-detect-sleep-states/train_series.parquet',\n",
    "                          filters=[('series_id','=',idx)])\n",
    "    df = feat_eng(df)\n",
    "    \n",
    "    return df"
   ]
  },
  {
   "cell_type": "code",
   "execution_count": 15,
   "id": "e441637e",
   "metadata": {
    "execution": {
     "iopub.execute_input": "2023-11-21T04:04:53.715294Z",
     "iopub.status.busy": "2023-11-21T04:04:53.714288Z",
     "iopub.status.idle": "2023-11-21T04:04:53.828973Z",
     "shell.execute_reply": "2023-11-21T04:04:53.827876Z"
    },
    "papermill": {
     "duration": 0.133716,
     "end_time": "2023-11-21T04:04:53.831545",
     "exception": false,
     "start_time": "2023-11-21T04:04:53.697829",
     "status": "completed"
    },
    "tags": []
   },
   "outputs": [],
   "source": [
    "from tqdm.auto import tqdm \n",
    "from joblib import Parallel, delayed\n",
    "from time import sleep, time\n",
    "from multiprocessing import cpu_count\n",
    "import gc"
   ]
  },
  {
   "cell_type": "code",
   "execution_count": 16,
   "id": "6caf29d4",
   "metadata": {
    "execution": {
     "iopub.execute_input": "2023-11-21T04:04:53.862906Z",
     "iopub.status.busy": "2023-11-21T04:04:53.862465Z",
     "iopub.status.idle": "2023-11-21T04:50:21.093024Z",
     "shell.execute_reply": "2023-11-21T04:50:21.091857Z"
    },
    "papermill": {
     "duration": 2727.266302,
     "end_time": "2023-11-21T04:50:21.112812",
     "exception": false,
     "start_time": "2023-11-21T04:04:53.846510",
     "status": "completed"
    },
    "tags": []
   },
   "outputs": [
    {
     "name": "stdout",
     "output_type": "stream",
     "text": [
      "Number of jobs:  4\n"
     ]
    },
    {
     "data": {
      "application/vnd.jupyter.widget-view+json": {
       "model_id": "e4460c0bf63b4d6bb0cdaca1438c1622",
       "version_major": 2,
       "version_minor": 0
      },
      "text/plain": [
       "  0%|          | 0/34 [00:00<?, ?it/s]"
      ]
     },
     "metadata": {},
     "output_type": "display_data"
    },
    {
     "name": "stdout",
     "output_type": "stream",
     "text": [
      "CPU times: user 56min 45s, sys: 3min 26s, total: 1h 12s\n",
      "Wall time: 45min 27s\n"
     ]
    }
   ],
   "source": [
    "%%time\n",
    "\n",
    "import joblib\n",
    "\n",
    "print(\"Number of jobs: \",int(cpu_count()))\n",
    "\n",
    "#train_df = []\n",
    "\n",
    "window_properties = []\n",
    "\n",
    "for idx in tqdm(series_ids): \n",
    "\n",
    "    test_series = feat_eng_by_id(idx)\n",
    "    test_series['large_enmo'] = test_series['enmo'] > 0.1509000062942505\n",
    "    test_series['anglezdiffabs_median_60_norm'] = (test_series['anglezdiffabs_median_60']-np.min(test_series['anglezdiffabs_median_60']))/ (max(test_series['anglezdiffabs_median_60'])-min(test_series['anglezdiffabs_median_60']))\n",
    "    \n",
    "    series = test_series.reset_index(drop=True)\n",
    "    series['color'] = [\"blue\" if large_enmo else \"green\" for large_enmo in series['large_enmo']]\n",
    "    series['timestamp'] = pd.to_datetime(series['timestamp'])\n",
    "    series['timestamp_utc'] = series['timestamp'].map(lambda timestamp: timestamp.astimezone(timezone.utc))\n",
    "    series['anglez_radians'] = (np.pi / 180) * series['anglez']\n",
    "    series['cos_anglez'] = np.cos(series['anglez_radians'])\n",
    "    series['enmo'] = np.clip(series['enmo'], 0, 1)\n",
    "    min_date_utc = series['timestamp_utc'].dt.date.min()\n",
    "    max_date_utc = series['timestamp_utc'].dt.date.max()\n",
    "    series_24_hour_windows = {}\n",
    "    upper_bound = datetime(year=min_date_utc.year, month=min_date_utc.month, day=min_date_utc.day, hour=20, minute=30, tzinfo=timezone.utc)\n",
    "    lower_bound = upper_bound + timedelta(hours=-24) # 8:30pm UTC on the previous day.\n",
    "    while lower_bound < series['timestamp_utc'].max():\n",
    "        window_df = series.loc[(series['timestamp_utc'] >= lower_bound) & (series['timestamp_utc'] < upper_bound)].reset_index(drop=True)\n",
    "        if len(window_df) > 0:\n",
    "            series_24_hour_windows[upper_bound.isoformat()[:-6]] = window_df\n",
    "        upper_bound += timedelta(hours=24)\n",
    "        lower_bound += timedelta(hours=24)\n",
    "    \n",
    "    windows = list(series_24_hour_windows.keys())\n",
    "    num_steps_cumulative = 0\n",
    "    for window_idx, window in enumerate(windows):        \n",
    "        fig = plt.figure(figsize=(14.4, 4))  # (width, height) in inches\n",
    "        #plt.plot(series_24_hour_windows[window]['timestamp_utc'], series_24_hour_windows[window]['cos_anglez'], color=\"red\")\n",
    "        plt.plot(series_24_hour_windows[window]['timestamp_utc'],\n",
    "                 series_24_hour_windows[window]['anglezdiffabs_median_60_norm'],\n",
    "                 color=\"red\")\n",
    "        plt.scatter(\n",
    "            series_24_hour_windows[window]['timestamp_utc'], \n",
    "            series_24_hour_windows[window]['enmo'], \n",
    "            color=series_24_hour_windows[window]['color'], \n",
    "            s=1\n",
    "        )\n",
    "        ax = plt.gca()\n",
    "        ax.spines['top'].set_visible(False)\n",
    "        ax.spines['right'].set_visible(False)\n",
    "        ax.spines['bottom'].set_visible(False)\n",
    "        ax.spines['left'].set_visible(False)\n",
    "        ax.set_xticks([])\n",
    "        ax.set_yticks([])\n",
    "        plt.margins(0, 0)\n",
    "        plt.subplots_adjust(left=0, right=1, top=1, bottom=0)\n",
    "        plt.savefig(images_folder/f\"{idx}_{window}.jpg\", bbox_inches=\"tight\", pad_inches=0)\n",
    "        plt.clf()\n",
    "        plt.cla()\n",
    "        plt.close()\n",
    "\n",
    "        min_ts_window = series_24_hour_windows[window]['timestamp_utc'].min()\n",
    "        max_ts_window = series_24_hour_windows[window]['timestamp_utc'].max()\n",
    "        num_steps_window = (max_ts_window - min_ts_window).total_seconds() / 5 + 1\n",
    "        num_steps_cumulative += num_steps_window\n",
    "        window_properties.append({\n",
    "            'series_id': idx, \n",
    "            'image_name': f\"{idx}_{window}.jpg\", \n",
    "            'idx_in_series': window_idx, \n",
    "            'num_steps_window': num_steps_window, \n",
    "            'num_steps_cumulative': num_steps_cumulative\n",
    "        })\n",
    "\n",
    "    #test = feat_eng_by_id(idx)\n",
    "\n",
    "    #train_df.append(test)\n",
    "    \n",
    "#train = pd.concat(train_df, ignore_index=True).reset_index(names='new_row_id')\n",
    "\n",
    "#len(train)"
   ]
  },
  {
   "cell_type": "code",
   "execution_count": 17,
   "id": "dbfc43d7",
   "metadata": {
    "execution": {
     "iopub.execute_input": "2023-11-21T04:50:21.144987Z",
     "iopub.status.busy": "2023-11-21T04:50:21.144065Z",
     "iopub.status.idle": "2023-11-21T04:50:21.173794Z",
     "shell.execute_reply": "2023-11-21T04:50:21.172647Z"
    },
    "papermill": {
     "duration": 0.048966,
     "end_time": "2023-11-21T04:50:21.176558",
     "exception": false,
     "start_time": "2023-11-21T04:50:21.127592",
     "status": "completed"
    },
    "tags": []
   },
   "outputs": [
    {
     "data": {
      "text/html": [
       "<div>\n",
       "<style scoped>\n",
       "    .dataframe tbody tr th:only-of-type {\n",
       "        vertical-align: middle;\n",
       "    }\n",
       "\n",
       "    .dataframe tbody tr th {\n",
       "        vertical-align: top;\n",
       "    }\n",
       "\n",
       "    .dataframe thead th {\n",
       "        text-align: right;\n",
       "    }\n",
       "</style>\n",
       "<table border=\"1\" class=\"dataframe\">\n",
       "  <thead>\n",
       "    <tr style=\"text-align: right;\">\n",
       "      <th></th>\n",
       "      <th>series_id</th>\n",
       "      <th>image_name</th>\n",
       "      <th>idx_in_series</th>\n",
       "      <th>num_steps_window</th>\n",
       "      <th>num_steps_cumulative</th>\n",
       "    </tr>\n",
       "  </thead>\n",
       "  <tbody>\n",
       "    <tr>\n",
       "      <th>0</th>\n",
       "      <td>062cae666e2a</td>\n",
       "      <td>062cae666e2a_2019-02-02T20:30:00.jpg</td>\n",
       "      <td>0</td>\n",
       "      <td>16376.0</td>\n",
       "      <td>16376.0</td>\n",
       "    </tr>\n",
       "    <tr>\n",
       "      <th>1</th>\n",
       "      <td>062cae666e2a</td>\n",
       "      <td>062cae666e2a_2019-02-03T20:30:00.jpg</td>\n",
       "      <td>1</td>\n",
       "      <td>17280.0</td>\n",
       "      <td>33656.0</td>\n",
       "    </tr>\n",
       "    <tr>\n",
       "      <th>2</th>\n",
       "      <td>062cae666e2a</td>\n",
       "      <td>062cae666e2a_2019-02-04T20:30:00.jpg</td>\n",
       "      <td>2</td>\n",
       "      <td>17280.0</td>\n",
       "      <td>50936.0</td>\n",
       "    </tr>\n",
       "    <tr>\n",
       "      <th>3</th>\n",
       "      <td>062cae666e2a</td>\n",
       "      <td>062cae666e2a_2019-02-05T20:30:00.jpg</td>\n",
       "      <td>3</td>\n",
       "      <td>17280.0</td>\n",
       "      <td>68216.0</td>\n",
       "    </tr>\n",
       "    <tr>\n",
       "      <th>4</th>\n",
       "      <td>062cae666e2a</td>\n",
       "      <td>062cae666e2a_2019-02-06T20:30:00.jpg</td>\n",
       "      <td>4</td>\n",
       "      <td>17280.0</td>\n",
       "      <td>85496.0</td>\n",
       "    </tr>\n",
       "    <tr>\n",
       "      <th>...</th>\n",
       "      <td>...</td>\n",
       "      <td>...</td>\n",
       "      <td>...</td>\n",
       "      <td>...</td>\n",
       "      <td>...</td>\n",
       "    </tr>\n",
       "    <tr>\n",
       "      <th>1035</th>\n",
       "      <td>91cb6c98201f</td>\n",
       "      <td>91cb6c98201f_2019-02-25T20:30:00.jpg</td>\n",
       "      <td>20</td>\n",
       "      <td>17280.0</td>\n",
       "      <td>348476.0</td>\n",
       "    </tr>\n",
       "    <tr>\n",
       "      <th>1036</th>\n",
       "      <td>91cb6c98201f</td>\n",
       "      <td>91cb6c98201f_2019-02-26T20:30:00.jpg</td>\n",
       "      <td>21</td>\n",
       "      <td>17280.0</td>\n",
       "      <td>365756.0</td>\n",
       "    </tr>\n",
       "    <tr>\n",
       "      <th>1037</th>\n",
       "      <td>91cb6c98201f</td>\n",
       "      <td>91cb6c98201f_2019-02-27T20:30:00.jpg</td>\n",
       "      <td>22</td>\n",
       "      <td>17280.0</td>\n",
       "      <td>383036.0</td>\n",
       "    </tr>\n",
       "    <tr>\n",
       "      <th>1038</th>\n",
       "      <td>91cb6c98201f</td>\n",
       "      <td>91cb6c98201f_2019-02-28T20:30:00.jpg</td>\n",
       "      <td>23</td>\n",
       "      <td>17280.0</td>\n",
       "      <td>400316.0</td>\n",
       "    </tr>\n",
       "    <tr>\n",
       "      <th>1039</th>\n",
       "      <td>91cb6c98201f</td>\n",
       "      <td>91cb6c98201f_2019-03-01T20:30:00.jpg</td>\n",
       "      <td>24</td>\n",
       "      <td>15657.0</td>\n",
       "      <td>415973.0</td>\n",
       "    </tr>\n",
       "  </tbody>\n",
       "</table>\n",
       "<p>1040 rows × 5 columns</p>\n",
       "</div>"
      ],
      "text/plain": [
       "         series_id                            image_name  idx_in_series  \\\n",
       "0     062cae666e2a  062cae666e2a_2019-02-02T20:30:00.jpg              0   \n",
       "1     062cae666e2a  062cae666e2a_2019-02-03T20:30:00.jpg              1   \n",
       "2     062cae666e2a  062cae666e2a_2019-02-04T20:30:00.jpg              2   \n",
       "3     062cae666e2a  062cae666e2a_2019-02-05T20:30:00.jpg              3   \n",
       "4     062cae666e2a  062cae666e2a_2019-02-06T20:30:00.jpg              4   \n",
       "...            ...                                   ...            ...   \n",
       "1035  91cb6c98201f  91cb6c98201f_2019-02-25T20:30:00.jpg             20   \n",
       "1036  91cb6c98201f  91cb6c98201f_2019-02-26T20:30:00.jpg             21   \n",
       "1037  91cb6c98201f  91cb6c98201f_2019-02-27T20:30:00.jpg             22   \n",
       "1038  91cb6c98201f  91cb6c98201f_2019-02-28T20:30:00.jpg             23   \n",
       "1039  91cb6c98201f  91cb6c98201f_2019-03-01T20:30:00.jpg             24   \n",
       "\n",
       "      num_steps_window  num_steps_cumulative  \n",
       "0              16376.0               16376.0  \n",
       "1              17280.0               33656.0  \n",
       "2              17280.0               50936.0  \n",
       "3              17280.0               68216.0  \n",
       "4              17280.0               85496.0  \n",
       "...                ...                   ...  \n",
       "1035           17280.0              348476.0  \n",
       "1036           17280.0              365756.0  \n",
       "1037           17280.0              383036.0  \n",
       "1038           17280.0              400316.0  \n",
       "1039           15657.0              415973.0  \n",
       "\n",
       "[1040 rows x 5 columns]"
      ]
     },
     "execution_count": 17,
     "metadata": {},
     "output_type": "execute_result"
    }
   ],
   "source": [
    "window_properties_df = pd.DataFrame(window_properties)\n",
    "window_properties_df"
   ]
  },
  {
   "cell_type": "markdown",
   "id": "23ab9fe9",
   "metadata": {
    "papermill": {
     "duration": 0.015016,
     "end_time": "2023-11-21T04:50:21.206926",
     "exception": false,
     "start_time": "2023-11-21T04:50:21.191910",
     "status": "completed"
    },
    "tags": []
   },
   "source": [
    "# Transforms"
   ]
  },
  {
   "cell_type": "code",
   "execution_count": 18,
   "id": "1c4a4ee0",
   "metadata": {
    "execution": {
     "iopub.execute_input": "2023-11-21T04:50:21.240250Z",
     "iopub.status.busy": "2023-11-21T04:50:21.239236Z",
     "iopub.status.idle": "2023-11-21T04:50:21.245313Z",
     "shell.execute_reply": "2023-11-21T04:50:21.244475Z"
    },
    "papermill": {
     "duration": 0.025456,
     "end_time": "2023-11-21T04:50:21.247544",
     "exception": false,
     "start_time": "2023-11-21T04:50:21.222088",
     "status": "completed"
    },
    "tags": []
   },
   "outputs": [],
   "source": [
    "def get_transforms():\n",
    "    transforms = []\n",
    "    transforms.append(T.ConvertDtype(torch.float))\n",
    "    transforms.append(T.Normalize([0.485, 0.456, 0.406], [0.229, 0.224, 0.225]))\n",
    "    return T.Compose(transforms)"
   ]
  },
  {
   "cell_type": "code",
   "execution_count": 19,
   "id": "5db04c59",
   "metadata": {
    "execution": {
     "iopub.execute_input": "2023-11-21T04:50:21.280011Z",
     "iopub.status.busy": "2023-11-21T04:50:21.279625Z",
     "iopub.status.idle": "2023-11-21T04:50:21.283856Z",
     "shell.execute_reply": "2023-11-21T04:50:21.282961Z"
    },
    "papermill": {
     "duration": 0.023226,
     "end_time": "2023-11-21T04:50:21.286004",
     "exception": false,
     "start_time": "2023-11-21T04:50:21.262778",
     "status": "completed"
    },
    "tags": []
   },
   "outputs": [],
   "source": [
    "eval_transforms = get_transforms()"
   ]
  },
  {
   "cell_type": "markdown",
   "id": "be6dd29f",
   "metadata": {
    "papermill": {
     "duration": 0.014822,
     "end_time": "2023-11-21T04:50:21.315964",
     "exception": false,
     "start_time": "2023-11-21T04:50:21.301142",
     "status": "completed"
    },
    "tags": []
   },
   "source": [
    "# Instantiating the model"
   ]
  },
  {
   "cell_type": "code",
   "execution_count": 20,
   "id": "be835029",
   "metadata": {
    "execution": {
     "iopub.execute_input": "2023-11-21T04:50:21.348285Z",
     "iopub.status.busy": "2023-11-21T04:50:21.347890Z",
     "iopub.status.idle": "2023-11-21T04:50:21.355054Z",
     "shell.execute_reply": "2023-11-21T04:50:21.353910Z"
    },
    "papermill": {
     "duration": 0.026289,
     "end_time": "2023-11-21T04:50:21.357357",
     "exception": false,
     "start_time": "2023-11-21T04:50:21.331068",
     "status": "completed"
    },
    "tags": []
   },
   "outputs": [
    {
     "data": {
      "text/plain": [
       "device(type='cpu')"
      ]
     },
     "execution_count": 20,
     "metadata": {},
     "output_type": "execute_result"
    }
   ],
   "source": [
    "device = torch.device(\"cuda\") if torch.cuda.is_available() else torch.device(\"cpu\")\n",
    "device"
   ]
  },
  {
   "cell_type": "code",
   "execution_count": 21,
   "id": "5fab5eb5",
   "metadata": {
    "execution": {
     "iopub.execute_input": "2023-11-21T04:50:21.389813Z",
     "iopub.status.busy": "2023-11-21T04:50:21.389371Z",
     "iopub.status.idle": "2023-11-21T04:50:22.217659Z",
     "shell.execute_reply": "2023-11-21T04:50:22.216095Z"
    },
    "papermill": {
     "duration": 0.847904,
     "end_time": "2023-11-21T04:50:22.220506",
     "exception": false,
     "start_time": "2023-11-21T04:50:21.372602",
     "status": "completed"
    },
    "tags": []
   },
   "outputs": [],
   "source": [
    "model = torchvision.models.detection.fasterrcnn_resnet50_fpn(weights=None, weights_backbone=None, max_size=1440)\n",
    "# Replace the classifier with a new one, that has num_classes which is user-defined:\n",
    "num_classes = 3 # 2 classes ('onset' & 'wakeup') + the 'background' class\n",
    "# Get the number of input features for the box classifier:\n",
    "in_features = model.roi_heads.box_predictor.cls_score.in_features\n",
    "# Replace the pre-trained box predictor head with a new one:\n",
    "model.roi_heads.box_predictor = FastRCNNPredictor(in_features, num_classes)"
   ]
  },
  {
   "cell_type": "code",
   "execution_count": 22,
   "id": "cfc468f9",
   "metadata": {
    "execution": {
     "iopub.execute_input": "2023-11-21T04:50:22.253497Z",
     "iopub.status.busy": "2023-11-21T04:50:22.253041Z",
     "iopub.status.idle": "2023-11-21T04:50:23.782141Z",
     "shell.execute_reply": "2023-11-21T04:50:23.780937Z"
    },
    "papermill": {
     "duration": 1.548833,
     "end_time": "2023-11-21T04:50:23.784791",
     "exception": false,
     "start_time": "2023-11-21T04:50:22.235958",
     "status": "completed"
    },
    "tags": []
   },
   "outputs": [
    {
     "data": {
      "text/plain": [
       "<All keys matched successfully>"
      ]
     },
     "execution_count": 22,
     "metadata": {},
     "output_type": "execute_result"
    }
   ],
   "source": [
    "weights = torch.load(\"/kaggle/input/seb-train-cnn-models-image-detection/seb_model_v1__4.pth\", map_location=device)\n",
    "model.load_state_dict(weights)"
   ]
  },
  {
   "cell_type": "code",
   "execution_count": 23,
   "id": "dea3770e",
   "metadata": {
    "execution": {
     "iopub.execute_input": "2023-11-21T04:50:23.819613Z",
     "iopub.status.busy": "2023-11-21T04:50:23.819131Z",
     "iopub.status.idle": "2023-11-21T04:50:23.832768Z",
     "shell.execute_reply": "2023-11-21T04:50:23.831862Z"
    },
    "papermill": {
     "duration": 0.033611,
     "end_time": "2023-11-21T04:50:23.835369",
     "exception": false,
     "start_time": "2023-11-21T04:50:23.801758",
     "status": "completed"
    },
    "tags": []
   },
   "outputs": [],
   "source": [
    "model.to(device);"
   ]
  },
  {
   "cell_type": "markdown",
   "id": "ba97c5e5",
   "metadata": {
    "papermill": {
     "duration": 0.015639,
     "end_time": "2023-11-21T04:50:23.867331",
     "exception": false,
     "start_time": "2023-11-21T04:50:23.851692",
     "status": "completed"
    },
    "tags": []
   },
   "source": [
    "# Inference"
   ]
  },
  {
   "cell_type": "code",
   "execution_count": 24,
   "id": "fd8d8f87",
   "metadata": {
    "execution": {
     "iopub.execute_input": "2023-11-21T04:50:23.901039Z",
     "iopub.status.busy": "2023-11-21T04:50:23.900221Z",
     "iopub.status.idle": "2023-11-21T04:50:23.907044Z",
     "shell.execute_reply": "2023-11-21T04:50:23.905919Z"
    },
    "papermill": {
     "duration": 0.026311,
     "end_time": "2023-11-21T04:50:23.909598",
     "exception": false,
     "start_time": "2023-11-21T04:50:23.883287",
     "status": "completed"
    },
    "tags": []
   },
   "outputs": [],
   "source": [
    "model.eval()\n",
    "thresh = 0.0 # Tune this.\n",
    "reverse_label_mapping = {1: \"onset\", 2: \"wakeup\"}"
   ]
  },
  {
   "cell_type": "code",
   "execution_count": 25,
   "id": "6e742219",
   "metadata": {
    "execution": {
     "iopub.execute_input": "2023-11-21T04:50:23.942981Z",
     "iopub.status.busy": "2023-11-21T04:50:23.942575Z",
     "iopub.status.idle": "2023-11-21T04:50:23.961163Z",
     "shell.execute_reply": "2023-11-21T04:50:23.959861Z"
    },
    "papermill": {
     "duration": 0.038355,
     "end_time": "2023-11-21T04:50:23.963792",
     "exception": false,
     "start_time": "2023-11-21T04:50:23.925437",
     "status": "completed"
    },
    "tags": []
   },
   "outputs": [],
   "source": [
    "def get_submission_df():\n",
    "    all_test_preds = []\n",
    "    for i, series_id in enumerate(series_ids): # i is the index of the series.\n",
    "        series_rows = window_properties_df.loc[window_properties_df['series_id'] == series_id].reset_index(drop=True)\n",
    "        for j in range(len(series_rows)): # j is the index of the image (within the series).\n",
    "            image_name = series_rows['image_name'][j]\n",
    "            image_path = os.path.join(images_folder, image_name)\n",
    "            image = read_image(image_path)\n",
    "            with torch.no_grad():\n",
    "                x = eval_transforms(image)\n",
    "                x = x.to(device)\n",
    "                predictions = model([x])\n",
    "            pred = predictions[0]\n",
    "            \n",
    "            # Postprocessing: remove 'narrow' boxes as these are false positives.\n",
    "            pred_widths = pred['boxes'][:, 2] - pred['boxes'][:, 0]\n",
    "            pred['boxes'] = pred['boxes'][pred_widths > 10]\n",
    "            pred['labels'] = pred['labels'][pred_widths > 10]\n",
    "            pred['scores'] = pred['scores'][pred_widths > 10]\n",
    "            \n",
    "            pred['boxes'] = pred['boxes'][pred['scores'] > thresh]\n",
    "            pred['labels'] = pred['labels'][pred['scores'] > thresh]\n",
    "            pred['scores'] = pred['scores'][pred['scores'] > thresh]\n",
    "            \n",
    "            if len(pred['labels']) == 0:\n",
    "                continue\n",
    "            else:\n",
    "                pred_x = (pred['boxes'][:, 0] + pred['boxes'][:, 2]) / 2\n",
    "                pred_labels = [reverse_label_mapping[l.item()] for l in pred['labels']]\n",
    "                num_steps_window = series_rows['num_steps_window'][j]\n",
    "                if j == 0:\n",
    "                    prev_num_steps_cumulative = 0\n",
    "                else:\n",
    "                    prev_num_steps_cumulative = series_rows['num_steps_cumulative'][j - 1]            \n",
    "                for k in range(len(pred_labels)): # k is the index of the bounding box (within the image).\n",
    "                    event = {}\n",
    "                    step_in_window = (pred_x[k] / 1440) * num_steps_window # All images have width 1,440px.\n",
    "                    step_in_series = int(prev_num_steps_cumulative + step_in_window)\n",
    "                    event['series_id'] = series_id\n",
    "                    event['step'] = step_in_series\n",
    "                    event['event'] = pred_labels[k]\n",
    "                    event['score'] = pred['scores'][k].item()\n",
    "                    all_test_preds.append(event)          \n",
    "    if len(all_test_preds) > 0:\n",
    "        submission_df = pd.DataFrame(all_test_preds)\n",
    "        submission_df = submission_df.sort_values(by=['series_id', 'step']).reset_index(drop=True)\n",
    "        submission_df['row_id'] = np.arange(len(submission_df))\n",
    "        submission_df = submission_df[['row_id', 'series_id', 'step', 'event', 'score']]\n",
    "    else:\n",
    "        submission_df = pd.DataFrame({'row_id': [], 'series_id': [], 'step': [], 'event': [], 'score': []})\n",
    "    return submission_df"
   ]
  },
  {
   "cell_type": "code",
   "execution_count": 26,
   "id": "a5c3d49a",
   "metadata": {
    "execution": {
     "iopub.execute_input": "2023-11-21T04:50:23.997325Z",
     "iopub.status.busy": "2023-11-21T04:50:23.996206Z",
     "iopub.status.idle": "2023-11-21T05:38:18.503598Z",
     "shell.execute_reply": "2023-11-21T05:38:18.502468Z"
    },
    "papermill": {
     "duration": 2874.541208,
     "end_time": "2023-11-21T05:38:18.520574",
     "exception": false,
     "start_time": "2023-11-21T04:50:23.979366",
     "status": "completed"
    },
    "tags": []
   },
   "outputs": [
    {
     "data": {
      "text/html": [
       "<div>\n",
       "<style scoped>\n",
       "    .dataframe tbody tr th:only-of-type {\n",
       "        vertical-align: middle;\n",
       "    }\n",
       "\n",
       "    .dataframe tbody tr th {\n",
       "        vertical-align: top;\n",
       "    }\n",
       "\n",
       "    .dataframe thead th {\n",
       "        text-align: right;\n",
       "    }\n",
       "</style>\n",
       "<table border=\"1\" class=\"dataframe\">\n",
       "  <thead>\n",
       "    <tr style=\"text-align: right;\">\n",
       "      <th></th>\n",
       "      <th>row_id</th>\n",
       "      <th>series_id</th>\n",
       "      <th>step</th>\n",
       "      <th>event</th>\n",
       "      <th>score</th>\n",
       "    </tr>\n",
       "  </thead>\n",
       "  <tbody>\n",
       "    <tr>\n",
       "      <th>0</th>\n",
       "      <td>0</td>\n",
       "      <td>062cae666e2a</td>\n",
       "      <td>442</td>\n",
       "      <td>wakeup</td>\n",
       "      <td>0.052704</td>\n",
       "    </tr>\n",
       "    <tr>\n",
       "      <th>1</th>\n",
       "      <td>1</td>\n",
       "      <td>062cae666e2a</td>\n",
       "      <td>1746</td>\n",
       "      <td>onset</td>\n",
       "      <td>0.096946</td>\n",
       "    </tr>\n",
       "    <tr>\n",
       "      <th>2</th>\n",
       "      <td>2</td>\n",
       "      <td>062cae666e2a</td>\n",
       "      <td>2327</td>\n",
       "      <td>wakeup</td>\n",
       "      <td>0.095466</td>\n",
       "    </tr>\n",
       "    <tr>\n",
       "      <th>3</th>\n",
       "      <td>3</td>\n",
       "      <td>062cae666e2a</td>\n",
       "      <td>4962</td>\n",
       "      <td>onset</td>\n",
       "      <td>0.069691</td>\n",
       "    </tr>\n",
       "    <tr>\n",
       "      <th>4</th>\n",
       "      <td>4</td>\n",
       "      <td>062cae666e2a</td>\n",
       "      <td>5121</td>\n",
       "      <td>onset</td>\n",
       "      <td>0.983156</td>\n",
       "    </tr>\n",
       "    <tr>\n",
       "      <th>...</th>\n",
       "      <td>...</td>\n",
       "      <td>...</td>\n",
       "      <td>...</td>\n",
       "      <td>...</td>\n",
       "      <td>...</td>\n",
       "    </tr>\n",
       "    <tr>\n",
       "      <th>4709</th>\n",
       "      <td>4709</td>\n",
       "      <td>fe90110788d2</td>\n",
       "      <td>581848</td>\n",
       "      <td>wakeup</td>\n",
       "      <td>0.698077</td>\n",
       "    </tr>\n",
       "    <tr>\n",
       "      <th>4710</th>\n",
       "      <td>4710</td>\n",
       "      <td>fe90110788d2</td>\n",
       "      <td>590546</td>\n",
       "      <td>wakeup</td>\n",
       "      <td>0.082312</td>\n",
       "    </tr>\n",
       "    <tr>\n",
       "      <th>4711</th>\n",
       "      <td>4711</td>\n",
       "      <td>fe90110788d2</td>\n",
       "      <td>591589</td>\n",
       "      <td>onset</td>\n",
       "      <td>0.943111</td>\n",
       "    </tr>\n",
       "    <tr>\n",
       "      <th>4712</th>\n",
       "      <td>4712</td>\n",
       "      <td>fe90110788d2</td>\n",
       "      <td>591653</td>\n",
       "      <td>onset</td>\n",
       "      <td>0.268000</td>\n",
       "    </tr>\n",
       "    <tr>\n",
       "      <th>4713</th>\n",
       "      <td>4713</td>\n",
       "      <td>fe90110788d2</td>\n",
       "      <td>592292</td>\n",
       "      <td>wakeup</td>\n",
       "      <td>0.323245</td>\n",
       "    </tr>\n",
       "  </tbody>\n",
       "</table>\n",
       "<p>4714 rows × 5 columns</p>\n",
       "</div>"
      ],
      "text/plain": [
       "      row_id     series_id    step   event     score\n",
       "0          0  062cae666e2a     442  wakeup  0.052704\n",
       "1          1  062cae666e2a    1746   onset  0.096946\n",
       "2          2  062cae666e2a    2327  wakeup  0.095466\n",
       "3          3  062cae666e2a    4962   onset  0.069691\n",
       "4          4  062cae666e2a    5121   onset  0.983156\n",
       "...      ...           ...     ...     ...       ...\n",
       "4709    4709  fe90110788d2  581848  wakeup  0.698077\n",
       "4710    4710  fe90110788d2  590546  wakeup  0.082312\n",
       "4711    4711  fe90110788d2  591589   onset  0.943111\n",
       "4712    4712  fe90110788d2  591653   onset  0.268000\n",
       "4713    4713  fe90110788d2  592292  wakeup  0.323245\n",
       "\n",
       "[4714 rows x 5 columns]"
      ]
     },
     "execution_count": 26,
     "metadata": {},
     "output_type": "execute_result"
    }
   ],
   "source": [
    "submission_df = get_submission_df()\n",
    "submission_df"
   ]
  },
  {
   "cell_type": "code",
   "execution_count": 27,
   "id": "c03d1ea9",
   "metadata": {
    "execution": {
     "iopub.execute_input": "2023-11-21T05:38:18.553349Z",
     "iopub.status.busy": "2023-11-21T05:38:18.552978Z",
     "iopub.status.idle": "2023-11-21T05:38:18.558904Z",
     "shell.execute_reply": "2023-11-21T05:38:18.558124Z"
    },
    "papermill": {
     "duration": 0.024699,
     "end_time": "2023-11-21T05:38:18.560985",
     "exception": false,
     "start_time": "2023-11-21T05:38:18.536286",
     "status": "completed"
    },
    "tags": []
   },
   "outputs": [],
   "source": [
    "events_submission=submission_df\n",
    "events_submission=events_submission[(events_submission['score']>0.7)]"
   ]
  },
  {
   "cell_type": "code",
   "execution_count": 28,
   "id": "e2f8481e",
   "metadata": {
    "execution": {
     "iopub.execute_input": "2023-11-21T05:38:18.593581Z",
     "iopub.status.busy": "2023-11-21T05:38:18.592946Z",
     "iopub.status.idle": "2023-11-21T05:38:19.028699Z",
     "shell.execute_reply": "2023-11-21T05:38:19.027934Z"
    },
    "papermill": {
     "duration": 0.454797,
     "end_time": "2023-11-21T05:38:19.031158",
     "exception": false,
     "start_time": "2023-11-21T05:38:18.576361",
     "status": "completed"
    },
    "tags": []
   },
   "outputs": [
    {
     "name": "stdout",
     "output_type": "stream",
     "text": [
      "CPU times: user 110 ms, sys: 24 ms, total: 134 ms\n",
      "Wall time: 427 ms\n"
     ]
    }
   ],
   "source": [
    "%%time\n",
    "import polars as pl\n",
    "train_events = (pl.scan_csv('/kaggle/input/child-mind-institute-detect-sleep-states/train_events.csv')\n",
    "                .with_columns(\n",
    "                    (\n",
    "                        (pl.col(\"timestamp\").str.strptime(pl.Datetime, \"%Y-%m-%dT%H:%M:%S%Z\")),\n",
    "                        (pl.col(\"timestamp\").str.strptime(pl.Datetime, \"%Y-%m-%dT%H:%M:%S%Z\").dt.year().alias(\"year\")),\n",
    "                        (pl.col(\"timestamp\").str.strptime(pl.Datetime, \"%Y-%m-%dT%H:%M:%S%Z\").dt.month().alias(\"month\")),\n",
    "                        (pl.col(\"timestamp\").str.strptime(pl.Datetime, \"%Y-%m-%dT%H:%M:%S%Z\").dt.day().alias(\"day\")),\n",
    "                        (pl.col(\"timestamp\").str.strptime(pl.Datetime, \"%Y-%m-%dT%H:%M:%S%Z\").dt.hour().alias(\"hour\")),\n",
    "                    )\n",
    "                )\n",
    "                .collect()\n",
    "                .to_pandas()\n",
    "               )"
   ]
  },
  {
   "cell_type": "code",
   "execution_count": 29,
   "id": "c3f85ba5",
   "metadata": {
    "execution": {
     "iopub.execute_input": "2023-11-21T05:38:19.064323Z",
     "iopub.status.busy": "2023-11-21T05:38:19.063947Z",
     "iopub.status.idle": "2023-11-21T05:38:30.857525Z",
     "shell.execute_reply": "2023-11-21T05:38:30.856099Z"
    },
    "papermill": {
     "duration": 11.813253,
     "end_time": "2023-11-21T05:38:30.860111",
     "exception": false,
     "start_time": "2023-11-21T05:38:19.046858",
     "status": "completed"
    },
    "tags": []
   },
   "outputs": [
    {
     "name": "stdout",
     "output_type": "stream",
     "text": [
      "Model score: 0.6194823320590058\n"
     ]
    }
   ],
   "source": [
    "val_solution = train_events[train_events['series_id'].isin(series_ids)][['series_id', 'event', 'step']]\n",
    "#val_solution = train_events[train_events['series_id'].isin(series_id_test2)][['series_id', 'event', 'step']]\n",
    "val_solution = val_solution[val_solution['step'].notna()]\n",
    "val_solution = val_solution.reset_index(drop=True)\n",
    "val_solution = val_solution.reset_index().rename(columns={'index': 'row_id'})\n",
    "\n",
    "#xgb_submission=xgb_submission[(xgb_submission['score']>0.1)]\n",
    "\n",
    "#for the weird case\n",
    "#print(f\"Model score: {score(val_solution, events_submission[(events_submission['row_id']<26)],tolerances, **column_names)}\")\n",
    "print(f\"Model score: {score(val_solution, events_submission,tolerances, **column_names)}\")"
   ]
  },
  {
   "cell_type": "code",
   "execution_count": 30,
   "id": "4b579bbe",
   "metadata": {
    "execution": {
     "iopub.execute_input": "2023-11-21T05:38:30.894203Z",
     "iopub.status.busy": "2023-11-21T05:38:30.893797Z",
     "iopub.status.idle": "2023-11-21T05:38:30.908662Z",
     "shell.execute_reply": "2023-11-21T05:38:30.907906Z"
    },
    "papermill": {
     "duration": 0.034174,
     "end_time": "2023-11-21T05:38:30.910750",
     "exception": false,
     "start_time": "2023-11-21T05:38:30.876576",
     "status": "completed"
    },
    "tags": []
   },
   "outputs": [
    {
     "data": {
      "text/html": [
       "<div>\n",
       "<style scoped>\n",
       "    .dataframe tbody tr th:only-of-type {\n",
       "        vertical-align: middle;\n",
       "    }\n",
       "\n",
       "    .dataframe tbody tr th {\n",
       "        vertical-align: top;\n",
       "    }\n",
       "\n",
       "    .dataframe thead th {\n",
       "        text-align: right;\n",
       "    }\n",
       "</style>\n",
       "<table border=\"1\" class=\"dataframe\">\n",
       "  <thead>\n",
       "    <tr style=\"text-align: right;\">\n",
       "      <th></th>\n",
       "      <th>row_id</th>\n",
       "      <th>series_id</th>\n",
       "      <th>event</th>\n",
       "      <th>step</th>\n",
       "    </tr>\n",
       "  </thead>\n",
       "  <tbody>\n",
       "    <tr>\n",
       "      <th>0</th>\n",
       "      <td>0</td>\n",
       "      <td>062cae666e2a</td>\n",
       "      <td>onset</td>\n",
       "      <td>5412.0</td>\n",
       "    </tr>\n",
       "    <tr>\n",
       "      <th>1</th>\n",
       "      <td>1</td>\n",
       "      <td>062cae666e2a</td>\n",
       "      <td>wakeup</td>\n",
       "      <td>13620.0</td>\n",
       "    </tr>\n",
       "    <tr>\n",
       "      <th>2</th>\n",
       "      <td>2</td>\n",
       "      <td>062cae666e2a</td>\n",
       "      <td>onset</td>\n",
       "      <td>22812.0</td>\n",
       "    </tr>\n",
       "    <tr>\n",
       "      <th>3</th>\n",
       "      <td>3</td>\n",
       "      <td>062cae666e2a</td>\n",
       "      <td>wakeup</td>\n",
       "      <td>28656.0</td>\n",
       "    </tr>\n",
       "    <tr>\n",
       "      <th>4</th>\n",
       "      <td>4</td>\n",
       "      <td>062cae666e2a</td>\n",
       "      <td>onset</td>\n",
       "      <td>211848.0</td>\n",
       "    </tr>\n",
       "    <tr>\n",
       "      <th>...</th>\n",
       "      <td>...</td>\n",
       "      <td>...</td>\n",
       "      <td>...</td>\n",
       "      <td>...</td>\n",
       "    </tr>\n",
       "    <tr>\n",
       "      <th>1119</th>\n",
       "      <td>1119</td>\n",
       "      <td>fe90110788d2</td>\n",
       "      <td>wakeup</td>\n",
       "      <td>547152.0</td>\n",
       "    </tr>\n",
       "    <tr>\n",
       "      <th>1120</th>\n",
       "      <td>1120</td>\n",
       "      <td>fe90110788d2</td>\n",
       "      <td>onset</td>\n",
       "      <td>556560.0</td>\n",
       "    </tr>\n",
       "    <tr>\n",
       "      <th>1121</th>\n",
       "      <td>1121</td>\n",
       "      <td>fe90110788d2</td>\n",
       "      <td>wakeup</td>\n",
       "      <td>560604.0</td>\n",
       "    </tr>\n",
       "    <tr>\n",
       "      <th>1122</th>\n",
       "      <td>1122</td>\n",
       "      <td>fe90110788d2</td>\n",
       "      <td>onset</td>\n",
       "      <td>574620.0</td>\n",
       "    </tr>\n",
       "    <tr>\n",
       "      <th>1123</th>\n",
       "      <td>1123</td>\n",
       "      <td>fe90110788d2</td>\n",
       "      <td>wakeup</td>\n",
       "      <td>581604.0</td>\n",
       "    </tr>\n",
       "  </tbody>\n",
       "</table>\n",
       "<p>1124 rows × 4 columns</p>\n",
       "</div>"
      ],
      "text/plain": [
       "      row_id     series_id   event      step\n",
       "0          0  062cae666e2a   onset    5412.0\n",
       "1          1  062cae666e2a  wakeup   13620.0\n",
       "2          2  062cae666e2a   onset   22812.0\n",
       "3          3  062cae666e2a  wakeup   28656.0\n",
       "4          4  062cae666e2a   onset  211848.0\n",
       "...      ...           ...     ...       ...\n",
       "1119    1119  fe90110788d2  wakeup  547152.0\n",
       "1120    1120  fe90110788d2   onset  556560.0\n",
       "1121    1121  fe90110788d2  wakeup  560604.0\n",
       "1122    1122  fe90110788d2   onset  574620.0\n",
       "1123    1123  fe90110788d2  wakeup  581604.0\n",
       "\n",
       "[1124 rows x 4 columns]"
      ]
     },
     "execution_count": 30,
     "metadata": {},
     "output_type": "execute_result"
    }
   ],
   "source": [
    "val_solution"
   ]
  },
  {
   "cell_type": "code",
   "execution_count": 31,
   "id": "2627253e",
   "metadata": {
    "execution": {
     "iopub.execute_input": "2023-11-21T05:38:30.945499Z",
     "iopub.status.busy": "2023-11-21T05:38:30.945065Z",
     "iopub.status.idle": "2023-11-21T05:38:30.960835Z",
     "shell.execute_reply": "2023-11-21T05:38:30.959718Z"
    },
    "papermill": {
     "duration": 0.036195,
     "end_time": "2023-11-21T05:38:30.963076",
     "exception": false,
     "start_time": "2023-11-21T05:38:30.926881",
     "status": "completed"
    },
    "tags": []
   },
   "outputs": [
    {
     "data": {
      "text/html": [
       "<div>\n",
       "<style scoped>\n",
       "    .dataframe tbody tr th:only-of-type {\n",
       "        vertical-align: middle;\n",
       "    }\n",
       "\n",
       "    .dataframe tbody tr th {\n",
       "        vertical-align: top;\n",
       "    }\n",
       "\n",
       "    .dataframe thead th {\n",
       "        text-align: right;\n",
       "    }\n",
       "</style>\n",
       "<table border=\"1\" class=\"dataframe\">\n",
       "  <thead>\n",
       "    <tr style=\"text-align: right;\">\n",
       "      <th></th>\n",
       "      <th>row_id</th>\n",
       "      <th>series_id</th>\n",
       "      <th>step</th>\n",
       "      <th>event</th>\n",
       "      <th>score</th>\n",
       "    </tr>\n",
       "  </thead>\n",
       "  <tbody>\n",
       "    <tr>\n",
       "      <th>4</th>\n",
       "      <td>4</td>\n",
       "      <td>062cae666e2a</td>\n",
       "      <td>5121</td>\n",
       "      <td>onset</td>\n",
       "      <td>0.983156</td>\n",
       "    </tr>\n",
       "    <tr>\n",
       "      <th>6</th>\n",
       "      <td>6</td>\n",
       "      <td>062cae666e2a</td>\n",
       "      <td>11538</td>\n",
       "      <td>wakeup</td>\n",
       "      <td>0.879441</td>\n",
       "    </tr>\n",
       "    <tr>\n",
       "      <th>10</th>\n",
       "      <td>10</td>\n",
       "      <td>062cae666e2a</td>\n",
       "      <td>13495</td>\n",
       "      <td>wakeup</td>\n",
       "      <td>0.871239</td>\n",
       "    </tr>\n",
       "    <tr>\n",
       "      <th>11</th>\n",
       "      <td>11</td>\n",
       "      <td>062cae666e2a</td>\n",
       "      <td>13653</td>\n",
       "      <td>wakeup</td>\n",
       "      <td>0.876066</td>\n",
       "    </tr>\n",
       "    <tr>\n",
       "      <th>12</th>\n",
       "      <td>12</td>\n",
       "      <td>062cae666e2a</td>\n",
       "      <td>22800</td>\n",
       "      <td>onset</td>\n",
       "      <td>0.980392</td>\n",
       "    </tr>\n",
       "    <tr>\n",
       "      <th>...</th>\n",
       "      <td>...</td>\n",
       "      <td>...</td>\n",
       "      <td>...</td>\n",
       "      <td>...</td>\n",
       "      <td>...</td>\n",
       "    </tr>\n",
       "    <tr>\n",
       "      <th>4697</th>\n",
       "      <td>4697</td>\n",
       "      <td>fe90110788d2</td>\n",
       "      <td>556592</td>\n",
       "      <td>onset</td>\n",
       "      <td>0.973039</td>\n",
       "    </tr>\n",
       "    <tr>\n",
       "      <th>4700</th>\n",
       "      <td>4700</td>\n",
       "      <td>fe90110788d2</td>\n",
       "      <td>560798</td>\n",
       "      <td>wakeup</td>\n",
       "      <td>0.929117</td>\n",
       "    </tr>\n",
       "    <tr>\n",
       "      <th>4704</th>\n",
       "      <td>4704</td>\n",
       "      <td>fe90110788d2</td>\n",
       "      <td>574630</td>\n",
       "      <td>onset</td>\n",
       "      <td>0.800881</td>\n",
       "    </tr>\n",
       "    <tr>\n",
       "      <th>4708</th>\n",
       "      <td>4708</td>\n",
       "      <td>fe90110788d2</td>\n",
       "      <td>581643</td>\n",
       "      <td>wakeup</td>\n",
       "      <td>0.956323</td>\n",
       "    </tr>\n",
       "    <tr>\n",
       "      <th>4711</th>\n",
       "      <td>4711</td>\n",
       "      <td>fe90110788d2</td>\n",
       "      <td>591589</td>\n",
       "      <td>onset</td>\n",
       "      <td>0.943111</td>\n",
       "    </tr>\n",
       "  </tbody>\n",
       "</table>\n",
       "<p>1542 rows × 5 columns</p>\n",
       "</div>"
      ],
      "text/plain": [
       "      row_id     series_id    step   event     score\n",
       "4          4  062cae666e2a    5121   onset  0.983156\n",
       "6          6  062cae666e2a   11538  wakeup  0.879441\n",
       "10        10  062cae666e2a   13495  wakeup  0.871239\n",
       "11        11  062cae666e2a   13653  wakeup  0.876066\n",
       "12        12  062cae666e2a   22800   onset  0.980392\n",
       "...      ...           ...     ...     ...       ...\n",
       "4697    4697  fe90110788d2  556592   onset  0.973039\n",
       "4700    4700  fe90110788d2  560798  wakeup  0.929117\n",
       "4704    4704  fe90110788d2  574630   onset  0.800881\n",
       "4708    4708  fe90110788d2  581643  wakeup  0.956323\n",
       "4711    4711  fe90110788d2  591589   onset  0.943111\n",
       "\n",
       "[1542 rows x 5 columns]"
      ]
     },
     "execution_count": 31,
     "metadata": {},
     "output_type": "execute_result"
    }
   ],
   "source": [
    "events_submission"
   ]
  },
  {
   "cell_type": "code",
   "execution_count": 32,
   "id": "7add9262",
   "metadata": {
    "execution": {
     "iopub.execute_input": "2023-11-21T05:38:30.998587Z",
     "iopub.status.busy": "2023-11-21T05:38:30.997907Z",
     "iopub.status.idle": "2023-11-21T05:38:31.004372Z",
     "shell.execute_reply": "2023-11-21T05:38:31.003322Z"
    },
    "papermill": {
     "duration": 0.027198,
     "end_time": "2023-11-21T05:38:31.006849",
     "exception": false,
     "start_time": "2023-11-21T05:38:30.979651",
     "status": "completed"
    },
    "tags": []
   },
   "outputs": [
    {
     "data": {
      "text/plain": [
       "array(['062cae666e2a', '694faf956ebf', '18a0ca03431d', '8becc76ea607',\n",
       "       '2fbbee1a38e3', '927dd0c35dfd', 'a88088855de5', 'fe90110788d2',\n",
       "       'c7d693f24684', '78569a801a38', 'c908a0ad3e31', '6bf95a3cf91c',\n",
       "       '18b61dd5aae8', '0cd1e3d0ed95', 'e1f2a4f991cb', '655f19eabf1e',\n",
       "       '2b8d87addea9', 'bccf2f2819f8', 'db5e0ee1c0ab', '785c9ca4eff7',\n",
       "       '1955d568d987', 'd3dddd3c0e00', '90eac42a9ec9', '3c336d6ba566',\n",
       "       'a2b0a64ec9cf', 'f56824b503a0', 'c107b5789660', '3be2f86c3e45',\n",
       "       '137b99e936ab', 'def21f50dd3c', 'e2b60820c325', 'fb223ed2278c',\n",
       "       '416354edd92a', '91cb6c98201f'], dtype=object)"
      ]
     },
     "execution_count": 32,
     "metadata": {},
     "output_type": "execute_result"
    }
   ],
   "source": [
    "series_ids"
   ]
  },
  {
   "cell_type": "code",
   "execution_count": 33,
   "id": "3a630386",
   "metadata": {
    "execution": {
     "iopub.execute_input": "2023-11-21T05:38:31.041872Z",
     "iopub.status.busy": "2023-11-21T05:38:31.041465Z",
     "iopub.status.idle": "2023-11-21T05:38:43.641991Z",
     "shell.execute_reply": "2023-11-21T05:38:43.640967Z"
    },
    "papermill": {
     "duration": 12.620772,
     "end_time": "2023-11-21T05:38:43.644359",
     "exception": false,
     "start_time": "2023-11-21T05:38:31.023587",
     "status": "completed"
    },
    "tags": []
   },
   "outputs": [
    {
     "data": {
      "text/html": [
       "<div>\n",
       "<style scoped>\n",
       "    .dataframe tbody tr th:only-of-type {\n",
       "        vertical-align: middle;\n",
       "    }\n",
       "\n",
       "    .dataframe tbody tr th {\n",
       "        vertical-align: top;\n",
       "    }\n",
       "\n",
       "    .dataframe thead th {\n",
       "        text-align: right;\n",
       "    }\n",
       "</style>\n",
       "<table border=\"1\" class=\"dataframe\">\n",
       "  <thead>\n",
       "    <tr style=\"text-align: right;\">\n",
       "      <th></th>\n",
       "      <th>Series_Id</th>\n",
       "      <th>Score</th>\n",
       "    </tr>\n",
       "  </thead>\n",
       "  <tbody>\n",
       "    <tr>\n",
       "      <th>0</th>\n",
       "      <td>062cae666e2a</td>\n",
       "      <td>0.525694</td>\n",
       "    </tr>\n",
       "    <tr>\n",
       "      <th>1</th>\n",
       "      <td>694faf956ebf</td>\n",
       "      <td>0.732991</td>\n",
       "    </tr>\n",
       "    <tr>\n",
       "      <th>2</th>\n",
       "      <td>18a0ca03431d</td>\n",
       "      <td>0.753983</td>\n",
       "    </tr>\n",
       "    <tr>\n",
       "      <th>3</th>\n",
       "      <td>8becc76ea607</td>\n",
       "      <td>0.745429</td>\n",
       "    </tr>\n",
       "    <tr>\n",
       "      <th>4</th>\n",
       "      <td>2fbbee1a38e3</td>\n",
       "      <td>0.800827</td>\n",
       "    </tr>\n",
       "    <tr>\n",
       "      <th>5</th>\n",
       "      <td>927dd0c35dfd</td>\n",
       "      <td>0.844806</td>\n",
       "    </tr>\n",
       "    <tr>\n",
       "      <th>6</th>\n",
       "      <td>a88088855de5</td>\n",
       "      <td>0.858333</td>\n",
       "    </tr>\n",
       "    <tr>\n",
       "      <th>7</th>\n",
       "      <td>fe90110788d2</td>\n",
       "      <td>0.601172</td>\n",
       "    </tr>\n",
       "    <tr>\n",
       "      <th>8</th>\n",
       "      <td>c7d693f24684</td>\n",
       "      <td>0.815502</td>\n",
       "    </tr>\n",
       "    <tr>\n",
       "      <th>9</th>\n",
       "      <td>78569a801a38</td>\n",
       "      <td>0.672822</td>\n",
       "    </tr>\n",
       "    <tr>\n",
       "      <th>10</th>\n",
       "      <td>c908a0ad3e31</td>\n",
       "      <td>0.678530</td>\n",
       "    </tr>\n",
       "    <tr>\n",
       "      <th>11</th>\n",
       "      <td>6bf95a3cf91c</td>\n",
       "      <td>0.648340</td>\n",
       "    </tr>\n",
       "    <tr>\n",
       "      <th>12</th>\n",
       "      <td>18b61dd5aae8</td>\n",
       "      <td>0.751398</td>\n",
       "    </tr>\n",
       "    <tr>\n",
       "      <th>13</th>\n",
       "      <td>0cd1e3d0ed95</td>\n",
       "      <td>0.805357</td>\n",
       "    </tr>\n",
       "    <tr>\n",
       "      <th>14</th>\n",
       "      <td>e1f2a4f991cb</td>\n",
       "      <td>0.770555</td>\n",
       "    </tr>\n",
       "    <tr>\n",
       "      <th>15</th>\n",
       "      <td>655f19eabf1e</td>\n",
       "      <td>0.539949</td>\n",
       "    </tr>\n",
       "    <tr>\n",
       "      <th>16</th>\n",
       "      <td>2b8d87addea9</td>\n",
       "      <td>0.675660</td>\n",
       "    </tr>\n",
       "    <tr>\n",
       "      <th>17</th>\n",
       "      <td>bccf2f2819f8</td>\n",
       "      <td>0.644731</td>\n",
       "    </tr>\n",
       "    <tr>\n",
       "      <th>18</th>\n",
       "      <td>db5e0ee1c0ab</td>\n",
       "      <td>0.176535</td>\n",
       "    </tr>\n",
       "    <tr>\n",
       "      <th>19</th>\n",
       "      <td>785c9ca4eff7</td>\n",
       "      <td>0.585428</td>\n",
       "    </tr>\n",
       "    <tr>\n",
       "      <th>20</th>\n",
       "      <td>1955d568d987</td>\n",
       "      <td>0.768076</td>\n",
       "    </tr>\n",
       "    <tr>\n",
       "      <th>21</th>\n",
       "      <td>d3dddd3c0e00</td>\n",
       "      <td>0.804188</td>\n",
       "    </tr>\n",
       "    <tr>\n",
       "      <th>22</th>\n",
       "      <td>90eac42a9ec9</td>\n",
       "      <td>0.707327</td>\n",
       "    </tr>\n",
       "    <tr>\n",
       "      <th>23</th>\n",
       "      <td>3c336d6ba566</td>\n",
       "      <td>0.855910</td>\n",
       "    </tr>\n",
       "    <tr>\n",
       "      <th>24</th>\n",
       "      <td>a2b0a64ec9cf</td>\n",
       "      <td>0.750000</td>\n",
       "    </tr>\n",
       "    <tr>\n",
       "      <th>25</th>\n",
       "      <td>f56824b503a0</td>\n",
       "      <td>0.046583</td>\n",
       "    </tr>\n",
       "    <tr>\n",
       "      <th>26</th>\n",
       "      <td>c107b5789660</td>\n",
       "      <td>0.261905</td>\n",
       "    </tr>\n",
       "    <tr>\n",
       "      <th>27</th>\n",
       "      <td>3be2f86c3e45</td>\n",
       "      <td>0.609952</td>\n",
       "    </tr>\n",
       "    <tr>\n",
       "      <th>28</th>\n",
       "      <td>137b99e936ab</td>\n",
       "      <td>0.583448</td>\n",
       "    </tr>\n",
       "    <tr>\n",
       "      <th>29</th>\n",
       "      <td>def21f50dd3c</td>\n",
       "      <td>0.673798</td>\n",
       "    </tr>\n",
       "    <tr>\n",
       "      <th>30</th>\n",
       "      <td>e2b60820c325</td>\n",
       "      <td>0.693920</td>\n",
       "    </tr>\n",
       "    <tr>\n",
       "      <th>31</th>\n",
       "      <td>fb223ed2278c</td>\n",
       "      <td>0.461500</td>\n",
       "    </tr>\n",
       "    <tr>\n",
       "      <th>32</th>\n",
       "      <td>416354edd92a</td>\n",
       "      <td>0.636752</td>\n",
       "    </tr>\n",
       "    <tr>\n",
       "      <th>33</th>\n",
       "      <td>91cb6c98201f</td>\n",
       "      <td>0.624575</td>\n",
       "    </tr>\n",
       "  </tbody>\n",
       "</table>\n",
       "</div>"
      ],
      "text/plain": [
       "       Series_Id     Score\n",
       "0   062cae666e2a  0.525694\n",
       "1   694faf956ebf  0.732991\n",
       "2   18a0ca03431d  0.753983\n",
       "3   8becc76ea607  0.745429\n",
       "4   2fbbee1a38e3  0.800827\n",
       "5   927dd0c35dfd  0.844806\n",
       "6   a88088855de5  0.858333\n",
       "7   fe90110788d2  0.601172\n",
       "8   c7d693f24684  0.815502\n",
       "9   78569a801a38  0.672822\n",
       "10  c908a0ad3e31  0.678530\n",
       "11  6bf95a3cf91c  0.648340\n",
       "12  18b61dd5aae8  0.751398\n",
       "13  0cd1e3d0ed95  0.805357\n",
       "14  e1f2a4f991cb  0.770555\n",
       "15  655f19eabf1e  0.539949\n",
       "16  2b8d87addea9  0.675660\n",
       "17  bccf2f2819f8  0.644731\n",
       "18  db5e0ee1c0ab  0.176535\n",
       "19  785c9ca4eff7  0.585428\n",
       "20  1955d568d987  0.768076\n",
       "21  d3dddd3c0e00  0.804188\n",
       "22  90eac42a9ec9  0.707327\n",
       "23  3c336d6ba566  0.855910\n",
       "24  a2b0a64ec9cf  0.750000\n",
       "25  f56824b503a0  0.046583\n",
       "26  c107b5789660  0.261905\n",
       "27  3be2f86c3e45  0.609952\n",
       "28  137b99e936ab  0.583448\n",
       "29  def21f50dd3c  0.673798\n",
       "30  e2b60820c325  0.693920\n",
       "31  fb223ed2278c  0.461500\n",
       "32  416354edd92a  0.636752\n",
       "33  91cb6c98201f  0.624575"
      ]
     },
     "execution_count": 33,
     "metadata": {},
     "output_type": "execute_result"
    }
   ],
   "source": [
    "scores_series = []\n",
    "for i in series_ids:\n",
    "    #print(f\"Model score - {i} : {score(val_solution[(val_solution['series_id']==i)],events_submission[(events_submission['series_id']==i)],tolerances, **column_names)}\")\n",
    "    scores_series.append(score(val_solution[(val_solution['series_id']==i)],\n",
    "                               events_submission[(events_submission['series_id']==i)],tolerances, **column_names))\n",
    "df1=pd.DataFrame(scores_series)\n",
    "df1.rename(columns={ df1.columns[0]: \"Score\"}, inplace = True)\n",
    "df2=pd.DataFrame(series_ids)\n",
    "df2.rename(columns={ df2.columns[0]: \"Series_Id\" }, inplace = True)\n",
    "df_scores = pd.concat([df2, df1], axis=1)\n",
    "df_scores"
   ]
  },
  {
   "cell_type": "code",
   "execution_count": 34,
   "id": "e9866e83",
   "metadata": {
    "execution": {
     "iopub.execute_input": "2023-11-21T05:38:43.680781Z",
     "iopub.status.busy": "2023-11-21T05:38:43.680378Z",
     "iopub.status.idle": "2023-11-21T05:38:43.689651Z",
     "shell.execute_reply": "2023-11-21T05:38:43.688739Z"
    },
    "papermill": {
     "duration": 0.030136,
     "end_time": "2023-11-21T05:38:43.691901",
     "exception": false,
     "start_time": "2023-11-21T05:38:43.661765",
     "status": "completed"
    },
    "tags": []
   },
   "outputs": [],
   "source": [
    "df_scores.to_csv('test_scores_cnn_scm_v4.csv', index=False)"
   ]
  },
  {
   "cell_type": "code",
   "execution_count": 35,
   "id": "fce17d03",
   "metadata": {
    "execution": {
     "iopub.execute_input": "2023-11-21T05:38:43.728051Z",
     "iopub.status.busy": "2023-11-21T05:38:43.727629Z",
     "iopub.status.idle": "2023-11-21T05:38:44.920365Z",
     "shell.execute_reply": "2023-11-21T05:38:44.919139Z"
    },
    "papermill": {
     "duration": 1.214223,
     "end_time": "2023-11-21T05:38:44.923235",
     "exception": false,
     "start_time": "2023-11-21T05:38:43.709012",
     "status": "completed"
    },
    "tags": []
   },
   "outputs": [],
   "source": [
    "!rm -rf /kaggle/working/images"
   ]
  },
  {
   "cell_type": "code",
   "execution_count": 36,
   "id": "f27d384b",
   "metadata": {
    "execution": {
     "iopub.execute_input": "2023-11-21T05:38:44.960081Z",
     "iopub.status.busy": "2023-11-21T05:38:44.959626Z",
     "iopub.status.idle": "2023-11-21T05:38:44.998443Z",
     "shell.execute_reply": "2023-11-21T05:38:44.997279Z"
    },
    "papermill": {
     "duration": 0.060636,
     "end_time": "2023-11-21T05:38:45.001285",
     "exception": false,
     "start_time": "2023-11-21T05:38:44.940649",
     "status": "completed"
    },
    "tags": []
   },
   "outputs": [],
   "source": [
    "submission_df.to_csv(\"submission.csv\", index=False)"
   ]
  },
  {
   "cell_type": "code",
   "execution_count": null,
   "id": "7456cbd6",
   "metadata": {
    "papermill": {
     "duration": 0.017263,
     "end_time": "2023-11-21T05:38:45.036721",
     "exception": false,
     "start_time": "2023-11-21T05:38:45.019458",
     "status": "completed"
    },
    "tags": []
   },
   "outputs": [],
   "source": []
  },
  {
   "cell_type": "code",
   "execution_count": null,
   "id": "04f7bfed",
   "metadata": {
    "papermill": {
     "duration": 0.016897,
     "end_time": "2023-11-21T05:38:45.071027",
     "exception": false,
     "start_time": "2023-11-21T05:38:45.054130",
     "status": "completed"
    },
    "tags": []
   },
   "outputs": [],
   "source": []
  },
  {
   "cell_type": "code",
   "execution_count": null,
   "id": "f7e0d6ec",
   "metadata": {
    "papermill": {
     "duration": 0.016772,
     "end_time": "2023-11-21T05:38:45.104980",
     "exception": false,
     "start_time": "2023-11-21T05:38:45.088208",
     "status": "completed"
    },
    "tags": []
   },
   "outputs": [],
   "source": []
  }
 ],
 "metadata": {
  "kaggle": {
   "accelerator": "none",
   "dataSources": [
    {
     "databundleVersionId": 6589269,
     "sourceId": 53666,
     "sourceType": "competition"
    },
    {
     "datasetId": 3988968,
     "sourceId": 6945671,
     "sourceType": "datasetVersion"
    },
    {
     "datasetId": 4032466,
     "sourceId": 7013430,
     "sourceType": "datasetVersion"
    },
    {
     "datasetId": 4033222,
     "sourceId": 7015171,
     "sourceType": "datasetVersion"
    }
   ],
   "dockerImageVersionId": 30587,
   "isGpuEnabled": false,
   "isInternetEnabled": true,
   "language": "python",
   "sourceType": "notebook"
  },
  "kernelspec": {
   "display_name": "Python 3",
   "language": "python",
   "name": "python3"
  },
  "language_info": {
   "codemirror_mode": {
    "name": "ipython",
    "version": 3
   },
   "file_extension": ".py",
   "mimetype": "text/x-python",
   "name": "python",
   "nbconvert_exporter": "python",
   "pygments_lexer": "ipython3",
   "version": "3.10.12"
  },
  "papermill": {
   "default_parameters": {},
   "duration": 5673.745036,
   "end_time": "2023-11-21T05:38:46.460940",
   "environment_variables": {},
   "exception": null,
   "input_path": "__notebook__.ipynb",
   "output_path": "__notebook__.ipynb",
   "parameters": {},
   "start_time": "2023-11-21T04:04:12.715904",
   "version": "2.4.0"
  },
  "widgets": {
   "application/vnd.jupyter.widget-state+json": {
    "state": {
     "04ff92e5bac946e4951070417d42e2c7": {
      "model_module": "@jupyter-widgets/base",
      "model_module_version": "1.2.0",
      "model_name": "LayoutModel",
      "state": {
       "_model_module": "@jupyter-widgets/base",
       "_model_module_version": "1.2.0",
       "_model_name": "LayoutModel",
       "_view_count": null,
       "_view_module": "@jupyter-widgets/base",
       "_view_module_version": "1.2.0",
       "_view_name": "LayoutView",
       "align_content": null,
       "align_items": null,
       "align_self": null,
       "border": null,
       "bottom": null,
       "display": null,
       "flex": null,
       "flex_flow": null,
       "grid_area": null,
       "grid_auto_columns": null,
       "grid_auto_flow": null,
       "grid_auto_rows": null,
       "grid_column": null,
       "grid_gap": null,
       "grid_row": null,
       "grid_template_areas": null,
       "grid_template_columns": null,
       "grid_template_rows": null,
       "height": null,
       "justify_content": null,
       "justify_items": null,
       "left": null,
       "margin": null,
       "max_height": null,
       "max_width": null,
       "min_height": null,
       "min_width": null,
       "object_fit": null,
       "object_position": null,
       "order": null,
       "overflow": null,
       "overflow_x": null,
       "overflow_y": null,
       "padding": null,
       "right": null,
       "top": null,
       "visibility": null,
       "width": null
      }
     },
     "1f824d401a49428e8522f2a4d41919e3": {
      "model_module": "@jupyter-widgets/base",
      "model_module_version": "1.2.0",
      "model_name": "LayoutModel",
      "state": {
       "_model_module": "@jupyter-widgets/base",
       "_model_module_version": "1.2.0",
       "_model_name": "LayoutModel",
       "_view_count": null,
       "_view_module": "@jupyter-widgets/base",
       "_view_module_version": "1.2.0",
       "_view_name": "LayoutView",
       "align_content": null,
       "align_items": null,
       "align_self": null,
       "border": null,
       "bottom": null,
       "display": null,
       "flex": null,
       "flex_flow": null,
       "grid_area": null,
       "grid_auto_columns": null,
       "grid_auto_flow": null,
       "grid_auto_rows": null,
       "grid_column": null,
       "grid_gap": null,
       "grid_row": null,
       "grid_template_areas": null,
       "grid_template_columns": null,
       "grid_template_rows": null,
       "height": null,
       "justify_content": null,
       "justify_items": null,
       "left": null,
       "margin": null,
       "max_height": null,
       "max_width": null,
       "min_height": null,
       "min_width": null,
       "object_fit": null,
       "object_position": null,
       "order": null,
       "overflow": null,
       "overflow_x": null,
       "overflow_y": null,
       "padding": null,
       "right": null,
       "top": null,
       "visibility": null,
       "width": null
      }
     },
     "288b05050d4e4f06bf1723562aab2b23": {
      "model_module": "@jupyter-widgets/controls",
      "model_module_version": "1.5.0",
      "model_name": "DescriptionStyleModel",
      "state": {
       "_model_module": "@jupyter-widgets/controls",
       "_model_module_version": "1.5.0",
       "_model_name": "DescriptionStyleModel",
       "_view_count": null,
       "_view_module": "@jupyter-widgets/base",
       "_view_module_version": "1.2.0",
       "_view_name": "StyleView",
       "description_width": ""
      }
     },
     "326a71d5993f429bad0e8fcd9996238c": {
      "model_module": "@jupyter-widgets/controls",
      "model_module_version": "1.5.0",
      "model_name": "ProgressStyleModel",
      "state": {
       "_model_module": "@jupyter-widgets/controls",
       "_model_module_version": "1.5.0",
       "_model_name": "ProgressStyleModel",
       "_view_count": null,
       "_view_module": "@jupyter-widgets/base",
       "_view_module_version": "1.2.0",
       "_view_name": "StyleView",
       "bar_color": null,
       "description_width": ""
      }
     },
     "647a1c841faf498cb793d7c17650ca81": {
      "model_module": "@jupyter-widgets/controls",
      "model_module_version": "1.5.0",
      "model_name": "DescriptionStyleModel",
      "state": {
       "_model_module": "@jupyter-widgets/controls",
       "_model_module_version": "1.5.0",
       "_model_name": "DescriptionStyleModel",
       "_view_count": null,
       "_view_module": "@jupyter-widgets/base",
       "_view_module_version": "1.2.0",
       "_view_name": "StyleView",
       "description_width": ""
      }
     },
     "64dd2b95872c44a0ab3c8b679e40291a": {
      "model_module": "@jupyter-widgets/controls",
      "model_module_version": "1.5.0",
      "model_name": "HTMLModel",
      "state": {
       "_dom_classes": [],
       "_model_module": "@jupyter-widgets/controls",
       "_model_module_version": "1.5.0",
       "_model_name": "HTMLModel",
       "_view_count": null,
       "_view_module": "@jupyter-widgets/controls",
       "_view_module_version": "1.5.0",
       "_view_name": "HTMLView",
       "description": "",
       "description_tooltip": null,
       "layout": "IPY_MODEL_04ff92e5bac946e4951070417d42e2c7",
       "placeholder": "​",
       "style": "IPY_MODEL_288b05050d4e4f06bf1723562aab2b23",
       "value": "100%"
      }
     },
     "7eaa3a9626994e6e8c16c90c191b25c8": {
      "model_module": "@jupyter-widgets/controls",
      "model_module_version": "1.5.0",
      "model_name": "HTMLModel",
      "state": {
       "_dom_classes": [],
       "_model_module": "@jupyter-widgets/controls",
       "_model_module_version": "1.5.0",
       "_model_name": "HTMLModel",
       "_view_count": null,
       "_view_module": "@jupyter-widgets/controls",
       "_view_module_version": "1.5.0",
       "_view_name": "HTMLView",
       "description": "",
       "description_tooltip": null,
       "layout": "IPY_MODEL_1f824d401a49428e8522f2a4d41919e3",
       "placeholder": "​",
       "style": "IPY_MODEL_647a1c841faf498cb793d7c17650ca81",
       "value": " 34/34 [45:27&lt;00:00, 85.22s/it]"
      }
     },
     "af5628b5b5b64b5dbcbe38838cac761f": {
      "model_module": "@jupyter-widgets/controls",
      "model_module_version": "1.5.0",
      "model_name": "FloatProgressModel",
      "state": {
       "_dom_classes": [],
       "_model_module": "@jupyter-widgets/controls",
       "_model_module_version": "1.5.0",
       "_model_name": "FloatProgressModel",
       "_view_count": null,
       "_view_module": "@jupyter-widgets/controls",
       "_view_module_version": "1.5.0",
       "_view_name": "ProgressView",
       "bar_style": "success",
       "description": "",
       "description_tooltip": null,
       "layout": "IPY_MODEL_e53aad4036094a4c9d9c070d91c47a64",
       "max": 34.0,
       "min": 0.0,
       "orientation": "horizontal",
       "style": "IPY_MODEL_326a71d5993f429bad0e8fcd9996238c",
       "value": 34.0
      }
     },
     "c4fab97ab80e4b89adb7be3f46df011f": {
      "model_module": "@jupyter-widgets/base",
      "model_module_version": "1.2.0",
      "model_name": "LayoutModel",
      "state": {
       "_model_module": "@jupyter-widgets/base",
       "_model_module_version": "1.2.0",
       "_model_name": "LayoutModel",
       "_view_count": null,
       "_view_module": "@jupyter-widgets/base",
       "_view_module_version": "1.2.0",
       "_view_name": "LayoutView",
       "align_content": null,
       "align_items": null,
       "align_self": null,
       "border": null,
       "bottom": null,
       "display": null,
       "flex": null,
       "flex_flow": null,
       "grid_area": null,
       "grid_auto_columns": null,
       "grid_auto_flow": null,
       "grid_auto_rows": null,
       "grid_column": null,
       "grid_gap": null,
       "grid_row": null,
       "grid_template_areas": null,
       "grid_template_columns": null,
       "grid_template_rows": null,
       "height": null,
       "justify_content": null,
       "justify_items": null,
       "left": null,
       "margin": null,
       "max_height": null,
       "max_width": null,
       "min_height": null,
       "min_width": null,
       "object_fit": null,
       "object_position": null,
       "order": null,
       "overflow": null,
       "overflow_x": null,
       "overflow_y": null,
       "padding": null,
       "right": null,
       "top": null,
       "visibility": null,
       "width": null
      }
     },
     "e4460c0bf63b4d6bb0cdaca1438c1622": {
      "model_module": "@jupyter-widgets/controls",
      "model_module_version": "1.5.0",
      "model_name": "HBoxModel",
      "state": {
       "_dom_classes": [],
       "_model_module": "@jupyter-widgets/controls",
       "_model_module_version": "1.5.0",
       "_model_name": "HBoxModel",
       "_view_count": null,
       "_view_module": "@jupyter-widgets/controls",
       "_view_module_version": "1.5.0",
       "_view_name": "HBoxView",
       "box_style": "",
       "children": [
        "IPY_MODEL_64dd2b95872c44a0ab3c8b679e40291a",
        "IPY_MODEL_af5628b5b5b64b5dbcbe38838cac761f",
        "IPY_MODEL_7eaa3a9626994e6e8c16c90c191b25c8"
       ],
       "layout": "IPY_MODEL_c4fab97ab80e4b89adb7be3f46df011f"
      }
     },
     "e53aad4036094a4c9d9c070d91c47a64": {
      "model_module": "@jupyter-widgets/base",
      "model_module_version": "1.2.0",
      "model_name": "LayoutModel",
      "state": {
       "_model_module": "@jupyter-widgets/base",
       "_model_module_version": "1.2.0",
       "_model_name": "LayoutModel",
       "_view_count": null,
       "_view_module": "@jupyter-widgets/base",
       "_view_module_version": "1.2.0",
       "_view_name": "LayoutView",
       "align_content": null,
       "align_items": null,
       "align_self": null,
       "border": null,
       "bottom": null,
       "display": null,
       "flex": null,
       "flex_flow": null,
       "grid_area": null,
       "grid_auto_columns": null,
       "grid_auto_flow": null,
       "grid_auto_rows": null,
       "grid_column": null,
       "grid_gap": null,
       "grid_row": null,
       "grid_template_areas": null,
       "grid_template_columns": null,
       "grid_template_rows": null,
       "height": null,
       "justify_content": null,
       "justify_items": null,
       "left": null,
       "margin": null,
       "max_height": null,
       "max_width": null,
       "min_height": null,
       "min_width": null,
       "object_fit": null,
       "object_position": null,
       "order": null,
       "overflow": null,
       "overflow_x": null,
       "overflow_y": null,
       "padding": null,
       "right": null,
       "top": null,
       "visibility": null,
       "width": null
      }
     }
    },
    "version_major": 2,
    "version_minor": 0
   }
  }
 },
 "nbformat": 4,
 "nbformat_minor": 5
}
