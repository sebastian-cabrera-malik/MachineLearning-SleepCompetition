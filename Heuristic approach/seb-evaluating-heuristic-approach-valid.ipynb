{
 "cells": [
  {
   "cell_type": "markdown",
   "id": "3648de9b",
   "metadata": {
    "papermill": {
     "duration": 0.014321,
     "end_time": "2023-11-20T02:12:04.788726",
     "exception": false,
     "start_time": "2023-11-20T02:12:04.774405",
     "status": "completed"
    },
    "tags": []
   },
   "source": [
    "# Libraries"
   ]
  },
  {
   "cell_type": "code",
   "execution_count": 1,
   "id": "979ac47f",
   "metadata": {
    "execution": {
     "iopub.execute_input": "2023-11-20T02:12:04.820513Z",
     "iopub.status.busy": "2023-11-20T02:12:04.819630Z",
     "iopub.status.idle": "2023-11-20T02:12:08.815975Z",
     "shell.execute_reply": "2023-11-20T02:12:08.814545Z"
    },
    "papermill": {
     "duration": 4.016309,
     "end_time": "2023-11-20T02:12:08.819087",
     "exception": false,
     "start_time": "2023-11-20T02:12:04.802778",
     "status": "completed"
    },
    "tags": []
   },
   "outputs": [],
   "source": [
    "import gc\n",
    "import pandas as pd\n",
    "import numpy as np\n",
    "import datetime as dt\n",
    "\n",
    "import matplotlib.pyplot as plt\n",
    "import matplotlib.cm as cm\n",
    "import seaborn as sns\n",
    "\n",
    "import plotly.graph_objects as go\n",
    "from plotly.subplots import make_subplots\n",
    "import plotly.express as px\n",
    "import plotly.offline\n",
    "\n",
    "from colorama import Fore, Style, init\n",
    "from pprint import pprint\n",
    "\n",
    "# 🚫 Suppressing warnings 🚫\n",
    "import warnings\n",
    "warnings.filterwarnings('ignore')"
   ]
  },
  {
   "cell_type": "code",
   "execution_count": 2,
   "id": "1f3c4505",
   "metadata": {
    "execution": {
     "iopub.execute_input": "2023-11-20T02:12:08.850419Z",
     "iopub.status.busy": "2023-11-20T02:12:08.849350Z",
     "iopub.status.idle": "2023-11-20T02:12:08.856411Z",
     "shell.execute_reply": "2023-11-20T02:12:08.855143Z"
    },
    "papermill": {
     "duration": 0.025457,
     "end_time": "2023-11-20T02:12:08.859209",
     "exception": false,
     "start_time": "2023-11-20T02:12:08.833752",
     "status": "completed"
    },
    "tags": []
   },
   "outputs": [],
   "source": [
    "import matplotlib.pyplot as plt\n",
    "import matplotlib.cm as cm\n",
    "import matplotlib.dates as mdates\n",
    "import seaborn as sns\n",
    "\n",
    "import plotly.graph_objects as go\n",
    "from plotly.subplots import make_subplots\n",
    "import plotly.express as px\n",
    "import plotly.offline"
   ]
  },
  {
   "cell_type": "code",
   "execution_count": 3,
   "id": "560d19ef",
   "metadata": {
    "execution": {
     "iopub.execute_input": "2023-11-20T02:12:08.889657Z",
     "iopub.status.busy": "2023-11-20T02:12:08.889160Z",
     "iopub.status.idle": "2023-11-20T02:12:09.148591Z",
     "shell.execute_reply": "2023-11-20T02:12:09.147115Z"
    },
    "papermill": {
     "duration": 0.278277,
     "end_time": "2023-11-20T02:12:09.151819",
     "exception": false,
     "start_time": "2023-11-20T02:12:08.873542",
     "status": "completed"
    },
    "tags": []
   },
   "outputs": [],
   "source": [
    "from scipy.stats import entropy\n",
    "from collections import Counter\n",
    "import polars as pl"
   ]
  },
  {
   "cell_type": "code",
   "execution_count": 4,
   "id": "f461f9f4",
   "metadata": {
    "execution": {
     "iopub.execute_input": "2023-11-20T02:12:09.182087Z",
     "iopub.status.busy": "2023-11-20T02:12:09.181609Z",
     "iopub.status.idle": "2023-11-20T02:12:09.250114Z",
     "shell.execute_reply": "2023-11-20T02:12:09.248547Z"
    },
    "papermill": {
     "duration": 0.087577,
     "end_time": "2023-11-20T02:12:09.253367",
     "exception": false,
     "start_time": "2023-11-20T02:12:09.165790",
     "status": "completed"
    },
    "tags": []
   },
   "outputs": [],
   "source": [
    "from joblib import Parallel, delayed\n",
    "from time import sleep, time\n",
    "from multiprocessing import cpu_count"
   ]
  },
  {
   "cell_type": "code",
   "execution_count": 5,
   "id": "43e6ef42",
   "metadata": {
    "execution": {
     "iopub.execute_input": "2023-11-20T02:12:09.283544Z",
     "iopub.status.busy": "2023-11-20T02:12:09.283002Z",
     "iopub.status.idle": "2023-11-20T02:12:11.956179Z",
     "shell.execute_reply": "2023-11-20T02:12:11.954590Z"
    },
    "papermill": {
     "duration": 2.69188,
     "end_time": "2023-11-20T02:12:11.959444",
     "exception": false,
     "start_time": "2023-11-20T02:12:09.267564",
     "status": "completed"
    },
    "tags": []
   },
   "outputs": [],
   "source": [
    "from sklearn.ensemble import RandomForestClassifier\n",
    "from sklearn.ensemble import GradientBoostingClassifier\n",
    "import lightgbm as lgb\n",
    "from imblearn.under_sampling import RandomUnderSampler\n",
    "from catboost import CatBoostClassifier\n",
    "from sklearn.ensemble import ExtraTreesClassifier\n",
    "import xgboost as xgb"
   ]
  },
  {
   "cell_type": "code",
   "execution_count": 6,
   "id": "efc879c7",
   "metadata": {
    "execution": {
     "iopub.execute_input": "2023-11-20T02:12:11.988935Z",
     "iopub.status.busy": "2023-11-20T02:12:11.988040Z",
     "iopub.status.idle": "2023-11-20T02:12:11.996688Z",
     "shell.execute_reply": "2023-11-20T02:12:11.995281Z"
    },
    "papermill": {
     "duration": 0.026047,
     "end_time": "2023-11-20T02:12:11.999214",
     "exception": false,
     "start_time": "2023-11-20T02:12:11.973167",
     "status": "completed"
    },
    "tags": []
   },
   "outputs": [],
   "source": [
    "import numpy as np\n",
    "import pandas as pd\n",
    "import pandas.api.types\n",
    "from typing import Dict, List, Tuple\n",
    "\n",
    "tolerances = {\n",
    "    'onset': [12, 36, 60, 90, 120, 150, 180, 240, 300, 360], \n",
    "    'wakeup': [12, 36, 60, 90, 120, 150, 180, 240, 300, 360]\n",
    "}\n",
    "\n",
    "column_names = {\n",
    "    'series_id_column_name': 'series_id',\n",
    "    'time_column_name': 'step',\n",
    "    'event_column_name': 'event',\n",
    "    'score_column_name': 'score',\n",
    "}"
   ]
  },
  {
   "cell_type": "code",
   "execution_count": 7,
   "id": "4f88bc4f",
   "metadata": {
    "execution": {
     "iopub.execute_input": "2023-11-20T02:12:12.029473Z",
     "iopub.status.busy": "2023-11-20T02:12:12.029045Z",
     "iopub.status.idle": "2023-11-20T02:12:12.084746Z",
     "shell.execute_reply": "2023-11-20T02:12:12.083424Z"
    },
    "jupyter": {
     "source_hidden": true
    },
    "papermill": {
     "duration": 0.075263,
     "end_time": "2023-11-20T02:12:12.087901",
     "exception": false,
     "start_time": "2023-11-20T02:12:12.012638",
     "status": "completed"
    },
    "tags": []
   },
   "outputs": [],
   "source": [
    "def score(\n",
    "        solution: pd.DataFrame,\n",
    "        submission: pd.DataFrame,\n",
    "        tolerances: Dict[str, List[float]],\n",
    "        series_id_column_name: str,\n",
    "        time_column_name: str,\n",
    "        event_column_name: str,\n",
    "        score_column_name: str,\n",
    "        use_scoring_intervals: bool = False,\n",
    ") -> float:\n",
    "    \"\"\"Event Detection Average Precision, an AUCPR metric for event detection in\n",
    "    time series and video.\n",
    "\n",
    "    This metric is similar to IOU-threshold average precision metrics commonly\n",
    "    used in object detection. For events occuring in time series, we replace the\n",
    "    IOU threshold with a time tolerance.\n",
    "\n",
    "    Submissions are evaluated on the average precision of detected events,\n",
    "    averaged over timestamp error tolerance thresholds, averaged over event\n",
    "    classes.\n",
    "\n",
    "    Detections are matched to ground-truth events within error tolerances, with\n",
    "    ambiguities resolved in order of decreasing confidence.\n",
    "\n",
    "    Detailed Description\n",
    "    --------------------\n",
    "    Evaluation proceeds in four steps:\n",
    "\n",
    "    1. Selection - (optional) Predictions not within a series' scoring\n",
    "    intervals are dropped.\n",
    "    2. Assignment - Predicted events are matched with ground-truth events.\n",
    "    3. Scoring - Each group of predictions is scored against its corresponding\n",
    "    group of ground-truth events via Average Precision.\n",
    "    4. Reduction - The multiple AP scores are averaged to produce a single\n",
    "    overall score.\n",
    "\n",
    "    Selection\n",
    "\n",
    "    With each series there may be a defined set of scoring intervals giving the\n",
    "    intervals of time over which zero or more ground-truth events might be\n",
    "    annotated in that series. A prediction will be evaluated only if it falls\n",
    "    within a scoring interval. These scoring intervals can be chosen to improve\n",
    "    the fairness of evaluation by, for instance, ignoring edge-cases or\n",
    "    ambiguous events.\n",
    "\n",
    "    It is recommended that, if used, scoring intervals be provided for training\n",
    "    data but not test data.\n",
    "\n",
    "    Assignment\n",
    "\n",
    "    For each set of predictions and ground-truths within the same `event x\n",
    "    tolerance x series_id` group, we match each ground-truth to the\n",
    "    highest-confidence unmatched prediction occurring within the allowed\n",
    "    tolerance.\n",
    "\n",
    "    Some ground-truths may not be matched to a prediction and some predictions\n",
    "    may not be matched to a ground-truth. They will still be accounted for in\n",
    "    the scoring, however.\n",
    "\n",
    "    Scoring\n",
    "\n",
    "    Collecting the events within each `series_id`, we compute an Average\n",
    "    Precision score for each `event x tolerance` group. The average precision\n",
    "    score is the area under the (step-wise) precision-recall curve generated by\n",
    "    decreasing confidence score thresholds over the predictions. In this\n",
    "    calculation, matched predictions over the threshold are scored as TP and\n",
    "    unmatched predictions as FP. Unmatched ground-truths are scored as FN.\n",
    "\n",
    "    Reduction\n",
    "\n",
    "    The final score is the average of the above AP scores, first averaged over\n",
    "    tolerance, then over event.\n",
    "\n",
    "    Parameters\n",
    "    ----------\n",
    "    solution : pd.DataFrame, with columns:\n",
    "\n",
    "        `series_id_column_name` identifier for each time series\n",
    "\n",
    "        `time_column_name` the time of occurence for each event as a numeric type\n",
    "\n",
    "        `event_column_name` class label for each event\n",
    "\n",
    "        The solution contains the time of occurence of one or more types of\n",
    "        event within one or more time series. The metric expects the solution to\n",
    "        contain the same event types as those given in `tolerances`.\n",
    "\n",
    "        When `use_scoring_intervals == True`, you may include `start` and `end`\n",
    "        events to delimit intervals within which detections will be scored.\n",
    "        Detected events (from the user submission) outside of these events will\n",
    "        be ignored.\n",
    "\n",
    "    submission : pd.DataFrame, with columns as above and in addition:\n",
    "\n",
    "        `score_column_name` the predicted confidence score for the detected event\n",
    "\n",
    "    tolerances : Dict[str, List[float]]\n",
    "\n",
    "        Maps each event class to a list of timestamp tolerances used\n",
    "        for matching detections to ground-truth events.\n",
    "\n",
    "    use_scoring_intervals: bool, default False\n",
    "\n",
    "        Whether to ignore predicted events outside intervals delimited\n",
    "        by `'start'` and `'end'` events in the solution. When `False`,\n",
    "        the solution should not include `'start'` and `'end'` events.\n",
    "        See the examples for illustration.\n",
    "\n",
    "    Returns\n",
    "    -------\n",
    "    event_detection_ap : float\n",
    "        The mean average precision of the detected events.\n",
    "\n",
    "    Examples\n",
    "    --------\n",
    "    Detecting `'pass'` events in football:\n",
    "    >>> column_names = {\n",
    "    ...     'series_id_column_name': 'video_id',\n",
    "    ...     'time_column_name': 'time',\n",
    "    ...     'event_column_name': 'event',\n",
    "    ...     'score_column_name': 'score',\n",
    "    ... }\n",
    "    >>> tolerances = {'pass': [1.0]}\n",
    "    >>> solution = pd.DataFrame({\n",
    "    ...     'video_id': ['a', 'a'],\n",
    "    ...     'event': ['pass', 'pass'],\n",
    "    ...     'time': [0, 15],\n",
    "    ... })\n",
    "    >>> submission = pd.DataFrame({\n",
    "    ...     'video_id': ['a', 'a', 'a'],\n",
    "    ...     'event': ['pass', 'pass', 'pass'],\n",
    "    ...     'score': [1.0, 0.5, 1.0],\n",
    "    ...     'time': [0, 10, 14.5],\n",
    "    ... })\n",
    "    >>> score(solution, submission, tolerances, **column_names)\n",
    "    1.0\n",
    "\n",
    "    Increasing the confidence score of the false detection above the true\n",
    "    detections decreases the AP.\n",
    "    >>> submission.loc[1, 'score'] = 1.5\n",
    "    >>> score(solution, submission, tolerances, **column_names)\n",
    "    0.6666666666666666...\n",
    "\n",
    "    Likewise, decreasing the confidence score of a true detection below the\n",
    "    false detection also decreases the AP.\n",
    "    >>> submission.loc[1, 'score'] = 0.5  # reset\n",
    "    >>> submission.loc[0, 'score'] = 0.0\n",
    "    >>> score(solution, submission, tolerances, **column_names)\n",
    "    0.8333333333333333...\n",
    "\n",
    "    We average AP scores over tolerances. Previously, the detection at 14.5\n",
    "    would match, but adding smaller tolerances gives AP scores where it does\n",
    "    not match. This results in both a FN, since the ground-truth wasn't\n",
    "    detected, and a FP, since the detected event matches no ground-truth.\n",
    "    >>> tolerances = {'pass': [0.1, 0.2, 1.0]}\n",
    "    >>> score(solution, submission, tolerances, **column_names)\n",
    "    0.3888888888888888...\n",
    "\n",
    "    We also average over time series and over event classes.\n",
    "    >>> tolerances = {'pass': [0.5, 1.0], 'challenge': [0.25, 0.50]}\n",
    "    >>> solution = pd.DataFrame({\n",
    "    ...     'video_id': ['a', 'a', 'b'],\n",
    "    ...     'event': ['pass', 'challenge', 'pass'],\n",
    "    ...     'time': [0, 15, 0],  # restart time for new time series b\n",
    "    ... })\n",
    "    >>> submission = pd.DataFrame({\n",
    "    ...     'video_id': ['a', 'a', 'b'],\n",
    "    ...     'event': ['pass', 'challenge', 'pass'],\n",
    "    ...     'score': [1.0, 0.5, 1.0],\n",
    "    ...     'time': [0, 15, 0],\n",
    "    ... })\n",
    "    >>> score(solution, submission, tolerances, **column_names)\n",
    "    1.0\n",
    "\n",
    "    By adding scoring intervals to the solution, we may choose to ignore\n",
    "    detections outside of those intervals.\n",
    "    >>> tolerances = {'pass': [1.0]}\n",
    "    >>> solution = pd.DataFrame({\n",
    "    ...     'video_id': ['a', 'a', 'a', 'a'],\n",
    "    ...     'event': ['start', 'pass', 'pass', 'end'],\n",
    "    ...     'time': [0, 10, 20, 30],\n",
    "    ... })\n",
    "    >>> submission = pd.DataFrame({\n",
    "    ...     'video_id': ['a', 'a', 'a'],\n",
    "    ...     'event': ['pass', 'pass', 'pass'],\n",
    "    ...     'score': [1.0, 1.0, 1.0],\n",
    "    ...     'time': [10, 20, 40],\n",
    "    ... })\n",
    "    >>> score(solution, submission, tolerances, **column_names, use_scoring_intervals=True)\n",
    "    1.0\n",
    "\n",
    "    \"\"\"\n",
    "    # Validate metric parameters\n",
    "    assert len(tolerances) > 0, \"Events must have defined tolerances.\"\n",
    "    assert set(tolerances.keys()) == set(solution[event_column_name]).difference({'start', 'end'}),        (f\"Solution column {event_column_name} must contain the same events \"\n",
    "         \"as defined in tolerances.\")\n",
    "    assert pd.api.types.is_numeric_dtype(solution[time_column_name]),        f\"Solution column {time_column_name} must be of numeric type.\"\n",
    "\n",
    "    # Validate submission format\n",
    "    for column_name in [\n",
    "        series_id_column_name,\n",
    "        time_column_name,\n",
    "        event_column_name,\n",
    "        score_column_name,\n",
    "    ]:\n",
    "        if column_name not in submission.columns:\n",
    "            raise ParticipantVisibleError(f\"Submission must have column '{target_name}'.\")\n",
    "\n",
    "    if not pd.api.types.is_numeric_dtype(submission[time_column_name]):\n",
    "        raise ParticipantVisibleError(\n",
    "            f\"Submission column '{time_column_name}' must be of numeric type.\"\n",
    "        )\n",
    "    if not pd.api.types.is_numeric_dtype(submission[score_column_name]):\n",
    "        raise ParticipantVisibleError(\n",
    "            f\"Submission column '{score_column_name}' must be of numeric type.\"\n",
    "        )\n",
    "\n",
    "    # Set these globally to avoid passing around a bunch of arguments\n",
    "    globals()['series_id_column_name'] = series_id_column_name\n",
    "    globals()['time_column_name'] = time_column_name\n",
    "    globals()['event_column_name'] = event_column_name\n",
    "    globals()['score_column_name'] = score_column_name\n",
    "    globals()['use_scoring_intervals'] = use_scoring_intervals\n",
    "\n",
    "    return event_detection_ap(solution, submission, tolerances)\n",
    "\n",
    "\n",
    "def filter_detections(\n",
    "        detections: pd.DataFrame, intervals: pd.DataFrame\n",
    ") -> pd.DataFrame:\n",
    "    \"\"\"Drop detections not inside a scoring interval.\"\"\"\n",
    "    detection_time = detections.loc[:, time_column_name].sort_values().to_numpy()\n",
    "    intervals = intervals.to_numpy()\n",
    "    is_scored = np.full_like(detection_time, False, dtype=bool)\n",
    "\n",
    "    i, j = 0, 0\n",
    "    while i < len(detection_time) and j < len(intervals):\n",
    "        time = detection_time[i]\n",
    "        int_ = intervals[j]\n",
    "\n",
    "        # If the detection is prior in time to the interval, go to the next detection.\n",
    "        if time < int_.left:\n",
    "            i += 1\n",
    "        # If the detection is inside the interval, keep it and go to the next detection.\n",
    "        elif time in int_:\n",
    "            is_scored[i] = True\n",
    "            i += 1\n",
    "        # If the detection is later in time, go to the next interval.\n",
    "        else:\n",
    "            j += 1\n",
    "\n",
    "    return detections.loc[is_scored].reset_index(drop=True)\n",
    "\n",
    "\n",
    "def match_detections(\n",
    "        tolerance: float, ground_truths: pd.DataFrame, detections: pd.DataFrame\n",
    ") -> pd.DataFrame:\n",
    "    \"\"\"Match detections to ground truth events. Arguments are taken from a common event x tolerance x series_id evaluation group.\"\"\"\n",
    "    detections_sorted = detections.sort_values(score_column_name, ascending=False).dropna()\n",
    "    is_matched = np.full_like(detections_sorted[event_column_name], False, dtype=bool)\n",
    "    gts_matched = set()\n",
    "    for i, det in enumerate(detections_sorted.itertuples(index=False)):\n",
    "        best_error = tolerance\n",
    "        best_gt = None\n",
    "\n",
    "        for gt in ground_truths.itertuples(index=False):\n",
    "            error = abs(getattr(det, time_column_name) - getattr(gt, time_column_name))\n",
    "            if error < best_error and gt not in gts_matched:\n",
    "                best_gt = gt\n",
    "                best_error = error\n",
    "\n",
    "        if best_gt is not None:\n",
    "            is_matched[i] = True\n",
    "            gts_matched.add(best_gt)\n",
    "\n",
    "    detections_sorted['matched'] = is_matched\n",
    "\n",
    "    return detections_sorted\n",
    "\n",
    "\n",
    "def precision_recall_curve(\n",
    "        matches: np.ndarray, scores: np.ndarray, p: int\n",
    ") -> Tuple[np.ndarray, np.ndarray, np.ndarray]:\n",
    "    if len(matches) == 0:\n",
    "        return [1], [0], []\n",
    "\n",
    "    # Sort matches by decreasing confidence\n",
    "    idxs = np.argsort(scores, kind='stable')[::-1]\n",
    "    scores = scores[idxs]\n",
    "    matches = matches[idxs]\n",
    "\n",
    "    distinct_value_indices = np.where(np.diff(scores))[0]\n",
    "    threshold_idxs = np.r_[distinct_value_indices, matches.size - 1]\n",
    "    thresholds = scores[threshold_idxs]\n",
    "\n",
    "    # Matches become TPs and non-matches FPs as confidence threshold decreases\n",
    "    tps = np.cumsum(matches)[threshold_idxs]\n",
    "    fps = np.cumsum(~matches)[threshold_idxs]\n",
    "\n",
    "    precision = tps / (tps + fps)\n",
    "    precision[np.isnan(precision)] = 0\n",
    "    recall = tps / p  # total number of ground truths might be different than total number of matches\n",
    "\n",
    "    # Stop when full recall attained and reverse the outputs so recall is non-increasing.\n",
    "    last_ind = tps.searchsorted(tps[-1])\n",
    "    sl = slice(last_ind, None, -1)\n",
    "\n",
    "    # Final precision is 1 and final recall is 0\n",
    "    return np.r_[precision[sl], 1], np.r_[recall[sl], 0], thresholds[sl]\n",
    "\n",
    "\n",
    "def average_precision_score(matches: np.ndarray, scores: np.ndarray, p: int) -> float:\n",
    "    precision, recall, _ = precision_recall_curve(matches, scores, p)\n",
    "    # Compute step integral\n",
    "    return -np.sum(np.diff(recall) * np.array(precision)[:-1])\n",
    "\n",
    "\n",
    "def event_detection_ap(\n",
    "        solution: pd.DataFrame,\n",
    "        submission: pd.DataFrame,\n",
    "        tolerances: Dict[str, List[float]],\n",
    ") -> float:\n",
    "\n",
    "    # Ensure solution and submission are sorted properly\n",
    "    solution = solution.sort_values([series_id_column_name, time_column_name])\n",
    "    submission = submission.sort_values([series_id_column_name, time_column_name])\n",
    "\n",
    "    # Extract scoring intervals.\n",
    "    if use_scoring_intervals:\n",
    "        intervals = (\n",
    "            solution\n",
    "            .query(\"event in ['start', 'end']\")\n",
    "            .assign(interval=lambda x: x.groupby([series_id_column_name, event_column_name]).cumcount())\n",
    "            .pivot(\n",
    "                index='interval',\n",
    "                columns=[series_id_column_name, event_column_name],\n",
    "                values=time_column_name,\n",
    "            )\n",
    "            .stack(series_id_column_name)\n",
    "            .swaplevel()\n",
    "            .sort_index()\n",
    "            .loc[:, ['start', 'end']]\n",
    "            .apply(lambda x: pd.Interval(*x, closed='both'), axis=1)\n",
    "        )\n",
    "\n",
    "    # Extract ground-truth events.\n",
    "    ground_truths = (\n",
    "        solution\n",
    "        .query(\"event not in ['start', 'end']\")\n",
    "        .reset_index(drop=True)\n",
    "    )\n",
    "\n",
    "    # Map each event class to its prevalence (needed for recall calculation)\n",
    "    class_counts = ground_truths.value_counts(event_column_name).to_dict()\n",
    "\n",
    "    # Create table for detections with a column indicating a match to a ground-truth event\n",
    "    detections = submission.assign(matched = False)\n",
    "\n",
    "    # Remove detections outside of scoring intervals\n",
    "    if use_scoring_intervals:\n",
    "        detections_filtered = []\n",
    "        for (det_group, dets), (int_group, ints) in zip(\n",
    "            detections.groupby(series_id_column_name), intervals.groupby(series_id_column_name)\n",
    "        ):\n",
    "            assert det_group == int_group\n",
    "            detections_filtered.append(filter_detections(dets, ints))\n",
    "        detections_filtered = pd.concat(detections_filtered, ignore_index=True)\n",
    "    else:\n",
    "        detections_filtered = detections\n",
    "\n",
    "    # Create table of event-class x tolerance x series_id values\n",
    "    aggregation_keys = pd.DataFrame(\n",
    "        [(ev, tol, vid)\n",
    "         for ev in tolerances.keys()\n",
    "         for tol in tolerances[ev]\n",
    "         for vid in ground_truths[series_id_column_name].unique()],\n",
    "        columns=[event_column_name, 'tolerance', series_id_column_name],\n",
    "    )\n",
    "\n",
    "    # Create match evaluation groups: event-class x tolerance x series_id\n",
    "    detections_grouped = (\n",
    "        aggregation_keys\n",
    "        .merge(detections_filtered, on=[event_column_name, series_id_column_name], how='left')\n",
    "        .groupby([event_column_name, 'tolerance', series_id_column_name])\n",
    "    )\n",
    "    ground_truths_grouped = (\n",
    "        aggregation_keys\n",
    "        .merge(ground_truths, on=[event_column_name, series_id_column_name], how='left')\n",
    "        .groupby([event_column_name, 'tolerance', series_id_column_name])\n",
    "    )\n",
    "    # Match detections to ground truth events by evaluation group\n",
    "    detections_matched = []\n",
    "    for key in aggregation_keys.itertuples(index=False):\n",
    "        dets = detections_grouped.get_group(key)\n",
    "        gts = ground_truths_grouped.get_group(key)\n",
    "        detections_matched.append(\n",
    "            match_detections(dets['tolerance'].iloc[0], gts, dets)\n",
    "        )\n",
    "    detections_matched = pd.concat(detections_matched)\n",
    "\n",
    "    # Compute AP per event x tolerance group\n",
    "    event_classes = ground_truths[event_column_name].unique()\n",
    "    ap_table = (\n",
    "        detections_matched\n",
    "        .query(\"event in @event_classes\")\n",
    "        .groupby([event_column_name, 'tolerance']).apply(\n",
    "            lambda group: average_precision_score(\n",
    "                group['matched'].to_numpy(),\n",
    "                group[score_column_name].to_numpy(),\n",
    "                class_counts[group[event_column_name].iat[0]],\n",
    "            )\n",
    "        )\n",
    "    )\n",
    "    # Average over tolerances, then over event classes\n",
    "    mean_ap = ap_table.groupby(event_column_name).mean().sum() / len(event_classes)\n",
    "\n",
    "    return mean_ap"
   ]
  },
  {
   "cell_type": "markdown",
   "id": "c087b393",
   "metadata": {
    "papermill": {
     "duration": 0.013198,
     "end_time": "2023-11-20T02:12:12.115281",
     "exception": false,
     "start_time": "2023-11-20T02:12:12.102083",
     "status": "completed"
    },
    "tags": []
   },
   "source": [
    "# Load models"
   ]
  },
  {
   "cell_type": "code",
   "execution_count": 8,
   "id": "64cd33f1",
   "metadata": {
    "execution": {
     "iopub.execute_input": "2023-11-20T02:12:12.146056Z",
     "iopub.status.busy": "2023-11-20T02:12:12.145624Z",
     "iopub.status.idle": "2023-11-20T02:12:13.005091Z",
     "shell.execute_reply": "2023-11-20T02:12:13.004165Z"
    },
    "papermill": {
     "duration": 0.877029,
     "end_time": "2023-11-20T02:12:13.007741",
     "exception": false,
     "start_time": "2023-11-20T02:12:12.130712",
     "status": "completed"
    },
    "tags": []
   },
   "outputs": [
    {
     "data": {
      "text/html": [
       "<style>#sk-container-id-1 {color: black;background-color: white;}#sk-container-id-1 pre{padding: 0;}#sk-container-id-1 div.sk-toggleable {background-color: white;}#sk-container-id-1 label.sk-toggleable__label {cursor: pointer;display: block;width: 100%;margin-bottom: 0;padding: 0.3em;box-sizing: border-box;text-align: center;}#sk-container-id-1 label.sk-toggleable__label-arrow:before {content: \"▸\";float: left;margin-right: 0.25em;color: #696969;}#sk-container-id-1 label.sk-toggleable__label-arrow:hover:before {color: black;}#sk-container-id-1 div.sk-estimator:hover label.sk-toggleable__label-arrow:before {color: black;}#sk-container-id-1 div.sk-toggleable__content {max-height: 0;max-width: 0;overflow: hidden;text-align: left;background-color: #f0f8ff;}#sk-container-id-1 div.sk-toggleable__content pre {margin: 0.2em;color: black;border-radius: 0.25em;background-color: #f0f8ff;}#sk-container-id-1 input.sk-toggleable__control:checked~div.sk-toggleable__content {max-height: 200px;max-width: 100%;overflow: auto;}#sk-container-id-1 input.sk-toggleable__control:checked~label.sk-toggleable__label-arrow:before {content: \"▾\";}#sk-container-id-1 div.sk-estimator input.sk-toggleable__control:checked~label.sk-toggleable__label {background-color: #d4ebff;}#sk-container-id-1 div.sk-label input.sk-toggleable__control:checked~label.sk-toggleable__label {background-color: #d4ebff;}#sk-container-id-1 input.sk-hidden--visually {border: 0;clip: rect(1px 1px 1px 1px);clip: rect(1px, 1px, 1px, 1px);height: 1px;margin: -1px;overflow: hidden;padding: 0;position: absolute;width: 1px;}#sk-container-id-1 div.sk-estimator {font-family: monospace;background-color: #f0f8ff;border: 1px dotted black;border-radius: 0.25em;box-sizing: border-box;margin-bottom: 0.5em;}#sk-container-id-1 div.sk-estimator:hover {background-color: #d4ebff;}#sk-container-id-1 div.sk-parallel-item::after {content: \"\";width: 100%;border-bottom: 1px solid gray;flex-grow: 1;}#sk-container-id-1 div.sk-label:hover label.sk-toggleable__label {background-color: #d4ebff;}#sk-container-id-1 div.sk-serial::before {content: \"\";position: absolute;border-left: 1px solid gray;box-sizing: border-box;top: 0;bottom: 0;left: 50%;z-index: 0;}#sk-container-id-1 div.sk-serial {display: flex;flex-direction: column;align-items: center;background-color: white;padding-right: 0.2em;padding-left: 0.2em;position: relative;}#sk-container-id-1 div.sk-item {position: relative;z-index: 1;}#sk-container-id-1 div.sk-parallel {display: flex;align-items: stretch;justify-content: center;background-color: white;position: relative;}#sk-container-id-1 div.sk-item::before, #sk-container-id-1 div.sk-parallel-item::before {content: \"\";position: absolute;border-left: 1px solid gray;box-sizing: border-box;top: 0;bottom: 0;left: 50%;z-index: -1;}#sk-container-id-1 div.sk-parallel-item {display: flex;flex-direction: column;z-index: 1;position: relative;background-color: white;}#sk-container-id-1 div.sk-parallel-item:first-child::after {align-self: flex-end;width: 50%;}#sk-container-id-1 div.sk-parallel-item:last-child::after {align-self: flex-start;width: 50%;}#sk-container-id-1 div.sk-parallel-item:only-child::after {width: 0;}#sk-container-id-1 div.sk-dashed-wrapped {border: 1px dashed gray;margin: 0 0.4em 0.5em 0.4em;box-sizing: border-box;padding-bottom: 0.4em;background-color: white;}#sk-container-id-1 div.sk-label label {font-family: monospace;font-weight: bold;display: inline-block;line-height: 1.2em;}#sk-container-id-1 div.sk-label-container {text-align: center;}#sk-container-id-1 div.sk-container {/* jupyter's `normalize.less` sets `[hidden] { display: none; }` but bootstrap.min.css set `[hidden] { display: none !important; }` so we also need the `!important` here to be able to override the default hidden behavior on the sphinx rendered scikit-learn.org. See: https://github.com/scikit-learn/scikit-learn/issues/21755 */display: inline-block !important;position: relative;}#sk-container-id-1 div.sk-text-repr-fallback {display: none;}</style><div id=\"sk-container-id-1\" class=\"sk-top-container\"><div class=\"sk-text-repr-fallback\"><pre>ExtraTreesClassifier(min_samples_leaf=300, n_estimators=500, n_jobs=-1,\n",
       "                     random_state=42)</pre><b>In a Jupyter environment, please rerun this cell to show the HTML representation or trust the notebook. <br />On GitHub, the HTML representation is unable to render, please try loading this page with nbviewer.org.</b></div><div class=\"sk-container\" hidden><div class=\"sk-item\"><div class=\"sk-estimator sk-toggleable\"><input class=\"sk-toggleable__control sk-hidden--visually\" id=\"sk-estimator-id-1\" type=\"checkbox\" checked><label for=\"sk-estimator-id-1\" class=\"sk-toggleable__label sk-toggleable__label-arrow\">ExtraTreesClassifier</label><div class=\"sk-toggleable__content\"><pre>ExtraTreesClassifier(min_samples_leaf=300, n_estimators=500, n_jobs=-1,\n",
       "                     random_state=42)</pre></div></div></div></div></div>"
      ],
      "text/plain": [
       "ExtraTreesClassifier(min_samples_leaf=300, n_estimators=500, n_jobs=-1,\n",
       "                     random_state=42)"
      ]
     },
     "execution_count": 8,
     "metadata": {},
     "output_type": "execute_result"
    }
   ],
   "source": [
    "import pickle\n",
    "\n",
    "#with open('/kaggle/input/xgboost-scaled/xgboost_scaled_features.pkl', 'rb') as f:\n",
    "with open('/kaggle/input/seb-training-classic-ml-model-v4-output/ensembler_model_xgb_SCM_V4.pkl', 'rb') as f:\n",
    "    model_xgb = pickle.load(f)\n",
    "model_xgb\n",
    "\n",
    "with open('/kaggle/input/seb-training-classic-ml-model-v4-output/ensembler_lgb_SCM_V4.pkl', 'rb') as f:\n",
    "    model_lgb = pickle.load(f)\n",
    "model_lgb\n",
    "\n",
    "with open('/kaggle/input/seb-training-classic-ml-model-v4-output/ensembler_boosting_SCM_V4.pkl', 'rb') as f:\n",
    "    model_gradboostclass = pickle.load(f)\n",
    "model_gradboostclass\n",
    "\n",
    "with open('/kaggle/input/seb-training-classic-ml-model-v4-output/ensembler_randomforest_SCM_V4.pkl', 'rb') as f:\n",
    "    model_randomforest = pickle.load(f)\n",
    "model_randomforest\n",
    "\n",
    "with open('/kaggle/input/seb-training-classic-ml-model-v4-output/ensembler_model_catboost_SCM_V4.pkl', 'rb') as f:\n",
    "    model_catboost = pickle.load(f)\n",
    "model_catboost\n",
    "\n",
    "with open('/kaggle/input/seb-training-classic-ml-model-v4-output/ensembler_model_extratrees_SCM_V4.pkl', 'rb') as f:\n",
    "    model_extratrees = pickle.load(f)\n",
    "model_extratrees"
   ]
  },
  {
   "cell_type": "markdown",
   "id": "a8defeeb",
   "metadata": {
    "papermill": {
     "duration": 0.013286,
     "end_time": "2023-11-20T02:12:13.035371",
     "exception": false,
     "start_time": "2023-11-20T02:12:13.022085",
     "status": "completed"
    },
    "tags": []
   },
   "source": [
    "# Useful functions"
   ]
  },
  {
   "cell_type": "code",
   "execution_count": 9,
   "id": "c3eca657",
   "metadata": {
    "execution": {
     "iopub.execute_input": "2023-11-20T02:12:13.065851Z",
     "iopub.status.busy": "2023-11-20T02:12:13.064249Z",
     "iopub.status.idle": "2023-11-20T02:12:13.075091Z",
     "shell.execute_reply": "2023-11-20T02:12:13.074018Z"
    },
    "papermill": {
     "duration": 0.028796,
     "end_time": "2023-11-20T02:12:13.077806",
     "exception": false,
     "start_time": "2023-11-20T02:12:13.049010",
     "status": "completed"
    },
    "tags": []
   },
   "outputs": [],
   "source": [
    "class EnsembleAvgProba():\n",
    "    \n",
    "    def __init__(self, classifiers):\n",
    "        \n",
    "        self.classifiers = classifiers\n",
    "    \n",
    "    def fit(self,X,y):\n",
    "        \n",
    "        for classifier in self.classifiers:                \n",
    "            classifier.fit(X, y)\n",
    "            gc.collect()\n",
    "     \n",
    "    def predict_proba(self, X):\n",
    "        \n",
    "        probs = []\n",
    "        \n",
    "        for m in self.classifiers:\n",
    "            probs.append(m.predict_proba(X))\n",
    "        \n",
    "        probabilities = np.stack(probs)\n",
    "        p = np.mean(probabilities, axis=0)\n",
    "        \n",
    "        return p \n",
    "    \n",
    "    def predict(self, X):\n",
    "        \n",
    "        probs = []\n",
    "        \n",
    "        for m in self.classifiers:\n",
    "            probs.append(m.predict(X))\n",
    "        \n",
    "        probabilities = np.stack(probs)\n",
    "        p = np.mean(probabilities, axis=0)\n",
    "        \n",
    "        return p.round()"
   ]
  },
  {
   "cell_type": "code",
   "execution_count": 10,
   "id": "3baeffcc",
   "metadata": {
    "execution": {
     "iopub.execute_input": "2023-11-20T02:12:13.107822Z",
     "iopub.status.busy": "2023-11-20T02:12:13.106774Z",
     "iopub.status.idle": "2023-11-20T02:12:13.119059Z",
     "shell.execute_reply": "2023-11-20T02:12:13.117826Z"
    },
    "papermill": {
     "duration": 0.030371,
     "end_time": "2023-11-20T02:12:13.121996",
     "exception": false,
     "start_time": "2023-11-20T02:12:13.091625",
     "status": "completed"
    },
    "tags": []
   },
   "outputs": [],
   "source": [
    "def reduce_mem_usage(df):\n",
    "    \n",
    "    \"\"\" \n",
    "    Iterate through all numeric columns of a dataframe and modify the data type\n",
    "    to reduce memory usage.        \n",
    "    \"\"\"\n",
    "    \n",
    "    for col in df.columns:\n",
    "        col_type = df[col].dtype\n",
    "\n",
    "        if col_type != object and not is_datetime64_ns_dtype(df[col]) and not 'category':\n",
    "            c_min = df[col].min()\n",
    "            c_max = df[col].max()\n",
    "            if str(col_type)[:3] == 'int':\n",
    "                if c_min > np.iinfo(np.int8).min and c_max < np.iinfo(np.int8).max:\n",
    "                    df[col] = df[col].astype(np.int8)\n",
    "                elif c_min > np.iinfo(np.int16).min and c_max < np.iinfo(np.int16).max:\n",
    "                    df[col] = df[col].astype(np.int16)\n",
    "                elif c_min > np.iinfo(np.int32).min and c_max < np.iinfo(np.int32).max:\n",
    "                    df[col] = df[col].astype(np.int32)\n",
    "                elif c_min > np.iinfo(np.int64).min and c_max < np.iinfo(np.int64).max:\n",
    "                    df[col] = df[col].astype(np.int32)  \n",
    "            else:\n",
    "                df[col] = df[col].astype(np.float16)\n",
    "        \n",
    "    return df"
   ]
  },
  {
   "cell_type": "code",
   "execution_count": 11,
   "id": "0ca65604",
   "metadata": {
    "execution": {
     "iopub.execute_input": "2023-11-20T02:12:13.155089Z",
     "iopub.status.busy": "2023-11-20T02:12:13.154592Z",
     "iopub.status.idle": "2023-11-20T02:12:13.172713Z",
     "shell.execute_reply": "2023-11-20T02:12:13.171544Z"
    },
    "papermill": {
     "duration": 0.036096,
     "end_time": "2023-11-20T02:12:13.174956",
     "exception": false,
     "start_time": "2023-11-20T02:12:13.138860",
     "status": "completed"
    },
    "tags": []
   },
   "outputs": [],
   "source": [
    "def feat_eng(df):\n",
    "    \n",
    "    df['series_id'] = df['series_id'].astype('category')\n",
    "    df['timestamp'] = pd.to_datetime(df['timestamp']).apply(lambda t: t.tz_localize(None))\n",
    "    df['hour'] = df[\"timestamp\"].dt.hour\n",
    "    \n",
    "    df.sort_values(['timestamp'], inplace=True)\n",
    "    df.set_index('timestamp', inplace=True)\n",
    "    \n",
    "    df['lids'] = np.maximum(0., df['enmo'] - 0.02)\n",
    "    df['lids'] = df['lids'].rolling(f'{120*5}s', center=True, min_periods=1).agg('sum')\n",
    "    df['lids'] = 100 / (df['lids'] + 1)\n",
    "    df['lids'] = df['lids'].rolling(f'{360*5}s', center=True, min_periods=1).agg('mean').astype(np.float32)\n",
    "    \n",
    "    df[\"enmo\"] = (df[\"enmo\"]*1000).astype(np.int16)\n",
    "    df[\"anglez\"] = df[\"anglez\"].astype(np.int16)\n",
    "    df[\"anglezdiffabs\"] = df[\"anglez\"].diff().abs().astype(np.float32)\n",
    "    \n",
    "    for col in ['enmo', 'anglez', 'anglezdiffabs']:\n",
    "        \n",
    "        # periods in seconds        \n",
    "        periods = [60, 360, 720, 3600] \n",
    "        \n",
    "        for n in periods:\n",
    "            \n",
    "            rol_args = {'window':f'{n+5}s', 'min_periods':10, 'center':True}\n",
    "            \n",
    "            for agg in ['median', 'mean', 'max', 'min', 'var']:\n",
    "                df[f'{col}_{agg}_{n}'] = df[col].rolling(**rol_args).agg(agg).astype(np.float32).values\n",
    "                gc.collect()\n",
    "            \n",
    "            if n == max(periods):\n",
    "                df[f'{col}_mad_{n}'] = (df[col] - df[f'{col}_median_{n}']).abs().rolling(**rol_args).median().astype(np.float32)\n",
    "            \n",
    "            df[f'{col}_amplit_{n}'] = df[f'{col}_max_{n}']-df[f'{col}_min_{n}']\n",
    "            df[f'{col}_amplit_{n}_min'] = df[f'{col}_amplit_{n}'].rolling(**rol_args).min().astype(np.float32).values\n",
    "            \n",
    "#             if col in ['enmo', 'anglez']:\n",
    "            df[f'{col}_diff_{n}_max'] = df[f'{col}_max_{n}'].diff().abs().rolling(**rol_args).max().astype(np.float32)\n",
    "            df[f'{col}_diff_{n}_mean'] = df[f'{col}_max_{n}'].diff().abs().rolling(**rol_args).mean().astype(np.float32)\n",
    "\n",
    "    \n",
    "            gc.collect()\n",
    "    \n",
    "    df.reset_index(inplace=True)\n",
    "    df.dropna(inplace=True)\n",
    "\n",
    "    return df"
   ]
  },
  {
   "cell_type": "code",
   "execution_count": 12,
   "id": "c56a8072",
   "metadata": {
    "execution": {
     "iopub.execute_input": "2023-11-20T02:12:13.204168Z",
     "iopub.status.busy": "2023-11-20T02:12:13.203687Z",
     "iopub.status.idle": "2023-11-20T02:12:13.217408Z",
     "shell.execute_reply": "2023-11-20T02:12:13.215812Z"
    },
    "papermill": {
     "duration": 0.031341,
     "end_time": "2023-11-20T02:12:13.219827",
     "exception": false,
     "start_time": "2023-11-20T02:12:13.188486",
     "status": "completed"
    },
    "tags": []
   },
   "outputs": [],
   "source": [
    "def get_events(idx, classifier, dataframe) :\n",
    "    \n",
    "    #test  = pd.read_parquet(f'/kaggle/input/child-mind-institute-detect-sleep-states/{file}',\n",
    "    #                filters=[('series_id','=',idx)])\n",
    "    \n",
    "    #test  = pd.read_parquet('/kaggle/input/gammaa-train-test-validation-series/test_set_with_variables.parquet',\n",
    "    #                filters=[('series_id','=',idx)])\n",
    "    \n",
    "    test=dataframe[(dataframe['series_id']==idx)]\n",
    "    test['timestamp'] = pd.to_datetime(test['timestamp'])\n",
    "        \n",
    "    #test = feat_eng(test)\n",
    "    X_test = test.drop(columns=drop_cols)\n",
    "    test = test[drop_cols]\n",
    "\n",
    "    preds, probs = classifier.predict(X_test), classifier.predict_proba(X_test)[:, 1]\n",
    "    \n",
    "    test['prediction'] = preds\n",
    "    test['prediction'] = test['prediction'].rolling(360+1, center=True).median()\n",
    "    test['probability'] = probs\n",
    "    \n",
    "    test = test[test['prediction']!=2]\n",
    "    \n",
    "    test.loc[test['prediction']==0, 'probability'] = 1-test.loc[test['prediction']==0, 'probability']\n",
    "    test['score'] = test['probability'].rolling(60*12*5, center=True, min_periods=10).mean().bfill().ffill()\n",
    "\n",
    "    \n",
    "    test['pred_diff'] = test['prediction'].diff()\n",
    "    \n",
    "    test['event'] = test['pred_diff'].replace({1:'wakeup', -1:'onset', 0:np.nan})\n",
    "    \n",
    "    test_wakeup = test[test['event']=='wakeup'].groupby(test['timestamp'].dt.date).agg('first')\n",
    "    test_onset = test[test['event']=='onset'].groupby(test['timestamp'].dt.date).agg('last')\n",
    "    test = pd.concat([test_wakeup, test_onset], ignore_index=True).sort_values('timestamp')\n",
    "\n",
    "    return test"
   ]
  },
  {
   "cell_type": "code",
   "execution_count": 13,
   "id": "9e720c54",
   "metadata": {
    "execution": {
     "iopub.execute_input": "2023-11-20T02:12:13.251154Z",
     "iopub.status.busy": "2023-11-20T02:12:13.250709Z",
     "iopub.status.idle": "2023-11-20T02:12:13.274326Z",
     "shell.execute_reply": "2023-11-20T02:12:13.272898Z"
    },
    "papermill": {
     "duration": 0.0427,
     "end_time": "2023-11-20T02:12:13.276964",
     "exception": false,
     "start_time": "2023-11-20T02:12:13.234264",
     "status": "completed"
    },
    "tags": []
   },
   "outputs": [],
   "source": [
    "from datetime import datetime, timedelta\n",
    "\n",
    "def get_events_heuristic_approach(idx, dataframe) :\n",
    "    \n",
    "    #test  = pd.read_parquet(f'/kaggle/input/child-mind-institute-detect-sleep-states/{file}',\n",
    "    #                filters=[('series_id','=',idx)])\n",
    "    \n",
    "    #test  = pd.read_parquet('/kaggle/input/gamma-train-series-updated-11-11-2023/train_series_10112023.parquet',\n",
    "    #                filters=[('series_id','=',idx)])\n",
    "    \n",
    "    #test = feat_eng(test)\n",
    "    \n",
    "    test=dataframe[(dataframe['series_id']==idx)]\n",
    "    test['timestamp'] = pd.to_datetime(test['timestamp'])\n",
    "    \n",
    "    df_subset=test[['series_id','step','timestamp','anglez','anglezdiffabs_median_60']]\n",
    "    df_subset[\"anglezdiffabs\"] = df_subset[\"anglez\"].diff().abs().astype(np.float32)\n",
    "\n",
    "    df_subset['date_time'] = pd.to_datetime(df_subset['timestamp']).apply(lambda t: t.tz_localize(None))\n",
    "    df_subset['year']=df_subset['date_time'].dt.year\n",
    "    df_subset['month']=df_subset['date_time'].dt.month\n",
    "    df_subset['day']=df_subset['date_time'].dt.day\n",
    "    df_subset['serieid_year_month_day']=df_subset['series_id'].astype(str) +'_'+df_subset['year'].astype(str) + df_subset['month'].astype(str)+ df_subset['day'].astype(str)\n",
    "    df_subset['timestamp_2']=df_subset['timestamp']+timedelta(hours=12, minutes=0)\n",
    "\n",
    "    min_threshold=0.013\n",
    "    max_threshold=0.04\n",
    "\n",
    "    df_subset['min_threshold'] = min_threshold*15\n",
    "    df_subset['max_threshold'] = max_threshold*15\n",
    "    df_subset['anglezdiffabs_median_60_perc'] = df_subset.groupby(['serieid_year_month_day'])['anglezdiffabs_median_60'].transform(lambda x: x.quantile(.1))\n",
    "    df_subset['anglezdiffabs_median_60_perc'] = df_subset['anglezdiffabs_median_60_perc'].clip(min_threshold,max_threshold)\n",
    "    df_subset['anglezdiffabs_median_60_perc'] = 15*df_subset['anglezdiffabs_median_60_perc']\n",
    "\n",
    "    df_subset['is_static']=np.where(df_subset['anglezdiffabs_median_60']<df_subset['anglezdiffabs_median_60_perc'],1,0)\n",
    "    df_subset['is_static_sum_30min'] = df_subset['is_static'].rolling(window=360, center=True).agg(sum)\n",
    "    df_subset['tmp']=np.where(df_subset['is_static_sum_30min']==360,1,0)\n",
    "    df_subset['tmp_left']=df_subset['tmp'].shift(360 // 2)\n",
    "    df_subset['tmp_right']=df_subset['tmp'].shift(-(360 // 2))\n",
    "    df_subset['is_sleep_block']=np.where((df_subset['tmp_left']==1) | (df_subset['tmp_right']==1),1,0)\n",
    "    df_subset['is_gap']=np.where((df_subset['is_sleep_block']==0),1,0)\n",
    "    df_subset['gap_length'] = df_subset['is_gap'].rolling(window=720, center=True).agg(sum)\n",
    "    df_subset['tmp']=np.where(df_subset['gap_length']==720,1,0)\n",
    "    df_subset['tmp_left']=df_subset['tmp'].shift(720 // 2)\n",
    "    df_subset['tmp_right']=df_subset['tmp'].shift(-(720 // 2))\n",
    "    df_subset['is_large_gap']=np.where((df_subset['tmp_left']==1) | (df_subset['tmp_right']==1),1,0)\n",
    "    df_subset['is_sleep_episode']=np.where((df_subset['is_large_gap']==0),1,0)\n",
    "\n",
    "    df_subset['pred_diff'] = df_subset['is_sleep_episode'].diff()\n",
    "    df_subset['event'] = df_subset['pred_diff'].replace({-1:'wakeup', 1:'onset', 0:np.nan})\n",
    "\n",
    "    test_wakeup = df_subset[df_subset['event']=='wakeup'].groupby(df_subset['timestamp_2'].dt.date).agg('last')\n",
    "    test_onset = df_subset[df_subset['event']=='onset'].groupby(df_subset['timestamp_2'].dt.date).agg('first')\n",
    "    test = pd.concat([test_wakeup, test_onset], ignore_index=True).sort_values('timestamp')\n",
    "    test['score']=0.9\n",
    "    \n",
    "    return test"
   ]
  },
  {
   "cell_type": "code",
   "execution_count": 14,
   "id": "ba44e245",
   "metadata": {
    "execution": {
     "iopub.execute_input": "2023-11-20T02:12:13.307478Z",
     "iopub.status.busy": "2023-11-20T02:12:13.306295Z",
     "iopub.status.idle": "2023-11-20T02:12:13.312425Z",
     "shell.execute_reply": "2023-11-20T02:12:13.311288Z"
    },
    "papermill": {
     "duration": 0.023965,
     "end_time": "2023-11-20T02:12:13.314885",
     "exception": false,
     "start_time": "2023-11-20T02:12:13.290920",
     "status": "completed"
    },
    "tags": []
   },
   "outputs": [],
   "source": [
    "drop_cols = ['series_id', 'step', 'timestamp','night','row_id','event','event_2','new_row_id']"
   ]
  },
  {
   "cell_type": "code",
   "execution_count": 15,
   "id": "d6cec249",
   "metadata": {
    "execution": {
     "iopub.execute_input": "2023-11-20T02:12:13.345815Z",
     "iopub.status.busy": "2023-11-20T02:12:13.345359Z",
     "iopub.status.idle": "2023-11-20T02:12:13.351406Z",
     "shell.execute_reply": "2023-11-20T02:12:13.350227Z"
    },
    "papermill": {
     "duration": 0.024448,
     "end_time": "2023-11-20T02:12:13.354078",
     "exception": false,
     "start_time": "2023-11-20T02:12:13.329630",
     "status": "completed"
    },
    "tags": []
   },
   "outputs": [],
   "source": [
    "cols_sub = ['series_id','step','event','score']"
   ]
  },
  {
   "cell_type": "code",
   "execution_count": 16,
   "id": "eb2a94f2",
   "metadata": {
    "execution": {
     "iopub.execute_input": "2023-11-20T02:12:13.383920Z",
     "iopub.status.busy": "2023-11-20T02:12:13.383460Z",
     "iopub.status.idle": "2023-11-20T02:12:13.390329Z",
     "shell.execute_reply": "2023-11-20T02:12:13.389304Z"
    },
    "papermill": {
     "duration": 0.024474,
     "end_time": "2023-11-20T02:12:13.392599",
     "exception": false,
     "start_time": "2023-11-20T02:12:13.368125",
     "status": "completed"
    },
    "tags": []
   },
   "outputs": [
    {
     "data": {
      "text/plain": [
       "['series_id', 'step', 'event', 'score']"
      ]
     },
     "execution_count": 16,
     "metadata": {},
     "output_type": "execute_result"
    }
   ],
   "source": [
    "cols_sub"
   ]
  },
  {
   "cell_type": "markdown",
   "id": "79e9d75a",
   "metadata": {
    "papermill": {
     "duration": 0.013374,
     "end_time": "2023-11-20T02:12:13.419941",
     "exception": false,
     "start_time": "2023-11-20T02:12:13.406567",
     "status": "completed"
    },
    "tags": []
   },
   "source": [
    "# Generate submission file"
   ]
  },
  {
   "cell_type": "code",
   "execution_count": 17,
   "id": "c53f8b51",
   "metadata": {
    "execution": {
     "iopub.execute_input": "2023-11-20T02:12:13.450091Z",
     "iopub.status.busy": "2023-11-20T02:12:13.449611Z",
     "iopub.status.idle": "2023-11-20T02:12:13.454588Z",
     "shell.execute_reply": "2023-11-20T02:12:13.453345Z"
    },
    "papermill": {
     "duration": 0.023058,
     "end_time": "2023-11-20T02:12:13.456988",
     "exception": false,
     "start_time": "2023-11-20T02:12:13.433930",
     "status": "completed"
    },
    "tags": []
   },
   "outputs": [],
   "source": [
    "#%%time\n",
    "\n",
    "#series_id  = pd.read_parquet('/kaggle/input/gammaa-train-test-validation-series/test_set_with_variables.parquet',\n",
    "#                             columns=['series_id'])\n",
    "#series_id = series_id.series_id.unique()"
   ]
  },
  {
   "cell_type": "code",
   "execution_count": 18,
   "id": "9848abae",
   "metadata": {
    "execution": {
     "iopub.execute_input": "2023-11-20T02:12:13.487417Z",
     "iopub.status.busy": "2023-11-20T02:12:13.486968Z",
     "iopub.status.idle": "2023-11-20T02:12:13.491651Z",
     "shell.execute_reply": "2023-11-20T02:12:13.490455Z"
    },
    "papermill": {
     "duration": 0.022658,
     "end_time": "2023-11-20T02:12:13.493912",
     "exception": false,
     "start_time": "2023-11-20T02:12:13.471254",
     "status": "completed"
    },
    "tags": []
   },
   "outputs": [],
   "source": [
    "#series_id"
   ]
  },
  {
   "cell_type": "code",
   "execution_count": 19,
   "id": "c546d857",
   "metadata": {
    "execution": {
     "iopub.execute_input": "2023-11-20T02:12:13.524461Z",
     "iopub.status.busy": "2023-11-20T02:12:13.523990Z",
     "iopub.status.idle": "2023-11-20T02:12:13.531532Z",
     "shell.execute_reply": "2023-11-20T02:12:13.530297Z"
    },
    "papermill": {
     "duration": 0.026081,
     "end_time": "2023-11-20T02:12:13.534278",
     "exception": false,
     "start_time": "2023-11-20T02:12:13.508197",
     "status": "completed"
    },
    "tags": []
   },
   "outputs": [],
   "source": [
    "model = EnsembleAvgProba(classifiers=[model_lgb,\n",
    "                                      model_gradboostclass,\n",
    "                                      model_randomforest,\n",
    "                                      model_xgb,\n",
    "                                      model_catboost,\n",
    "                                      model_extratrees])"
   ]
  },
  {
   "cell_type": "code",
   "execution_count": 20,
   "id": "000678da",
   "metadata": {
    "execution": {
     "iopub.execute_input": "2023-11-20T02:12:13.565902Z",
     "iopub.status.busy": "2023-11-20T02:12:13.565399Z",
     "iopub.status.idle": "2023-11-20T02:12:13.570216Z",
     "shell.execute_reply": "2023-11-20T02:12:13.568967Z"
    },
    "papermill": {
     "duration": 0.023548,
     "end_time": "2023-11-20T02:12:13.572790",
     "exception": false,
     "start_time": "2023-11-20T02:12:13.549242",
     "status": "completed"
    },
    "tags": []
   },
   "outputs": [],
   "source": [
    "#import pickle\n",
    "\n",
    "#with open('/kaggle/input/xgboost-scaled/xgboost_scaled_features.pkl', 'rb') as f:\n",
    "#with open('/kaggle/input/model-random-forest/ensembler_randomforest_SCM_V4.pkl', 'rb') as f:\n",
    "#    model_yue = pickle.load(f)\n",
    "#model_yue"
   ]
  },
  {
   "cell_type": "code",
   "execution_count": 21,
   "id": "1db6b33a",
   "metadata": {
    "execution": {
     "iopub.execute_input": "2023-11-20T02:12:13.699547Z",
     "iopub.status.busy": "2023-11-20T02:12:13.699076Z",
     "iopub.status.idle": "2023-11-20T02:12:13.703948Z",
     "shell.execute_reply": "2023-11-20T02:12:13.702574Z"
    },
    "papermill": {
     "duration": 0.023934,
     "end_time": "2023-11-20T02:12:13.706617",
     "exception": false,
     "start_time": "2023-11-20T02:12:13.682683",
     "status": "completed"
    },
    "tags": []
   },
   "outputs": [],
   "source": [
    "#model=model_yue"
   ]
  },
  {
   "cell_type": "code",
   "execution_count": 22,
   "id": "2440a04e",
   "metadata": {
    "execution": {
     "iopub.execute_input": "2023-11-20T02:12:13.737997Z",
     "iopub.status.busy": "2023-11-20T02:12:13.737517Z",
     "iopub.status.idle": "2023-11-20T02:12:55.245982Z",
     "shell.execute_reply": "2023-11-20T02:12:55.245010Z"
    },
    "papermill": {
     "duration": 41.542147,
     "end_time": "2023-11-20T02:12:55.263468",
     "exception": false,
     "start_time": "2023-11-20T02:12:13.721321",
     "status": "completed"
    },
    "tags": []
   },
   "outputs": [
    {
     "name": "stdout",
     "output_type": "stream",
     "text": [
      "CPU times: user 11.3 s, sys: 13.2 s, total: 24.5 s\n",
      "Wall time: 41.5 s\n"
     ]
    }
   ],
   "source": [
    "%%time\n",
    "test_parquet  = pd.read_parquet('/kaggle/input/gammaa-train-test-validation-series/validation_set_with_variables.parquet')\n",
    "#test_parquet.to_csv('/kaggle/working/test_set_with_variables.csv')\n",
    "#test_csv=pd.read_csv('/kaggle/input/testdataset-new/test.csv')\n",
    "#len(test_csv)"
   ]
  },
  {
   "cell_type": "code",
   "execution_count": 23,
   "id": "2e2c3856",
   "metadata": {
    "execution": {
     "iopub.execute_input": "2023-11-20T02:12:55.296716Z",
     "iopub.status.busy": "2023-11-20T02:12:55.295960Z",
     "iopub.status.idle": "2023-11-20T02:12:55.300174Z",
     "shell.execute_reply": "2023-11-20T02:12:55.299370Z"
    },
    "papermill": {
     "duration": 0.022894,
     "end_time": "2023-11-20T02:12:55.302528",
     "exception": false,
     "start_time": "2023-11-20T02:12:55.279634",
     "status": "completed"
    },
    "tags": []
   },
   "outputs": [],
   "source": [
    "#test_csv.columns"
   ]
  },
  {
   "cell_type": "code",
   "execution_count": 24,
   "id": "3ff38af3",
   "metadata": {
    "execution": {
     "iopub.execute_input": "2023-11-20T02:12:55.334729Z",
     "iopub.status.busy": "2023-11-20T02:12:55.333762Z",
     "iopub.status.idle": "2023-11-20T02:12:56.503015Z",
     "shell.execute_reply": "2023-11-20T02:12:56.501876Z"
    },
    "papermill": {
     "duration": 1.188406,
     "end_time": "2023-11-20T02:12:56.505764",
     "exception": false,
     "start_time": "2023-11-20T02:12:55.317358",
     "status": "completed"
    },
    "tags": []
   },
   "outputs": [
    {
     "data": {
      "text/plain": [
       "array(['b737f8c78ec5', 'bdfce9ce62b9', '5f40907ec171', '5acc9d63b5fd',\n",
       "       'b7188813d58a', '1762ab70ec76', 'fcca183903b7', '5f94bb3e1bed',\n",
       "       'c75b4b207bea', '99b829cbad2d', '4a31811f3558', '3d53bfea61d6',\n",
       "       'f0482490923c', '7df249527c63', 'ece2561f07e9', 'a9a2f7fac455',\n",
       "       '8a22387617c3', '062dbd4c95e6', '612aa8ba44e2', 'b84960841a75',\n",
       "       '60d31b0bec3b', '25e2b3dd9c3b', '08db4255286f', '3aceb17ef7bd',\n",
       "       '8a306e0890c0', '35826366dfc7', '2f7504d0f426', '44d8c02b369e',\n",
       "       'bfa54bd26187', 'd9e887091a5c', 'c289c8a823e0', '44a41bba1ee7',\n",
       "       'ea0770830757', 'eef041dd50aa'], dtype=object)"
      ]
     },
     "execution_count": 24,
     "metadata": {},
     "output_type": "execute_result"
    }
   ],
   "source": [
    "series_id = test_parquet.series_id.unique()\n",
    "series_id"
   ]
  },
  {
   "cell_type": "code",
   "execution_count": 25,
   "id": "c8dbff90",
   "metadata": {
    "execution": {
     "iopub.execute_input": "2023-11-20T02:12:56.538461Z",
     "iopub.status.busy": "2023-11-20T02:12:56.537666Z",
     "iopub.status.idle": "2023-11-20T02:12:56.579336Z",
     "shell.execute_reply": "2023-11-20T02:12:56.577996Z"
    },
    "papermill": {
     "duration": 0.062639,
     "end_time": "2023-11-20T02:12:56.583454",
     "exception": false,
     "start_time": "2023-11-20T02:12:56.520815",
     "status": "completed"
    },
    "tags": []
   },
   "outputs": [],
   "source": [
    "from tqdm.auto import tqdm "
   ]
  },
  {
   "cell_type": "code",
   "execution_count": 26,
   "id": "f8d5dfc6",
   "metadata": {
    "execution": {
     "iopub.execute_input": "2023-11-20T02:12:56.624669Z",
     "iopub.status.busy": "2023-11-20T02:12:56.624111Z",
     "iopub.status.idle": "2023-11-20T02:17:31.047060Z",
     "shell.execute_reply": "2023-11-20T02:17:31.045546Z"
    },
    "papermill": {
     "duration": 274.444548,
     "end_time": "2023-11-20T02:17:31.051815",
     "exception": false,
     "start_time": "2023-11-20T02:12:56.607267",
     "status": "completed"
    },
    "tags": []
   },
   "outputs": [
    {
     "name": "stdout",
     "output_type": "stream",
     "text": [
      "Number of jobs:  4\n"
     ]
    },
    {
     "data": {
      "application/vnd.jupyter.widget-view+json": {
       "model_id": "4d2befec16c44ed2807289697e160637",
       "version_major": 2,
       "version_minor": 0
      },
      "text/plain": [
       "  0%|          | 0/34 [00:00<?, ?it/s]"
      ]
     },
     "metadata": {},
     "output_type": "display_data"
    },
    {
     "name": "stdout",
     "output_type": "stream",
     "text": [
      "CPU times: user 4min 23s, sys: 8.79 s, total: 4min 32s\n",
      "Wall time: 4min 34s\n"
     ]
    }
   ],
   "source": [
    "%%time\n",
    "\n",
    "print(\"Number of jobs: \",int(cpu_count()))\n",
    "\n",
    "tests = []\n",
    "\n",
    "for idx in tqdm(series_id): \n",
    "\n",
    "    test = get_events_heuristic_approach(idx,test_parquet)\n",
    "    tests.append(test[cols_sub])"
   ]
  },
  {
   "cell_type": "code",
   "execution_count": 27,
   "id": "94037426",
   "metadata": {
    "execution": {
     "iopub.execute_input": "2023-11-20T02:17:31.084246Z",
     "iopub.status.busy": "2023-11-20T02:17:31.083834Z",
     "iopub.status.idle": "2023-11-20T02:17:31.112640Z",
     "shell.execute_reply": "2023-11-20T02:17:31.111206Z"
    },
    "papermill": {
     "duration": 0.048955,
     "end_time": "2023-11-20T02:17:31.115743",
     "exception": false,
     "start_time": "2023-11-20T02:17:31.066788",
     "status": "completed"
    },
    "tags": []
   },
   "outputs": [],
   "source": [
    "submission = pd.concat(tests, ignore_index=True).reset_index(names='row_id')\n",
    "submission.to_csv('submission.csv', index=False)"
   ]
  },
  {
   "cell_type": "code",
   "execution_count": 28,
   "id": "8dec2e01",
   "metadata": {
    "execution": {
     "iopub.execute_input": "2023-11-20T02:17:31.147845Z",
     "iopub.status.busy": "2023-11-20T02:17:31.147152Z",
     "iopub.status.idle": "2023-11-20T02:17:31.324282Z",
     "shell.execute_reply": "2023-11-20T02:17:31.322595Z"
    },
    "papermill": {
     "duration": 0.196325,
     "end_time": "2023-11-20T02:17:31.327122",
     "exception": false,
     "start_time": "2023-11-20T02:17:31.130797",
     "status": "completed"
    },
    "tags": []
   },
   "outputs": [
    {
     "name": "stdout",
     "output_type": "stream",
     "text": [
      "CPU times: user 25.8 ms, sys: 14.1 ms, total: 39.9 ms\n",
      "Wall time: 167 ms\n"
     ]
    }
   ],
   "source": [
    "%%time\n",
    "import polars as pl\n",
    "train_events = (pl.scan_csv('/kaggle/input/child-mind-institute-detect-sleep-states/train_events.csv')\n",
    "                .with_columns(\n",
    "                    (\n",
    "                        (pl.col(\"timestamp\").str.strptime(pl.Datetime, \"%Y-%m-%dT%H:%M:%S%Z\")),\n",
    "                        (pl.col(\"timestamp\").str.strptime(pl.Datetime, \"%Y-%m-%dT%H:%M:%S%Z\").dt.year().alias(\"year\")),\n",
    "                        (pl.col(\"timestamp\").str.strptime(pl.Datetime, \"%Y-%m-%dT%H:%M:%S%Z\").dt.month().alias(\"month\")),\n",
    "                        (pl.col(\"timestamp\").str.strptime(pl.Datetime, \"%Y-%m-%dT%H:%M:%S%Z\").dt.day().alias(\"day\")),\n",
    "                        (pl.col(\"timestamp\").str.strptime(pl.Datetime, \"%Y-%m-%dT%H:%M:%S%Z\").dt.hour().alias(\"hour\")),\n",
    "                    )\n",
    "                )\n",
    "                .collect()\n",
    "                .to_pandas()\n",
    "               )"
   ]
  },
  {
   "cell_type": "code",
   "execution_count": 29,
   "id": "d6032b2a",
   "metadata": {
    "execution": {
     "iopub.execute_input": "2023-11-20T02:17:31.359939Z",
     "iopub.status.busy": "2023-11-20T02:17:31.359540Z",
     "iopub.status.idle": "2023-11-20T02:17:31.365099Z",
     "shell.execute_reply": "2023-11-20T02:17:31.363726Z"
    },
    "papermill": {
     "duration": 0.02507,
     "end_time": "2023-11-20T02:17:31.367762",
     "exception": false,
     "start_time": "2023-11-20T02:17:31.342692",
     "status": "completed"
    },
    "tags": []
   },
   "outputs": [],
   "source": [
    "events_submission=submission"
   ]
  },
  {
   "cell_type": "code",
   "execution_count": 30,
   "id": "b5e4cfa0",
   "metadata": {
    "execution": {
     "iopub.execute_input": "2023-11-20T02:17:31.400060Z",
     "iopub.status.busy": "2023-11-20T02:17:31.399657Z",
     "iopub.status.idle": "2023-11-20T02:17:31.424280Z",
     "shell.execute_reply": "2023-11-20T02:17:31.422787Z"
    },
    "papermill": {
     "duration": 0.044363,
     "end_time": "2023-11-20T02:17:31.427458",
     "exception": false,
     "start_time": "2023-11-20T02:17:31.383095",
     "status": "completed"
    },
    "tags": []
   },
   "outputs": [
    {
     "data": {
      "text/html": [
       "<div>\n",
       "<style scoped>\n",
       "    .dataframe tbody tr th:only-of-type {\n",
       "        vertical-align: middle;\n",
       "    }\n",
       "\n",
       "    .dataframe tbody tr th {\n",
       "        vertical-align: top;\n",
       "    }\n",
       "\n",
       "    .dataframe thead th {\n",
       "        text-align: right;\n",
       "    }\n",
       "</style>\n",
       "<table border=\"1\" class=\"dataframe\">\n",
       "  <thead>\n",
       "    <tr style=\"text-align: right;\">\n",
       "      <th></th>\n",
       "      <th>row_id</th>\n",
       "      <th>series_id</th>\n",
       "      <th>step</th>\n",
       "      <th>event</th>\n",
       "      <th>score</th>\n",
       "    </tr>\n",
       "  </thead>\n",
       "  <tbody>\n",
       "    <tr>\n",
       "      <th>0</th>\n",
       "      <td>0</td>\n",
       "      <td>b737f8c78ec5</td>\n",
       "      <td>4662.0</td>\n",
       "      <td>onset</td>\n",
       "      <td>0.9</td>\n",
       "    </tr>\n",
       "    <tr>\n",
       "      <th>1</th>\n",
       "      <td>1</td>\n",
       "      <td>b737f8c78ec5</td>\n",
       "      <td>10932.0</td>\n",
       "      <td>wakeup</td>\n",
       "      <td>0.9</td>\n",
       "    </tr>\n",
       "    <tr>\n",
       "      <th>2</th>\n",
       "      <td>2</td>\n",
       "      <td>b737f8c78ec5</td>\n",
       "      <td>19468.0</td>\n",
       "      <td>onset</td>\n",
       "      <td>0.9</td>\n",
       "    </tr>\n",
       "    <tr>\n",
       "      <th>3</th>\n",
       "      <td>3</td>\n",
       "      <td>b737f8c78ec5</td>\n",
       "      <td>28241.0</td>\n",
       "      <td>wakeup</td>\n",
       "      <td>0.9</td>\n",
       "    </tr>\n",
       "    <tr>\n",
       "      <th>4</th>\n",
       "      <td>4</td>\n",
       "      <td>b737f8c78ec5</td>\n",
       "      <td>39701.0</td>\n",
       "      <td>onset</td>\n",
       "      <td>0.9</td>\n",
       "    </tr>\n",
       "    <tr>\n",
       "      <th>...</th>\n",
       "      <td>...</td>\n",
       "      <td>...</td>\n",
       "      <td>...</td>\n",
       "      <td>...</td>\n",
       "      <td>...</td>\n",
       "    </tr>\n",
       "    <tr>\n",
       "      <th>1411</th>\n",
       "      <td>1411</td>\n",
       "      <td>eef041dd50aa</td>\n",
       "      <td>395776.0</td>\n",
       "      <td>wakeup</td>\n",
       "      <td>0.9</td>\n",
       "    </tr>\n",
       "    <tr>\n",
       "      <th>1412</th>\n",
       "      <td>1412</td>\n",
       "      <td>eef041dd50aa</td>\n",
       "      <td>445420.0</td>\n",
       "      <td>onset</td>\n",
       "      <td>0.9</td>\n",
       "    </tr>\n",
       "    <tr>\n",
       "      <th>1413</th>\n",
       "      <td>1413</td>\n",
       "      <td>eef041dd50aa</td>\n",
       "      <td>448849.0</td>\n",
       "      <td>wakeup</td>\n",
       "      <td>0.9</td>\n",
       "    </tr>\n",
       "    <tr>\n",
       "      <th>1414</th>\n",
       "      <td>1414</td>\n",
       "      <td>eef041dd50aa</td>\n",
       "      <td>449939.0</td>\n",
       "      <td>onset</td>\n",
       "      <td>0.9</td>\n",
       "    </tr>\n",
       "    <tr>\n",
       "      <th>1415</th>\n",
       "      <td>1415</td>\n",
       "      <td>eef041dd50aa</td>\n",
       "      <td>455942.0</td>\n",
       "      <td>wakeup</td>\n",
       "      <td>0.9</td>\n",
       "    </tr>\n",
       "  </tbody>\n",
       "</table>\n",
       "<p>1416 rows × 5 columns</p>\n",
       "</div>"
      ],
      "text/plain": [
       "      row_id     series_id      step   event  score\n",
       "0          0  b737f8c78ec5    4662.0   onset    0.9\n",
       "1          1  b737f8c78ec5   10932.0  wakeup    0.9\n",
       "2          2  b737f8c78ec5   19468.0   onset    0.9\n",
       "3          3  b737f8c78ec5   28241.0  wakeup    0.9\n",
       "4          4  b737f8c78ec5   39701.0   onset    0.9\n",
       "...      ...           ...       ...     ...    ...\n",
       "1411    1411  eef041dd50aa  395776.0  wakeup    0.9\n",
       "1412    1412  eef041dd50aa  445420.0   onset    0.9\n",
       "1413    1413  eef041dd50aa  448849.0  wakeup    0.9\n",
       "1414    1414  eef041dd50aa  449939.0   onset    0.9\n",
       "1415    1415  eef041dd50aa  455942.0  wakeup    0.9\n",
       "\n",
       "[1416 rows x 5 columns]"
      ]
     },
     "execution_count": 30,
     "metadata": {},
     "output_type": "execute_result"
    }
   ],
   "source": [
    "events_submission"
   ]
  },
  {
   "cell_type": "code",
   "execution_count": 31,
   "id": "9416d96b",
   "metadata": {
    "execution": {
     "iopub.execute_input": "2023-11-20T02:17:31.461224Z",
     "iopub.status.busy": "2023-11-20T02:17:31.460801Z",
     "iopub.status.idle": "2023-11-20T02:17:43.861104Z",
     "shell.execute_reply": "2023-11-20T02:17:43.859902Z"
    },
    "papermill": {
     "duration": 12.420741,
     "end_time": "2023-11-20T02:17:43.864256",
     "exception": false,
     "start_time": "2023-11-20T02:17:31.443515",
     "status": "completed"
    },
    "tags": []
   },
   "outputs": [
    {
     "name": "stdout",
     "output_type": "stream",
     "text": [
      "Model score: 0.21069949035324312\n"
     ]
    }
   ],
   "source": [
    "val_solution = train_events[train_events['series_id'].isin(series_id)][['series_id', 'event', 'step']]\n",
    "#val_solution = train_events[train_events['series_id'].isin(series_id_test2)][['series_id', 'event', 'step']]\n",
    "val_solution = val_solution[val_solution['step'].notna()]\n",
    "val_solution = val_solution.reset_index(drop=True)\n",
    "val_solution = val_solution.reset_index().rename(columns={'index': 'row_id'})\n",
    "\n",
    "#xgb_submission=xgb_submission[(xgb_submission['score']>0.1)]\n",
    "\n",
    "#for the weird case\n",
    "#print(f\"Model score: {score(val_solution, events_submission[(events_submission['row_id']<26)],tolerances, **column_names)}\")\n",
    "print(f\"Model score: {score(val_solution, events_submission,tolerances, **column_names)}\")"
   ]
  },
  {
   "cell_type": "code",
   "execution_count": 32,
   "id": "9fe6e3f4",
   "metadata": {
    "execution": {
     "iopub.execute_input": "2023-11-20T02:17:43.899034Z",
     "iopub.status.busy": "2023-11-20T02:17:43.898523Z",
     "iopub.status.idle": "2023-11-20T02:17:57.263351Z",
     "shell.execute_reply": "2023-11-20T02:17:57.262251Z"
    },
    "papermill": {
     "duration": 13.385971,
     "end_time": "2023-11-20T02:17:57.266649",
     "exception": false,
     "start_time": "2023-11-20T02:17:43.880678",
     "status": "completed"
    },
    "tags": []
   },
   "outputs": [
    {
     "data": {
      "text/html": [
       "<div>\n",
       "<style scoped>\n",
       "    .dataframe tbody tr th:only-of-type {\n",
       "        vertical-align: middle;\n",
       "    }\n",
       "\n",
       "    .dataframe tbody tr th {\n",
       "        vertical-align: top;\n",
       "    }\n",
       "\n",
       "    .dataframe thead th {\n",
       "        text-align: right;\n",
       "    }\n",
       "</style>\n",
       "<table border=\"1\" class=\"dataframe\">\n",
       "  <thead>\n",
       "    <tr style=\"text-align: right;\">\n",
       "      <th></th>\n",
       "      <th>Series_Id</th>\n",
       "      <th>Score</th>\n",
       "    </tr>\n",
       "  </thead>\n",
       "  <tbody>\n",
       "    <tr>\n",
       "      <th>0</th>\n",
       "      <td>b737f8c78ec5</td>\n",
       "      <td>0.137520</td>\n",
       "    </tr>\n",
       "    <tr>\n",
       "      <th>1</th>\n",
       "      <td>bdfce9ce62b9</td>\n",
       "      <td>0.264914</td>\n",
       "    </tr>\n",
       "    <tr>\n",
       "      <th>2</th>\n",
       "      <td>5f40907ec171</td>\n",
       "      <td>0.139534</td>\n",
       "    </tr>\n",
       "    <tr>\n",
       "      <th>3</th>\n",
       "      <td>5acc9d63b5fd</td>\n",
       "      <td>0.355816</td>\n",
       "    </tr>\n",
       "    <tr>\n",
       "      <th>4</th>\n",
       "      <td>b7188813d58a</td>\n",
       "      <td>0.345562</td>\n",
       "    </tr>\n",
       "    <tr>\n",
       "      <th>5</th>\n",
       "      <td>1762ab70ec76</td>\n",
       "      <td>0.327978</td>\n",
       "    </tr>\n",
       "    <tr>\n",
       "      <th>6</th>\n",
       "      <td>fcca183903b7</td>\n",
       "      <td>0.256735</td>\n",
       "    </tr>\n",
       "    <tr>\n",
       "      <th>7</th>\n",
       "      <td>5f94bb3e1bed</td>\n",
       "      <td>0.360208</td>\n",
       "    </tr>\n",
       "    <tr>\n",
       "      <th>8</th>\n",
       "      <td>c75b4b207bea</td>\n",
       "      <td>0.261283</td>\n",
       "    </tr>\n",
       "    <tr>\n",
       "      <th>9</th>\n",
       "      <td>99b829cbad2d</td>\n",
       "      <td>0.122778</td>\n",
       "    </tr>\n",
       "    <tr>\n",
       "      <th>10</th>\n",
       "      <td>4a31811f3558</td>\n",
       "      <td>0.240476</td>\n",
       "    </tr>\n",
       "    <tr>\n",
       "      <th>11</th>\n",
       "      <td>3d53bfea61d6</td>\n",
       "      <td>0.145250</td>\n",
       "    </tr>\n",
       "    <tr>\n",
       "      <th>12</th>\n",
       "      <td>f0482490923c</td>\n",
       "      <td>0.147727</td>\n",
       "    </tr>\n",
       "    <tr>\n",
       "      <th>13</th>\n",
       "      <td>7df249527c63</td>\n",
       "      <td>0.313961</td>\n",
       "    </tr>\n",
       "    <tr>\n",
       "      <th>14</th>\n",
       "      <td>ece2561f07e9</td>\n",
       "      <td>0.196818</td>\n",
       "    </tr>\n",
       "    <tr>\n",
       "      <th>15</th>\n",
       "      <td>a9a2f7fac455</td>\n",
       "      <td>0.335714</td>\n",
       "    </tr>\n",
       "    <tr>\n",
       "      <th>16</th>\n",
       "      <td>8a22387617c3</td>\n",
       "      <td>0.282816</td>\n",
       "    </tr>\n",
       "    <tr>\n",
       "      <th>17</th>\n",
       "      <td>062dbd4c95e6</td>\n",
       "      <td>0.170149</td>\n",
       "    </tr>\n",
       "    <tr>\n",
       "      <th>18</th>\n",
       "      <td>612aa8ba44e2</td>\n",
       "      <td>0.206548</td>\n",
       "    </tr>\n",
       "    <tr>\n",
       "      <th>19</th>\n",
       "      <td>b84960841a75</td>\n",
       "      <td>0.206250</td>\n",
       "    </tr>\n",
       "    <tr>\n",
       "      <th>20</th>\n",
       "      <td>60d31b0bec3b</td>\n",
       "      <td>0.005952</td>\n",
       "    </tr>\n",
       "    <tr>\n",
       "      <th>21</th>\n",
       "      <td>25e2b3dd9c3b</td>\n",
       "      <td>0.127489</td>\n",
       "    </tr>\n",
       "    <tr>\n",
       "      <th>22</th>\n",
       "      <td>08db4255286f</td>\n",
       "      <td>0.310720</td>\n",
       "    </tr>\n",
       "    <tr>\n",
       "      <th>23</th>\n",
       "      <td>3aceb17ef7bd</td>\n",
       "      <td>0.131500</td>\n",
       "    </tr>\n",
       "    <tr>\n",
       "      <th>24</th>\n",
       "      <td>8a306e0890c0</td>\n",
       "      <td>0.370888</td>\n",
       "    </tr>\n",
       "    <tr>\n",
       "      <th>25</th>\n",
       "      <td>35826366dfc7</td>\n",
       "      <td>0.363462</td>\n",
       "    </tr>\n",
       "    <tr>\n",
       "      <th>26</th>\n",
       "      <td>2f7504d0f426</td>\n",
       "      <td>0.193860</td>\n",
       "    </tr>\n",
       "    <tr>\n",
       "      <th>27</th>\n",
       "      <td>44d8c02b369e</td>\n",
       "      <td>0.159375</td>\n",
       "    </tr>\n",
       "    <tr>\n",
       "      <th>28</th>\n",
       "      <td>bfa54bd26187</td>\n",
       "      <td>0.255556</td>\n",
       "    </tr>\n",
       "    <tr>\n",
       "      <th>29</th>\n",
       "      <td>d9e887091a5c</td>\n",
       "      <td>0.046384</td>\n",
       "    </tr>\n",
       "    <tr>\n",
       "      <th>30</th>\n",
       "      <td>c289c8a823e0</td>\n",
       "      <td>0.163678</td>\n",
       "    </tr>\n",
       "    <tr>\n",
       "      <th>31</th>\n",
       "      <td>44a41bba1ee7</td>\n",
       "      <td>0.089249</td>\n",
       "    </tr>\n",
       "    <tr>\n",
       "      <th>32</th>\n",
       "      <td>ea0770830757</td>\n",
       "      <td>0.347052</td>\n",
       "    </tr>\n",
       "    <tr>\n",
       "      <th>33</th>\n",
       "      <td>eef041dd50aa</td>\n",
       "      <td>0.147204</td>\n",
       "    </tr>\n",
       "  </tbody>\n",
       "</table>\n",
       "</div>"
      ],
      "text/plain": [
       "       Series_Id     Score\n",
       "0   b737f8c78ec5  0.137520\n",
       "1   bdfce9ce62b9  0.264914\n",
       "2   5f40907ec171  0.139534\n",
       "3   5acc9d63b5fd  0.355816\n",
       "4   b7188813d58a  0.345562\n",
       "5   1762ab70ec76  0.327978\n",
       "6   fcca183903b7  0.256735\n",
       "7   5f94bb3e1bed  0.360208\n",
       "8   c75b4b207bea  0.261283\n",
       "9   99b829cbad2d  0.122778\n",
       "10  4a31811f3558  0.240476\n",
       "11  3d53bfea61d6  0.145250\n",
       "12  f0482490923c  0.147727\n",
       "13  7df249527c63  0.313961\n",
       "14  ece2561f07e9  0.196818\n",
       "15  a9a2f7fac455  0.335714\n",
       "16  8a22387617c3  0.282816\n",
       "17  062dbd4c95e6  0.170149\n",
       "18  612aa8ba44e2  0.206548\n",
       "19  b84960841a75  0.206250\n",
       "20  60d31b0bec3b  0.005952\n",
       "21  25e2b3dd9c3b  0.127489\n",
       "22  08db4255286f  0.310720\n",
       "23  3aceb17ef7bd  0.131500\n",
       "24  8a306e0890c0  0.370888\n",
       "25  35826366dfc7  0.363462\n",
       "26  2f7504d0f426  0.193860\n",
       "27  44d8c02b369e  0.159375\n",
       "28  bfa54bd26187  0.255556\n",
       "29  d9e887091a5c  0.046384\n",
       "30  c289c8a823e0  0.163678\n",
       "31  44a41bba1ee7  0.089249\n",
       "32  ea0770830757  0.347052\n",
       "33  eef041dd50aa  0.147204"
      ]
     },
     "execution_count": 32,
     "metadata": {},
     "output_type": "execute_result"
    }
   ],
   "source": [
    "#for i in series_id_test2:\n",
    "\n",
    "scores_series = []\n",
    "for i in series_id:\n",
    "    #print(f\"Model score - {i} : {score(val_solution[(val_solution['series_id']==i)],events_submission[(events_submission['series_id']==i)],tolerances, **column_names)}\")\n",
    "    scores_series.append(score(val_solution[(val_solution['series_id']==i)],\n",
    "                               events_submission[(events_submission['series_id']==i)],tolerances, **column_names))\n",
    "df1=pd.DataFrame(scores_series)\n",
    "df1.rename(columns={ df1.columns[0]: \"Score\"}, inplace = True)\n",
    "df2=pd.DataFrame(series_id)\n",
    "df2.rename(columns={ df2.columns[0]: \"Series_Id\" }, inplace = True)\n",
    "df_scores = pd.concat([df2, df1], axis=1)\n",
    "df_scores"
   ]
  },
  {
   "cell_type": "code",
   "execution_count": 33,
   "id": "ff682fef",
   "metadata": {
    "execution": {
     "iopub.execute_input": "2023-11-20T02:17:57.301080Z",
     "iopub.status.busy": "2023-11-20T02:17:57.300630Z",
     "iopub.status.idle": "2023-11-20T02:17:57.307625Z",
     "shell.execute_reply": "2023-11-20T02:17:57.306414Z"
    },
    "papermill": {
     "duration": 0.027636,
     "end_time": "2023-11-20T02:17:57.310500",
     "exception": false,
     "start_time": "2023-11-20T02:17:57.282864",
     "status": "completed"
    },
    "tags": []
   },
   "outputs": [],
   "source": [
    "df_scores.to_csv('valid_scores_heuristic_approach.csv', index=False)"
   ]
  },
  {
   "cell_type": "code",
   "execution_count": null,
   "id": "fdaf259b",
   "metadata": {
    "papermill": {
     "duration": 0.015774,
     "end_time": "2023-11-20T02:17:57.342549",
     "exception": false,
     "start_time": "2023-11-20T02:17:57.326775",
     "status": "completed"
    },
    "tags": []
   },
   "outputs": [],
   "source": []
  }
 ],
 "metadata": {
  "kaggle": {
   "accelerator": "none",
   "dataSources": [
    {
     "databundleVersionId": 6589269,
     "sourceId": 53666,
     "sourceType": "competition"
    },
    {
     "datasetId": 3970681,
     "sourceId": 6914186,
     "sourceType": "datasetVersion"
    },
    {
     "datasetId": 3971243,
     "sourceId": 6915850,
     "sourceType": "datasetVersion"
    },
    {
     "datasetId": 3991827,
     "sourceId": 6950418,
     "sourceType": "datasetVersion"
    },
    {
     "datasetId": 4018819,
     "sourceId": 6991952,
     "sourceType": "datasetVersion"
    },
    {
     "datasetId": 4022990,
     "sourceId": 6998268,
     "sourceType": "datasetVersion"
    },
    {
     "datasetId": 4023338,
     "sourceId": 6998859,
     "sourceType": "datasetVersion"
    },
    {
     "sourceId": 151169343,
     "sourceType": "kernelVersion"
    }
   ],
   "dockerImageVersionId": 30558,
   "isGpuEnabled": false,
   "isInternetEnabled": false,
   "language": "python",
   "sourceType": "notebook"
  },
  "kernelspec": {
   "display_name": "Python 3",
   "language": "python",
   "name": "python3"
  },
  "language_info": {
   "codemirror_mode": {
    "name": "ipython",
    "version": 3
   },
   "file_extension": ".py",
   "mimetype": "text/x-python",
   "name": "python",
   "nbconvert_exporter": "python",
   "pygments_lexer": "ipython3",
   "version": "3.10.12"
  },
  "papermill": {
   "default_parameters": {},
   "duration": 360.560289,
   "end_time": "2023-11-20T02:18:00.489438",
   "environment_variables": {},
   "exception": null,
   "input_path": "__notebook__.ipynb",
   "output_path": "__notebook__.ipynb",
   "parameters": {},
   "start_time": "2023-11-20T02:11:59.929149",
   "version": "2.4.0"
  },
  "widgets": {
   "application/vnd.jupyter.widget-state+json": {
    "state": {
     "0d2f3914ff2a4687a72228d34f3f3f13": {
      "model_module": "@jupyter-widgets/controls",
      "model_module_version": "1.5.0",
      "model_name": "ProgressStyleModel",
      "state": {
       "_model_module": "@jupyter-widgets/controls",
       "_model_module_version": "1.5.0",
       "_model_name": "ProgressStyleModel",
       "_view_count": null,
       "_view_module": "@jupyter-widgets/base",
       "_view_module_version": "1.2.0",
       "_view_name": "StyleView",
       "bar_color": null,
       "description_width": ""
      }
     },
     "15d6241c34b94d57a7444998472d3bef": {
      "model_module": "@jupyter-widgets/base",
      "model_module_version": "1.2.0",
      "model_name": "LayoutModel",
      "state": {
       "_model_module": "@jupyter-widgets/base",
       "_model_module_version": "1.2.0",
       "_model_name": "LayoutModel",
       "_view_count": null,
       "_view_module": "@jupyter-widgets/base",
       "_view_module_version": "1.2.0",
       "_view_name": "LayoutView",
       "align_content": null,
       "align_items": null,
       "align_self": null,
       "border": null,
       "bottom": null,
       "display": null,
       "flex": null,
       "flex_flow": null,
       "grid_area": null,
       "grid_auto_columns": null,
       "grid_auto_flow": null,
       "grid_auto_rows": null,
       "grid_column": null,
       "grid_gap": null,
       "grid_row": null,
       "grid_template_areas": null,
       "grid_template_columns": null,
       "grid_template_rows": null,
       "height": null,
       "justify_content": null,
       "justify_items": null,
       "left": null,
       "margin": null,
       "max_height": null,
       "max_width": null,
       "min_height": null,
       "min_width": null,
       "object_fit": null,
       "object_position": null,
       "order": null,
       "overflow": null,
       "overflow_x": null,
       "overflow_y": null,
       "padding": null,
       "right": null,
       "top": null,
       "visibility": null,
       "width": null
      }
     },
     "1a8bd2afc764483c8ddce301a830a370": {
      "model_module": "@jupyter-widgets/base",
      "model_module_version": "1.2.0",
      "model_name": "LayoutModel",
      "state": {
       "_model_module": "@jupyter-widgets/base",
       "_model_module_version": "1.2.0",
       "_model_name": "LayoutModel",
       "_view_count": null,
       "_view_module": "@jupyter-widgets/base",
       "_view_module_version": "1.2.0",
       "_view_name": "LayoutView",
       "align_content": null,
       "align_items": null,
       "align_self": null,
       "border": null,
       "bottom": null,
       "display": null,
       "flex": null,
       "flex_flow": null,
       "grid_area": null,
       "grid_auto_columns": null,
       "grid_auto_flow": null,
       "grid_auto_rows": null,
       "grid_column": null,
       "grid_gap": null,
       "grid_row": null,
       "grid_template_areas": null,
       "grid_template_columns": null,
       "grid_template_rows": null,
       "height": null,
       "justify_content": null,
       "justify_items": null,
       "left": null,
       "margin": null,
       "max_height": null,
       "max_width": null,
       "min_height": null,
       "min_width": null,
       "object_fit": null,
       "object_position": null,
       "order": null,
       "overflow": null,
       "overflow_x": null,
       "overflow_y": null,
       "padding": null,
       "right": null,
       "top": null,
       "visibility": null,
       "width": null
      }
     },
     "47d31d01a5d94ba8819929b1f88d82a4": {
      "model_module": "@jupyter-widgets/controls",
      "model_module_version": "1.5.0",
      "model_name": "HTMLModel",
      "state": {
       "_dom_classes": [],
       "_model_module": "@jupyter-widgets/controls",
       "_model_module_version": "1.5.0",
       "_model_name": "HTMLModel",
       "_view_count": null,
       "_view_module": "@jupyter-widgets/controls",
       "_view_module_version": "1.5.0",
       "_view_name": "HTMLView",
       "description": "",
       "description_tooltip": null,
       "layout": "IPY_MODEL_ede6b2b4bee8468da0d717fa084c1866",
       "placeholder": "​",
       "style": "IPY_MODEL_699791e13227456fa3d7f7cc49f7ccf6",
       "value": " 34/34 [04:34&lt;00:00,  6.91s/it]"
      }
     },
     "4d2befec16c44ed2807289697e160637": {
      "model_module": "@jupyter-widgets/controls",
      "model_module_version": "1.5.0",
      "model_name": "HBoxModel",
      "state": {
       "_dom_classes": [],
       "_model_module": "@jupyter-widgets/controls",
       "_model_module_version": "1.5.0",
       "_model_name": "HBoxModel",
       "_view_count": null,
       "_view_module": "@jupyter-widgets/controls",
       "_view_module_version": "1.5.0",
       "_view_name": "HBoxView",
       "box_style": "",
       "children": [
        "IPY_MODEL_576a173bcdd9454aa7583a5f5a27818b",
        "IPY_MODEL_94a7250f8dfe4c37baafd9ee1b130c4f",
        "IPY_MODEL_47d31d01a5d94ba8819929b1f88d82a4"
       ],
       "layout": "IPY_MODEL_1a8bd2afc764483c8ddce301a830a370"
      }
     },
     "55168e12e37e4145a0c22dd3dc81a3b6": {
      "model_module": "@jupyter-widgets/base",
      "model_module_version": "1.2.0",
      "model_name": "LayoutModel",
      "state": {
       "_model_module": "@jupyter-widgets/base",
       "_model_module_version": "1.2.0",
       "_model_name": "LayoutModel",
       "_view_count": null,
       "_view_module": "@jupyter-widgets/base",
       "_view_module_version": "1.2.0",
       "_view_name": "LayoutView",
       "align_content": null,
       "align_items": null,
       "align_self": null,
       "border": null,
       "bottom": null,
       "display": null,
       "flex": null,
       "flex_flow": null,
       "grid_area": null,
       "grid_auto_columns": null,
       "grid_auto_flow": null,
       "grid_auto_rows": null,
       "grid_column": null,
       "grid_gap": null,
       "grid_row": null,
       "grid_template_areas": null,
       "grid_template_columns": null,
       "grid_template_rows": null,
       "height": null,
       "justify_content": null,
       "justify_items": null,
       "left": null,
       "margin": null,
       "max_height": null,
       "max_width": null,
       "min_height": null,
       "min_width": null,
       "object_fit": null,
       "object_position": null,
       "order": null,
       "overflow": null,
       "overflow_x": null,
       "overflow_y": null,
       "padding": null,
       "right": null,
       "top": null,
       "visibility": null,
       "width": null
      }
     },
     "576a173bcdd9454aa7583a5f5a27818b": {
      "model_module": "@jupyter-widgets/controls",
      "model_module_version": "1.5.0",
      "model_name": "HTMLModel",
      "state": {
       "_dom_classes": [],
       "_model_module": "@jupyter-widgets/controls",
       "_model_module_version": "1.5.0",
       "_model_name": "HTMLModel",
       "_view_count": null,
       "_view_module": "@jupyter-widgets/controls",
       "_view_module_version": "1.5.0",
       "_view_name": "HTMLView",
       "description": "",
       "description_tooltip": null,
       "layout": "IPY_MODEL_55168e12e37e4145a0c22dd3dc81a3b6",
       "placeholder": "​",
       "style": "IPY_MODEL_c4692f0644404ea08b4592430a8bbf5f",
       "value": "100%"
      }
     },
     "699791e13227456fa3d7f7cc49f7ccf6": {
      "model_module": "@jupyter-widgets/controls",
      "model_module_version": "1.5.0",
      "model_name": "DescriptionStyleModel",
      "state": {
       "_model_module": "@jupyter-widgets/controls",
       "_model_module_version": "1.5.0",
       "_model_name": "DescriptionStyleModel",
       "_view_count": null,
       "_view_module": "@jupyter-widgets/base",
       "_view_module_version": "1.2.0",
       "_view_name": "StyleView",
       "description_width": ""
      }
     },
     "94a7250f8dfe4c37baafd9ee1b130c4f": {
      "model_module": "@jupyter-widgets/controls",
      "model_module_version": "1.5.0",
      "model_name": "FloatProgressModel",
      "state": {
       "_dom_classes": [],
       "_model_module": "@jupyter-widgets/controls",
       "_model_module_version": "1.5.0",
       "_model_name": "FloatProgressModel",
       "_view_count": null,
       "_view_module": "@jupyter-widgets/controls",
       "_view_module_version": "1.5.0",
       "_view_name": "ProgressView",
       "bar_style": "success",
       "description": "",
       "description_tooltip": null,
       "layout": "IPY_MODEL_15d6241c34b94d57a7444998472d3bef",
       "max": 34.0,
       "min": 0.0,
       "orientation": "horizontal",
       "style": "IPY_MODEL_0d2f3914ff2a4687a72228d34f3f3f13",
       "value": 34.0
      }
     },
     "c4692f0644404ea08b4592430a8bbf5f": {
      "model_module": "@jupyter-widgets/controls",
      "model_module_version": "1.5.0",
      "model_name": "DescriptionStyleModel",
      "state": {
       "_model_module": "@jupyter-widgets/controls",
       "_model_module_version": "1.5.0",
       "_model_name": "DescriptionStyleModel",
       "_view_count": null,
       "_view_module": "@jupyter-widgets/base",
       "_view_module_version": "1.2.0",
       "_view_name": "StyleView",
       "description_width": ""
      }
     },
     "ede6b2b4bee8468da0d717fa084c1866": {
      "model_module": "@jupyter-widgets/base",
      "model_module_version": "1.2.0",
      "model_name": "LayoutModel",
      "state": {
       "_model_module": "@jupyter-widgets/base",
       "_model_module_version": "1.2.0",
       "_model_name": "LayoutModel",
       "_view_count": null,
       "_view_module": "@jupyter-widgets/base",
       "_view_module_version": "1.2.0",
       "_view_name": "LayoutView",
       "align_content": null,
       "align_items": null,
       "align_self": null,
       "border": null,
       "bottom": null,
       "display": null,
       "flex": null,
       "flex_flow": null,
       "grid_area": null,
       "grid_auto_columns": null,
       "grid_auto_flow": null,
       "grid_auto_rows": null,
       "grid_column": null,
       "grid_gap": null,
       "grid_row": null,
       "grid_template_areas": null,
       "grid_template_columns": null,
       "grid_template_rows": null,
       "height": null,
       "justify_content": null,
       "justify_items": null,
       "left": null,
       "margin": null,
       "max_height": null,
       "max_width": null,
       "min_height": null,
       "min_width": null,
       "object_fit": null,
       "object_position": null,
       "order": null,
       "overflow": null,
       "overflow_x": null,
       "overflow_y": null,
       "padding": null,
       "right": null,
       "top": null,
       "visibility": null,
       "width": null
      }
     }
    },
    "version_major": 2,
    "version_minor": 0
   }
  }
 },
 "nbformat": 4,
 "nbformat_minor": 5
}
