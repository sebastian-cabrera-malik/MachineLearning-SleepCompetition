{
 "cells": [
  {
   "cell_type": "markdown",
   "id": "17598b6f",
   "metadata": {
    "papermill": {
     "duration": 0.008043,
     "end_time": "2023-11-12T11:26:44.749547",
     "exception": false,
     "start_time": "2023-11-12T11:26:44.741504",
     "status": "completed"
    },
    "tags": []
   },
   "source": [
    "#### Libraries"
   ]
  },
  {
   "cell_type": "code",
   "execution_count": 1,
   "id": "24fd379d",
   "metadata": {
    "execution": {
     "iopub.execute_input": "2023-11-12T11:26:44.768238Z",
     "iopub.status.busy": "2023-11-12T11:26:44.767458Z",
     "iopub.status.idle": "2023-11-12T11:26:48.377372Z",
     "shell.execute_reply": "2023-11-12T11:26:48.376359Z"
    },
    "papermill": {
     "duration": 3.622519,
     "end_time": "2023-11-12T11:26:48.380512",
     "exception": false,
     "start_time": "2023-11-12T11:26:44.757993",
     "status": "completed"
    },
    "tags": []
   },
   "outputs": [],
   "source": [
    "import gc\n",
    "import pandas as pd\n",
    "import numpy as np\n",
    "import datetime as dt\n",
    "\n",
    "import matplotlib.pyplot as plt\n",
    "import matplotlib.cm as cm\n",
    "import seaborn as sns\n",
    "\n",
    "import plotly.graph_objects as go\n",
    "from plotly.subplots import make_subplots\n",
    "import plotly.express as px\n",
    "import plotly.offline\n",
    "\n",
    "from colorama import Fore, Style, init\n",
    "from pprint import pprint\n",
    "\n",
    "# 🚫 Suppressing warnings 🚫\n",
    "import warnings\n",
    "warnings.filterwarnings('ignore')"
   ]
  },
  {
   "cell_type": "code",
   "execution_count": 2,
   "id": "61fe0b85",
   "metadata": {
    "execution": {
     "iopub.execute_input": "2023-11-12T11:26:48.397431Z",
     "iopub.status.busy": "2023-11-12T11:26:48.396862Z",
     "iopub.status.idle": "2023-11-12T11:26:48.402979Z",
     "shell.execute_reply": "2023-11-12T11:26:48.401904Z"
    },
    "papermill": {
     "duration": 0.017207,
     "end_time": "2023-11-12T11:26:48.405350",
     "exception": false,
     "start_time": "2023-11-12T11:26:48.388143",
     "status": "completed"
    },
    "tags": []
   },
   "outputs": [],
   "source": [
    "import matplotlib.pyplot as plt\n",
    "import matplotlib.cm as cm\n",
    "import matplotlib.dates as mdates\n",
    "import seaborn as sns\n",
    "\n",
    "import plotly.graph_objects as go\n",
    "from plotly.subplots import make_subplots\n",
    "import plotly.express as px\n",
    "import plotly.offline"
   ]
  },
  {
   "cell_type": "code",
   "execution_count": 3,
   "id": "ff53cc70",
   "metadata": {
    "execution": {
     "iopub.execute_input": "2023-11-12T11:26:48.422648Z",
     "iopub.status.busy": "2023-11-12T11:26:48.421515Z",
     "iopub.status.idle": "2023-11-12T11:26:48.651810Z",
     "shell.execute_reply": "2023-11-12T11:26:48.650633Z"
    },
    "papermill": {
     "duration": 0.241753,
     "end_time": "2023-11-12T11:26:48.654553",
     "exception": false,
     "start_time": "2023-11-12T11:26:48.412800",
     "status": "completed"
    },
    "tags": []
   },
   "outputs": [],
   "source": [
    "from scipy.stats import entropy\n",
    "from collections import Counter\n",
    "import polars as pl"
   ]
  },
  {
   "cell_type": "code",
   "execution_count": 4,
   "id": "f6add460",
   "metadata": {
    "execution": {
     "iopub.execute_input": "2023-11-12T11:26:48.673940Z",
     "iopub.status.busy": "2023-11-12T11:26:48.672732Z",
     "iopub.status.idle": "2023-11-12T11:26:48.739665Z",
     "shell.execute_reply": "2023-11-12T11:26:48.738315Z"
    },
    "papermill": {
     "duration": 0.08022,
     "end_time": "2023-11-12T11:26:48.743150",
     "exception": false,
     "start_time": "2023-11-12T11:26:48.662930",
     "status": "completed"
    },
    "tags": []
   },
   "outputs": [],
   "source": [
    "from joblib import Parallel, delayed\n",
    "from time import sleep, time\n",
    "from multiprocessing import cpu_count"
   ]
  },
  {
   "cell_type": "code",
   "execution_count": 5,
   "id": "cad855a2",
   "metadata": {
    "execution": {
     "iopub.execute_input": "2023-11-12T11:26:48.761488Z",
     "iopub.status.busy": "2023-11-12T11:26:48.761020Z",
     "iopub.status.idle": "2023-11-12T11:26:51.232370Z",
     "shell.execute_reply": "2023-11-12T11:26:51.231108Z"
    },
    "papermill": {
     "duration": 2.484137,
     "end_time": "2023-11-12T11:26:51.235462",
     "exception": false,
     "start_time": "2023-11-12T11:26:48.751325",
     "status": "completed"
    },
    "tags": []
   },
   "outputs": [],
   "source": [
    "from sklearn.ensemble import RandomForestClassifier\n",
    "from sklearn.ensemble import GradientBoostingClassifier\n",
    "import lightgbm as lgb\n",
    "from imblearn.under_sampling import RandomUnderSampler\n",
    "from catboost import CatBoostClassifier\n",
    "from sklearn.ensemble import ExtraTreesClassifier\n",
    "import xgboost as xgb"
   ]
  },
  {
   "cell_type": "markdown",
   "id": "377f8be2",
   "metadata": {
    "papermill": {
     "duration": 0.007274,
     "end_time": "2023-11-12T11:26:51.250499",
     "exception": false,
     "start_time": "2023-11-12T11:26:51.243225",
     "status": "completed"
    },
    "tags": []
   },
   "source": [
    "# Load models"
   ]
  },
  {
   "cell_type": "code",
   "execution_count": 6,
   "id": "8fac2d50",
   "metadata": {
    "execution": {
     "iopub.execute_input": "2023-11-12T11:26:51.267652Z",
     "iopub.status.busy": "2023-11-12T11:26:51.266901Z",
     "iopub.status.idle": "2023-11-12T11:26:51.932849Z",
     "shell.execute_reply": "2023-11-12T11:26:51.931998Z"
    },
    "papermill": {
     "duration": 0.677401,
     "end_time": "2023-11-12T11:26:51.935376",
     "exception": false,
     "start_time": "2023-11-12T11:26:51.257975",
     "status": "completed"
    },
    "tags": []
   },
   "outputs": [
    {
     "data": {
      "text/html": [
       "<style>#sk-container-id-1 {color: black;background-color: white;}#sk-container-id-1 pre{padding: 0;}#sk-container-id-1 div.sk-toggleable {background-color: white;}#sk-container-id-1 label.sk-toggleable__label {cursor: pointer;display: block;width: 100%;margin-bottom: 0;padding: 0.3em;box-sizing: border-box;text-align: center;}#sk-container-id-1 label.sk-toggleable__label-arrow:before {content: \"▸\";float: left;margin-right: 0.25em;color: #696969;}#sk-container-id-1 label.sk-toggleable__label-arrow:hover:before {color: black;}#sk-container-id-1 div.sk-estimator:hover label.sk-toggleable__label-arrow:before {color: black;}#sk-container-id-1 div.sk-toggleable__content {max-height: 0;max-width: 0;overflow: hidden;text-align: left;background-color: #f0f8ff;}#sk-container-id-1 div.sk-toggleable__content pre {margin: 0.2em;color: black;border-radius: 0.25em;background-color: #f0f8ff;}#sk-container-id-1 input.sk-toggleable__control:checked~div.sk-toggleable__content {max-height: 200px;max-width: 100%;overflow: auto;}#sk-container-id-1 input.sk-toggleable__control:checked~label.sk-toggleable__label-arrow:before {content: \"▾\";}#sk-container-id-1 div.sk-estimator input.sk-toggleable__control:checked~label.sk-toggleable__label {background-color: #d4ebff;}#sk-container-id-1 div.sk-label input.sk-toggleable__control:checked~label.sk-toggleable__label {background-color: #d4ebff;}#sk-container-id-1 input.sk-hidden--visually {border: 0;clip: rect(1px 1px 1px 1px);clip: rect(1px, 1px, 1px, 1px);height: 1px;margin: -1px;overflow: hidden;padding: 0;position: absolute;width: 1px;}#sk-container-id-1 div.sk-estimator {font-family: monospace;background-color: #f0f8ff;border: 1px dotted black;border-radius: 0.25em;box-sizing: border-box;margin-bottom: 0.5em;}#sk-container-id-1 div.sk-estimator:hover {background-color: #d4ebff;}#sk-container-id-1 div.sk-parallel-item::after {content: \"\";width: 100%;border-bottom: 1px solid gray;flex-grow: 1;}#sk-container-id-1 div.sk-label:hover label.sk-toggleable__label {background-color: #d4ebff;}#sk-container-id-1 div.sk-serial::before {content: \"\";position: absolute;border-left: 1px solid gray;box-sizing: border-box;top: 0;bottom: 0;left: 50%;z-index: 0;}#sk-container-id-1 div.sk-serial {display: flex;flex-direction: column;align-items: center;background-color: white;padding-right: 0.2em;padding-left: 0.2em;position: relative;}#sk-container-id-1 div.sk-item {position: relative;z-index: 1;}#sk-container-id-1 div.sk-parallel {display: flex;align-items: stretch;justify-content: center;background-color: white;position: relative;}#sk-container-id-1 div.sk-item::before, #sk-container-id-1 div.sk-parallel-item::before {content: \"\";position: absolute;border-left: 1px solid gray;box-sizing: border-box;top: 0;bottom: 0;left: 50%;z-index: -1;}#sk-container-id-1 div.sk-parallel-item {display: flex;flex-direction: column;z-index: 1;position: relative;background-color: white;}#sk-container-id-1 div.sk-parallel-item:first-child::after {align-self: flex-end;width: 50%;}#sk-container-id-1 div.sk-parallel-item:last-child::after {align-self: flex-start;width: 50%;}#sk-container-id-1 div.sk-parallel-item:only-child::after {width: 0;}#sk-container-id-1 div.sk-dashed-wrapped {border: 1px dashed gray;margin: 0 0.4em 0.5em 0.4em;box-sizing: border-box;padding-bottom: 0.4em;background-color: white;}#sk-container-id-1 div.sk-label label {font-family: monospace;font-weight: bold;display: inline-block;line-height: 1.2em;}#sk-container-id-1 div.sk-label-container {text-align: center;}#sk-container-id-1 div.sk-container {/* jupyter's `normalize.less` sets `[hidden] { display: none; }` but bootstrap.min.css set `[hidden] { display: none !important; }` so we also need the `!important` here to be able to override the default hidden behavior on the sphinx rendered scikit-learn.org. See: https://github.com/scikit-learn/scikit-learn/issues/21755 */display: inline-block !important;position: relative;}#sk-container-id-1 div.sk-text-repr-fallback {display: none;}</style><div id=\"sk-container-id-1\" class=\"sk-top-container\"><div class=\"sk-text-repr-fallback\"><pre>ExtraTreesClassifier(min_samples_leaf=300, n_estimators=500, n_jobs=-1,\n",
       "                     random_state=42)</pre><b>In a Jupyter environment, please rerun this cell to show the HTML representation or trust the notebook. <br />On GitHub, the HTML representation is unable to render, please try loading this page with nbviewer.org.</b></div><div class=\"sk-container\" hidden><div class=\"sk-item\"><div class=\"sk-estimator sk-toggleable\"><input class=\"sk-toggleable__control sk-hidden--visually\" id=\"sk-estimator-id-1\" type=\"checkbox\" checked><label for=\"sk-estimator-id-1\" class=\"sk-toggleable__label sk-toggleable__label-arrow\">ExtraTreesClassifier</label><div class=\"sk-toggleable__content\"><pre>ExtraTreesClassifier(min_samples_leaf=300, n_estimators=500, n_jobs=-1,\n",
       "                     random_state=42)</pre></div></div></div></div></div>"
      ],
      "text/plain": [
       "ExtraTreesClassifier(min_samples_leaf=300, n_estimators=500, n_jobs=-1,\n",
       "                     random_state=42)"
      ]
     },
     "execution_count": 6,
     "metadata": {},
     "output_type": "execute_result"
    }
   ],
   "source": [
    "import pickle\n",
    "\n",
    "#with open('/kaggle/input/xgboost-scaled/xgboost_scaled_features.pkl', 'rb') as f:\n",
    "with open('/kaggle/input/seb-training-classic-ml-model-v4-output/ensembler_model_xgb_SCM_V4.pkl', 'rb') as f:\n",
    "    model_xgb = pickle.load(f)\n",
    "model_xgb\n",
    "\n",
    "with open('/kaggle/input/seb-training-classic-ml-model-v4-output/ensembler_lgb_SCM_V4.pkl', 'rb') as f:\n",
    "    model_lgb = pickle.load(f)\n",
    "model_lgb\n",
    "\n",
    "with open('/kaggle/input/seb-training-classic-ml-model-v4-output/ensembler_boosting_SCM_V4.pkl', 'rb') as f:\n",
    "    model_gradboostclass = pickle.load(f)\n",
    "model_gradboostclass\n",
    "\n",
    "with open('/kaggle/input/seb-training-classic-ml-model-v4-output/ensembler_randomforest_SCM_V4.pkl', 'rb') as f:\n",
    "    model_randomforest = pickle.load(f)\n",
    "model_randomforest\n",
    "\n",
    "with open('/kaggle/input/seb-training-classic-ml-model-v4-output/ensembler_model_catboost_SCM_V4.pkl', 'rb') as f:\n",
    "    model_catboost = pickle.load(f)\n",
    "model_catboost\n",
    "\n",
    "with open('/kaggle/input/seb-training-classic-ml-model-v4-output/ensembler_model_extratrees_SCM_V4.pkl', 'rb') as f:\n",
    "    model_extratrees = pickle.load(f)\n",
    "model_extratrees"
   ]
  },
  {
   "cell_type": "markdown",
   "id": "18e2c5f5",
   "metadata": {
    "papermill": {
     "duration": 0.007601,
     "end_time": "2023-11-12T11:26:51.950907",
     "exception": false,
     "start_time": "2023-11-12T11:26:51.943306",
     "status": "completed"
    },
    "tags": []
   },
   "source": [
    "# Useful functions"
   ]
  },
  {
   "cell_type": "code",
   "execution_count": 7,
   "id": "487e32ca",
   "metadata": {
    "execution": {
     "iopub.execute_input": "2023-11-12T11:26:51.969714Z",
     "iopub.status.busy": "2023-11-12T11:26:51.968985Z",
     "iopub.status.idle": "2023-11-12T11:26:51.977763Z",
     "shell.execute_reply": "2023-11-12T11:26:51.976904Z"
    },
    "papermill": {
     "duration": 0.02049,
     "end_time": "2023-11-12T11:26:51.980301",
     "exception": false,
     "start_time": "2023-11-12T11:26:51.959811",
     "status": "completed"
    },
    "tags": []
   },
   "outputs": [],
   "source": [
    "class EnsembleAvgProba():\n",
    "    \n",
    "    def __init__(self, classifiers):\n",
    "        \n",
    "        self.classifiers = classifiers\n",
    "    \n",
    "    def fit(self,X,y):\n",
    "        \n",
    "        for classifier in self.classifiers:                \n",
    "            classifier.fit(X, y)\n",
    "            gc.collect()\n",
    "     \n",
    "    def predict_proba(self, X):\n",
    "        \n",
    "        probs = []\n",
    "        \n",
    "        for m in self.classifiers:\n",
    "            probs.append(m.predict_proba(X))\n",
    "        \n",
    "        probabilities = np.stack(probs)\n",
    "        p = np.mean(probabilities, axis=0)\n",
    "        \n",
    "        return p \n",
    "    \n",
    "    def predict(self, X):\n",
    "        \n",
    "        probs = []\n",
    "        \n",
    "        for m in self.classifiers:\n",
    "            probs.append(m.predict(X))\n",
    "        \n",
    "        probabilities = np.stack(probs)\n",
    "        p = np.mean(probabilities, axis=0)\n",
    "        \n",
    "        return p.round()"
   ]
  },
  {
   "cell_type": "code",
   "execution_count": 8,
   "id": "4212ce5c",
   "metadata": {
    "execution": {
     "iopub.execute_input": "2023-11-12T11:26:51.998467Z",
     "iopub.status.busy": "2023-11-12T11:26:51.997761Z",
     "iopub.status.idle": "2023-11-12T11:26:52.008336Z",
     "shell.execute_reply": "2023-11-12T11:26:52.007490Z"
    },
    "papermill": {
     "duration": 0.022486,
     "end_time": "2023-11-12T11:26:52.010824",
     "exception": false,
     "start_time": "2023-11-12T11:26:51.988338",
     "status": "completed"
    },
    "tags": []
   },
   "outputs": [],
   "source": [
    "def reduce_mem_usage(df):\n",
    "    \n",
    "    \"\"\" \n",
    "    Iterate through all numeric columns of a dataframe and modify the data type\n",
    "    to reduce memory usage.        \n",
    "    \"\"\"\n",
    "    \n",
    "    for col in df.columns:\n",
    "        col_type = df[col].dtype\n",
    "\n",
    "        if col_type != object and not is_datetime64_ns_dtype(df[col]) and not 'category':\n",
    "            c_min = df[col].min()\n",
    "            c_max = df[col].max()\n",
    "            if str(col_type)[:3] == 'int':\n",
    "                if c_min > np.iinfo(np.int8).min and c_max < np.iinfo(np.int8).max:\n",
    "                    df[col] = df[col].astype(np.int8)\n",
    "                elif c_min > np.iinfo(np.int16).min and c_max < np.iinfo(np.int16).max:\n",
    "                    df[col] = df[col].astype(np.int16)\n",
    "                elif c_min > np.iinfo(np.int32).min and c_max < np.iinfo(np.int32).max:\n",
    "                    df[col] = df[col].astype(np.int32)\n",
    "                elif c_min > np.iinfo(np.int64).min and c_max < np.iinfo(np.int64).max:\n",
    "                    df[col] = df[col].astype(np.int32)  \n",
    "            else:\n",
    "                df[col] = df[col].astype(np.float16)\n",
    "        \n",
    "    return df"
   ]
  },
  {
   "cell_type": "code",
   "execution_count": 9,
   "id": "65699563",
   "metadata": {
    "execution": {
     "iopub.execute_input": "2023-11-12T11:26:52.028932Z",
     "iopub.status.busy": "2023-11-12T11:26:52.028207Z",
     "iopub.status.idle": "2023-11-12T11:26:52.044598Z",
     "shell.execute_reply": "2023-11-12T11:26:52.043738Z"
    },
    "papermill": {
     "duration": 0.028409,
     "end_time": "2023-11-12T11:26:52.047179",
     "exception": false,
     "start_time": "2023-11-12T11:26:52.018770",
     "status": "completed"
    },
    "tags": []
   },
   "outputs": [],
   "source": [
    "def feat_eng(df):\n",
    "    \n",
    "    df['series_id'] = df['series_id'].astype('category')\n",
    "    df['timestamp'] = pd.to_datetime(df['timestamp']).apply(lambda t: t.tz_localize(None))\n",
    "    df['hour'] = df[\"timestamp\"].dt.hour\n",
    "    \n",
    "    df.sort_values(['timestamp'], inplace=True)\n",
    "    df.set_index('timestamp', inplace=True)\n",
    "    \n",
    "    df['lids'] = np.maximum(0., df['enmo'] - 0.02)\n",
    "    df['lids'] = df['lids'].rolling(f'{120*5}s', center=True, min_periods=1).agg('sum')\n",
    "    df['lids'] = 100 / (df['lids'] + 1)\n",
    "    df['lids'] = df['lids'].rolling(f'{360*5}s', center=True, min_periods=1).agg('mean').astype(np.float32)\n",
    "    \n",
    "    df[\"enmo\"] = (df[\"enmo\"]*1000).astype(np.int16)\n",
    "    df[\"anglez\"] = df[\"anglez\"].astype(np.int16)\n",
    "    df[\"anglezdiffabs\"] = df[\"anglez\"].diff().abs().astype(np.float32)\n",
    "    \n",
    "    for col in ['enmo', 'anglez', 'anglezdiffabs']:\n",
    "        \n",
    "        # periods in seconds        \n",
    "        periods = [60, 360, 720, 3600] \n",
    "        \n",
    "        for n in periods:\n",
    "            \n",
    "            rol_args = {'window':f'{n+5}s', 'min_periods':10, 'center':True}\n",
    "            \n",
    "            for agg in ['median', 'mean', 'max', 'min', 'var']:\n",
    "                df[f'{col}_{agg}_{n}'] = df[col].rolling(**rol_args).agg(agg).astype(np.float32).values\n",
    "                gc.collect()\n",
    "            \n",
    "            if n == max(periods):\n",
    "                df[f'{col}_mad_{n}'] = (df[col] - df[f'{col}_median_{n}']).abs().rolling(**rol_args).median().astype(np.float32)\n",
    "            \n",
    "            df[f'{col}_amplit_{n}'] = df[f'{col}_max_{n}']-df[f'{col}_min_{n}']\n",
    "            df[f'{col}_amplit_{n}_min'] = df[f'{col}_amplit_{n}'].rolling(**rol_args).min().astype(np.float32).values\n",
    "            \n",
    "#             if col in ['enmo', 'anglez']:\n",
    "            df[f'{col}_diff_{n}_max'] = df[f'{col}_max_{n}'].diff().abs().rolling(**rol_args).max().astype(np.float32)\n",
    "            df[f'{col}_diff_{n}_mean'] = df[f'{col}_max_{n}'].diff().abs().rolling(**rol_args).mean().astype(np.float32)\n",
    "\n",
    "    \n",
    "            gc.collect()\n",
    "    \n",
    "    df.reset_index(inplace=True)\n",
    "    df.dropna(inplace=True)\n",
    "\n",
    "    return df"
   ]
  },
  {
   "cell_type": "code",
   "execution_count": 10,
   "id": "f8a4dfab",
   "metadata": {
    "execution": {
     "iopub.execute_input": "2023-11-12T11:26:52.065720Z",
     "iopub.status.busy": "2023-11-12T11:26:52.065045Z",
     "iopub.status.idle": "2023-11-12T11:26:52.072799Z",
     "shell.execute_reply": "2023-11-12T11:26:52.071762Z"
    },
    "papermill": {
     "duration": 0.019609,
     "end_time": "2023-11-12T11:26:52.075108",
     "exception": false,
     "start_time": "2023-11-12T11:26:52.055499",
     "status": "completed"
    },
    "tags": []
   },
   "outputs": [
    {
     "data": {
      "text/plain": [
       "'/kaggle/input/gammaa-updated-trained-series/train_series_07112023.parquet'"
      ]
     },
     "execution_count": 10,
     "metadata": {},
     "output_type": "execute_result"
    }
   ],
   "source": [
    "file = '/kaggle/input/gammaa-updated-trained-series/train_series_07112023.parquet'\n",
    "\n",
    "def feat_eng_by_id(idx):\n",
    "    \n",
    "    from warnings import simplefilter \n",
    "    simplefilter(action=\"ignore\", category=pd.errors.PerformanceWarning)\n",
    "    \n",
    "    df  = pd.read_parquet(file, filters=[('series_id','=',idx)])\n",
    "    df = feat_eng(df)\n",
    "    \n",
    "    return df\n",
    "\n",
    "file"
   ]
  },
  {
   "cell_type": "code",
   "execution_count": 11,
   "id": "cb7e4176",
   "metadata": {
    "execution": {
     "iopub.execute_input": "2023-11-12T11:26:52.093086Z",
     "iopub.status.busy": "2023-11-12T11:26:52.092690Z",
     "iopub.status.idle": "2023-11-12T11:26:52.104540Z",
     "shell.execute_reply": "2023-11-12T11:26:52.103480Z"
    },
    "papermill": {
     "duration": 0.023902,
     "end_time": "2023-11-12T11:26:52.106980",
     "exception": false,
     "start_time": "2023-11-12T11:26:52.083078",
     "status": "completed"
    },
    "tags": []
   },
   "outputs": [],
   "source": [
    "def get_events(idx, classifier, file='test_series.parquet') :\n",
    "    \n",
    "    test  = pd.read_parquet(f'/kaggle/input/child-mind-institute-detect-sleep-states/{file}',\n",
    "                    filters=[('series_id','=',idx)])\n",
    "    test = feat_eng(test)\n",
    "    X_test = test.drop(columns=drop_cols)\n",
    "    test = test[drop_cols]\n",
    "\n",
    "    preds, probs = classifier.predict(X_test), classifier.predict_proba(X_test)[:, 1]\n",
    "    \n",
    "    test['prediction'] = preds\n",
    "    test['prediction'] = test['prediction'].rolling(360+1, center=True).median()\n",
    "    test['probability'] = probs\n",
    "    \n",
    "    test = test[test['prediction']!=2]\n",
    "    \n",
    "    test.loc[test['prediction']==0, 'probability'] = 1-test.loc[test['prediction']==0, 'probability']\n",
    "    test['score'] = test['probability'].rolling(60*12*5, center=True, min_periods=10).mean().bfill().ffill()\n",
    "\n",
    "    \n",
    "    test['pred_diff'] = test['prediction'].diff()\n",
    "    \n",
    "    test['event'] = test['pred_diff'].replace({1:'wakeup', -1:'onset', 0:np.nan})\n",
    "    \n",
    "    test_wakeup = test[test['event']=='wakeup'].groupby(test['timestamp'].dt.date).agg('first')\n",
    "    test_onset = test[test['event']=='onset'].groupby(test['timestamp'].dt.date).agg('last')\n",
    "    test = pd.concat([test_wakeup, test_onset], ignore_index=True).sort_values('timestamp')\n",
    "\n",
    "    return test"
   ]
  },
  {
   "cell_type": "code",
   "execution_count": 12,
   "id": "68beeec9",
   "metadata": {
    "execution": {
     "iopub.execute_input": "2023-11-12T11:26:52.124639Z",
     "iopub.status.busy": "2023-11-12T11:26:52.124273Z",
     "iopub.status.idle": "2023-11-12T11:26:52.129288Z",
     "shell.execute_reply": "2023-11-12T11:26:52.128156Z"
    },
    "papermill": {
     "duration": 0.016723,
     "end_time": "2023-11-12T11:26:52.131757",
     "exception": false,
     "start_time": "2023-11-12T11:26:52.115034",
     "status": "completed"
    },
    "tags": []
   },
   "outputs": [],
   "source": [
    "drop_cols = ['series_id', 'step', 'timestamp']"
   ]
  },
  {
   "cell_type": "code",
   "execution_count": 13,
   "id": "19407bac",
   "metadata": {
    "execution": {
     "iopub.execute_input": "2023-11-12T11:26:52.149275Z",
     "iopub.status.busy": "2023-11-12T11:26:52.148888Z",
     "iopub.status.idle": "2023-11-12T11:26:52.153972Z",
     "shell.execute_reply": "2023-11-12T11:26:52.152908Z"
    },
    "papermill": {
     "duration": 0.016627,
     "end_time": "2023-11-12T11:26:52.156272",
     "exception": false,
     "start_time": "2023-11-12T11:26:52.139645",
     "status": "completed"
    },
    "tags": []
   },
   "outputs": [],
   "source": [
    "cols_sub = ['series_id','step','event','score']"
   ]
  },
  {
   "cell_type": "markdown",
   "id": "1bafc830",
   "metadata": {
    "papermill": {
     "duration": 0.007691,
     "end_time": "2023-11-12T11:26:52.172019",
     "exception": false,
     "start_time": "2023-11-12T11:26:52.164328",
     "status": "completed"
    },
    "tags": []
   },
   "source": [
    "# Generate submission file"
   ]
  },
  {
   "cell_type": "code",
   "execution_count": 14,
   "id": "8d411366",
   "metadata": {
    "execution": {
     "iopub.execute_input": "2023-11-12T11:26:52.190444Z",
     "iopub.status.busy": "2023-11-12T11:26:52.189273Z",
     "iopub.status.idle": "2023-11-12T11:26:52.433581Z",
     "shell.execute_reply": "2023-11-12T11:26:52.432582Z"
    },
    "papermill": {
     "duration": 0.257271,
     "end_time": "2023-11-12T11:26:52.437268",
     "exception": false,
     "start_time": "2023-11-12T11:26:52.179997",
     "status": "completed"
    },
    "tags": []
   },
   "outputs": [
    {
     "name": "stdout",
     "output_type": "stream",
     "text": [
      "CPU times: user 112 ms, sys: 14.3 ms, total: 126 ms\n",
      "Wall time: 237 ms\n"
     ]
    }
   ],
   "source": [
    "%%time\n",
    "\n",
    "series_id  = pd.read_parquet('/kaggle/input/child-mind-institute-detect-sleep-states/test_series.parquet', columns=['series_id'])\n",
    "series_id = series_id.series_id.unique()"
   ]
  },
  {
   "cell_type": "code",
   "execution_count": 15,
   "id": "b710e39a",
   "metadata": {
    "execution": {
     "iopub.execute_input": "2023-11-12T11:26:52.455273Z",
     "iopub.status.busy": "2023-11-12T11:26:52.454882Z",
     "iopub.status.idle": "2023-11-12T11:26:52.460166Z",
     "shell.execute_reply": "2023-11-12T11:26:52.459189Z"
    },
    "papermill": {
     "duration": 0.01763,
     "end_time": "2023-11-12T11:26:52.463227",
     "exception": false,
     "start_time": "2023-11-12T11:26:52.445597",
     "status": "completed"
    },
    "tags": []
   },
   "outputs": [],
   "source": [
    "model = EnsembleAvgProba(classifiers=[model_lgb,\n",
    "                                      model_gradboostclass,\n",
    "                                      model_randomforest,\n",
    "                                      model_xgb,\n",
    "                                      model_catboost,\n",
    "                                      model_extratrees])"
   ]
  },
  {
   "cell_type": "code",
   "execution_count": 16,
   "id": "72f91a42",
   "metadata": {
    "execution": {
     "iopub.execute_input": "2023-11-12T11:26:52.480815Z",
     "iopub.status.busy": "2023-11-12T11:26:52.480421Z",
     "iopub.status.idle": "2023-11-12T11:27:20.670599Z",
     "shell.execute_reply": "2023-11-12T11:27:20.668665Z"
    },
    "papermill": {
     "duration": 28.202082,
     "end_time": "2023-11-12T11:27:20.673336",
     "exception": false,
     "start_time": "2023-11-12T11:26:52.471254",
     "status": "completed"
    },
    "tags": []
   },
   "outputs": [
    {
     "name": "stdout",
     "output_type": "stream",
     "text": [
      "Number of jobs:  4\n",
      "CPU times: user 28.2 s, sys: 21.8 ms, total: 28.2 s\n",
      "Wall time: 28.2 s\n"
     ]
    }
   ],
   "source": [
    "%%time\n",
    "\n",
    "print(\"Number of jobs: \",int(cpu_count()))\n",
    "\n",
    "tests = []\n",
    "\n",
    "for idx in series_id: \n",
    "\n",
    "    test = get_events(idx, model)\n",
    "    tests.append(test[cols_sub])"
   ]
  },
  {
   "cell_type": "code",
   "execution_count": 17,
   "id": "a97988fd",
   "metadata": {
    "execution": {
     "iopub.execute_input": "2023-11-12T11:27:20.692374Z",
     "iopub.status.busy": "2023-11-12T11:27:20.691987Z",
     "iopub.status.idle": "2023-11-12T11:27:20.705157Z",
     "shell.execute_reply": "2023-11-12T11:27:20.704148Z"
    },
    "papermill": {
     "duration": 0.025641,
     "end_time": "2023-11-12T11:27:20.707632",
     "exception": false,
     "start_time": "2023-11-12T11:27:20.681991",
     "status": "completed"
    },
    "tags": []
   },
   "outputs": [],
   "source": [
    "submission = pd.concat(tests, ignore_index=True).reset_index(names='row_id')\n",
    "submission.to_csv('submission.csv', index=False)"
   ]
  },
  {
   "cell_type": "code",
   "execution_count": 18,
   "id": "86fbc8ec",
   "metadata": {
    "execution": {
     "iopub.execute_input": "2023-11-12T11:27:20.726789Z",
     "iopub.status.busy": "2023-11-12T11:27:20.726396Z",
     "iopub.status.idle": "2023-11-12T11:27:20.744282Z",
     "shell.execute_reply": "2023-11-12T11:27:20.743251Z"
    },
    "papermill": {
     "duration": 0.030535,
     "end_time": "2023-11-12T11:27:20.746880",
     "exception": false,
     "start_time": "2023-11-12T11:27:20.716345",
     "status": "completed"
    },
    "tags": []
   },
   "outputs": [
    {
     "data": {
      "text/html": [
       "<div>\n",
       "<style scoped>\n",
       "    .dataframe tbody tr th:only-of-type {\n",
       "        vertical-align: middle;\n",
       "    }\n",
       "\n",
       "    .dataframe tbody tr th {\n",
       "        vertical-align: top;\n",
       "    }\n",
       "\n",
       "    .dataframe thead th {\n",
       "        text-align: right;\n",
       "    }\n",
       "</style>\n",
       "<table border=\"1\" class=\"dataframe\">\n",
       "  <thead>\n",
       "    <tr style=\"text-align: right;\">\n",
       "      <th></th>\n",
       "      <th>row_id</th>\n",
       "      <th>series_id</th>\n",
       "      <th>step</th>\n",
       "      <th>event</th>\n",
       "      <th>score</th>\n",
       "    </tr>\n",
       "  </thead>\n",
       "  <tbody>\n",
       "  </tbody>\n",
       "</table>\n",
       "</div>"
      ],
      "text/plain": [
       "Empty DataFrame\n",
       "Columns: [row_id, series_id, step, event, score]\n",
       "Index: []"
      ]
     },
     "execution_count": 18,
     "metadata": {},
     "output_type": "execute_result"
    }
   ],
   "source": [
    "submission.head(5)"
   ]
  }
 ],
 "metadata": {
  "kernelspec": {
   "display_name": "Python 3",
   "language": "python",
   "name": "python3"
  },
  "language_info": {
   "codemirror_mode": {
    "name": "ipython",
    "version": 3
   },
   "file_extension": ".py",
   "mimetype": "text/x-python",
   "name": "python",
   "nbconvert_exporter": "python",
   "pygments_lexer": "ipython3",
   "version": "3.10.12"
  },
  "papermill": {
   "default_parameters": {},
   "duration": 41.107785,
   "end_time": "2023-11-12T11:27:21.577927",
   "environment_variables": {},
   "exception": null,
   "input_path": "__notebook__.ipynb",
   "output_path": "__notebook__.ipynb",
   "parameters": {},
   "start_time": "2023-11-12T11:26:40.470142",
   "version": "2.4.0"
  }
 },
 "nbformat": 4,
 "nbformat_minor": 5
}
