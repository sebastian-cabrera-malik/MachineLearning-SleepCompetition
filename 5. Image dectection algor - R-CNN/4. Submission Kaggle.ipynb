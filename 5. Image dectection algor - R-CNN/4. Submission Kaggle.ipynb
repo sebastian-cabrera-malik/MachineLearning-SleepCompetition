{
 "cells": [
  {
   "cell_type": "code",
   "execution_count": 1,
   "id": "3e53ed96",
   "metadata": {
    "_cell_guid": "b1076dfc-b9ad-4769-8c92-a6c4dae69d19",
    "_uuid": "8f2839f25d086af736a60e9eeb907d3b93b6e0e5",
    "execution": {
     "iopub.execute_input": "2023-11-21T23:07:33.609860Z",
     "iopub.status.busy": "2023-11-21T23:07:33.609580Z",
     "iopub.status.idle": "2023-11-21T23:07:45.268973Z",
     "shell.execute_reply": "2023-11-21T23:07:45.268023Z"
    },
    "papermill": {
     "duration": 11.671037,
     "end_time": "2023-11-21T23:07:45.271320",
     "exception": false,
     "start_time": "2023-11-21T23:07:33.600283",
     "status": "completed"
    },
    "tags": []
   },
   "outputs": [
    {
     "name": "stdout",
     "output_type": "stream",
     "text": [
      "Name: torchvision\r\n",
      "Version: 0.15.1\r\n",
      "Summary: image and video datasets and models for torch deep learning\r\n",
      "Home-page: https://github.com/pytorch/vision\r\n",
      "Author: PyTorch Core Team\r\n",
      "Author-email: soumith@pytorch.org\r\n",
      "License: BSD\r\n",
      "Location: /opt/conda/lib/python3.10/site-packages\r\n",
      "Requires: numpy, pillow, requests, torch\r\n",
      "Required-by: easyocr, fastai, timm\r\n"
     ]
    }
   ],
   "source": [
    "!pip show torchvision"
   ]
  },
  {
   "cell_type": "code",
   "execution_count": 2,
   "id": "852f28fd",
   "metadata": {
    "execution": {
     "iopub.execute_input": "2023-11-21T23:07:45.289945Z",
     "iopub.status.busy": "2023-11-21T23:07:45.289160Z",
     "iopub.status.idle": "2023-11-21T23:07:49.551239Z",
     "shell.execute_reply": "2023-11-21T23:07:49.550336Z"
    },
    "papermill": {
     "duration": 4.274032,
     "end_time": "2023-11-21T23:07:49.553730",
     "exception": false,
     "start_time": "2023-11-21T23:07:45.279698",
     "status": "completed"
    },
    "tags": []
   },
   "outputs": [
    {
     "name": "stderr",
     "output_type": "stream",
     "text": [
      "/opt/conda/lib/python3.10/site-packages/torchvision/datapoints/__init__.py:12: UserWarning: The torchvision.datapoints and torchvision.transforms.v2 namespaces are still Beta. While we do not expect major breaking changes, some APIs may still change according to user feedback. Please submit any feedback you may have in this issue: https://github.com/pytorch/vision/issues/6753, and you can also check out https://github.com/pytorch/vision/issues/7319 to learn more about the APIs that we suspect might involve future changes. You can silence this warning by calling torchvision.disable_beta_transforms_warning().\n",
      "  warnings.warn(_BETA_TRANSFORMS_WARNING)\n",
      "/opt/conda/lib/python3.10/site-packages/torchvision/transforms/v2/__init__.py:54: UserWarning: The torchvision.datapoints and torchvision.transforms.v2 namespaces are still Beta. While we do not expect major breaking changes, some APIs may still change according to user feedback. Please submit any feedback you may have in this issue: https://github.com/pytorch/vision/issues/6753, and you can also check out https://github.com/pytorch/vision/issues/7319 to learn more about the APIs that we suspect might involve future changes. You can silence this warning by calling torchvision.disable_beta_transforms_warning().\n",
      "  warnings.warn(_BETA_TRANSFORMS_WARNING)\n"
     ]
    }
   ],
   "source": [
    "import os\n",
    "from pathlib import Path\n",
    "import numpy as np\n",
    "import pandas as pd\n",
    "from datetime import datetime, timezone, timedelta\n",
    "import matplotlib.pyplot as plt\n",
    "import matplotlib\n",
    "matplotlib.use(\"Agg\")\n",
    "import torch\n",
    "import torchvision\n",
    "from torchvision.io import read_image\n",
    "from torchvision.transforms import v2 as T\n",
    "from torchvision.models.detection.faster_rcnn import FastRCNNPredictor"
   ]
  },
  {
   "cell_type": "markdown",
   "id": "eeda9dbf",
   "metadata": {
    "papermill": {
     "duration": 0.007722,
     "end_time": "2023-11-21T23:07:49.569853",
     "exception": false,
     "start_time": "2023-11-21T23:07:49.562131",
     "status": "completed"
    },
    "tags": []
   },
   "source": [
    "# Object detection data prep"
   ]
  },
  {
   "cell_type": "code",
   "execution_count": 3,
   "id": "1abb1de8",
   "metadata": {
    "execution": {
     "iopub.execute_input": "2023-11-21T23:07:49.587558Z",
     "iopub.status.busy": "2023-11-21T23:07:49.586692Z",
     "iopub.status.idle": "2023-11-21T23:07:49.591244Z",
     "shell.execute_reply": "2023-11-21T23:07:49.590479Z"
    },
    "papermill": {
     "duration": 0.015257,
     "end_time": "2023-11-21T23:07:49.593239",
     "exception": false,
     "start_time": "2023-11-21T23:07:49.577982",
     "status": "completed"
    },
    "tags": []
   },
   "outputs": [],
   "source": [
    "working_folder = Path(\"/kaggle/working/\")\n",
    "images_folder = working_folder/\"images\"\n",
    "images_folder.mkdir()"
   ]
  },
  {
   "cell_type": "code",
   "execution_count": 4,
   "id": "7df2dc6b",
   "metadata": {
    "execution": {
     "iopub.execute_input": "2023-11-21T23:07:49.610205Z",
     "iopub.status.busy": "2023-11-21T23:07:49.609954Z",
     "iopub.status.idle": "2023-11-21T23:07:50.543222Z",
     "shell.execute_reply": "2023-11-21T23:07:50.542102Z"
    },
    "papermill": {
     "duration": 0.944369,
     "end_time": "2023-11-21T23:07:50.545609",
     "exception": false,
     "start_time": "2023-11-21T23:07:49.601240",
     "status": "completed"
    },
    "tags": []
   },
   "outputs": [
    {
     "name": "stdout",
     "output_type": "stream",
     "text": [
      "sample_submission.csv  train_events.csv\r\n",
      "test_series.parquet    train_series.parquet\r\n"
     ]
    }
   ],
   "source": [
    "data_folder = Path(\"/kaggle/input/child-mind-institute-detect-sleep-states\")\n",
    "!ls {data_folder}"
   ]
  },
  {
   "cell_type": "code",
   "execution_count": 5,
   "id": "56239e0f",
   "metadata": {
    "execution": {
     "iopub.execute_input": "2023-11-21T23:07:50.564486Z",
     "iopub.status.busy": "2023-11-21T23:07:50.563626Z",
     "iopub.status.idle": "2023-11-21T23:07:50.754675Z",
     "shell.execute_reply": "2023-11-21T23:07:50.753754Z"
    },
    "papermill": {
     "duration": 0.202444,
     "end_time": "2023-11-21T23:07:50.756713",
     "exception": false,
     "start_time": "2023-11-21T23:07:50.554269",
     "status": "completed"
    },
    "tags": []
   },
   "outputs": [
    {
     "data": {
      "text/html": [
       "<div>\n",
       "<style scoped>\n",
       "    .dataframe tbody tr th:only-of-type {\n",
       "        vertical-align: middle;\n",
       "    }\n",
       "\n",
       "    .dataframe tbody tr th {\n",
       "        vertical-align: top;\n",
       "    }\n",
       "\n",
       "    .dataframe thead th {\n",
       "        text-align: right;\n",
       "    }\n",
       "</style>\n",
       "<table border=\"1\" class=\"dataframe\">\n",
       "  <thead>\n",
       "    <tr style=\"text-align: right;\">\n",
       "      <th></th>\n",
       "      <th>series_id</th>\n",
       "      <th>step</th>\n",
       "      <th>timestamp</th>\n",
       "      <th>anglez</th>\n",
       "      <th>enmo</th>\n",
       "    </tr>\n",
       "  </thead>\n",
       "  <tbody>\n",
       "    <tr>\n",
       "      <th>0</th>\n",
       "      <td>038441c925bb</td>\n",
       "      <td>0</td>\n",
       "      <td>2018-08-14T15:30:00-0400</td>\n",
       "      <td>2.636700</td>\n",
       "      <td>0.0217</td>\n",
       "    </tr>\n",
       "    <tr>\n",
       "      <th>1</th>\n",
       "      <td>038441c925bb</td>\n",
       "      <td>1</td>\n",
       "      <td>2018-08-14T15:30:05-0400</td>\n",
       "      <td>2.636800</td>\n",
       "      <td>0.0215</td>\n",
       "    </tr>\n",
       "    <tr>\n",
       "      <th>2</th>\n",
       "      <td>038441c925bb</td>\n",
       "      <td>2</td>\n",
       "      <td>2018-08-14T15:30:10-0400</td>\n",
       "      <td>2.637000</td>\n",
       "      <td>0.0216</td>\n",
       "    </tr>\n",
       "    <tr>\n",
       "      <th>3</th>\n",
       "      <td>038441c925bb</td>\n",
       "      <td>3</td>\n",
       "      <td>2018-08-14T15:30:15-0400</td>\n",
       "      <td>2.636800</td>\n",
       "      <td>0.0213</td>\n",
       "    </tr>\n",
       "    <tr>\n",
       "      <th>4</th>\n",
       "      <td>038441c925bb</td>\n",
       "      <td>4</td>\n",
       "      <td>2018-08-14T15:30:20-0400</td>\n",
       "      <td>2.636800</td>\n",
       "      <td>0.0215</td>\n",
       "    </tr>\n",
       "    <tr>\n",
       "      <th>...</th>\n",
       "      <td>...</td>\n",
       "      <td>...</td>\n",
       "      <td>...</td>\n",
       "      <td>...</td>\n",
       "      <td>...</td>\n",
       "    </tr>\n",
       "    <tr>\n",
       "      <th>445</th>\n",
       "      <td>0402a003dae9</td>\n",
       "      <td>145</td>\n",
       "      <td>2018-12-18T12:57:05-0500</td>\n",
       "      <td>-59.696899</td>\n",
       "      <td>0.0601</td>\n",
       "    </tr>\n",
       "    <tr>\n",
       "      <th>446</th>\n",
       "      <td>0402a003dae9</td>\n",
       "      <td>146</td>\n",
       "      <td>2018-12-18T12:57:10-0500</td>\n",
       "      <td>-35.656601</td>\n",
       "      <td>0.0427</td>\n",
       "    </tr>\n",
       "    <tr>\n",
       "      <th>447</th>\n",
       "      <td>0402a003dae9</td>\n",
       "      <td>147</td>\n",
       "      <td>2018-12-18T12:57:15-0500</td>\n",
       "      <td>-21.582399</td>\n",
       "      <td>0.0309</td>\n",
       "    </tr>\n",
       "    <tr>\n",
       "      <th>448</th>\n",
       "      <td>0402a003dae9</td>\n",
       "      <td>148</td>\n",
       "      <td>2018-12-18T12:57:20-0500</td>\n",
       "      <td>-42.616001</td>\n",
       "      <td>0.0328</td>\n",
       "    </tr>\n",
       "    <tr>\n",
       "      <th>449</th>\n",
       "      <td>0402a003dae9</td>\n",
       "      <td>149</td>\n",
       "      <td>2018-12-18T12:57:25-0500</td>\n",
       "      <td>7.029900</td>\n",
       "      <td>0.0081</td>\n",
       "    </tr>\n",
       "  </tbody>\n",
       "</table>\n",
       "<p>450 rows × 5 columns</p>\n",
       "</div>"
      ],
      "text/plain": [
       "        series_id  step                 timestamp     anglez    enmo\n",
       "0    038441c925bb     0  2018-08-14T15:30:00-0400   2.636700  0.0217\n",
       "1    038441c925bb     1  2018-08-14T15:30:05-0400   2.636800  0.0215\n",
       "2    038441c925bb     2  2018-08-14T15:30:10-0400   2.637000  0.0216\n",
       "3    038441c925bb     3  2018-08-14T15:30:15-0400   2.636800  0.0213\n",
       "4    038441c925bb     4  2018-08-14T15:30:20-0400   2.636800  0.0215\n",
       "..            ...   ...                       ...        ...     ...\n",
       "445  0402a003dae9   145  2018-12-18T12:57:05-0500 -59.696899  0.0601\n",
       "446  0402a003dae9   146  2018-12-18T12:57:10-0500 -35.656601  0.0427\n",
       "447  0402a003dae9   147  2018-12-18T12:57:15-0500 -21.582399  0.0309\n",
       "448  0402a003dae9   148  2018-12-18T12:57:20-0500 -42.616001  0.0328\n",
       "449  0402a003dae9   149  2018-12-18T12:57:25-0500   7.029900  0.0081\n",
       "\n",
       "[450 rows x 5 columns]"
      ]
     },
     "execution_count": 5,
     "metadata": {},
     "output_type": "execute_result"
    }
   ],
   "source": [
    "test_series = pd.read_parquet(data_folder/\"test_series.parquet\")\n",
    "test_series"
   ]
  },
  {
   "cell_type": "code",
   "execution_count": 6,
   "id": "80806e13",
   "metadata": {
    "execution": {
     "iopub.execute_input": "2023-11-21T23:07:50.774714Z",
     "iopub.status.busy": "2023-11-21T23:07:50.774400Z",
     "iopub.status.idle": "2023-11-21T23:07:50.779432Z",
     "shell.execute_reply": "2023-11-21T23:07:50.778600Z"
    },
    "papermill": {
     "duration": 0.016154,
     "end_time": "2023-11-21T23:07:50.781413",
     "exception": false,
     "start_time": "2023-11-21T23:07:50.765259",
     "status": "completed"
    },
    "tags": []
   },
   "outputs": [],
   "source": [
    "test_series['large_enmo'] = test_series['enmo'] > 0.1506"
   ]
  },
  {
   "cell_type": "code",
   "execution_count": 7,
   "id": "6ea22b91",
   "metadata": {
    "execution": {
     "iopub.execute_input": "2023-11-21T23:07:50.799120Z",
     "iopub.status.busy": "2023-11-21T23:07:50.798847Z",
     "iopub.status.idle": "2023-11-21T23:07:50.805587Z",
     "shell.execute_reply": "2023-11-21T23:07:50.804687Z"
    },
    "papermill": {
     "duration": 0.01768,
     "end_time": "2023-11-21T23:07:50.807535",
     "exception": false,
     "start_time": "2023-11-21T23:07:50.789855",
     "status": "completed"
    },
    "tags": []
   },
   "outputs": [
    {
     "data": {
      "text/plain": [
       "3"
      ]
     },
     "execution_count": 7,
     "metadata": {},
     "output_type": "execute_result"
    }
   ],
   "source": [
    "series_ids = test_series['series_id'].unique()\n",
    "len(series_ids)"
   ]
  },
  {
   "cell_type": "code",
   "execution_count": 8,
   "id": "162fd447",
   "metadata": {
    "execution": {
     "iopub.execute_input": "2023-11-21T23:07:50.825375Z",
     "iopub.status.busy": "2023-11-21T23:07:50.825122Z",
     "iopub.status.idle": "2023-11-21T23:07:50.833532Z",
     "shell.execute_reply": "2023-11-21T23:07:50.832712Z"
    },
    "papermill": {
     "duration": 0.01957,
     "end_time": "2023-11-21T23:07:50.835500",
     "exception": false,
     "start_time": "2023-11-21T23:07:50.815930",
     "status": "completed"
    },
    "tags": []
   },
   "outputs": [],
   "source": [
    "def feat_eng(df):\n",
    "    \n",
    "    df['series_id'] = df['series_id'].astype('category')\n",
    "    df['timestamp_2'] = pd.to_datetime(df['timestamp']).apply(lambda t: t.tz_localize(None))\n",
    "    df['hour'] = df[\"timestamp_2\"].dt.hour\n",
    "    \n",
    "    df.sort_values(['timestamp_2'], inplace=True)\n",
    "    df.set_index('timestamp_2', inplace=True)\n",
    "\n",
    "    df[\"anglez\"] = df[\"anglez\"].astype(np.float32)\n",
    "    df[\"anglezdiffabs\"] = df[\"anglez\"].diff().abs().astype(np.float32)\n",
    "    \n",
    "    for col in ['anglezdiffabs']:\n",
    "        \n",
    "        # periods in seconds        \n",
    "        periods = [60] \n",
    "        \n",
    "        for n in periods:\n",
    "            \n",
    "            rol_args = {'window':f'{n+5}s', 'min_periods':10, 'center':True}\n",
    "            \n",
    "            for agg in ['median']:\n",
    "                df[f'{col}_{agg}_{n}'] = df[col].rolling(**rol_args).agg(agg).astype(np.float32).values\n",
    "                gc.collect()\n",
    "            \n",
    "            gc.collect()\n",
    "    \n",
    "    df.reset_index(inplace=True)\n",
    "    df.dropna(inplace=True)\n",
    "\n",
    "    return df"
   ]
  },
  {
   "cell_type": "code",
   "execution_count": 9,
   "id": "ea9c793a",
   "metadata": {
    "execution": {
     "iopub.execute_input": "2023-11-21T23:07:50.853559Z",
     "iopub.status.busy": "2023-11-21T23:07:50.853003Z",
     "iopub.status.idle": "2023-11-21T23:07:50.858027Z",
     "shell.execute_reply": "2023-11-21T23:07:50.857174Z"
    },
    "papermill": {
     "duration": 0.016112,
     "end_time": "2023-11-21T23:07:50.859950",
     "exception": false,
     "start_time": "2023-11-21T23:07:50.843838",
     "status": "completed"
    },
    "tags": []
   },
   "outputs": [],
   "source": [
    "def feat_eng_by_id(idx):\n",
    "    \n",
    "    from warnings import simplefilter \n",
    "    simplefilter(action=\"ignore\", category=pd.errors.PerformanceWarning)\n",
    "    \n",
    "    df  = pd.read_parquet('/kaggle/input/child-mind-institute-detect-sleep-states/test_series.parquet',\n",
    "                          filters=[('series_id','=',idx)])\n",
    "    df = feat_eng(df)\n",
    "    \n",
    "    return df"
   ]
  },
  {
   "cell_type": "code",
   "execution_count": 10,
   "id": "1fcef836",
   "metadata": {
    "execution": {
     "iopub.execute_input": "2023-11-21T23:07:50.878033Z",
     "iopub.status.busy": "2023-11-21T23:07:50.877759Z",
     "iopub.status.idle": "2023-11-21T23:07:51.014341Z",
     "shell.execute_reply": "2023-11-21T23:07:51.013622Z"
    },
    "papermill": {
     "duration": 0.147678,
     "end_time": "2023-11-21T23:07:51.016389",
     "exception": false,
     "start_time": "2023-11-21T23:07:50.868711",
     "status": "completed"
    },
    "tags": []
   },
   "outputs": [],
   "source": [
    "from tqdm.auto import tqdm \n",
    "from joblib import Parallel, delayed\n",
    "from time import sleep, time\n",
    "from multiprocessing import cpu_count\n",
    "import gc"
   ]
  },
  {
   "cell_type": "code",
   "execution_count": 11,
   "id": "637d2c53",
   "metadata": {
    "execution": {
     "iopub.execute_input": "2023-11-21T23:07:51.035226Z",
     "iopub.status.busy": "2023-11-21T23:07:51.034472Z",
     "iopub.status.idle": "2023-11-21T23:07:52.253911Z",
     "shell.execute_reply": "2023-11-21T23:07:52.252873Z"
    },
    "papermill": {
     "duration": 1.231984,
     "end_time": "2023-11-21T23:07:52.257232",
     "exception": false,
     "start_time": "2023-11-21T23:07:51.025248",
     "status": "completed"
    },
    "tags": []
   },
   "outputs": [
    {
     "name": "stdout",
     "output_type": "stream",
     "text": [
      "Number of jobs:  4\n"
     ]
    },
    {
     "data": {
      "application/vnd.jupyter.widget-view+json": {
       "model_id": "23d7e7a4a8074428bbd5072aaf73589a",
       "version_major": 2,
       "version_minor": 0
      },
      "text/plain": [
       "  0%|          | 0/3 [00:00<?, ?it/s]"
      ]
     },
     "metadata": {},
     "output_type": "display_data"
    },
    {
     "name": "stdout",
     "output_type": "stream",
     "text": [
      "CPU times: user 1.49 s, sys: 531 ms, total: 2.02 s\n",
      "Wall time: 1.2 s\n"
     ]
    }
   ],
   "source": [
    "%%time\n",
    "\n",
    "import joblib\n",
    "\n",
    "print(\"Number of jobs: \",int(cpu_count()))\n",
    "\n",
    "#train_df = []\n",
    "\n",
    "window_properties = []\n",
    "\n",
    "for idx in tqdm(series_ids): \n",
    "\n",
    "    train_series = feat_eng_by_id(idx)\n",
    "    train_series['large_enmo'] = train_series['enmo'] > 0.1509000062942505\n",
    "    train_series['anglezdiffabs_median_60_norm'] = (train_series['anglezdiffabs_median_60']-np.min(train_series['anglezdiffabs_median_60']))/ (max(train_series['anglezdiffabs_median_60'])-min(train_series['anglezdiffabs_median_60']))\n",
    "    \n",
    "    series = train_series.reset_index(drop=True)\n",
    "    series['color'] = [\"blue\" if large_enmo else \"green\" for large_enmo in series['large_enmo']]\n",
    "    series['timestamp'] = pd.to_datetime(series['timestamp'])\n",
    "    series['timestamp_utc'] = series['timestamp'].map(lambda timestamp: timestamp.astimezone(timezone.utc))\n",
    "    series['anglez_radians'] = (np.pi / 180) * series['anglez']\n",
    "    series['cos_anglez'] = np.cos(series['anglez_radians'])\n",
    "    series['enmo'] = np.clip(series['enmo'], 0, 1)\n",
    "    min_date_utc = series['timestamp_utc'].dt.date.min()\n",
    "    max_date_utc = series['timestamp_utc'].dt.date.max()\n",
    "    series_24_hour_windows = {}\n",
    "    upper_bound = datetime(year=min_date_utc.year, month=min_date_utc.month, day=min_date_utc.day, hour=20, minute=30, tzinfo=timezone.utc)\n",
    "    lower_bound = upper_bound + timedelta(hours=-24) # 8:30pm UTC on the previous day.\n",
    "    while lower_bound < series['timestamp_utc'].max():\n",
    "        window_df = series.loc[(series['timestamp_utc'] >= lower_bound) & (series['timestamp_utc'] < upper_bound)].reset_index(drop=True)\n",
    "        if len(window_df) > 0:\n",
    "            series_24_hour_windows[upper_bound.isoformat()[:-6]] = window_df\n",
    "        upper_bound += timedelta(hours=24)\n",
    "        lower_bound += timedelta(hours=24)\n",
    "    \n",
    "    windows = list(series_24_hour_windows.keys())\n",
    "    num_steps_cumulative = 0\n",
    "    for window_idx, window in enumerate(windows):        \n",
    "        fig = plt.figure(figsize=(14.4, 4))  # (width, height) in inches\n",
    "        #plt.plot(series_24_hour_windows[window]['timestamp_utc'], series_24_hour_windows[window]['cos_anglez'], color=\"red\")\n",
    "        plt.plot(series_24_hour_windows[window]['timestamp_utc'],\n",
    "                 series_24_hour_windows[window]['anglezdiffabs_median_60_norm'],\n",
    "                 color=\"red\")\n",
    "        plt.scatter(\n",
    "            series_24_hour_windows[window]['timestamp_utc'], \n",
    "            series_24_hour_windows[window]['enmo'], \n",
    "            color=series_24_hour_windows[window]['color'], \n",
    "            s=1\n",
    "        )\n",
    "        ax = plt.gca()\n",
    "        ax.spines['top'].set_visible(False)\n",
    "        ax.spines['right'].set_visible(False)\n",
    "        ax.spines['bottom'].set_visible(False)\n",
    "        ax.spines['left'].set_visible(False)\n",
    "        ax.set_xticks([])\n",
    "        ax.set_yticks([])\n",
    "        plt.margins(0, 0)\n",
    "        plt.subplots_adjust(left=0, right=1, top=1, bottom=0)\n",
    "        plt.savefig(images_folder/f\"{idx}_{window}.jpg\", bbox_inches=\"tight\", pad_inches=0)\n",
    "        plt.clf()\n",
    "        plt.cla()\n",
    "        plt.close()\n",
    "\n",
    "        min_ts_window = series_24_hour_windows[window]['timestamp_utc'].min()\n",
    "        max_ts_window = series_24_hour_windows[window]['timestamp_utc'].max()\n",
    "        num_steps_window = (max_ts_window - min_ts_window).total_seconds() / 5 + 1\n",
    "        num_steps_cumulative += num_steps_window\n",
    "        window_properties.append({\n",
    "            'series_id': idx, \n",
    "            'image_name': f\"{idx}_{window}.jpg\", \n",
    "            'idx_in_series': window_idx, \n",
    "            'num_steps_window': num_steps_window, \n",
    "            'num_steps_cumulative': num_steps_cumulative\n",
    "        })\n",
    "\n",
    "    #test = feat_eng_by_id(idx)\n",
    "\n",
    "    #train_df.append(test)\n",
    "    \n",
    "#train = pd.concat(train_df, ignore_index=True).reset_index(names='new_row_id')\n",
    "\n",
    "#len(train)"
   ]
  },
  {
   "cell_type": "code",
   "execution_count": 12,
   "id": "3fbd6124",
   "metadata": {
    "execution": {
     "iopub.execute_input": "2023-11-21T23:07:52.277547Z",
     "iopub.status.busy": "2023-11-21T23:07:52.276952Z",
     "iopub.status.idle": "2023-11-21T23:07:52.290212Z",
     "shell.execute_reply": "2023-11-21T23:07:52.289421Z"
    },
    "papermill": {
     "duration": 0.024995,
     "end_time": "2023-11-21T23:07:52.292279",
     "exception": false,
     "start_time": "2023-11-21T23:07:52.267284",
     "status": "completed"
    },
    "tags": []
   },
   "outputs": [
    {
     "data": {
      "text/html": [
       "<div>\n",
       "<style scoped>\n",
       "    .dataframe tbody tr th:only-of-type {\n",
       "        vertical-align: middle;\n",
       "    }\n",
       "\n",
       "    .dataframe tbody tr th {\n",
       "        vertical-align: top;\n",
       "    }\n",
       "\n",
       "    .dataframe thead th {\n",
       "        text-align: right;\n",
       "    }\n",
       "</style>\n",
       "<table border=\"1\" class=\"dataframe\">\n",
       "  <thead>\n",
       "    <tr style=\"text-align: right;\">\n",
       "      <th></th>\n",
       "      <th>series_id</th>\n",
       "      <th>image_name</th>\n",
       "      <th>idx_in_series</th>\n",
       "      <th>num_steps_window</th>\n",
       "      <th>num_steps_cumulative</th>\n",
       "    </tr>\n",
       "  </thead>\n",
       "  <tbody>\n",
       "    <tr>\n",
       "      <th>0</th>\n",
       "      <td>038441c925bb</td>\n",
       "      <td>038441c925bb_2018-08-14T20:30:00.jpg</td>\n",
       "      <td>0</td>\n",
       "      <td>143.0</td>\n",
       "      <td>143.0</td>\n",
       "    </tr>\n",
       "    <tr>\n",
       "      <th>1</th>\n",
       "      <td>03d92c9f6f8a</td>\n",
       "      <td>03d92c9f6f8a_2018-05-31T20:30:00.jpg</td>\n",
       "      <td>0</td>\n",
       "      <td>143.0</td>\n",
       "      <td>143.0</td>\n",
       "    </tr>\n",
       "    <tr>\n",
       "      <th>2</th>\n",
       "      <td>0402a003dae9</td>\n",
       "      <td>0402a003dae9_2018-12-18T20:30:00.jpg</td>\n",
       "      <td>0</td>\n",
       "      <td>143.0</td>\n",
       "      <td>143.0</td>\n",
       "    </tr>\n",
       "  </tbody>\n",
       "</table>\n",
       "</div>"
      ],
      "text/plain": [
       "      series_id                            image_name  idx_in_series  \\\n",
       "0  038441c925bb  038441c925bb_2018-08-14T20:30:00.jpg              0   \n",
       "1  03d92c9f6f8a  03d92c9f6f8a_2018-05-31T20:30:00.jpg              0   \n",
       "2  0402a003dae9  0402a003dae9_2018-12-18T20:30:00.jpg              0   \n",
       "\n",
       "   num_steps_window  num_steps_cumulative  \n",
       "0             143.0                 143.0  \n",
       "1             143.0                 143.0  \n",
       "2             143.0                 143.0  "
      ]
     },
     "execution_count": 12,
     "metadata": {},
     "output_type": "execute_result"
    }
   ],
   "source": [
    "window_properties_df = pd.DataFrame(window_properties)\n",
    "window_properties_df"
   ]
  },
  {
   "cell_type": "markdown",
   "id": "be762edb",
   "metadata": {
    "papermill": {
     "duration": 0.009019,
     "end_time": "2023-11-21T23:07:52.310646",
     "exception": false,
     "start_time": "2023-11-21T23:07:52.301627",
     "status": "completed"
    },
    "tags": []
   },
   "source": [
    "# Transforms"
   ]
  },
  {
   "cell_type": "code",
   "execution_count": 13,
   "id": "79541b2a",
   "metadata": {
    "execution": {
     "iopub.execute_input": "2023-11-21T23:07:52.330031Z",
     "iopub.status.busy": "2023-11-21T23:07:52.329770Z",
     "iopub.status.idle": "2023-11-21T23:07:52.334657Z",
     "shell.execute_reply": "2023-11-21T23:07:52.333749Z"
    },
    "papermill": {
     "duration": 0.01705,
     "end_time": "2023-11-21T23:07:52.336571",
     "exception": false,
     "start_time": "2023-11-21T23:07:52.319521",
     "status": "completed"
    },
    "tags": []
   },
   "outputs": [],
   "source": [
    "def get_transforms():\n",
    "    transforms = []\n",
    "    transforms.append(T.ConvertDtype(torch.float))\n",
    "    transforms.append(T.Normalize([0.485, 0.456, 0.406], [0.229, 0.224, 0.225]))\n",
    "    return T.Compose(transforms)"
   ]
  },
  {
   "cell_type": "code",
   "execution_count": 14,
   "id": "ec79136d",
   "metadata": {
    "execution": {
     "iopub.execute_input": "2023-11-21T23:07:52.356157Z",
     "iopub.status.busy": "2023-11-21T23:07:52.355906Z",
     "iopub.status.idle": "2023-11-21T23:07:52.359773Z",
     "shell.execute_reply": "2023-11-21T23:07:52.359012Z"
    },
    "papermill": {
     "duration": 0.015464,
     "end_time": "2023-11-21T23:07:52.361559",
     "exception": false,
     "start_time": "2023-11-21T23:07:52.346095",
     "status": "completed"
    },
    "tags": []
   },
   "outputs": [],
   "source": [
    "eval_transforms = get_transforms()"
   ]
  },
  {
   "cell_type": "markdown",
   "id": "7aabe4d0",
   "metadata": {
    "papermill": {
     "duration": 0.008735,
     "end_time": "2023-11-21T23:07:52.379429",
     "exception": false,
     "start_time": "2023-11-21T23:07:52.370694",
     "status": "completed"
    },
    "tags": []
   },
   "source": [
    "# Instantiating the model"
   ]
  },
  {
   "cell_type": "code",
   "execution_count": 15,
   "id": "949fbeb9",
   "metadata": {
    "execution": {
     "iopub.execute_input": "2023-11-21T23:07:52.399494Z",
     "iopub.status.busy": "2023-11-21T23:07:52.398841Z",
     "iopub.status.idle": "2023-11-21T23:07:52.472522Z",
     "shell.execute_reply": "2023-11-21T23:07:52.471693Z"
    },
    "papermill": {
     "duration": 0.085312,
     "end_time": "2023-11-21T23:07:52.474285",
     "exception": false,
     "start_time": "2023-11-21T23:07:52.388973",
     "status": "completed"
    },
    "tags": []
   },
   "outputs": [
    {
     "data": {
      "text/plain": [
       "device(type='cuda')"
      ]
     },
     "execution_count": 15,
     "metadata": {},
     "output_type": "execute_result"
    }
   ],
   "source": [
    "device = torch.device(\"cuda\") if torch.cuda.is_available() else torch.device(\"cpu\")\n",
    "device"
   ]
  },
  {
   "cell_type": "code",
   "execution_count": 16,
   "id": "4ce8e71b",
   "metadata": {
    "execution": {
     "iopub.execute_input": "2023-11-21T23:07:52.493838Z",
     "iopub.status.busy": "2023-11-21T23:07:52.493580Z",
     "iopub.status.idle": "2023-11-21T23:07:53.168961Z",
     "shell.execute_reply": "2023-11-21T23:07:53.167961Z"
    },
    "papermill": {
     "duration": 0.687893,
     "end_time": "2023-11-21T23:07:53.171406",
     "exception": false,
     "start_time": "2023-11-21T23:07:52.483513",
     "status": "completed"
    },
    "tags": []
   },
   "outputs": [],
   "source": [
    "model = torchvision.models.detection.fasterrcnn_resnet50_fpn(weights=None, weights_backbone=None, max_size=1440)\n",
    "# Replace the classifier with a new one, that has num_classes which is user-defined:\n",
    "num_classes = 3 # 2 classes ('onset' & 'wakeup') + the 'background' class\n",
    "# Get the number of input features for the box classifier:\n",
    "in_features = model.roi_heads.box_predictor.cls_score.in_features\n",
    "# Replace the pre-trained box predictor head with a new one:\n",
    "model.roi_heads.box_predictor = FastRCNNPredictor(in_features, num_classes)"
   ]
  },
  {
   "cell_type": "code",
   "execution_count": 17,
   "id": "bc013424",
   "metadata": {
    "execution": {
     "iopub.execute_input": "2023-11-21T23:07:53.192026Z",
     "iopub.status.busy": "2023-11-21T23:07:53.191736Z",
     "iopub.status.idle": "2023-11-21T23:07:57.968054Z",
     "shell.execute_reply": "2023-11-21T23:07:57.967056Z"
    },
    "papermill": {
     "duration": 4.788745,
     "end_time": "2023-11-21T23:07:57.970125",
     "exception": false,
     "start_time": "2023-11-21T23:07:53.181380",
     "status": "completed"
    },
    "tags": []
   },
   "outputs": [
    {
     "data": {
      "text/plain": [
       "<All keys matched successfully>"
      ]
     },
     "execution_count": 17,
     "metadata": {},
     "output_type": "execute_result"
    }
   ],
   "source": [
    "weights = torch.load(\"/kaggle/input/seb-train-cnn-models-image-detection/seb_model_v1__4.pth\", map_location=device)\n",
    "model.load_state_dict(weights)"
   ]
  },
  {
   "cell_type": "code",
   "execution_count": 18,
   "id": "813055d5",
   "metadata": {
    "execution": {
     "iopub.execute_input": "2023-11-21T23:07:57.990619Z",
     "iopub.status.busy": "2023-11-21T23:07:57.990103Z",
     "iopub.status.idle": "2023-11-21T23:07:58.053847Z",
     "shell.execute_reply": "2023-11-21T23:07:58.053133Z"
    },
    "papermill": {
     "duration": 0.076233,
     "end_time": "2023-11-21T23:07:58.055884",
     "exception": false,
     "start_time": "2023-11-21T23:07:57.979651",
     "status": "completed"
    },
    "tags": []
   },
   "outputs": [],
   "source": [
    "model.to(device);"
   ]
  },
  {
   "cell_type": "markdown",
   "id": "5ac0bdba",
   "metadata": {
    "papermill": {
     "duration": 0.008897,
     "end_time": "2023-11-21T23:07:58.074401",
     "exception": false,
     "start_time": "2023-11-21T23:07:58.065504",
     "status": "completed"
    },
    "tags": []
   },
   "source": [
    "# Inference"
   ]
  },
  {
   "cell_type": "code",
   "execution_count": 19,
   "id": "2d2458ca",
   "metadata": {
    "execution": {
     "iopub.execute_input": "2023-11-21T23:07:58.093962Z",
     "iopub.status.busy": "2023-11-21T23:07:58.093672Z",
     "iopub.status.idle": "2023-11-21T23:07:58.099147Z",
     "shell.execute_reply": "2023-11-21T23:07:58.098374Z"
    },
    "papermill": {
     "duration": 0.01755,
     "end_time": "2023-11-21T23:07:58.101007",
     "exception": false,
     "start_time": "2023-11-21T23:07:58.083457",
     "status": "completed"
    },
    "tags": []
   },
   "outputs": [],
   "source": [
    "model.eval()\n",
    "thresh = 0.7 # Tune this.\n",
    "reverse_label_mapping = {1: \"onset\", 2: \"wakeup\"}"
   ]
  },
  {
   "cell_type": "code",
   "execution_count": 20,
   "id": "f114c7ba",
   "metadata": {
    "execution": {
     "iopub.execute_input": "2023-11-21T23:07:58.120771Z",
     "iopub.status.busy": "2023-11-21T23:07:58.120249Z",
     "iopub.status.idle": "2023-11-21T23:07:58.136637Z",
     "shell.execute_reply": "2023-11-21T23:07:58.135806Z"
    },
    "papermill": {
     "duration": 0.028212,
     "end_time": "2023-11-21T23:07:58.138588",
     "exception": false,
     "start_time": "2023-11-21T23:07:58.110376",
     "status": "completed"
    },
    "tags": []
   },
   "outputs": [],
   "source": [
    "def get_submission_df():\n",
    "    all_test_preds = []\n",
    "    for i, series_id in enumerate(series_ids): # i is the index of the series.\n",
    "        series_rows = window_properties_df.loc[window_properties_df['series_id'] == series_id].reset_index(drop=True)\n",
    "        for j in range(len(series_rows)): # j is the index of the image (within the series).\n",
    "            image_name = series_rows['image_name'][j]\n",
    "            image_path = os.path.join(images_folder, image_name)\n",
    "            image = read_image(image_path)\n",
    "            with torch.no_grad():\n",
    "                x = eval_transforms(image)\n",
    "                x = x.to(device)\n",
    "                predictions = model([x])\n",
    "            pred = predictions[0]\n",
    "            \n",
    "            # Postprocessing: remove 'narrow' boxes as these are false positives.\n",
    "            pred_widths = pred['boxes'][:, 2] - pred['boxes'][:, 0]\n",
    "            pred['boxes'] = pred['boxes'][pred_widths > 10]\n",
    "            pred['labels'] = pred['labels'][pred_widths > 10]\n",
    "            pred['scores'] = pred['scores'][pred_widths > 10]\n",
    "            \n",
    "            pred['boxes'] = pred['boxes'][pred['scores'] > thresh]\n",
    "            pred['labels'] = pred['labels'][pred['scores'] > thresh]\n",
    "            pred['scores'] = pred['scores'][pred['scores'] > thresh]\n",
    "            \n",
    "            if len(pred['labels']) == 0:\n",
    "                continue\n",
    "            else:\n",
    "                pred_x = (pred['boxes'][:, 0] + pred['boxes'][:, 2]) / 2\n",
    "                pred_labels = [reverse_label_mapping[l.item()] for l in pred['labels']]\n",
    "                num_steps_window = series_rows['num_steps_window'][j]\n",
    "                if j == 0:\n",
    "                    prev_num_steps_cumulative = 0\n",
    "                else:\n",
    "                    prev_num_steps_cumulative = series_rows['num_steps_cumulative'][j - 1]            \n",
    "                for k in range(len(pred_labels)): # k is the index of the bounding box (within the image).\n",
    "                    event = {}\n",
    "                    step_in_window = (pred_x[k] / 1440) * num_steps_window # All images have width 1,440px.\n",
    "                    step_in_series = int(prev_num_steps_cumulative + step_in_window)\n",
    "                    event['series_id'] = series_id\n",
    "                    event['step'] = step_in_series\n",
    "                    event['event'] = pred_labels[k]\n",
    "                    event['score'] = pred['scores'][k].item()\n",
    "                    all_test_preds.append(event)          \n",
    "    if len(all_test_preds) > 0:\n",
    "        submission_df = pd.DataFrame(all_test_preds)\n",
    "        submission_df = submission_df.sort_values(by=['series_id', 'step']).reset_index(drop=True)\n",
    "        submission_df['row_id'] = np.arange(len(submission_df))\n",
    "        submission_df = submission_df[['row_id', 'series_id', 'step', 'event', 'score']]\n",
    "    else:\n",
    "        submission_df = pd.DataFrame({'row_id': [], 'series_id': [], 'step': [], 'event': [], 'score': []})\n",
    "    return submission_df"
   ]
  },
  {
   "cell_type": "code",
   "execution_count": 21,
   "id": "a72bc488",
   "metadata": {
    "execution": {
     "iopub.execute_input": "2023-11-21T23:07:58.160176Z",
     "iopub.status.busy": "2023-11-21T23:07:58.159544Z",
     "iopub.status.idle": "2023-11-21T23:08:02.876272Z",
     "shell.execute_reply": "2023-11-21T23:08:02.875372Z"
    },
    "papermill": {
     "duration": 4.730231,
     "end_time": "2023-11-21T23:08:02.878284",
     "exception": false,
     "start_time": "2023-11-21T23:07:58.148053",
     "status": "completed"
    },
    "tags": []
   },
   "outputs": [
    {
     "data": {
      "text/html": [
       "<div>\n",
       "<style scoped>\n",
       "    .dataframe tbody tr th:only-of-type {\n",
       "        vertical-align: middle;\n",
       "    }\n",
       "\n",
       "    .dataframe tbody tr th {\n",
       "        vertical-align: top;\n",
       "    }\n",
       "\n",
       "    .dataframe thead th {\n",
       "        text-align: right;\n",
       "    }\n",
       "</style>\n",
       "<table border=\"1\" class=\"dataframe\">\n",
       "  <thead>\n",
       "    <tr style=\"text-align: right;\">\n",
       "      <th></th>\n",
       "      <th>row_id</th>\n",
       "      <th>series_id</th>\n",
       "      <th>step</th>\n",
       "      <th>event</th>\n",
       "      <th>score</th>\n",
       "    </tr>\n",
       "  </thead>\n",
       "  <tbody>\n",
       "  </tbody>\n",
       "</table>\n",
       "</div>"
      ],
      "text/plain": [
       "Empty DataFrame\n",
       "Columns: [row_id, series_id, step, event, score]\n",
       "Index: []"
      ]
     },
     "execution_count": 21,
     "metadata": {},
     "output_type": "execute_result"
    }
   ],
   "source": [
    "submission_df = get_submission_df()\n",
    "submission_df"
   ]
  },
  {
   "cell_type": "code",
   "execution_count": 22,
   "id": "902f1807",
   "metadata": {
    "execution": {
     "iopub.execute_input": "2023-11-21T23:08:02.899563Z",
     "iopub.status.busy": "2023-11-21T23:08:02.898843Z",
     "iopub.status.idle": "2023-11-21T23:08:03.876171Z",
     "shell.execute_reply": "2023-11-21T23:08:03.874866Z"
    },
    "papermill": {
     "duration": 0.990597,
     "end_time": "2023-11-21T23:08:03.878687",
     "exception": false,
     "start_time": "2023-11-21T23:08:02.888090",
     "status": "completed"
    },
    "tags": []
   },
   "outputs": [],
   "source": [
    "!rm -rf /kaggle/working/images"
   ]
  },
  {
   "cell_type": "code",
   "execution_count": 23,
   "id": "a488732c",
   "metadata": {
    "execution": {
     "iopub.execute_input": "2023-11-21T23:08:03.899527Z",
     "iopub.status.busy": "2023-11-21T23:08:03.899183Z",
     "iopub.status.idle": "2023-11-21T23:08:03.909174Z",
     "shell.execute_reply": "2023-11-21T23:08:03.908479Z"
    },
    "papermill": {
     "duration": 0.02252,
     "end_time": "2023-11-21T23:08:03.911029",
     "exception": false,
     "start_time": "2023-11-21T23:08:03.888509",
     "status": "completed"
    },
    "tags": []
   },
   "outputs": [],
   "source": [
    "submission_df.to_csv(\"submission.csv\", index=False)"
   ]
  },
  {
   "cell_type": "code",
   "execution_count": null,
   "id": "51215189",
   "metadata": {
    "papermill": {
     "duration": 0.009277,
     "end_time": "2023-11-21T23:08:03.929703",
     "exception": false,
     "start_time": "2023-11-21T23:08:03.920426",
     "status": "completed"
    },
    "tags": []
   },
   "outputs": [],
   "source": []
  },
  {
   "cell_type": "code",
   "execution_count": null,
   "id": "a99668ad",
   "metadata": {
    "papermill": {
     "duration": 0.00912,
     "end_time": "2023-11-21T23:08:03.948134",
     "exception": false,
     "start_time": "2023-11-21T23:08:03.939014",
     "status": "completed"
    },
    "tags": []
   },
   "outputs": [],
   "source": []
  },
  {
   "cell_type": "code",
   "execution_count": null,
   "id": "c5ff0252",
   "metadata": {
    "papermill": {
     "duration": 0.009075,
     "end_time": "2023-11-21T23:08:03.966428",
     "exception": false,
     "start_time": "2023-11-21T23:08:03.957353",
     "status": "completed"
    },
    "tags": []
   },
   "outputs": [],
   "source": []
  }
 ],
 "metadata": {
  "kaggle": {
   "accelerator": "gpu",
   "dataSources": [
    {
     "databundleVersionId": 6589269,
     "sourceId": 53666,
     "sourceType": "competition"
    },
    {
     "datasetId": 4033222,
     "sourceId": 7015171,
     "sourceType": "datasetVersion"
    }
   ],
   "dockerImageVersionId": 30587,
   "isGpuEnabled": true,
   "isInternetEnabled": false,
   "language": "python",
   "sourceType": "notebook"
  },
  "kernelspec": {
   "display_name": "Python 3",
   "language": "python",
   "name": "python3"
  },
  "language_info": {
   "codemirror_mode": {
    "name": "ipython",
    "version": 3
   },
   "file_extension": ".py",
   "mimetype": "text/x-python",
   "name": "python",
   "nbconvert_exporter": "python",
   "pygments_lexer": "ipython3",
   "version": "3.10.12"
  },
  "papermill": {
   "default_parameters": {},
   "duration": 35.486653,
   "end_time": "2023-11-21T23:08:05.597837",
   "environment_variables": {},
   "exception": null,
   "input_path": "__notebook__.ipynb",
   "output_path": "__notebook__.ipynb",
   "parameters": {},
   "start_time": "2023-11-21T23:07:30.111184",
   "version": "2.4.0"
  },
  "widgets": {
   "application/vnd.jupyter.widget-state+json": {
    "state": {
     "15191f2488e04c97bfb1cba38086d8cf": {
      "model_module": "@jupyter-widgets/base",
      "model_module_version": "1.2.0",
      "model_name": "LayoutModel",
      "state": {
       "_model_module": "@jupyter-widgets/base",
       "_model_module_version": "1.2.0",
       "_model_name": "LayoutModel",
       "_view_count": null,
       "_view_module": "@jupyter-widgets/base",
       "_view_module_version": "1.2.0",
       "_view_name": "LayoutView",
       "align_content": null,
       "align_items": null,
       "align_self": null,
       "border": null,
       "bottom": null,
       "display": null,
       "flex": null,
       "flex_flow": null,
       "grid_area": null,
       "grid_auto_columns": null,
       "grid_auto_flow": null,
       "grid_auto_rows": null,
       "grid_column": null,
       "grid_gap": null,
       "grid_row": null,
       "grid_template_areas": null,
       "grid_template_columns": null,
       "grid_template_rows": null,
       "height": null,
       "justify_content": null,
       "justify_items": null,
       "left": null,
       "margin": null,
       "max_height": null,
       "max_width": null,
       "min_height": null,
       "min_width": null,
       "object_fit": null,
       "object_position": null,
       "order": null,
       "overflow": null,
       "overflow_x": null,
       "overflow_y": null,
       "padding": null,
       "right": null,
       "top": null,
       "visibility": null,
       "width": null
      }
     },
     "173a611bee6c4c32a1959815487e8d4e": {
      "model_module": "@jupyter-widgets/controls",
      "model_module_version": "1.5.0",
      "model_name": "FloatProgressModel",
      "state": {
       "_dom_classes": [],
       "_model_module": "@jupyter-widgets/controls",
       "_model_module_version": "1.5.0",
       "_model_name": "FloatProgressModel",
       "_view_count": null,
       "_view_module": "@jupyter-widgets/controls",
       "_view_module_version": "1.5.0",
       "_view_name": "ProgressView",
       "bar_style": "success",
       "description": "",
       "description_tooltip": null,
       "layout": "IPY_MODEL_eb450fdee0f449fa93353ded4042f5ff",
       "max": 3.0,
       "min": 0.0,
       "orientation": "horizontal",
       "style": "IPY_MODEL_ebc870c9f0be4a248f3b594e4dfca701",
       "value": 3.0
      }
     },
     "23d7e7a4a8074428bbd5072aaf73589a": {
      "model_module": "@jupyter-widgets/controls",
      "model_module_version": "1.5.0",
      "model_name": "HBoxModel",
      "state": {
       "_dom_classes": [],
       "_model_module": "@jupyter-widgets/controls",
       "_model_module_version": "1.5.0",
       "_model_name": "HBoxModel",
       "_view_count": null,
       "_view_module": "@jupyter-widgets/controls",
       "_view_module_version": "1.5.0",
       "_view_name": "HBoxView",
       "box_style": "",
       "children": [
        "IPY_MODEL_a601bde15b414d6ab076621246d46f30",
        "IPY_MODEL_173a611bee6c4c32a1959815487e8d4e",
        "IPY_MODEL_3ee1117493944cffa5202374d6604a9a"
       ],
       "layout": "IPY_MODEL_15191f2488e04c97bfb1cba38086d8cf"
      }
     },
     "3ee1117493944cffa5202374d6604a9a": {
      "model_module": "@jupyter-widgets/controls",
      "model_module_version": "1.5.0",
      "model_name": "HTMLModel",
      "state": {
       "_dom_classes": [],
       "_model_module": "@jupyter-widgets/controls",
       "_model_module_version": "1.5.0",
       "_model_name": "HTMLModel",
       "_view_count": null,
       "_view_module": "@jupyter-widgets/controls",
       "_view_module_version": "1.5.0",
       "_view_name": "HTMLView",
       "description": "",
       "description_tooltip": null,
       "layout": "IPY_MODEL_9b9881b14af749f5b6c32b681096e29a",
       "placeholder": "​",
       "style": "IPY_MODEL_cee5ed446a9342e6b118b922c945033e",
       "value": " 3/3 [00:01&lt;00:00,  2.63it/s]"
      }
     },
     "62a5a05cfd2943cbbdea172d4e083560": {
      "model_module": "@jupyter-widgets/controls",
      "model_module_version": "1.5.0",
      "model_name": "DescriptionStyleModel",
      "state": {
       "_model_module": "@jupyter-widgets/controls",
       "_model_module_version": "1.5.0",
       "_model_name": "DescriptionStyleModel",
       "_view_count": null,
       "_view_module": "@jupyter-widgets/base",
       "_view_module_version": "1.2.0",
       "_view_name": "StyleView",
       "description_width": ""
      }
     },
     "9b9881b14af749f5b6c32b681096e29a": {
      "model_module": "@jupyter-widgets/base",
      "model_module_version": "1.2.0",
      "model_name": "LayoutModel",
      "state": {
       "_model_module": "@jupyter-widgets/base",
       "_model_module_version": "1.2.0",
       "_model_name": "LayoutModel",
       "_view_count": null,
       "_view_module": "@jupyter-widgets/base",
       "_view_module_version": "1.2.0",
       "_view_name": "LayoutView",
       "align_content": null,
       "align_items": null,
       "align_self": null,
       "border": null,
       "bottom": null,
       "display": null,
       "flex": null,
       "flex_flow": null,
       "grid_area": null,
       "grid_auto_columns": null,
       "grid_auto_flow": null,
       "grid_auto_rows": null,
       "grid_column": null,
       "grid_gap": null,
       "grid_row": null,
       "grid_template_areas": null,
       "grid_template_columns": null,
       "grid_template_rows": null,
       "height": null,
       "justify_content": null,
       "justify_items": null,
       "left": null,
       "margin": null,
       "max_height": null,
       "max_width": null,
       "min_height": null,
       "min_width": null,
       "object_fit": null,
       "object_position": null,
       "order": null,
       "overflow": null,
       "overflow_x": null,
       "overflow_y": null,
       "padding": null,
       "right": null,
       "top": null,
       "visibility": null,
       "width": null
      }
     },
     "a601bde15b414d6ab076621246d46f30": {
      "model_module": "@jupyter-widgets/controls",
      "model_module_version": "1.5.0",
      "model_name": "HTMLModel",
      "state": {
       "_dom_classes": [],
       "_model_module": "@jupyter-widgets/controls",
       "_model_module_version": "1.5.0",
       "_model_name": "HTMLModel",
       "_view_count": null,
       "_view_module": "@jupyter-widgets/controls",
       "_view_module_version": "1.5.0",
       "_view_name": "HTMLView",
       "description": "",
       "description_tooltip": null,
       "layout": "IPY_MODEL_c925192f09954ea997b1405f455ab794",
       "placeholder": "​",
       "style": "IPY_MODEL_62a5a05cfd2943cbbdea172d4e083560",
       "value": "100%"
      }
     },
     "c925192f09954ea997b1405f455ab794": {
      "model_module": "@jupyter-widgets/base",
      "model_module_version": "1.2.0",
      "model_name": "LayoutModel",
      "state": {
       "_model_module": "@jupyter-widgets/base",
       "_model_module_version": "1.2.0",
       "_model_name": "LayoutModel",
       "_view_count": null,
       "_view_module": "@jupyter-widgets/base",
       "_view_module_version": "1.2.0",
       "_view_name": "LayoutView",
       "align_content": null,
       "align_items": null,
       "align_self": null,
       "border": null,
       "bottom": null,
       "display": null,
       "flex": null,
       "flex_flow": null,
       "grid_area": null,
       "grid_auto_columns": null,
       "grid_auto_flow": null,
       "grid_auto_rows": null,
       "grid_column": null,
       "grid_gap": null,
       "grid_row": null,
       "grid_template_areas": null,
       "grid_template_columns": null,
       "grid_template_rows": null,
       "height": null,
       "justify_content": null,
       "justify_items": null,
       "left": null,
       "margin": null,
       "max_height": null,
       "max_width": null,
       "min_height": null,
       "min_width": null,
       "object_fit": null,
       "object_position": null,
       "order": null,
       "overflow": null,
       "overflow_x": null,
       "overflow_y": null,
       "padding": null,
       "right": null,
       "top": null,
       "visibility": null,
       "width": null
      }
     },
     "cee5ed446a9342e6b118b922c945033e": {
      "model_module": "@jupyter-widgets/controls",
      "model_module_version": "1.5.0",
      "model_name": "DescriptionStyleModel",
      "state": {
       "_model_module": "@jupyter-widgets/controls",
       "_model_module_version": "1.5.0",
       "_model_name": "DescriptionStyleModel",
       "_view_count": null,
       "_view_module": "@jupyter-widgets/base",
       "_view_module_version": "1.2.0",
       "_view_name": "StyleView",
       "description_width": ""
      }
     },
     "eb450fdee0f449fa93353ded4042f5ff": {
      "model_module": "@jupyter-widgets/base",
      "model_module_version": "1.2.0",
      "model_name": "LayoutModel",
      "state": {
       "_model_module": "@jupyter-widgets/base",
       "_model_module_version": "1.2.0",
       "_model_name": "LayoutModel",
       "_view_count": null,
       "_view_module": "@jupyter-widgets/base",
       "_view_module_version": "1.2.0",
       "_view_name": "LayoutView",
       "align_content": null,
       "align_items": null,
       "align_self": null,
       "border": null,
       "bottom": null,
       "display": null,
       "flex": null,
       "flex_flow": null,
       "grid_area": null,
       "grid_auto_columns": null,
       "grid_auto_flow": null,
       "grid_auto_rows": null,
       "grid_column": null,
       "grid_gap": null,
       "grid_row": null,
       "grid_template_areas": null,
       "grid_template_columns": null,
       "grid_template_rows": null,
       "height": null,
       "justify_content": null,
       "justify_items": null,
       "left": null,
       "margin": null,
       "max_height": null,
       "max_width": null,
       "min_height": null,
       "min_width": null,
       "object_fit": null,
       "object_position": null,
       "order": null,
       "overflow": null,
       "overflow_x": null,
       "overflow_y": null,
       "padding": null,
       "right": null,
       "top": null,
       "visibility": null,
       "width": null
      }
     },
     "ebc870c9f0be4a248f3b594e4dfca701": {
      "model_module": "@jupyter-widgets/controls",
      "model_module_version": "1.5.0",
      "model_name": "ProgressStyleModel",
      "state": {
       "_model_module": "@jupyter-widgets/controls",
       "_model_module_version": "1.5.0",
       "_model_name": "ProgressStyleModel",
       "_view_count": null,
       "_view_module": "@jupyter-widgets/base",
       "_view_module_version": "1.2.0",
       "_view_name": "StyleView",
       "bar_color": null,
       "description_width": ""
      }
     }
    },
    "version_major": 2,
    "version_minor": 0
   }
  }
 },
 "nbformat": 4,
 "nbformat_minor": 5
}
